{
 "cells": [
  {
   "cell_type": "markdown",
   "id": "225b50e1",
   "metadata": {},
   "source": [
    "# Crawl Motly Fool links"
   ]
  },
  {
   "cell_type": "code",
   "execution_count": 4,
   "id": "2c0aa41f",
   "metadata": {},
   "outputs": [],
   "source": [
    "from selenium import webdriver\n",
    "from selenium.webdriver.chrome.options import Options\n",
    "from selenium.webdriver.common.by import By\n",
    "from selenium.webdriver.chrome.service import Service\n",
    "from webdriver_manager.chrome import ChromeDriverManager\n",
    "import time\n"
   ]
  },
  {
   "cell_type": "code",
   "execution_count": 1,
   "id": "e9fe5b1c",
   "metadata": {},
   "outputs": [],
   "source": [
    "service = Service(executable_path=ChromeDriverManager().install())\n",
    "chrome_options = Options()\n",
    "chrome_options.add_argument(\"--headless\")\n",
    "driver = webdriver.Chrome(service=service,chrome_options=chrome_options)\n",
    "driver.implicitly_wait(10)\n",
    "driver.get('https://www.fool.com/earnings-call-transcripts/')\n",
    "driver.find_element(By.ID, \"onetrust-accept-btn-handler\").click()\n",
    "time.sleep(5)\n",
    "\n",
    "try:\n",
    "    driver.find_element(By.CSS_SELECTOR, \"#modal-form > fieldset > ul:nth-child(3) > li:nth-child(1) > label > input\").click()\n",
    "    driver.find_element(By.CSS_SELECTOR, \"#modal-form > fieldset > ul:nth-child(5) > li:nth-child(1) > label > input\").click()\n",
    "    driver.find_element(By.CSS_SELECTOR, \"#gdpr-submit-button\").click()\n",
    "except:\n",
    "    pass\n",
    "\n",
    "time.sleep(3)\n",
    "while True:\n",
    "    \n",
    "    try:\n",
    "        element = driver.find_element(By.XPATH, \"/html/body/div[10]/div[2]/div[1]/section[2]/div/div/div[1]/div/div/button\")\n",
    "        driver.execute_script(\"arguments[0].click();\", element)\n",
    "\n",
    "        last_t_page = driver.find_element(By.XPATH,\"(//*[@class='text-gray-800 text-md'])[last()]\").text\n",
    "        text = \"SRAD earnings call for the period ending December 31, 2022.\"\n",
    "\n",
    "        # Extract the date using regular expressions\n",
    "        match = re.search(r\"\\b([A-Za-z]+)\\s(\\d{1,2}),\\s(\\d{4})\\b\", text)\n",
    "        month_str, day_str, year_str = match.groups()\n",
    "        date_str = f\"{month_str} {day_str}, {year_str}\"\n",
    "        date = datetime.strptime(date_str, \"%B %d, %Y\")\n",
    "\n",
    "        if date < datetime.strptime('2022-01-01', \"%Y-%m-%d\"):\n",
    "            break\n",
    "    except:\n",
    "        break\n",
    "time.sleep(5)\n",
    "list_of_article = driver.find_elements(By.XPATH, \"//*[@class='text-gray-1100']\")\n",
    "links_list = [link.get_attribute('href') for link in list_of_article]"
   ]
  },
  {
   "cell_type": "code",
   "execution_count": null,
   "id": "55ea8b41",
   "metadata": {},
   "outputs": [],
   "source": []
  }
 ],
 "metadata": {
  "kernelspec": {
   "display_name": "Python 3 (ipykernel)",
   "language": "python",
   "name": "python3"
  },
  "language_info": {
   "codemirror_mode": {
    "name": "ipython",
    "version": 3
   },
   "file_extension": ".py",
   "mimetype": "text/x-python",
   "name": "python",
   "nbconvert_exporter": "python",
   "pygments_lexer": "ipython3",
   "version": "3.9.16"
  }
 },
 "nbformat": 4,
 "nbformat_minor": 5
}

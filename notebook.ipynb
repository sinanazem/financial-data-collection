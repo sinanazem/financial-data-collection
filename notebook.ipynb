{
 "cells": [
  {
   "cell_type": "markdown",
   "id": "bcc4f60b",
   "metadata": {},
   "source": [
    "# Crawl Data"
   ]
  },
  {
   "cell_type": "markdown",
   "id": "5666a627",
   "metadata": {},
   "source": [
    "<img src=\"https://a.storyblok.com/f/139616/1200x600/1eca701f0a/crawl-and-scrap-to-find-datasets.webp\" width=550>"
   ]
  },
  {
   "cell_type": "markdown",
   "id": "5ff9b9e9",
   "metadata": {},
   "source": [
    "## Introduction"
   ]
  },
  {
   "cell_type": "markdown",
   "id": "db6f5e6f",
   "metadata": {},
   "source": [
    ">The **Motley Fool** is a financial services company that provides investment advice\n",
    "and financial news to its subscribers.\n",
    "One of its services is to provide earnings call transcripts for publicly traded companies.\n",
    "\n",
    "\n",
    "> The ***earnings call transcript*** is a written record of the conference call between a company's management team and its investors, analysts, and other interested parties. These transcripts can provide valuable information about a company's financial performance, strategy, and future plans."
   ]
  },
  {
   "cell_type": "markdown",
   "id": "1e6ea10f",
   "metadata": {},
   "source": [
    "- In this guide, we will show you how to use Python and BeautifulSoup <br> to extract data from earnings call transcripts on https://www.fool.com/earnings/call-transcripts."
   ]
  },
  {
   "cell_type": "markdown",
   "id": "2de07f60",
   "metadata": {},
   "source": [
    "## Prerequisites\n",
    "#### Before we begin, you should have the following installed on your system:\n",
    "\n",
    "- The requests library\n",
    "- The BeautifulSoup library\n",
    "\n",
    "You can install requests and BeautifulSoup by running the following commands in your terminal:\n",
    "\n",
    "```\n",
    "pip install requests\n",
    "pip install beautifulsoup4\n",
    "\n",
    "\n",
    "```"
   ]
  },
  {
   "cell_type": "markdown",
   "id": "70582f8f",
   "metadata": {},
   "source": [
    "## Steps to Crawl Data\n",
    "**1. Identify the URL of the earnings call transcript you want to extract data from.**<br>\n",
    "<br>\n",
    "For example, let's use this transcript for Apple's Q1 2023 earnings call:<br>\n",
    "https://www.fool.com/earnings/call-transcripts/2023/02/02/apple-aapl-q1-2023-earnings-call-transcript/\n",
    "\n",
    "**2. Use the requests library to send a GET request to the URL and store the response in a variable:**"
   ]
  },
  {
   "cell_type": "code",
   "execution_count": 70,
   "id": "d1a84547",
   "metadata": {},
   "outputs": [],
   "source": [
    "import requests\n",
    "\n",
    "url = \"https://www.fool.com/earnings/call-transcripts/2023/02/02/apple-aapl-q1-2023-earnings-call-transcript/\"\n",
    "response = requests.get(url)"
   ]
  },
  {
   "cell_type": "markdown",
   "id": "4e1fba49",
   "metadata": {},
   "source": [
    "**3. Use BeautifulSoup to parse the HTML content of the response:**"
   ]
  },
  {
   "cell_type": "code",
   "execution_count": 71,
   "id": "56b3f07a",
   "metadata": {},
   "outputs": [],
   "source": [
    "from bs4 import BeautifulSoup\n",
    "\n",
    "soup = BeautifulSoup(response.text, 'html.parser')"
   ]
  },
  {
   "cell_type": "markdown",
   "id": "9fef0e4a",
   "metadata": {},
   "source": [
    "**4. Extract the relevant data from the HTML using BeautifulSoup's find() and find_all() methods**. \n",
    "\n",
    "#### Here are some examples:"
   ]
  },
  {
   "cell_type": "markdown",
   "id": "ef921871",
   "metadata": {},
   "source": [
    "1. To extract the main title of the earnings call:"
   ]
  },
  {
   "cell_type": "code",
   "execution_count": null,
   "id": "d46b41c0",
   "metadata": {},
   "outputs": [],
   "source": [
    "main_title = soup.find(\"h1\", class_=\"font-medium text-gray-1100 leading-42 md:text-h1\").text"
   ]
  },
  {
   "cell_type": "markdown",
   "id": "1c7599ce",
   "metadata": {},
   "source": [
    "1. To extract the date of the earnings call:"
   ]
  },
  {
   "cell_type": "code",
   "execution_count": 73,
   "id": "b5c3b289",
   "metadata": {},
   "outputs": [],
   "source": [
    "date = soup.find(id=\"date\").text"
   ]
  },
  {
   "cell_type": "markdown",
   "id": "80059009",
   "metadata": {},
   "source": [
    "2. To extract the time of the earnings call:"
   ]
  },
  {
   "cell_type": "code",
   "execution_count": 74,
   "id": "dffa27af",
   "metadata": {},
   "outputs": [],
   "source": [
    "time = soup.find(id=\"time\").text"
   ]
  },
  {
   "cell_type": "markdown",
   "id": "325ec2ad",
   "metadata": {},
   "source": [
    "3. To extract the title of the earnings call (usually the name of the company):"
   ]
  },
  {
   "cell_type": "code",
   "execution_count": 75,
   "id": "2878270d",
   "metadata": {},
   "outputs": [],
   "source": [
    "title = soup.find(\"h2\", class_=\"font-light leading-10 text-h3 text-gray-1100 mb-32px\").text"
   ]
  },
  {
   "cell_type": "markdown",
   "id": "beab9152",
   "metadata": {},
   "source": [
    "4. To extract the content of the earnings call (transcript):"
   ]
  },
  {
   "cell_type": "code",
   "execution_count": 76,
   "id": "11ded712",
   "metadata": {},
   "outputs": [],
   "source": [
    "content = soup.find(\"div\", class_=\"tailwind-article-body\").text"
   ]
  },
  {
   "cell_type": "markdown",
   "id": "0112933c",
   "metadata": {},
   "source": [
    "5. Store the extracted data in a dictionary:"
   ]
  },
  {
   "cell_type": "code",
   "execution_count": 79,
   "id": "91eebd6f",
   "metadata": {},
   "outputs": [],
   "source": [
    "earnings_dict = {\n",
    "    \"main_title\": main_title,\n",
    "    \"date\": date,\n",
    "    \"time\": time,\n",
    "    \"title\": title,\n",
    "    \"content\": content\n",
    "}\n"
   ]
  },
  {
   "cell_type": "markdown",
   "id": "6147a643",
   "metadata": {},
   "source": [
    "6. (Optional) Repeat steps 1-5 for other earnings call transcripts you want to extract data from.\n",
    "7. (Optional) Store the extracted data in a database or a file for further analysis."
   ]
  },
  {
   "cell_type": "markdown",
   "id": "415144ce",
   "metadata": {},
   "source": [
    "## Conclusion\n",
    "In this guide, we showed you how to use Python and BeautifulSoup to extract data from<br> earnings call transcripts on https://www.fool.com/earnings/call-transcripts. <br>By following these steps, you can easily crawl and extract data from any earnings call transcript"
   ]
  },
  {
   "cell_type": "markdown",
   "id": "a7c79314",
   "metadata": {},
   "source": [
    "# Functions"
   ]
  },
  {
   "cell_type": "code",
   "execution_count": 38,
   "id": "2874b26f",
   "metadata": {},
   "outputs": [],
   "source": [
    "import requests\n",
    "from bs4 import BeautifulSoup\n",
    "\n",
    "def single_crawler(ticker):\n",
    "    # Create the URL to scrape based on the ticker symbol\n",
    "    url = f'https://www.fool.com/quote/nasdaq/{ticker}/'\n",
    "    \n",
    "    # Send a GET request to the URL and store the response\n",
    "    response = requests.get(url)\n",
    "    \n",
    "    # Use BeautifulSoup to parse the HTML content of the response\n",
    "    soup = BeautifulSoup(response.text, 'html.parser')\n",
    "    \n",
    "    # Find all <a> elements that have a certain class\n",
    "    links = soup.find_all(\"a\", class_=\"block border-b border-gray-300 hover-trigger \"\\\n",
    "                          \"md:items-center text-gray-1100 hover:text-black py-12px\")\n",
    "    \n",
    "    # Define the base URL for the links we found\n",
    "    base_url = \"https://www.fool.com\"\n",
    "    \n",
    "    # Use a list comprehension to construct a list of full URLs\n",
    "    # by concatenating the base URL with the href attribute of each <a> element\n",
    "    link_list = [base_url + link['href'] for link in links]\n",
    "    \n",
    "    # Return the list of links\n",
    "    return link_list\n",
    "\n",
    "\n",
    "def earnings_crawler(url):\n",
    "    # Send a GET request to the URL and store the response\n",
    "    response = requests.get(url)\n",
    "    \n",
    "    # Use BeautifulSoup to parse the HTML content of the response\n",
    "    soup = BeautifulSoup(response.text, 'html.parser') \n",
    "    \n",
    "    # Create an empty dictionary to store the extracted data\n",
    "    earnings_dict = {}\n",
    "        \n",
    "    # Extract the main title of the earnings call\n",
    "    try:\n",
    "        earnings_dict[\"main_title\"] = soup.find(\"h1\", class_=\"font-medium text-gray-1100 leading-42 md:text-h1\").text\n",
    "    except:\n",
    "        earnings_dict[\"main_title\"] = \"N/A\"\n",
    "        \n",
    "    # Extract the date of the earnings call\n",
    "    try:\n",
    "        earnings_dict[\"date\"] = soup.find(id=\"date\").text\n",
    "    except:\n",
    "        earnings_dict[\"date\"] = \"N/A\"\n",
    "        \n",
    "    # Extract the time of the earnings call\n",
    "    try:\n",
    "        earnings_dict[\"time\"] = soup.find(id=\"time\").text\n",
    "    except:\n",
    "        earnings_dict[\"time\"] = \"N/A\"\n",
    "        \n",
    "    # Extract the title of the earnings call (usually the name of the company)\n",
    "    try:\n",
    "        earnings_dict[\"title\"] = soup.find(\"h2\", class_=\"font-light leading-10 text-h3 text-gray-1100 mb-32px\").text\n",
    "    except:\n",
    "        earnings_dict[\"title\"] = \"N/A\"\n",
    "        \n",
    "    # Extract the content of the earnings call (transcript)\n",
    "    try:\n",
    "        earnings_dict[\"content\"] = soup.find(\"div\", class_=\"tailwind-article-body\").text\n",
    "    except:\n",
    "        earnings_dict[\"content\"] = \"N/A\"\n",
    "        \n",
    "    # Return the dictionary of extracted data\n",
    "    return earnings_dict\n"
   ]
  },
  {
   "cell_type": "code",
   "execution_count": 68,
   "id": "2721cde9",
   "metadata": {},
   "outputs": [
    {
     "data": {
      "text/plain": [
       "{'main_title': 'Apple (AAPL) Q1 2023 Earnings Call Transcript',\n",
       " 'date': 'Feb 02, 2023',\n",
       " 'time': '5:00 p.m. ET',\n",
       " 'title': 'AAPL earnings call for the period ending December 31, 2022.',\n",
       " 'content': \"\\n\\nImage source: The Motley Fool.\\n\\nApple\\xa0(AAPL 0.55%)Q1\\xa02023 Earnings CallFeb 02, 2023, 5:00 p.m. ETContents:  Prepared Remarks Questions and Answers Call Participants  Prepared Remarks:  OperatorGood day, everyone, and welcome to the Apple Q1 fiscal year 2023 earnings conference call. Today's call is being recorded. And now at this time, for opening remarks and introductions, I would like to turn the call over to Tejas Gala, director of investor relations and corporate finance. Please go ahead.Tejas Gala -- Director, Investor Relations and Corporate Finance Thank you. Speaking first today is Apple's CEO, Tim Cook; and he'll be followed by CFO, Luca Maestri. After that, we'll open the call to questions from analysts. Before turning the call over to Tim, I would like to remind everyone that the December quarter spanned 14 weeks, while the March quarter, as usual, has 13 weeks.\\n\\n\\n\\n Please note that some of the information you'll hear during our discussion today will consist of forward-looking statements, including, without limitation, those regarding revenue, gross margin, operating expenses, other income and expense, taxes, capital allocation, and future business outlook, including the potential impact of COVID-19 on the company's business and results of operations. These statements involve risks and uncertainties and that may cause actual results or trends to differ materially from our forecast. For more information, please refer to the risk factors discussed in Apple's most recently filed annual report on Form 10-K and the Form 8-K filed with the SEC today, along with the associated press release. Apple assumes no obligation to update any forward-looking statements or information, which speak as of their respective dates.10 stocks we like better than\\xa0AppleWhen our award-winning analyst team has\\xa0a stock tip, it can pay to listen. After all, the newsletter they\\xa0have run for over a decade, Motley Fool Stock Advisor, has tripled the market.*\\xa0\\nThey\\xa0just revealed what they believe are the\\xa0ten\\xa0best stocks\\xa0for investors to buy right now... and Apple\\xa0wasn't one of them! That's right -- they\\xa0think these 10\\xa0stocks are even better buys.\\nSee the 10 stocks\\n*Stock Advisor returns as of January 9, 2023I'd now like to turn the call over to Tim for introductory remarks. Tim Cook -- Chief Executive Officer Thank you, Tejas. Good afternoon, everyone, and thanks for joining us. Today, we're reporting revenue of $117.2 billion for the December quarter. We set all-time revenue records in a number of markets, including Canada, Indonesia, Mexico, Spain, Turkey, and Vietnam, along with quarterly records in Brazil and India.\\n\\n\\n\\n As a result of a challenging environment, our revenue was down 5% year over year. But I'm proud of the way we have navigated circumstances, seen and unforeseen, over the past several years, and I remain incredibly confident in our team and our mission and in the work we do every day. Let me discuss the three factors that impacted our revenue performance during the quarter. The first was foreign exchange headwinds, which had a nearly 800 basis point impact. On a constant currency basis, we grew year over year and would have grown in the vast majority of the markets we track. The second factor, which we described in a November 6th update with COVID-19-related challenges, which significantly impacted the supply of iPhone 14 Pro and iPhone 14 Pro Max and lasted through most of December. Because of these constraints, we had significantly less iPhone 14 Pro and iPhone 14 Pro Max supply than we planned, causing ship times to extend far beyond what we had anticipated. As we always have, every step of the way throughout the pandemic, we continue to prioritize people and worked with our suppliers to ensure the health and safety of every worker. Production is now back where we want it to be. The third factor was a challenging macroeconomic environment as the world continues to face unprecedented circumstances from inflation, to war in Eastern Europe, to the enduring impacts of the pandemic. And we know that Apple is not immune to it. But whatever conditions we face, our approach is always the same. We are thoughtful and deliberate. We manage for the long term. We adapt quickly to circumstances outside our control while delivering with excellence in the things we can. We invest in innovation, in people, and in the positive difference we can make in the world.\\n\\n\\n\\n And we do it all to provide our customers with technology that will enrich their lives and help unlock their full creative potential. It's a wonderful thing to be a part of, and it's so rewarding for all of us at Apple when we hear how much our customers are loving what we create. Let me talk now about what we saw across our product categories. Starting with iPhone. Revenue came in at $65.8 billion for the quarter, down 8% year over year. However, on a constant currency basis, iPhone revenue was roughly flat. Our customers continue to rave about the astounding camera capabilities and unprecedented battery life and the groundbreaking suite of health and safety features. The iPhone 14 lineup pushes the limits of what users can do with a smartphone. During the quarter, Mac revenue came in at $7.7 billion, which was in line with what we had expected. We had a difficult compare because this time last year, we had the extremely successful launch of the redesigned M1 MacBook Pros. We also faced a challenging macroeconomic environment and foreign exchange headwinds. We remain confident in and focused on the long-term opportunity for Mac. Just last month, we introduced new MacBook Pro models powered by our latest developments in Apple silicon, M2 Pro, and M2 Max. These chips enable unprecedented performance and do so with less energy, which is not only good for the environment but gives the newest MacBook Pro the longest battery life ever in a Mac. We also introduced the M2-powered Mac mini, which will supercharge productivity for users of all kinds and leave them stunned by just how powerful a Mac mini can be. During the quarter, iPad revenue grew 30% to a total of $9.4 billion. The very strong growth was due in part to a favorable compare to the December quarter a year ago when we experienced significant supply constraints. Customers continue to praise our new lineup for its versatility, whether it's the new iPad Pro now powered by the M2 or the newly designed iPad 10th Generation with its stunning liquid retina display and beautiful colors. Revenue for Wearables, Home and Accessories was $13.5 billion, which was down 8% year over year driven by foreign exchange headwinds and a challenging macroeconomic environment. We remain excited about the long-term opportunity in the category. As an example, a few weeks ago, we announced the next-generation HomePod, which is an indispensable addition to the smart home. This powerful smart speaker relies on advanced computational audio to produce an incredible listening experience. We're also helping users make their homes safer with sound recognition. This feature arriving later this spring allows HomePod to send a notification directly to a user's iPhone if a smoke or carbon monoxide alarm sound is identified. We continue to hear wide praise for Apple Watch Series 8 and Apple Watch Ultra, which has set a new standard for what's possible with the wearable. From a whole host of health and safety features to incredible new capabilities for extreme athletes, there is something for everyone in these amazing products. Customers are excited about some phenomenal new features we've made available across many of our products as well. One of the highlights is emergency SOS via satellite, which launched for iPhone 14 customers in the U.S. and Canada in November and for customers in France, Germany, Ireland, and the U.K. in December. This is a feature we hope our users will never need, but it is incredibly heartening to get emails from people describing the life-saving impact our new safety features have had on them. We're always looking for new ways to empower people to create and collaborate. In December, we released Freeform, a brand-new app that lets users take their ideas wherever they want, anywhere they are, all while collaborating in real time. Freeform has already received praise from reviewers for its flexibility and simplicity as it works seamlessly across iPhone, iPad, and Mac. Today, we are very excited to announce that we've achieved a truly incredible milestone. Thanks to our deep commitment to innovation, incredible customer loyalty and satisfaction, and a large number of switchers, we now have more than 2 billion active devices as part of our growing installed base, double what it was just seven years ago. This is an incredible testament to our products and services and the strength of our ecosystem. We set an all-time revenue record of $20.8 billion in services, which was better than what we had expected. We achieved double-digit revenue growth from App Store subscriptions and set all-time revenue records across a number of categories, including cloud and payment services. All told, Apple now has more than 935 million paid subscriptions. Apple has also just begun a historic 10-year partnership with Major League Soccer. Just yesterday, we launched MLS Season Pass, which will give fans in more than 100 countries access to every live MLS regular season game as well as the playoffs and MLS Cup, all with no blackouts. And while we're providing more content to sports fans than ever before, Apple TV+ continues to showcase powerful characters and moving storytelling. We were thrilled to celebrate the holidays alongside our Apple TV+ subscribers with the hit movie Spirited. And we're delighted to see how much people are enjoying new and returning series like Shrinking, Slow Horses, and Truth Be Told. And we have some great upcoming movies in Sharper and Tetris, along with Emmy Award winner, Ted Lasso, returning this spring. During the quarter, we made some great updates to Fitness+ as well, expanding our catalog of more than 3,500 workouts and meditations to include a new kickboxing category and a new sleep theme for meditations. Our latest artist spotlight series features the music of the incomparable Beyonce, and we're excited to take a stroll with guests appearing on our fifth season of Time to Walk. And we continue to build on our decades-long commitment to helping small businesses thrive when we announced Apple Business Connect. This new tool gives business owners even more control over how billions of people see and engage with their products and services every day. Businesses of all sizes can now customize key information for users across Apple Maps, Messages, Wallet, Siri, and other apps. Meanwhile, in retail, we celebrated 25 years of the Apple online store and also opened Apple Pacific Centre in Vancouver and Apple American Dream in New Jersey. And I'm grateful to all the teams who helped our customers throughout the busy holiday season. At Apple, we spend a lot of time focused on creating an unparalleled experience for our customers and every product and service that we offer. We're also just as dedicated to leading with our values in everything we do. As part of that work, we strengthened our deep commitment to privacy and security, giving users 3 new tools to protect their most sensitive data: iMessage contact key verification, security keys for Apple ID, and advanced data protection for iCloud. At Apple, we feel a deep sense of responsibility to lead the world better than we found it. We're also a year closer to 2030, and we were ever focused on the environmental commitments we set out for the end of the decade. As an example, the latest Mac mini and MacBook Pro models all use 100% recycled aluminum in the enclosure and recycled rare earth elements in all magnets. And in a first for HomePod, we're using 100% recycled gold in the plating of multiple printed circuit boards. In honor of Black History Month, we released the Black Unity collection, including the Special Edition Apple Watch Black Unity Sport Loop, a new matching watch face, and iPhone wallpaper. Through our racial, equity, and justice initiative, we're expanding our support of 5 organizations focused on lifting up communities of color through technology. And we are committed as ever to building on our progress around inclusion and diversity. During the quarter, we also announced that since the inception of our Giving program 11 years ago, we've donated more than $880 million to humanitarian efforts, disaster relief, childhood education, and more. And over the last 16 years through our partnership with RED, Apple supported grants have helped more than 11 million people get the care and support services they need. As we look ahead in 2023, we are excited about the year to come. At Apple, we are always looking forward, always focused on the next challenge, always determined to do great things with unmatched creativity and unrivaled innovation. And that makes me more confident about the future of Apple than I have ever been. With that, I'll turn it over to Luca.Luca Maestri -- Chief Financial Officer Thank you, Tim, and good afternoon, everyone. As Tim mentioned, revenue for the December quarter was $117.2 billion, down 5% from last year. A number of factors had a significant impact on our results. First, we faced a very difficult foreign exchange environment, which affected our performance by nearly 800 basis points. In other words, we grew revenue on a constant currency basis. And in fact, we did so in the vast majority of markets. Second, the macroeconomic environment this past quarter markedly more challenging than 12 months ago. Third, we experienced significant supply shortages for iPhone 14 Pro and iPhone 14 Pro Max in November and through December. On the other hand, we had the positive impact of the 14th week in the quarter that Tejas just mentioned at the beginning of the call. Products revenue was $96.4 billion, down 8% from last year due to the factors I just called out. At the same time, however, our installed base of active devices grew double digits and achieved all-time records in each geographic segment and in each major product category. We're proud to now have over 2 billion active devices in our installed base. This continued growth in the installed base is due to extremely strong levels of customer satisfaction and loyalty and a high number of customers who are new to our products. The installed base growth also helped our services set an all-time revenue record of $20.8 billion, up 6% a year ago. We achieved this new milestone despite more than 700 basis points of negative impact from foreign exchange. We reached all-time services revenue records in the Americas, Europe, and rest of Asia Pacific and a December quarter record in Greater China. We also set records in many services categories, including all-time revenue records for cloud services, payment services and music and December quarter records for the App Store and AppleCare. Company gross margin was 43%, up 70 basis points from last quarter due to leverage and favorable mix, partially offset by foreign exchange. Products gross margin was 37%, up 240 basis points sequentially. And services gross margin was 70.8%, up 30 basis points sequentially, both due to the same factors that impacted total company gross margin. Operating expenses of $14.3 billion were significantly below the guidance range we provided at the beginning of the quarter and grew at a slower pace than in the past as we took actions to respond to the current macro environment. Net income was $30 billion. Diluted earnings per share were $1.88, and we generated very strong operating cash flow of $34 billion. Let me now get into more detail for each of our revenue categories. iPhone revenue was $65.8 billion despite significant foreign exchange headwinds, supply constraints on iPhone 4 Pro and iPhone 14 Pro Max, and a challenging macroeconomic environment. In spite of these circumstances, we set all-time iPhone revenue records in Canada, Italy, and Spain, and saw strong growth in several emerging markets, including all-time iPhone revenue records for India and Vietnam. Importantly, this installed base of active iPhones continues to grow nicely and is at an all-time high across all geographic segments. In emerging markets, in particular, the installed base grew double digits. And we had record levels of switchers in India and in Mexico. Our customers continue to love their experience with our products, with the latest survey of U.S. consumers from 451 Research indicating customer satisfaction of 98% for the iPhone 14 family. Mac revenue was $7.7 billion, down 29% year over year and in line with our expectations. There were three key drivers for our Mac results. First, we had a challenging compare against last year's launch of the completely reimagined MacBook Pros, our first notebooks with M1 Pro and M1 Max. Second, we believe that the macro environment impacted our Mac performance. And third, we faced significant foreign exchange headwinds. At the same time, however, the installed base of active Macs reached an all-time high across all geographic segments, and we continue to see very strong upgraded activity to Apple silicon. Customer satisfaction with Mac remains very strong at 96% based on the latest survey of U.S. consumers from 451 Research. iPad revenue was $9.4 billion, up 30% year over year despite significant FX headwinds. This performance was driven by two key items. First, during the December quarter a year ago, we experienced significant supply constraints, while this year, we had enough supply to meet demand. Second, we launched our new iPad and the iPad Pro powered by the M2 chip during the quarter. The iPad installed base reached a new all-time high, thanks to incredible customer loyalty and a high number of new customers. In fact, over half of the customers who purchased iPads during the quarter were new to the product. Wearables, Home and Accessories revenue was $13.5 billion, down 8% year over year. The year-over-year decline was driven by significant FX headwinds and a challenging macroeconomic environment. However, our installed base of devices in the category set a new all-time record, thanks to the largest number of customers new to a smartwatch that we ever had in a given quarter. In fact, nearly two-thirds of customers purchasing an Apple Watch during the quarter were new to the product. Moving to services. We generated $20.8 billion in revenue, a new all-time record in total, and for many services offerings in spite of a difficult foreign exchange environment, and macroeconomic headwinds impacting certain categories such as digital advertising and mobile gaming. In constant currency, we grew services revenue double digits on top of growing 24% during the December quarter a year ago. We remain focused on the large long-term opportunity in this category, and we continue to observe several trends that reflect the strength of our ecosystem. For example, we saw increased customer engagement with our services during the quarter. Both our transacting accounts and paid accounts grew double digits year over year, each setting a new all-time record. Paid subscriptions also continued to grow nicely. We now have more than 935 million paid subscriptions across the services on our platform, up more than 150 million during the last 12 months alone and nearly four times what we had just five years ago. And we continue to increase the reach and improve the quality of our offerings. For instance, Apple Pay is now available to millions of merchants in nearly 70 countries and regions. And we saw a record-breaking number of purchases made using Apple Pay globally during the holiday shopping season. Finally, our installed base of over 2 billion active devices represents a great foundation for future expansion of our ecosystem, and it continues to grow even during difficult macroeconomic conditions, which speaks to the exceptionally high levels of customer loyalty and satisfaction and our ability to attract new customers to our platform. The growth is coming from every major product category and geographic segment, with strong double-digit increases in emerging markets such as Brazil, Mexico, India, Indonesia, Thailand, and Vietnam. Turning to the enterprise market. we are seeing continued adoption of our services for business like Apple Business Essentials, AppleCare, Tap to Pay, and Apple Financial Services. For example, Mars Incorporated has expanded its use of AppleCare for Enterprise to provide timely device support and assurance for iPads deployed across their manufacturing sites. Meanwhile, HCA Healthcare has leveraged Apple Financial Services to manage the annual refresh of its entire fleet of iPhones. This not only ensures that their staff stay current on the latest Apple technology, but also provides them with significant annual savings in the process. Let me now turn to our capital return program and our cash position. We returned over $25 billion to shareholders during the December quarter as our business continues to generate very strong cash flow. This included $3.8 billion in dividends and equivalents and $19 billion through open market repurchases of 133 million Apple shares. We ended the quarter with $165 billion in cash and marketable securities. We repaid $1.4 billion in maturing debt and decreased commercial paper by $8.2 billion, leaving us with total debt of $111 billion. As a result, net cash was $54 billion at the end of the quarter, and we maintain our goal of becoming net cash-neutral over time. As we move into the March quarter, I'd like to review our outlook, which includes the types of forward-looking information that Tejas referred to at the beginning of the call. Given the continued uncertainty around the world in the near term, we are not providing revenue guidance, but we are sharing some directional insights based on the assumption that the macroeconomic outlook and COVID-related impacts to our business do not worsen from what we are projecting today for the current quarter. In total, we expect our March quarter year-over-year revenue performance to be similar to the December quarter. This represents an acceleration in our underlying year-over-year business performance as the December quarter benefited from an extra week. Foreign exchange will continue to be a headwind, and we expect a negative year-over-year impact of five percentage points. For services, we expect revenue to grow year over year while continuing to face macroeconomic headwinds in areas such as digital advertising and mobile gaming. For iPhone, we expect our March quarter year-over-year revenue performance to accelerate relative to the December quarter year-over-year revenue performance. For Mac and iPad, we expect revenue for both product categories to decline double digits year over year because of challenging compares and macroeconomic headwinds. We expect gross margin to be between 43.5% and 44.5%. We expect opex to be between $13.7 billion and $13.9 billion. We expect OI&E to be around negative $100 million, excluding any potential impact from the mark-to-market of minority investments, and our tax rate to be around 16%. Finally, today, our board of directors has declared a cash dividend of $0.23 per share of common stock payable on February 16, 2023, to shareholders of record as of February 13, 2023. With that, let's open the call to questions.Tejas Gala -- Director, Investor Relations and Corporate Finance Thank you, Luca. [Operator instructions] Operator, may we have the first question, please? Questions & Answers: OperatorCertainly. We will go ahead and take our first question from David Vogt with UBS.David Vogt -- UBS -- Analyst Thanks, guys, for taking my question. So Tim, and maybe this is for Luca as well. You talked about the supply chain returning back to normal after a very difficult October, November, but we're still seeing some disruptions across tech products, whether it's enterprise or consumer-facing. How do you think about your supply chain and maybe the levels of inventory or builds that you might need as we go forward to sort of insulate your business from these sort of episodic disruptions? Have you changed your view? And if so, how does that affect ultimately margins and sort of your balance sheet and cash flow items going forward? Thanks.Tim Cook -- Chief Executive Officer This is Tim, David. From a supply point of view, we did see disruption from early November through most of December. And from a supply chain point of view, we're now at a point where production is what we need it to be. And so the problem is behind us. In terms of going forward in the supply chain, we build our products everywhere. There are component parts coming from many different countries in the world, and the final assembly coming from three countries in the world on just iPhone. And so we continue to optimize it. We'll continue to optimize it over time and change it to continue to improve. I think when you sort of zoom out and back up from it, the last three years have been a pretty difficult time between COVID and silicon shortages and the like. And I think it's -- I think we have had a very resilient supply chain in the aggregate. In terms of supply for this quarter, which I think was one of your points, I think we're in decent supply on most products for the quarter currently.David Vogt -- UBS -- Analyst Great. Thank you.Tejas Gala -- Director, Investor Relations and Corporate Finance Great. Thanks. Can we have the next question, please?OperatorOur next question is from Shannon Cross of Credit Suisse.Shannon Cross -- Credit Suisse -- Analyst Thank you very much. Luca, I wanted to dig a bit more into the commentary on gross margin. The guidance especially of 43.5% to 44.5% is obviously quite strong. So I'm wondering what's helping you out there, assume mix and some other things. And then how should we think about what currency and hedge is going to do as we look forward? And then I have a follow-up.Luca Maestri -- Chief Financial Officer Shannon, yes, I mean, we've had good margin for the December quarter to start with. We reported 43%. Obviously, in December, we have the benefit of leverage because of the seasonality of the business, but we also had favorable mix across the board. Of course, foreign exchange is an issue right now. In the December quarter on a sequential basis, foreign exchange was a negative 110 basis points for us. And on a year-over-year basis, it's 300 basis points. So obviously, the FX environment has changed a lot during the last 12 months. For March, yes, we've seen a margin expansion, 43.5% to 44.5%. We're doing a lot of work around cost, of course. Mix will continue to help, both within categories and services mix as we move away from the holiday season. But we're doing a lot of work on the cost structure, and that is paying off. Foreign exchange is still a negative, about 50 basis points sequentially, but it's mitigating. The last couple of weeks, the dollar has weakened a bit. And so hopefully, as we go through the year, hopefully, things will improve. But for now, as you correctly state, we are in a good position on margins.Shannon Cross -- Credit Suisse -- Analyst Thank you. And then, Tim, can you talk a bit about China? What you're seeing -- obviously, you've had the issues with production, but I mean more on the demand side. As we've gotten through Chinese or in Chinese New Year and the opening, I'm just wondering, are you seeing the Chinese consumer come back? What are they buying? And how are you thinking about your position there?Tim Cook -- Chief Executive Officer Shannon, last quarter, we declined by 7% on a reported basis, but we actually grew on a constant currency basis. And that was despite some significant -- the supply constraints that we talked about earlier. And obviously, the sort of the COVID restrictions throughout China that happened in various different places throughout the country also impacted the demand during the quarter. When you look at the opening that started happening in December, we saw a marked change in traffic in our stores as compared to November. And that followed through to demand as well. And I don't want to get into January. We've obviously -- for January is included in the guidance or the color rather that Luca provided earlier. But we did see a marked change from December compared to November.Shannon Cross -- Credit Suisse -- Analyst Thank you.Tejas Gala -- Director, Investor Relations and Corporate Finance Great. Thanks, Shannon. Can we have the next question, please?OperatorOur next question is from Erik Woodring of Morgan Stanley.Erik Woodring -- Morgan Stanley -- Analyst Guys, thanks for taking my questions. Maybe, Tim, first one for you. That 2 billion installed base -- device installed base figure, that's up, I believe, 200 million units year over year. That implies the strongest annual gain in new devices in your installed base basically as far back as you've provided those data points. And so I guess my two questions are: one, do you -- can you provide the installed base for the iPhone at year-end? And then two, is there anything that you see in this new cohort of users that might look different or similar to past cohorts, either by demographic or regions or monetization ramp? And then I have a follow-up. Thanks.Tim Cook -- Chief Executive Officer Yes. The installed base is now over 2 billion active devices, as you mentioned. And we set records across each geographic segment and major product category. And so it was a broad-based change. Two, correct one thing you said, it's up over 150 million year over year. The last report we reported to be over 1.85. And so it's 150 million, which we're very proud of. We also saw strong double-digit in several of the emerging markets, which is very important to us. For example, India and Brazil as just two examples. So very, very strong. And obviously, it bodes well for the future.Erik Woodring -- Morgan Stanley -- Analyst Great. Thank you for that, Tim. And then, Luca, obviously, the December quarter was negatively impacted by the production challenges. Can you just maybe unpackage where channel inventory levels are today kind of across the iPhone broadly? And then what the data that you're seeing so far this quarter is telling you about iPhone demand deferral versus kind of iPhone demand structuring and perhaps pushing some upgrades later into the year rather than into the March quarter? And that's it for me.Tim Cook -- Chief Executive Officer Yes. Erik, I'll take that one as well. The channel inventory levels on iPhone, we obviously ended the December quarter below our target range given the supply challenges on iPhone 14 Pro and iPhone 14 Pro Max. But as you think about this, keep in mind that a year ago, we also exited the December quarter below our target inventory range because of supply challenges in the year-ago quarter. Not related -- not the same issue, but just as a point. And so that hopefully gives you some flavor of that. In terms of what we're seeing in January, we've included in our color that Luca provided kind of our thinking. It's very hard to estimate the recapture because you have to know exactly what would have happened and how many people bought down. And it takes a while to get that -- to get those reports in during the quarter. And so we've made our best guess at it. In terms of the sizing of the constraint in Q1, what we estimate, although not with precision, is that we would -- I thought we believe iPhone would have grown during the quarter had it not been for the supply shortages. So hopefully, that provides you a little bit of color.Erik Woodring -- Morgan Stanley -- Analyst Yeah. That's great. Thanks so much.Tejas Gala -- Director, Investor Relations and Corporate Finance Thanks, Erik. Can we have the next question, please?OperatorOur next question comes from Aaron Rakers of Wells Fargo. Yeah. Thanks for taking the question.Aaron Rakers -- Wells Fargo Securities -- Analyst Yeah. Thanks for taking the question. I have two as well, if I can. I guess the first kind of question, just going back on the gross margin line. Pretty good guidance into this March quarter. I'm curious if you unpack that a little bit specific around what you're seeing as far as may be benefits from component pricing in the guidance, if you're embedding any of that at this point.Luca Maestri -- Chief Financial Officer Yes. Of course, with our guidance, we try to capture every aspect of our cost structure. And obviously, components are a big portion of that. So definitely, that's included. And keep in mind, again, that foreign exchange -- I mentioned earlier, I think to Shannon, that the sequential negative on FX is 50 basis points versus a year ago, it's 270 basis points. Obviously, the U.S. dollar has moved a lot over the last 12 months. So obviously, we need to find offsets and more to the negative FX in order to be able to provide this kind of guidance. And so obviously, components are a big part of that.Aaron Rakers -- Wells Fargo Securities -- Analyst Yep. And then kind of from a strategic perspective, given kind of the things that we're seeing out in some of your peer group, I'm curious, Tim, how you think about the role of AI in your strategy as far as particularly in the services segment, whether you're not -- you see opportunities to excel monetization abilities within the paid subscriber base and whether or not AI, is it something that you're implementing a bit more strategically there?Tim Cook -- Chief Executive Officer Yep. It is a major focus of ours. It's incredible in terms of how it can enrich customers' lives. And you can look no further than some of the things that we announced in the fall with crash detection and fall detection or back a ways with ECG. I mean these things have literally save people's lives. And so we see an enormous potential in this space to affect virtually everything we do. It's obviously a horizontal technology, not a vertical. And so it will affect every product in every service that we have.Tejas Gala -- Director, Investor Relations and Corporate Finance Thanks. Can we have the next question, please?OperatorOur next question comes from Amit Daryanani of Evercore.Amit Daryanani -- Evercore ISI -- Analyst Yep. Thanks for taking my question. I guess the first one I have is, Tim, I think based on your earlier comments that iPhones would have grown ex the production issue that implied that maybe it's a $7 billion or so impact that you had in December quarter from the production challenges on the high-end models. I'm sure it's tough to see what happens this time around. But I think historically, when you've had production issues or things like this happen, what has the consumer behavior being typically? Do they tend to go down toward the lower-end models and get the phone they want quickly? Or do they just defer the production? Just from a historical perspective, I think do you typically recover what's deferred out or no?Tim Cook -- Chief Executive Officer It's very hard to estimate is the real answer because you have to know a lot of data, and it's usually only in hindsight that you have a more reasonable view of it. And so we put our best views in the color that Luca provided. That's kind of what I would say.Amit Daryanani -- Evercore ISI -- Analyst All right. And then I guess maybe if I think about services as you go forward. I know you had really good growth in services, I think, over the last several years. But as you go forward in services, what do you think drives the growth more? So is it the expansion of your installed base? Or is it more going to be driven by ARPU going higher for you? I'm just curious, how do you think about those two buckets as you go forward?Luca Maestri -- Chief Financial Officer Amit, there's a number of things, and I've mentioned a few of them during the call. The first step is always the installed base. It's the engine for services growth. And the fact that the installed base is growing very nicely, and it's growing in a lot of emerging markets, it's growing even faster, that gives us a larger addressable pool of customers. So that's incredibly important. The second one is that we are seeing that the level of engagement of our customers already in our ecosystem continues to grow. We -- I mentioned that both transacting accounts and paid accounts grew double digits. And so that bodes very well for the future. And we have a lot of transacting accounts that kind of moved to paid accounts over time. The other aspect that is very important for us is to continue constantly to improve the reach and the quality of our services. And I give the example of Apple Pay, which it's a great example because we started off primarily in the United States. Now we've taken it to 70 markets, millions of merchants. And so obviously, payment services are -- continue to set new highs all the time for us. And as we've seen over the last few years, we also launched new services over time, and that obviously contributes to the growth. We're very excited. And when we look at the behavior of our installed base, we think it's very promising for the continued growth of our Services business.Amit Daryanani -- Evercore ISI -- Analyst OK. Thank you.Tejas Gala -- Director, Investor Relations and Corporate Finance Thanks, Amit. Can we have the next question, please?OperatorOur next question comes from Harsh Kumar of Piper Sandler.Harsh Kumar -- Piper Sandler -- Analyst Yeah. Hey. Tim,I had a quick question on emerging markets. Seems like you're making a lot of strides in India. Potentially wanted to understand the kind of share you have in China and India. And relative to that, what would be your aspirational but sort of achievable share in iPhones in those territories, whether it's units or revenues? And I was hoping to draw on your experience and maybe what you've seen in other countries where you've had some longer presence.Tim Cook -- Chief Executive Officer And looking at the business in India, we set a quarterly revenue record and grew very strong double digits year over year. And so we feel very good about how we performed, and that was -- that's despite the headwinds that we've talked about. Taking a step back, India is hugely exciting market for us and is a major focus. We brought the online store there in 2020. We will soon bring Apple retail there. So we're putting a lot of emphasis on the market. There's been a lot done from a financing options and trade-ins to make products more affordable and give people more options to buy. And so there's a lot going on there. We are, in essence, taking what we learned in China years ago and how we scale to China and bringing that to bear. And I don't have the exact market shares in front of me, but I think you would see that from a market share point of view that we grew around the world last quarter despite -- on iPhone despite the challenges that we've had on the supply side. And I wouldn't expect to have a difference in those two markets.Harsh Kumar -- Piper Sandler -- Analyst Understood. And for my follow-up, I had a sort of interesting theoretical question on pricing. Assuming we get the CHIPS Act passed, and there's a whole bunch of manufacturing that happens in U.S. and other territories that are potentially somewhat more expensive than the ones you might be now, have you -- has the company done any studies to gauge the elasticity of demand relative to small price increases in your products?Tim Cook -- Chief Executive Officer We have experience in that, but I wouldn't necessarily draw the same conclusion that you have in terms of the cost of the product. I -- we don't know at this point exactly what that will be, but we're all in, in terms of being the largest customer for TSMC in Arizona. I'm very proud to take part in that. That's what I would say about that.Harsh Kumar -- Piper Sandler -- Analyst OK. Fair enough. Thank you, Tim.Tim Cook -- Chief Executive Officer Yep.Tejas Gala -- Director, Investor Relations and Corporate Finance Thanks. Can we have the next question, please?OperatorOur next question comes from Wamsi Mohan of Bank of America.Wamsi Mohan -- Bank of America Merrill Lynch -- Analyst Thank you. Tim, you've done a phenomenal job of driving consumer choice toward higher-end products within your portfolio. How would you compare this cycle for iPhones if you were to segment the Pro versus non-Pro models versus the cycles from the past few years? And do you think this move to higher ASPs is sustainable? Or do you think it reverses in a tighter consumer spending environment? And I have a follow-up.Tim Cook -- Chief Executive Officer The Pro has been a -- 14 Pro and the 14 Pro Max have done extremely well up until the point where we had a supply shortage and couldn't provide them -- couldn't provide the total of the demand. And so it's definitely a strong Pro cycle. I think there's a number of reasons for that, but the most important one is always the product. And I think the innovations and the product speak for themselves. And we feel very good about the product that we announced back in September and are happy to now be at a point where we're shipping to the demand.Wamsi Mohan -- Bank of America Merrill Lynch -- Analyst And Tim, do you think that this move to sort of higher ASPs that has happened over the last few years is sustainable? Or could it sustain in this very tough macro environment that you've cited?Tim Cook -- Chief Executive Officer I wouldn't want to predict, but I would say that the smartphone for us -- the iPhone has become so integral into people's lives. It contains their contacts and their health information and their banking information and their smart home and so many different parts of their lives, their payment vehicle and -- for many people. And so I think people are willing to really stretch to get the best they can afford in that category.Wamsi Mohan -- Bank of America Merrill Lynch -- Analyst OK. Great. And Tim, you clearly emphasize the focus and importance of the installed base. If we think about the absolute grit of the installed base from 1 billion to 2 billion over 7 years from a device standpoint, how should we think about the penetration of services or the growth in paying customers on services or that time frame? Is that penetration rate increasing or decreasing? How fast is that growing relative to the growth of the overall installed base?Luca Maestri -- Chief Financial Officer Wamsi, it's Luca. Yes, of course, we keep track of that. It's really important for us. Over the last seven years, as we doubled the installed base, we've seen a growing engagement of our customers on the platform. That happens, first of all, by customers transacting on the platform and then moving to paid accounts. So starting to pay for some of the services. That percentage of paid accounts tends to grow over time. We've seen it in developed markets. We see it in emerging markets. And that is due to some of the reasons that I was explaining earlier, including the fact that we made it easier for our customers to get engaged on the platform. For example, we offer multiple payment methods in many countries. And we've made it easier to explore for more services because we've added a lot of services on the platform over the last seven years. So to your question, of course, higher engagement means a higher percentage of paid accounts over time.Wamsi Mohan -- Bank of America Merrill Lynch -- Analyst OK. Thank you.Tejas Gala -- Director, Investor Relations and Corporate Finance All right. Thanks, Wamsi. Can we have the next question, please?OperatorOur next question comes from Richard Kramer of Arete Research LLP.Tejas Gala -- Director, Investor Relations and Corporate Finance Operator, can we move on to the next?OperatorRichard? OK. Next we'll hear from Jim Suva of Citigroup. Jim, your line is open. If you can release your mute function, we are unable to hear you.Jim Suva -- Citi -- Analyst Tim and Luca, you both mentioned earlier on the Q&A a little bit about India. I was wondering if we're now entering a situation of even more opportunity because we've exited COVID. We've exited countries with different COVID criteria. We've also seen India build out its higher-speed transmissions. And your market is -- shares tremendously underrepresented there. And it appears with the supply chain, you're looking at diversifying kind of operational risk, not specific to any country, but just overall. Now you look at potentially opening up stores and stuff. Am I right that, that's the way you look at it is it's even more prime for opportunity now than ever? And once you start opening up stores there, you could just see a complete green shoots of adoptions or any additional commentary on your view on India as now we've navigated COVID and supply chain and so many challenges over the past two years? Thank you, gentlemen.Tim Cook -- Chief Executive Officer Yes. Jim, we actually did fairly well through COVID in India. And I'm even more bullish now on the other side of it, or hopefully, on the other side of it. And that's the reason why we're investing there. We're bringing retail there and bringing the online store there and putting a significant amount of energy there. I'm very bullish on India.Jim Suva -- Citi -- Analyst Thank you. And then as my quick follow-up, you had mentioned that Services, not necessarily specific to India, but Services overall were better than expected. And of course, supply chain was more challenged than expected. So what was the bridge factor of services being better than expected on upside? Was it like advertising or apps or paid monthly subscriptions? Or what were kind of the things that really surprised you to the upside on services? Thank you.Luca Maestri -- Chief Financial Officer It was -- Jim, it's Luca. It's primarily the -- this level of engagement we saw, which then reflects into the, as you said, the paid subscriptions. We saw very good results in our cloud services business in payment services. Music was very strong. So we had a number of categories that set new records, all-time records. And they did a bit better than we were expecting at the beginning of the quarter. And so Tim mentioned that during, I think, his prepared remarks that when you look at it in constant currency, we grew services double digits. And that was on top of a 24% increase a year ago. So it's very sustained growth that we're seeing.Jim Suva -- Citi -- Analyst Thank you so much and congratulations to you and all your teams.Tejas Gala -- Director, Investor Relations and Corporate Finance Thanks, Jim. Can we have the next question, please?OperatorOur next question will come from Krish Sankar of Cowen and Company.Krish Sankar -- Cowen and Company -- Analyst Yeah. Hi. Thanks for taking my question. I have two. The first one, Tim and Luca, you mentioned how the macro did soften, and it has an impact. And as consumers tighten their belt, we look across your hardware products and service businesses. Where are you seeing the biggest impact? And where are you seeing the least impact from the softening macro? And then I had a quick follow-up.Tim Cook -- Chief Executive Officer We think there were some impact across the products and in Services. Probably, the ones that we saw the most impact on were Mac and Wearables. You can see that in those numbers. And probably, the least would have been iPhone.Krish Sankar -- Cowen and Company -- Analyst Got it. Got it. Very helpful, Tim. And then just a quick follow-up on the Mac. The PC industry is expecting a decline in PC shipments this year also. How do you think about the Mac relative to kind of like where the PC industry as a whole is expecting the shipments to end up? Is there any color you can give on that?Tim Cook -- Chief Executive Officer The industry is very challenged, as you say. It's -- the industry is contracting. I think from us, though, is -- and I don't know how this year will play out, so I don't want to predict the year. But over the long run, we have a market that is a reasonable sized market, a big market. And we have low share, and we have a competitive advantage with Apple silicon. And so strategically, I think we're well-positioned in the market, albeit I think it will be a little rough in the short term.Krish Sankar -- Cowen and Company -- Analyst Thanks a lot, Tim.Tim Cook -- Chief Executive Officer Yep.Tejas Gala -- Director, Investor Relations and Corporate Finance Thanks, Krish. A replay of today's call will be available for two weeks on Apple Podcasts as a webcast on apple.com/investor and via telephone. The number for the telephone replay is (866) 583-1035. Please enter confirmation code 6541285, followed by the pound sign. These replays will be available by approximately 5 p.m. Pacific Time today. Members of the press with additional questions can contact Josh Rosenstock at (408) 862-1142. Financial analysts can contact me with additional questions at (669) 227-2402. Thank you again for joining us.Operator[Operator signoff] Duration: 0 minutesCall participants:Tejas Gala -- Director, Investor Relations and Corporate FinanceTim Cook -- Chief Executive OfficerLuca Maestri -- Chief Financial OfficerDavid Vogt -- UBS -- AnalystShannon Cross -- Credit Suisse -- AnalystErik Woodring -- Morgan Stanley -- AnalystAaron Rakers -- Wells Fargo Securities -- AnalystAmit Daryanani -- Evercore ISI -- AnalystHarsh Kumar -- Piper Sandler -- AnalystWamsi Mohan -- Bank of America Merrill Lynch -- AnalystJim Suva -- Citi -- AnalystKrish Sankar -- Cowen and Company -- Analyst\\nMore AAPL analysis\\nAll earnings call transcripts\\n\"}"
      ]
     },
     "execution_count": 68,
     "metadata": {},
     "output_type": "execute_result"
    }
   ],
   "source": [
    "earnings_crawler(url)"
   ]
  },
  {
   "cell_type": "markdown",
   "id": "57a8ec45",
   "metadata": {},
   "source": [
    "## Storing crawled data in PostgreSQL"
   ]
  },
  {
   "cell_type": "markdown",
   "id": "108203e0",
   "metadata": {},
   "source": [
    "<img src=\"https://storage.googleapis.com/gweb-cloudblog-publish/images/PostgresDMSHeader.max-2200x2200.png\" width=550>"
   ]
  },
  {
   "cell_type": "markdown",
   "id": "d149f5f8",
   "metadata": {},
   "source": [
    "Storing crawled data in PostgreSQL is a common task in web scraping projects, and can be done easily with Python. <br>Here's a step-by-step guide to store crawled data from https://www.fool.com/earnings/call-transcripts/ in PostgreSQL using Python:"
   ]
  },
  {
   "cell_type": "markdown",
   "id": "b6fdb02e",
   "metadata": {},
   "source": [
    "**1. Install required packages:You need to install the psycopg2 package to connect to PostgreSQL and execute SQL queries.**"
   ]
  },
  {
   "cell_type": "markdown",
   "id": "8dca53d6",
   "metadata": {},
   "source": [
    "```\n",
    "pip install psycopg2\n",
    "\n",
    "```"
   ]
  },
  {
   "cell_type": "markdown",
   "id": "86776191",
   "metadata": {},
   "source": [
    "**2. Create a database and table: Open PostgreSQL command-line interface (CLI) and create a database and table to store the data.**"
   ]
  },
  {
   "cell_type": "markdown",
   "id": "9b2437da",
   "metadata": {},
   "source": [
    "```\n",
    "CREATE DATABASE your_database_name;\n",
    "```"
   ]
  },
  {
   "cell_type": "markdown",
   "id": "acf7c27e",
   "metadata": {},
   "source": [
    "```\n",
    "CREATE TABLE earnings (\n",
    "    id SERIAL PRIMARY KEY,\n",
    "    main_title TEXT,\n",
    "    date TEXT,\n",
    "    time TEXT,\n",
    "    title TEXT,\n",
    "    content TEXT\n",
    ");\n",
    "\n",
    "```"
   ]
  },
  {
   "cell_type": "markdown",
   "id": "853d1f23",
   "metadata": {},
   "source": [
    "#### 3. Connect to the database: Use psycopg2 to connect to the database in your Python code.\n",
    "\n",
    "```\n",
    "import psycopg2\n",
    "\n",
    "conn = psycopg2.connect(\n",
    "    host=\"localhost\",\n",
    "    database=\"your_database_name\",\n",
    "    user=\"your_username\",\n",
    "    password=\"your_password\"\n",
    ")\n",
    "```"
   ]
  },
  {
   "cell_type": "markdown",
   "id": "b53890fd",
   "metadata": {},
   "source": [
    "**4. Crawl data and insert into the database: Modify your crawling code to store the data in the earnings table.**"
   ]
  },
  {
   "cell_type": "markdown",
   "id": "bec120f1",
   "metadata": {},
   "source": [
    "# Functions"
   ]
  },
  {
   "cell_type": "code",
   "execution_count": null,
   "id": "90b09e52",
   "metadata": {},
   "outputs": [],
   "source": [
    "def make_db_connection_psycopg2(database: str, autocommit: bool = False):\n",
    "\n",
    "    assert database in list(conn_dict.keys()), \"server couldn't be recognized in the config file\"\n",
    "\n",
    "    host = conn_dict[database]['host']\n",
    "    user = conn_dict[database]['user']\n",
    "    password = conn_dict[database]['password']\n",
    "    dbname = conn_dict[database]['dbname']\n",
    "\n",
    "    conn = psycopg2.connect(user=user, password=password, host=host, dbname=dbname)\n",
    "    cursor = conn.cursor()\n",
    "\n",
    "    if autocommit:\n",
    "        conn.autocommit = True\n",
    "\n",
    "    return conn, cursor\n"
   ]
  }
 ],
 "metadata": {
  "kernelspec": {
   "display_name": "Python 3 (ipykernel)",
   "language": "python",
   "name": "python3"
  },
  "language_info": {
   "codemirror_mode": {
    "name": "ipython",
    "version": 3
   },
   "file_extension": ".py",
   "mimetype": "text/x-python",
   "name": "python",
   "nbconvert_exporter": "python",
   "pygments_lexer": "ipython3",
   "version": "3.9.13"
  }
 },
 "nbformat": 4,
 "nbformat_minor": 5
}

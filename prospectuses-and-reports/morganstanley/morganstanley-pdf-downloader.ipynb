{
 "cells": [
  {
   "cell_type": "code",
   "execution_count": 43,
   "id": "8b779ea3",
   "metadata": {},
   "outputs": [],
   "source": [
    "from selenium import webdriver\n",
    "from webdriver_manager.chrome import ChromeDriverManager\n",
    "from selenium.webdriver.chrome.service import Service\n",
    "from selenium.webdriver.common.by import By\n",
    "from selenium.webdriver.common.keys import Keys\n",
    "from time import sleep\n",
    "import re\n",
    "import requests\n",
    "import time\n",
    "from bs4 import BeautifulSoup\n",
    "from tqdm import tqdm\n",
    "from loguru import logger\n",
    "from tqdm import tqdm\n",
    "import pathlib"
   ]
  },
  {
   "cell_type": "code",
   "execution_count": 51,
   "id": "14c2b279",
   "metadata": {},
   "outputs": [],
   "source": [
    "mf_url = 'https://www.morganstanley.com/im/en-us/registered-investment-advisor/resources.desktop.html'"
   ]
  },
  {
   "cell_type": "code",
   "execution_count": 37,
   "id": "6cbb47a3",
   "metadata": {},
   "outputs": [],
   "source": [
    "# service = Service(executable_path=ChromeDriverManager().install())\n",
    "# driver = webdriver.Chrome(service=service)\n",
    "# driver.implicitly_wait(10)\n",
    "\n",
    "# driver.get(mf_url)\n",
    "\n",
    "# #click\n",
    "# driver.find_element(By.XPATH, '//*[@id=\"resourceDesktopTabList\"]/li[2]/a').click()\n",
    "# # mf_html = driver.page_source\n",
    "\n",
    "# # click on select share class\n",
    "# driver.find_element(By.CSS_SELECTOR, '.text-right a').click()\n"
   ]
  },
  {
   "cell_type": "code",
   "execution_count": 52,
   "id": "e23ada4a",
   "metadata": {},
   "outputs": [],
   "source": [
    "r = requests.get(mf_url)"
   ]
  },
  {
   "cell_type": "code",
   "execution_count": 53,
   "id": "aca4f278",
   "metadata": {},
   "outputs": [],
   "source": [
    "soup = BeautifulSoup(r.text, 'html.parser')"
   ]
  },
  {
   "cell_type": "code",
   "execution_count": 57,
   "id": "045b95b9",
   "metadata": {},
   "outputs": [],
   "source": [
    "tr_fund = soup.find_all('tr', attrs={\"prosreportvehiclefilter\":\"mutual-funds\"})"
   ]
  },
  {
   "cell_type": "code",
   "execution_count": 78,
   "id": "ca2bb0bc",
   "metadata": {},
   "outputs": [],
   "source": [
    "fund_names_list = []\n",
    "investment_team_list = []\n",
    "share_class_list = []\n",
    "\n",
    "try:\n",
    "    for item in tr_fund:\n",
    "        # fund name\n",
    "        fund_name = item.find('td', class_='fundContainer col-xs-5')\n",
    "        fund_names_list.append(fund_name.text.strip())\n",
    "        \n",
    "        # investment team\n",
    "        investment_team = item.find('td', class_='fundContainer col-xs-5 table-td table-cell noLeftPadding')\n",
    "        investment_team_list.append(investment_team.text.strip())\n",
    "        \n",
    "        # share class\n",
    "        share_class = item.find('td', class_='fundContainer col-xs-2 table-td table-cell noPadding rightBorder')\n",
    "        share_class_list.append(share_class.text.strip())\n",
    "        \n",
    "except:\n",
    "    pass"
   ]
  },
  {
   "cell_type": "code",
   "execution_count": 149,
   "id": "6d7f2e61",
   "metadata": {},
   "outputs": [
    {
     "data": {
      "text/plain": [
       "221"
      ]
     },
     "execution_count": 149,
     "metadata": {},
     "output_type": "execute_result"
    }
   ],
   "source": [
    "len(fund_names_list)"
   ]
  },
  {
   "cell_type": "code",
   "execution_count": 89,
   "id": "52f9654d",
   "metadata": {},
   "outputs": [],
   "source": [
    "pdf_fund = soup.find_all('div', attrs={\"grid-id\":\"PRmutual-fundsdataViewPort\"})[1]\n",
    "funds = pdf_fund.find_all('tr', attrs={\"prosreportvehiclefilter\":\"mutual-funds\"})"
   ]
  },
  {
   "cell_type": "code",
   "execution_count": 152,
   "id": "6c26dc58",
   "metadata": {},
   "outputs": [],
   "source": [
    "def pdf_downloader(company_name, product, fund_name, file_name, url):\n",
    "    \n",
    "    # make directory for store data\n",
    "    funds_dir = pathlib.Path(f'./{company_name}/{product}/{fund_name}')\n",
    "    funds_dir.mkdir(parents=True, exist_ok=True)\n",
    "    \n",
    "    # select path for store data\n",
    "    pdf_path = f'./{company_name}/{product}/{fund_name}'\n",
    "    \n",
    "    # update url\n",
    "    base_url = 'https://morganstanley.prospectus-express.com/'\n",
    "    url = base_url + url\n",
    "    \n",
    "    # download pdf\n",
    "    r = requests.get(url, stream=True)\n",
    "    pdf_path = pdf_path +f'/{file_name}.pdf'\n",
    "    with open(pdf_path, 'wb') as f:\n",
    "        pdf_file = f.write(r.content)\n",
    "    "
   ]
  },
  {
   "cell_type": "code",
   "execution_count": 153,
   "id": "f6011f69",
   "metadata": {},
   "outputs": [],
   "source": [
    "fund_names_list = []\n",
    "investment_team_list = []\n",
    "share_class_list = []\n",
    "\n",
    "try:\n",
    "    for item in tr_fund:\n",
    "        # fund name\n",
    "        fund_name = item.find('td', class_='fundContainer col-xs-5')\n",
    "        fund_names_list.append(fund_name.text.strip())\n",
    "        \n",
    "        # investment team\n",
    "        investment_team = item.find('td', class_='fundContainer col-xs-5 table-td table-cell noLeftPadding')\n",
    "        investment_team_list.append(investment_team.text.strip())\n",
    "        \n",
    "        # share class\n",
    "        share_class = item.find('td', class_='fundContainer col-xs-2 table-td table-cell noPadding rightBorder')\n",
    "        share_class_list.append(share_class.text.strip())\n",
    "        \n",
    "except:\n",
    "    pass\n",
    "\n",
    "\n",
    "\n",
    "summary_prospecus_list = []\n",
    "prospecus_list = []\n",
    "semi_annual_report_list = []\n",
    "annual_report_list = []\n",
    "sai_list = []\n",
    "n_port_q1_list = [] \n",
    "n_port_q3_list = []\n",
    "\n",
    "for i in funds:\n",
    "    summary_prospecus_list.append(i.find_all('a')[0].get('href'))\n",
    "    prospecus_list.append(i.find_all('a')[1].get('href'))\n",
    "    semi_annual_report_list.append(i.find_all('a')[2].get('href'))\n",
    "    annual_report_list.append(i.find_all('a')[3].get('href'))\n",
    "    sai_list.append(i.find_all('a')[4].get('href'))\n",
    "    n_port_q1_list.append(i.find_all('a')[5].get('href'))\n",
    "    n_port_q3_list.append(i.find_all('a')[6].get('href'))\n",
    "    \n",
    "    \n",
    "    \n",
    "for fund_name, summary_prospecus, prospecus, semi_annual_report, annual_report, sai, n_port_q1, n_port_q3 in zip(\n",
    "    fund_names_list,\n",
    "    summary_prospecus_list,\n",
    "    prospecus_list,\n",
    "    semi_annual_report_list,\n",
    "    annual_report_list,\n",
    "    sai_list,\n",
    "    n_port_q1_list,\n",
    "    n_port_q3_list):\n",
    "    \n",
    "    pdf_downloader('morganstanley', 'mutual_fund', fund_name, 'summary_prospectus', summary_prospecus)\n",
    "    pdf_downloader('morganstanley', 'mutual_fund', fund_name, 'prospecus', prospecus)\n",
    "    pdf_downloader('morganstanley', 'mutual_fund', fund_name, 'semi_annual_report', semi_annual_report)\n",
    "    pdf_downloader('morganstanley', 'mutual_fund', fund_name, 'annual_report', annual_report)\n",
    "    pdf_downloader('morganstanley', 'mutual_fund', fund_name, 'sai', sai)\n",
    "    \n",
    "    break\n",
    "    \n",
    "    \n",
    "    "
   ]
  },
  {
   "cell_type": "code",
   "execution_count": 130,
   "id": "a9848290",
   "metadata": {},
   "outputs": [
    {
     "name": "stdout",
     "output_type": "stream",
     "text": [
      "https://morganstanley.prospectus-express.com/get_template.asp?clientid=morganstll&fundid=61756E776%20&doctype=spro\n",
      "https://morganstanley.prospectus-express.com/get_template.asp?clientid=morganstll&fundid=61756E776%20&doctype=pros\n",
      "https://morganstanley.prospectus-express.com/get_template.asp?clientid=morganstll&fundid=61756E776%20&doctype=semi\n",
      "https://morganstanley.prospectus-express.com/get_template.asp?clientid=morganstll&fundid=61756E776%20&doctype=ann\n",
      "https://morganstanley.prospectus-express.com/get_template.asp?clientid=morganstll&fundid=61756E776%20&doctype=sai\n",
      "https://morganstanley.prospectus-express.com/get_template.asp?clientid=morganstll&fundid=61756E776%20&doctype=phq1\n",
      "https://morganstanley.prospectus-express.com/get_template.asp?clientid=morganstll&fundid=61756E776%20&doctype=phq3\n"
     ]
    }
   ],
   "source": [
    "print(summary_prospecus_list[0])\n",
    "print(prospecus_list[0])\n",
    "print(semi_annual_report_list[0])\n",
    "print(annual_report_list[0])\n",
    "print(sai_list[0])\n",
    "print(n_port_q1_list [0])\n",
    "print(n_port_q3_list[0])"
   ]
  },
  {
   "cell_type": "code",
   "execution_count": 140,
   "id": "b3079303",
   "metadata": {},
   "outputs": [],
   "source": [
    "def url_downloader(url):\n",
    "    response_raw_pdf = requests.get(url)\n",
    "    soup = BeautifulSoup(response_raw_pdf.text, 'html.parser')\n",
    "    new_url = soup.find('a', attrs={'id': 'printSaveContentPlaceHolder_ctl00_pdfUrl'}).get('href')\n",
    "    print(new_url)\n",
    "    \n",
    "    base_url= 'https://morganstanley.prospectus-express.com/'\n",
    "    new_url = base_url + new_url\n",
    "    print(new_url)\n",
    "    r = requests.get(new_url, stream=True)\n",
    "\n",
    "\n",
    "    with open('./sum_pers.pdf', 'wb') as f:\n",
    "        pdf_file = f.write(r.content)\n",
    "    "
   ]
  },
  {
   "cell_type": "code",
   "execution_count": 142,
   "id": "eeab35b9",
   "metadata": {},
   "outputs": [],
   "source": [
    "url_ = 'https://morganstanley.prospectus-express.com/getcombinedpdf/morganstll/spro?key=oXywmP6IHygB2ITvnVqEZVmPY-YEzf3W2SvV6BmBxLY1&fid=61756E776'"
   ]
  },
  {
   "cell_type": "code",
   "execution_count": 143,
   "id": "f65c518e",
   "metadata": {},
   "outputs": [
    {
     "data": {
      "text/plain": [
       "['https:',\n",
       " '',\n",
       " 'morganstanley.prospectus-express.com',\n",
       " 'getcombinedpdf',\n",
       " 'morganstll',\n",
       " 'spro?key=oXywmP6IHygB2ITvnVqEZVmPY-YEzf3W2SvV6BmBxLY1&fid=61756E776']"
      ]
     },
     "execution_count": 143,
     "metadata": {},
     "output_type": "execute_result"
    }
   ],
   "source": [
    "url_.split('/')"
   ]
  },
  {
   "cell_type": "code",
   "execution_count": 145,
   "id": "7184f48d",
   "metadata": {},
   "outputs": [],
   "source": [
    "def pdf_downloader(company_name, product, fund_name, file_name, url):\n",
    "    \n",
    "    # make directory for store data\n",
    "    funds_dir = pathlib.Path(f'./{company_name}/{product}/{fund_name}')\n",
    "    funds_dir.mkdir(parents=True, exist_ok=True)\n",
    "    \n",
    "    # select path for store data\n",
    "    pdf_path = f'./{company_name}/{product}/{fund_name}'\n",
    "    \n",
    "    # update url\n",
    "    base_url = 'https://morganstanley.prospectus-express.com/'\n",
    "    url = base_url + url\n",
    "    \n",
    "    # download pdf\n",
    "    r = requests.get(url, stream=True)\n",
    "    pdf_path = pdf_path +f'/{file_name}'\n",
    "    with open(pdf_path, 'wb') as f:\n",
    "        pdf_file = f.write(r.content)\n"
   ]
  },
  {
   "cell_type": "code",
   "execution_count": null,
   "id": "303337f9",
   "metadata": {},
   "outputs": [],
   "source": []
  },
  {
   "cell_type": "code",
   "execution_count": null,
   "id": "bf75a11d",
   "metadata": {},
   "outputs": [],
   "source": []
  }
 ],
 "metadata": {
  "kernelspec": {
   "display_name": "Python 3 (ipykernel)",
   "language": "python",
   "name": "python3"
  },
  "language_info": {
   "codemirror_mode": {
    "name": "ipython",
    "version": 3
   },
   "file_extension": ".py",
   "mimetype": "text/x-python",
   "name": "python",
   "nbconvert_exporter": "python",
   "pygments_lexer": "ipython3",
   "version": "3.9.7"
  }
 },
 "nbformat": 4,
 "nbformat_minor": 5
}

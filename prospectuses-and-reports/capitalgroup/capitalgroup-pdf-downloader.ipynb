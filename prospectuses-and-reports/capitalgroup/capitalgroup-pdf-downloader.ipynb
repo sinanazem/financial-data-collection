{
 "cells": [
  {
   "cell_type": "markdown",
   "id": "123a9856",
   "metadata": {},
   "source": [
    "<img src=\"https://www.scopeexplorer.com/files/download/?name=funds.LogoFile/bytes/filename/mimetype/CG_Horizontal_w_TM_rgb.png\">"
   ]
  },
  {
   "cell_type": "code",
   "execution_count": 3,
   "id": "4fd39237",
   "metadata": {},
   "outputs": [],
   "source": [
    "from selenium import webdriver\n",
    "from webdriver_manager.chrome import ChromeDriverManager\n",
    "from selenium.webdriver.chrome.service import Service\n",
    "from selenium.webdriver.common.by import By\n",
    "from selenium.webdriver.common.keys import Keys\n",
    "from time import sleep\n",
    "import re\n",
    "import requests\n",
    "import time\n",
    "from bs4 import BeautifulSoup\n",
    "from tqdm import tqdm\n",
    "from loguru import logger\n",
    "import pathlib\n",
    "from tqdm import tqdm\n",
    "import pathlib\n",
    "import pandas as pd\n",
    "import requests\n",
    "from bs4 import BeautifulSoup\n",
    "import pandas as pd\n",
    "import requests\n",
    "from bs4 import BeautifulSoup"
   ]
  },
  {
   "cell_type": "code",
   "execution_count": 74,
   "id": "3d918383",
   "metadata": {},
   "outputs": [],
   "source": [
    "def pdf_downloader(company_name, product, fund_name, file_name, url):\n",
    "    funds_dir = pathlib.Path(f'./{company_name}/{product}/{fund_name}')\n",
    "    funds_dir.mkdir(parents=True, exist_ok=True)\n",
    "    pdf_path = f'./{company_name}/{product}/{fund_name}'\n",
    "    \n",
    "    base_url = 'https://www.capitalgroup.com'\n",
    "    url = base_url + url\n",
    "    \n",
    "    r = requests.get(url, stream=True)\n",
    "    name = f\"{file_name}_{url.split('/')[-1]}\"\n",
    "    pdf_path = pdf_path +f'/{name}'\n",
    "    with open(pdf_path, 'wb') as f:\n",
    "        pdf_file = f.write(r.content)"
   ]
  },
  {
   "cell_type": "code",
   "execution_count": 24,
   "id": "b6f06b33",
   "metadata": {},
   "outputs": [],
   "source": [
    "american_funds_insurance_series = 'https://www.capitalgroup.com/individual/investments/insurance-funds/prospectuses-and-reports.htm'\n",
    "mutual_funds = 'https://www.capitalgroup.com/individual/investments/prospectuses-and-reports.htm'\n",
    "etf = 'https://www.capitalgroup.com/individual/what-we-offer/exchange-traded-funds/prospectuses-and-reports'"
   ]
  },
  {
   "cell_type": "markdown",
   "id": "68eda395",
   "metadata": {},
   "source": [
    "# Mutual Funds"
   ]
  },
  {
   "cell_type": "code",
   "execution_count": 2,
   "id": "35b6d088",
   "metadata": {
    "scrolled": true
   },
   "outputs": [],
   "source": [
    "r = requests.get(mutual_funds)\n",
    "soup = BeautifulSoup(r.text,\"html.parser\")\n",
    "table_head = soup.find('table').find('thead').find('tr')\n",
    "headers = []\n",
    "for th in table_head.find_all('th'):\n",
    "    headers.append(th.text.strip())\n",
    "table_body = soup.find('table').find('tbody')\n",
    "\n",
    "for tr in table_body.find_all('tr'):\n",
    "    fund_name = tr.find('th').text.strip()\n",
    "    summary_prospectus = tr.find_all('td')[0].find('a').get('href')\n",
    "    prospectus = tr.find_all('td')[1].find_all('a')\n",
    "    prospectus = [link.get('href') for link in prospectus]\n",
    "    sai = tr.find_all('td')[2].find('a').get('href')\n",
    "    annual_report = tr.find_all('td')[3].find('a').get('href')\n",
    "    semi_annual_report = tr.find_all('td')[4].find('a').get('href')\n",
    "    quarterly_holdings_1 = tr.find_all('td')[5].find('a').get('href')\n",
    "    quarterly_holdings_2 = tr.find_all('td')[6].find('a').get('href')\n",
    "    quarterly_holdings = quarterly_holdings_1 + quarterly_holdings_2\n",
    "    \n",
    "#     prospectuses_dict = {\n",
    "#         'fund_name': fund_name,\n",
    "#         'summary_prospectus': summary_prospectus,\n",
    "#         'prospectus': prospectus, \n",
    "#         'sai': sai,\n",
    "#         'annual_report': annual_report,\n",
    "#         'semi_annual_report': semi_annual_report,\n",
    "#         'quarterly_holdings': quarterly_holdings,\n",
    "        \n",
    "#     }\n",
    "    \n",
    "#     print(prospectuses_dict)\n",
    "    pdf_downloader('capitalgroup', 'mutual_funds', fund_name, 'summary_prospectus', summary_prospectus)\n",
    "    for item in prospectus:\n",
    "        pdf_downloader('capitalgroup', 'mutual_funds', fund_name, 'prospectus', item)\n",
    "    pdf_downloader('capitalgroup', 'mutual_funds', fund_name, 'sai', sai)\n",
    "    pdf_downloader('capitalgroup', 'mutual_funds', fund_name, 'annual_report', annual_report)\n",
    "    pdf_downloader('capitalgroup', 'mutual_funds', fund_name, 'semi_annual_report', semi_annual_report)\n",
    "    pdf_downloader('capitalgroup', 'mutual_funds', fund_name, 'quarterly_holdings', quarterly_holdings)\n",
    "    \n"
   ]
  },
  {
   "cell_type": "markdown",
   "id": "8e800db3",
   "metadata": {},
   "source": [
    "# American Funds Insurance Series"
   ]
  },
  {
   "cell_type": "code",
   "execution_count": null,
   "id": "2c49e1cd",
   "metadata": {},
   "outputs": [],
   "source": [
    "r = requests.get(american_funds_insurance_series)\n",
    "soup = BeautifulSoup(r.text,\"html.parser\")\n",
    "table_head = soup.find('table').find('thead').find('tr')\n",
    "headers = []\n",
    "for th in table_head.find_all('th'):\n",
    "    headers.append(th.text.strip())\n",
    "table_body = soup.find('table').find('tbody')\n",
    "\n",
    "for tr in table_body.find_all('tr'):\n",
    "    fund_name = tr.find('th').text.strip()\n",
    "    summary_prospectus = tr.find_all('td')[0].find('a').get('href')\n",
    "    prospectus = tr.find_all('td')[1].find_all('a')\n",
    "    prospectus = [link.get('href') for link in prospectus]\n",
    "    sai = tr.find_all('td')[2].find('a').get('href')\n",
    "    annual_report = tr.find_all('td')[3].find('a').get('href')\n",
    "    semi_annual_report = tr.find_all('td')[4].find('a').get('href')\n",
    "    quarterly_holdings_1 = tr.find_all('td')[5].find('a').get('href')\n",
    "    quarterly_holdings_2 = tr.find_all('td')[6].find('a').get('href')\n",
    "    quarterly_holdings = quarterly_holdings_1 + quarterly_holdings_2\n",
    "    \n",
    "#     prospectuses_dict = {\n",
    "#         'fund_name': fund_name,\n",
    "#         'summary_prospectus': summary_prospectus,\n",
    "#         'prospectus': prospectus, \n",
    "#         'sai': sai,\n",
    "#         'annual_report': annual_report,\n",
    "#         'semi_annual_report': semi_annual_report,\n",
    "#         'quarterly_holdings': quarterly_holdings,\n",
    "        \n",
    "#     }\n",
    "    \n",
    "#     print(prospectuses_dict)\n",
    "    pdf_downloader('capitalgroup', 'american_funds_insurance_series', fund_name, 'summary_prospectus', summary_prospectus)\n",
    "    for item in prospectus:\n",
    "        pdf_downloader('capitalgroup', 'american_funds_insurance_series', fund_name, 'prospectus', item)\n",
    "    pdf_downloader('capitalgroup', 'american_funds_insurance_series', fund_name, 'sai', sai)\n",
    "    pdf_downloader('capitalgroup', 'american_funds_insurance_series', fund_name, 'annual_report', annual_report)\n",
    "    pdf_downloader('capitalgroup', 'american_funds_insurance_series', fund_name, 'semi_annual_report', semi_annual_report)\n",
    "    pdf_downloader('capitalgroup', 'american_funds_insurance_series', fund_name, 'quarterly_holdings', quarterly_holdings)\n",
    "    "
   ]
  },
  {
   "cell_type": "markdown",
   "id": "9c0b4cfe",
   "metadata": {},
   "source": [
    "# ETF"
   ]
  },
  {
   "cell_type": "code",
   "execution_count": 69,
   "id": "d4e13e03",
   "metadata": {},
   "outputs": [],
   "source": [
    "r = requests.get(etf)\n",
    "soup = BeautifulSoup(r.text,\"html.parser\")\n",
    "table_head = soup.find('table').find('thead').find('tr')\n",
    "headers = []\n",
    "for th in table_head.find_all('th'):\n",
    "    headers.append(th.text.strip())\n",
    "table_body = soup.find('table').find('tbody')\n",
    "\n",
    "for tr in table_body.find_all('tr'):\n",
    "    fund_name = tr.find_all('td')[0].text\n",
    "    summary_prospectus = tr.find_all('td')[1].find('a').get('href')\n",
    "    prospectus = tr.find_all('td')[2].find('a').get('href')\n",
    "    sai = tr.find_all('td')[3].find('a').get('href')\n",
    "    #annual_report = tr.find_all('td')[4].find('a')\n",
    "    #semi_annual_report = tr.find_all('td')[5].find('a')\n",
    "    try:\n",
    "        quarterly_holdings_1 = tr.find_all('td')[6].find('a').get('href')\n",
    "    except:\n",
    "        pass\n",
    "    try:\n",
    "        quarterly_holdings_2 = tr.find_all('td')[8].find('a').get('href')\n",
    "    except:\n",
    "        pass\n",
    "\n",
    "    pdf_downloader('capitalgroup', 'etf', fund_name, 'summary_prospectus', summary_prospectus)\n",
    "    pdf_downloader('capitalgroup', 'etf', fund_name, 'prospectus', item)\n",
    "    pdf_downloader('capitalgroup', 'etf', fund_name, 'sai', sai)\n",
    "    #pdf_downloader(fund_name, 'annual_report', annual_report)\n",
    "    #pdf_downloader(fund_name, 'semi_annual_report', semi_annual_report)\n",
    "    pdf_downloader('capitalgroup', 'etf', fund_name, 'quarterly_holdings', quarterly_holdings_1)\n",
    "    pdf_downloader('capitalgroup', 'etf', fund_name, 'quarterly_holdings', quarterly_holdings_2)"
   ]
  },
  {
   "cell_type": "code",
   "execution_count": null,
   "id": "a96ececf",
   "metadata": {},
   "outputs": [],
   "source": []
  }
 ],
 "metadata": {
  "kernelspec": {
   "display_name": "Python 3 (ipykernel)",
   "language": "python",
   "name": "python3"
  },
  "language_info": {
   "codemirror_mode": {
    "name": "ipython",
    "version": 3
   },
   "file_extension": ".py",
   "mimetype": "text/x-python",
   "name": "python",
   "nbconvert_exporter": "python",
   "pygments_lexer": "ipython3",
   "version": "3.9.16"
  }
 },
 "nbformat": 4,
 "nbformat_minor": 5
}

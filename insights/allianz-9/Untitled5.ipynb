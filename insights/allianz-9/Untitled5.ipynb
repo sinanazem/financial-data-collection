{
 "cells": [
  {
   "cell_type": "markdown",
   "id": "a4883406",
   "metadata": {},
   "source": [
    "# Allianz"
   ]
  },
  {
   "cell_type": "markdown",
   "id": "c70c6ca8",
   "metadata": {},
   "source": [
    "### Outlook & commentary"
   ]
  },
  {
   "cell_type": "code",
   "execution_count": 1,
   "id": "cbb53a34",
   "metadata": {},
   "outputs": [],
   "source": [
    "import requests\n",
    "from bs4 import BeautifulSoup\n",
    "\n",
    "from selenium.webdriver.common.action_chains import ActionChains\n",
    "from time import sleep\n",
    "import selenium\n",
    "from selenium import webdriver\n",
    "from selenium.webdriver.common.by import By\n",
    "from selenium.webdriver.common.keys import Keys\n",
    "from selenium.webdriver.support.ui import WebDriverWait\n",
    "from selenium.webdriver.common.by import By\n",
    "from selenium.webdriver.support import expected_conditions as EC\n",
    "from selenium.common.exceptions import NoSuchElementException\n",
    "from selenium.common.exceptions import StaleElementReferenceException\n",
    "from selenium.webdriver.common.by import By\n",
    "from selenium.webdriver.support.ui import WebDriverWait\n",
    "from selenium.webdriver.support import expected_conditions\n",
    "import json\n",
    "import re\n",
    "from pprint import pprint\n",
    "from tqdm import tqdm\n",
    "import pandas as pd\n",
    "import seaborn as sns\n",
    "import matplotlib.pyplot as plt"
   ]
  },
  {
   "cell_type": "code",
   "execution_count": null,
   "id": "280c110f",
   "metadata": {},
   "outputs": [],
   "source": [
    "driver = webdriver.Chrome()\n",
    "driver.get('https://www.allianzgi.com/en/insights/outlook-and-commentary')\n",
    "sleep(10)\n",
    "button = driver.find_element(By.CSS_SELECTOR, 'button[id=onetrust-accept-btn-handler]')\n",
    "button.click()\n",
    "\n",
    "load_more_button = driver.find_element(By.CSS_SELECTOR, \"a[class='c-link c-link--block js-list-view-show-more c-link--icon']\")\n",
    "\n",
    "        \n",
    "\n",
    "\n",
    "my_element_id = \"a[class='c-link c-link--block js-list-view-show-more c-link--icon']\"\n",
    "ignored_exceptions=(NoSuchElementException,StaleElementReferenceException,)\n",
    "your_element = WebDriverWait(driver, 15,ignored_exceptions=ignored_exceptions)\\\n",
    "                        .until(expected_conditions.presence_of_element_located((By.CSS_SELECTOR, my_element_id)))\n",
    "while True:\n",
    "    try:\n",
    "        load_more_button = driver.find_element(By.CSS_SELECTOR, \"a[class='c-link c-link--block js-list-view-show-more c-link--icon']\")\n",
    "        driver.execute_script(\"arguments[0].click();\", load_more_button)\n",
    "    except:\n",
    "        pass\n",
    "\n",
    "\n",
    "\n",
    "# for i in range(19):\n",
    "#     driver.execute_script(\"arguments[0].click();\", load_more_button)"
   ]
  },
  {
   "cell_type": "code",
   "execution_count": null,
   "id": "4fe98006",
   "metadata": {},
   "outputs": [],
   "source": []
  }
 ],
 "metadata": {
  "kernelspec": {
   "display_name": "Python 3 (ipykernel)",
   "language": "python",
   "name": "python3"
  },
  "language_info": {
   "codemirror_mode": {
    "name": "ipython",
    "version": 3
   },
   "file_extension": ".py",
   "mimetype": "text/x-python",
   "name": "python",
   "nbconvert_exporter": "python",
   "pygments_lexer": "ipython3",
   "version": "3.9.7"
  }
 },
 "nbformat": 4,
 "nbformat_minor": 5
}

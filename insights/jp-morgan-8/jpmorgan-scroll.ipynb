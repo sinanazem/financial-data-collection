{
 "cells": [
  {
   "cell_type": "markdown",
   "id": "d3a80239",
   "metadata": {},
   "source": [
    "# Import Libraries"
   ]
  },
  {
   "cell_type": "code",
   "execution_count": 1,
   "id": "b226d14b",
   "metadata": {},
   "outputs": [],
   "source": [
    "import requests\n",
    "from bs4 import BeautifulSoup\n",
    "\n",
    "from selenium.webdriver.common.action_chains import ActionChains\n",
    "from time import sleep\n",
    "import selenium\n",
    "from selenium import webdriver\n",
    "from selenium.webdriver.common.by import By\n",
    "from selenium.webdriver.common.keys import Keys\n",
    "from selenium.webdriver.support.ui import WebDriverWait\n",
    "from selenium.webdriver.common.by import By\n",
    "from selenium.webdriver.support import expected_conditions as EC\n",
    "import json\n",
    "import re\n",
    "from pprint import pprint\n",
    "from tqdm import tqdm\n",
    "import pandas as pd\n",
    "import seaborn as sns\n",
    "import matplotlib.pyplot as plt\n",
    "from selenium.webdriver.chrome.options import Options\n",
    "from selenium.webdriver.common.service import Service\n",
    "from webdriver_manager.chrome import ChromeDriverManager\n",
    "import datetime\n",
    "from datetime import timedelta"
   ]
  },
  {
   "cell_type": "markdown",
   "id": "a19388ae",
   "metadata": {},
   "source": [
    "# Scroll End of thr Page"
   ]
  },
  {
   "cell_type": "code",
   "execution_count": 6,
   "id": "c09e8354",
   "metadata": {},
   "outputs": [],
   "source": [
    "driver = webdriver.Chrome()\n",
    "driver.implicitly_wait(3)\n",
    "driver.get('https://www.jpmorgan.com/commercial-banking/insights/on-the-fly?t=tag-taxonomy:jpm/commercial-banking/categories/markets-economy')\n",
    "\n",
    "lenOfPage = driver.execute_script(\"window.scrollTo(0, document.body.scrollHeight);var lenOfPage=document.body.scrollHeight;return lenOfPage;\")\n",
    "match=False\n",
    "while(match==False):\n",
    "    lastCount = lenOfPage\n",
    "    sleep(3)\n",
    "    lenOfPage = driver.execute_script(\"window.scrollTo(0, document.body.scrollHeight);var lenOfPage=document.body.scrollHeight;return lenOfPage;\")\n",
    "    if lastCount==lenOfPage:\n",
    "        match=True"
   ]
  },
  {
   "cell_type": "code",
   "execution_count": null,
   "id": "f6abfa57",
   "metadata": {},
   "outputs": [],
   "source": [
    "driver.get(\"https://www.imdb.com/chart/top/\")\n"
   ]
  },
  {
   "cell_type": "code",
   "execution_count": 33,
   "id": "d4ca7a83",
   "metadata": {},
   "outputs": [
    {
     "name": "stdout",
     "output_type": "stream",
     "text": [
      "False\n"
     ]
    }
   ],
   "source": [
    "driver = webdriver.Chrome()\n",
    "\n",
    "def scroll_end_page(locator: list, pixcel: str) -> bool:\n",
    "    \"\"\"\n",
    "    :locator: \n",
    "    :\n",
    "    \"\"\"\n",
    "\n",
    "    driver.implicitly_wait(3)\n",
    "    for i in range(10):\n",
    "        \n",
    "        try:\n",
    "            \n",
    "            driver.find_element(locator[0], locator[1])\n",
    "            return True\n",
    "        \n",
    "        except:\n",
    "            driver.execute_script(f'window.scrollBy(0,{str(pixcel)})')\n",
    "            sleep(0.5)\n",
    "    return False\n",
    "\n",
    "\n",
    "driver.get(\"https://www.imdb.com/chart/top/\")\n",
    "print(scroll_end_page([By.XPATH, \"hbubygv ion\"],1800))"
   ]
  },
  {
   "cell_type": "code",
   "execution_count": 34,
   "id": "9f2b0f10",
   "metadata": {},
   "outputs": [],
   "source": [
    "ali = 20"
   ]
  },
  {
   "cell_type": "code",
   "execution_count": 35,
   "id": "d38daf7c",
   "metadata": {},
   "outputs": [],
   "source": [
    "class Person:\n",
    "    ALI = 20"
   ]
  },
  {
   "cell_type": "code",
   "execution_count": 36,
   "id": "e0508a26",
   "metadata": {},
   "outputs": [
    {
     "data": {
      "text/plain": [
       "20"
      ]
     },
     "execution_count": 36,
     "metadata": {},
     "output_type": "execute_result"
    }
   ],
   "source": [
    "ali"
   ]
  },
  {
   "cell_type": "code",
   "execution_count": 37,
   "id": "7a9bc037",
   "metadata": {},
   "outputs": [
    {
     "data": {
      "text/plain": [
       "20"
      ]
     },
     "execution_count": 37,
     "metadata": {},
     "output_type": "execute_result"
    }
   ],
   "source": [
    "Person.ALI"
   ]
  },
  {
   "cell_type": "code",
   "execution_count": null,
   "id": "faa4ba09",
   "metadata": {},
   "outputs": [],
   "source": [
    "'X Path'"
   ]
  },
  {
   "cell_type": "code",
   "execution_count": 41,
   "id": "7442cd66",
   "metadata": {},
   "outputs": [],
   "source": [
    "class By:\n",
    "    XPATH = 'XPojqgjoegobngv'"
   ]
  },
  {
   "cell_type": "code",
   "execution_count": 42,
   "id": "674730d2",
   "metadata": {},
   "outputs": [
    {
     "data": {
      "text/plain": [
       "'XPojqgjoegobngv'"
      ]
     },
     "execution_count": 42,
     "metadata": {},
     "output_type": "execute_result"
    }
   ],
   "source": [
    "By.XPATH"
   ]
  },
  {
   "cell_type": "code",
   "execution_count": null,
   "id": "55d3a55b",
   "metadata": {},
   "outputs": [],
   "source": []
  }
 ],
 "metadata": {
  "kernelspec": {
   "display_name": "Python 3 (ipykernel)",
   "language": "python",
   "name": "python3"
  },
  "language_info": {
   "codemirror_mode": {
    "name": "ipython",
    "version": 3
   },
   "file_extension": ".py",
   "mimetype": "text/x-python",
   "name": "python",
   "nbconvert_exporter": "python",
   "pygments_lexer": "ipython3",
   "version": "3.9.7"
  }
 },
 "nbformat": 4,
 "nbformat_minor": 5
}

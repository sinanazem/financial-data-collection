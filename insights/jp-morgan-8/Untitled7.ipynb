{
 "cells": [
  {
   "cell_type": "markdown",
   "id": "0a4c50f4",
   "metadata": {},
   "source": [
    "# JP Morgan"
   ]
  },
  {
   "cell_type": "code",
   "execution_count": 2,
   "id": "0fefef52",
   "metadata": {},
   "outputs": [],
   "source": [
    "from selenium.webdriver.common.action_chains import ActionChains\n",
    "from time import sleep\n",
    "import selenium\n",
    "from selenium import webdriver\n",
    "from selenium.webdriver.common.by import By\n",
    "from selenium.webdriver.common.keys import Keys\n",
    "from selenium.webdriver.support.ui import WebDriverWait\n",
    "from selenium.webdriver.chrome.options import Options\n",
    "from selenium.webdriver.chrome.service import Service\n",
    "from selenium.webdriver.common.by import By\n",
    "from selenium.webdriver.support import expected_conditions as EC\n",
    "from selenium.common.exceptions import TimeoutException\n",
    "import json\n",
    "import re\n",
    "from pprint import pprint\n",
    "from tqdm import tqdm\n",
    "import pandas as pd\n",
    "import requests\n",
    "from bs4 import BeautifulSoup"
   ]
  },
  {
   "cell_type": "code",
   "execution_count": 13,
   "id": "faa4c17e",
   "metadata": {},
   "outputs": [],
   "source": [
    "driver = webdriver.Chrome()\n",
    "driver.get('https://www.jpmorgan.com/insights')\n",
    "# driver.implicitly_wait(5)\n",
    "\n",
    "\n",
    "# click show more button until no more results to load\n",
    "while True:\n",
    "    try:\n",
    "        wait = WebDriverWait(driver, 20)\n",
    "        more_button = wait.until(EC.visibility_of_element_located((By.XPATH, \"//*[@class='row read-more']//a[@role='button']\")))\n",
    "        ActionChains(driver).move_to_element(more_button).perform()\n",
    "        attempts = 0\n",
    "        while attempts < 2 :\n",
    "            try:\n",
    "                more_button.click()\n",
    "                break\n",
    "            except StaleElementReferenceException as exception:\n",
    "                print(exception.msg)\n",
    "            attempts = attempts  + 1\n",
    "\n",
    "    except TimeoutException:\n",
    "        break\n",
    "\n",
    "sleep(10)\n",
    "link_list_insight = [i.get_attribute('href') for i in driver.find_elements(By.XPATH, '//*[@class=\"item\"]/a')]\n",
    "# print(driver.page_source)\n",
    "# print(\"Complete\")\n",
    "\n",
    "sleep(10)"
   ]
  },
  {
   "cell_type": "code",
   "execution_count": 14,
   "id": "e3a59e71",
   "metadata": {},
   "outputs": [
    {
     "data": {
      "text/plain": [
       "36"
      ]
     },
     "execution_count": 14,
     "metadata": {},
     "output_type": "execute_result"
    }
   ],
   "source": [
    "len(link_list_insight)"
   ]
  },
  {
   "cell_type": "code",
   "execution_count": null,
   "id": "c8d2e738",
   "metadata": {},
   "outputs": [],
   "source": [
    "driver = webdriver.Chrome()\n",
    "driver.get('https://www.jpmorgan.com/insights')\n",
    "driver.implicitly_wait(60)\n",
    "\n",
    "while True:\n",
    "\n",
    "    try:\n",
    "        show_more_button = driver.find_element(By.CSS_SELECTOR, '.fa-chevron-down')    \n",
    "        driver.execute_script(\"arguments[0].click();\", show_more_button)\n",
    "        sleep(5)\n",
    "\n",
    "    except: \n",
    "        break\n",
    "\n",
    "link_list_insight = [i.get_attribute('href') for i in driver.find_elements(By.XPATH, '//*[@class=\"item\"]/a')]"
   ]
  },
  {
   "cell_type": "code",
   "execution_count": 6,
   "id": "d6aadc43",
   "metadata": {},
   "outputs": [
    {
     "data": {
      "text/plain": [
       "228"
      ]
     },
     "execution_count": 6,
     "metadata": {},
     "output_type": "execute_result"
    }
   ],
   "source": [
    "len(link_list_insight)"
   ]
  },
  {
   "cell_type": "code",
   "execution_count": null,
   "id": "eda41492",
   "metadata": {},
   "outputs": [],
   "source": []
  }
 ],
 "metadata": {
  "kernelspec": {
   "display_name": "Python 3 (ipykernel)",
   "language": "python",
   "name": "python3"
  },
  "language_info": {
   "codemirror_mode": {
    "name": "ipython",
    "version": 3
   },
   "file_extension": ".py",
   "mimetype": "text/x-python",
   "name": "python",
   "nbconvert_exporter": "python",
   "pygments_lexer": "ipython3",
   "version": "3.9.7"
  }
 },
 "nbformat": 4,
 "nbformat_minor": 5
}

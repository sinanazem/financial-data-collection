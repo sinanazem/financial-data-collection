{
 "cells": [
  {
   "cell_type": "markdown",
   "id": "b731d005",
   "metadata": {},
   "source": [
    "<img src='https://financialit.net/sites/default/files/ubs-1000x562.png' width=450>"
   ]
  },
  {
   "cell_type": "code",
   "execution_count": 3,
   "id": "c36463ad",
   "metadata": {},
   "outputs": [],
   "source": [
    "from selenium.webdriver.common.action_chains import ActionChains\n",
    "from time import sleep\n",
    "import selenium\n",
    "from selenium import webdriver\n",
    "from selenium.webdriver.common.by import By\n",
    "from selenium.webdriver.common.keys import Keys\n",
    "\n",
    "from selenium.webdriver.support.ui import WebDriverWait\n",
    "from selenium.webdriver.common.by import By\n",
    "from selenium.webdriver.support import expected_conditions as EC\n",
    "import json\n",
    "from pprint import pprint\n",
    "from tqdm import tqdm\n",
    "import pandas as pd"
   ]
  },
  {
   "cell_type": "code",
   "execution_count": 4,
   "id": "88900249",
   "metadata": {},
   "outputs": [
    {
     "ename": "SessionNotCreatedException",
     "evalue": "Message: session not created: This version of ChromeDriver only supports Chrome version 103\nCurrent browser version is 105.0.5195.102 with binary path C:\\Program Files\\Google\\Chrome\\Application\\chrome.exe\nStacktrace:\nBacktrace:\n\tOrdinal0 [0x006B6463+2188387]\n\tOrdinal0 [0x0064E461+1762401]\n\tOrdinal0 [0x00563D78+802168]\n\tOrdinal0 [0x00584E59+937561]\n\tOrdinal0 [0x00580A6C+920172]\n\tOrdinal0 [0x0057E331+910129]\n\tOrdinal0 [0x005B1430+1119280]\n\tOrdinal0 [0x005B108A+1118346]\n\tOrdinal0 [0x005AC5F6+1099254]\n\tOrdinal0 [0x00586BE0+945120]\n\tOrdinal0 [0x00587AD6+948950]\n\tGetHandleVerifier [0x009571F2+2712546]\n\tGetHandleVerifier [0x0094886D+2652765]\n\tGetHandleVerifier [0x0074002A+520730]\n\tGetHandleVerifier [0x0073EE06+516086]\n\tOrdinal0 [0x0065468B+1787531]\n\tOrdinal0 [0x00658E88+1805960]\n\tOrdinal0 [0x00658F75+1806197]\n\tOrdinal0 [0x00661DF1+1842673]\n\tBaseThreadInitThunk [0x76206739+25]\n\tRtlGetFullPathName_UEx [0x773B90AF+1215]\n\tRtlGetFullPathName_UEx [0x773B907D+1165]\n",
     "output_type": "error",
     "traceback": [
      "\u001b[1;31m---------------------------------------------------------------------------\u001b[0m",
      "\u001b[1;31mSessionNotCreatedException\u001b[0m                Traceback (most recent call last)",
      "\u001b[1;32m~\\AppData\\Local\\Temp/ipykernel_2676/746249040.py\u001b[0m in \u001b[0;36m<module>\u001b[1;34m\u001b[0m\n\u001b[1;32m----> 1\u001b[1;33m \u001b[0mdriver\u001b[0m \u001b[1;33m=\u001b[0m \u001b[0mwebdriver\u001b[0m\u001b[1;33m.\u001b[0m\u001b[0mChrome\u001b[0m\u001b[1;33m(\u001b[0m\u001b[1;33m)\u001b[0m\u001b[1;33m\u001b[0m\u001b[1;33m\u001b[0m\u001b[0m\n\u001b[0m\u001b[0;32m      2\u001b[0m \u001b[0mdriver\u001b[0m\u001b[1;33m.\u001b[0m\u001b[0mget\u001b[0m\u001b[1;33m(\u001b[0m\u001b[1;34m'https://www.ubs.com/global/en/wealth-management/insights.html#insights'\u001b[0m\u001b[1;33m)\u001b[0m\u001b[1;33m\u001b[0m\u001b[1;33m\u001b[0m\u001b[0m\n\u001b[0;32m      3\u001b[0m \u001b[0msleep\u001b[0m\u001b[1;33m(\u001b[0m\u001b[1;36m10\u001b[0m\u001b[1;33m)\u001b[0m\u001b[1;33m\u001b[0m\u001b[1;33m\u001b[0m\u001b[0m\n\u001b[0;32m      4\u001b[0m \u001b[1;31m# button = driver.find_element(By.XPATH,'//*[@id=\"main\"]/div/div[2]/div[2]/div[1]/div[1]/div[2]/div/div[4]/section/div')\u001b[0m\u001b[1;33m\u001b[0m\u001b[1;33m\u001b[0m\u001b[0m\n\u001b[0;32m      5\u001b[0m \u001b[1;31m# button.click()\u001b[0m\u001b[1;33m\u001b[0m\u001b[1;33m\u001b[0m\u001b[0m\n",
      "\u001b[1;32m~\\anaconda3\\lib\\site-packages\\selenium\\webdriver\\chrome\\webdriver.py\u001b[0m in \u001b[0;36m__init__\u001b[1;34m(self, executable_path, port, options, service_args, desired_capabilities, service_log_path, chrome_options, service, keep_alive)\u001b[0m\n\u001b[0;32m     67\u001b[0m             \u001b[0mservice\u001b[0m \u001b[1;33m=\u001b[0m \u001b[0mService\u001b[0m\u001b[1;33m(\u001b[0m\u001b[0mexecutable_path\u001b[0m\u001b[1;33m,\u001b[0m \u001b[0mport\u001b[0m\u001b[1;33m,\u001b[0m \u001b[0mservice_args\u001b[0m\u001b[1;33m,\u001b[0m \u001b[0mservice_log_path\u001b[0m\u001b[1;33m)\u001b[0m\u001b[1;33m\u001b[0m\u001b[1;33m\u001b[0m\u001b[0m\n\u001b[0;32m     68\u001b[0m \u001b[1;33m\u001b[0m\u001b[0m\n\u001b[1;32m---> 69\u001b[1;33m         super().__init__(DesiredCapabilities.CHROME['browserName'], \"goog\",\n\u001b[0m\u001b[0;32m     70\u001b[0m                          \u001b[0mport\u001b[0m\u001b[1;33m,\u001b[0m \u001b[0moptions\u001b[0m\u001b[1;33m,\u001b[0m\u001b[1;33m\u001b[0m\u001b[1;33m\u001b[0m\u001b[0m\n\u001b[0;32m     71\u001b[0m                          \u001b[0mservice_args\u001b[0m\u001b[1;33m,\u001b[0m \u001b[0mdesired_capabilities\u001b[0m\u001b[1;33m,\u001b[0m\u001b[1;33m\u001b[0m\u001b[1;33m\u001b[0m\u001b[0m\n",
      "\u001b[1;32m~\\anaconda3\\lib\\site-packages\\selenium\\webdriver\\chromium\\webdriver.py\u001b[0m in \u001b[0;36m__init__\u001b[1;34m(self, browser_name, vendor_prefix, port, options, service_args, desired_capabilities, service_log_path, service, keep_alive)\u001b[0m\n\u001b[0;32m     90\u001b[0m \u001b[1;33m\u001b[0m\u001b[0m\n\u001b[0;32m     91\u001b[0m         \u001b[1;32mtry\u001b[0m\u001b[1;33m:\u001b[0m\u001b[1;33m\u001b[0m\u001b[1;33m\u001b[0m\u001b[0m\n\u001b[1;32m---> 92\u001b[1;33m             super().__init__(\n\u001b[0m\u001b[0;32m     93\u001b[0m                 command_executor=ChromiumRemoteConnection(\n\u001b[0;32m     94\u001b[0m                     \u001b[0mremote_server_addr\u001b[0m\u001b[1;33m=\u001b[0m\u001b[0mself\u001b[0m\u001b[1;33m.\u001b[0m\u001b[0mservice\u001b[0m\u001b[1;33m.\u001b[0m\u001b[0mservice_url\u001b[0m\u001b[1;33m,\u001b[0m\u001b[1;33m\u001b[0m\u001b[1;33m\u001b[0m\u001b[0m\n",
      "\u001b[1;32m~\\anaconda3\\lib\\site-packages\\selenium\\webdriver\\remote\\webdriver.py\u001b[0m in \u001b[0;36m__init__\u001b[1;34m(self, command_executor, desired_capabilities, browser_profile, proxy, keep_alive, file_detector, options)\u001b[0m\n\u001b[0;32m    275\u001b[0m         \u001b[0mself\u001b[0m\u001b[1;33m.\u001b[0m\u001b[0m_authenticator_id\u001b[0m \u001b[1;33m=\u001b[0m \u001b[1;32mNone\u001b[0m\u001b[1;33m\u001b[0m\u001b[1;33m\u001b[0m\u001b[0m\n\u001b[0;32m    276\u001b[0m         \u001b[0mself\u001b[0m\u001b[1;33m.\u001b[0m\u001b[0mstart_client\u001b[0m\u001b[1;33m(\u001b[0m\u001b[1;33m)\u001b[0m\u001b[1;33m\u001b[0m\u001b[1;33m\u001b[0m\u001b[0m\n\u001b[1;32m--> 277\u001b[1;33m         \u001b[0mself\u001b[0m\u001b[1;33m.\u001b[0m\u001b[0mstart_session\u001b[0m\u001b[1;33m(\u001b[0m\u001b[0mcapabilities\u001b[0m\u001b[1;33m,\u001b[0m \u001b[0mbrowser_profile\u001b[0m\u001b[1;33m)\u001b[0m\u001b[1;33m\u001b[0m\u001b[1;33m\u001b[0m\u001b[0m\n\u001b[0m\u001b[0;32m    278\u001b[0m \u001b[1;33m\u001b[0m\u001b[0m\n\u001b[0;32m    279\u001b[0m     \u001b[1;32mdef\u001b[0m \u001b[0m__repr__\u001b[0m\u001b[1;33m(\u001b[0m\u001b[0mself\u001b[0m\u001b[1;33m)\u001b[0m\u001b[1;33m:\u001b[0m\u001b[1;33m\u001b[0m\u001b[1;33m\u001b[0m\u001b[0m\n",
      "\u001b[1;32m~\\anaconda3\\lib\\site-packages\\selenium\\webdriver\\remote\\webdriver.py\u001b[0m in \u001b[0;36mstart_session\u001b[1;34m(self, capabilities, browser_profile)\u001b[0m\n\u001b[0;32m    368\u001b[0m         \u001b[0mw3c_caps\u001b[0m \u001b[1;33m=\u001b[0m \u001b[0m_make_w3c_caps\u001b[0m\u001b[1;33m(\u001b[0m\u001b[0mcapabilities\u001b[0m\u001b[1;33m)\u001b[0m\u001b[1;33m\u001b[0m\u001b[1;33m\u001b[0m\u001b[0m\n\u001b[0;32m    369\u001b[0m         \u001b[0mparameters\u001b[0m \u001b[1;33m=\u001b[0m \u001b[1;33m{\u001b[0m\u001b[1;34m\"capabilities\"\u001b[0m\u001b[1;33m:\u001b[0m \u001b[0mw3c_caps\u001b[0m\u001b[1;33m}\u001b[0m\u001b[1;33m\u001b[0m\u001b[1;33m\u001b[0m\u001b[0m\n\u001b[1;32m--> 370\u001b[1;33m         \u001b[0mresponse\u001b[0m \u001b[1;33m=\u001b[0m \u001b[0mself\u001b[0m\u001b[1;33m.\u001b[0m\u001b[0mexecute\u001b[0m\u001b[1;33m(\u001b[0m\u001b[0mCommand\u001b[0m\u001b[1;33m.\u001b[0m\u001b[0mNEW_SESSION\u001b[0m\u001b[1;33m,\u001b[0m \u001b[0mparameters\u001b[0m\u001b[1;33m)\u001b[0m\u001b[1;33m\u001b[0m\u001b[1;33m\u001b[0m\u001b[0m\n\u001b[0m\u001b[0;32m    371\u001b[0m         \u001b[1;32mif\u001b[0m \u001b[1;34m'sessionId'\u001b[0m \u001b[1;32mnot\u001b[0m \u001b[1;32min\u001b[0m \u001b[0mresponse\u001b[0m\u001b[1;33m:\u001b[0m\u001b[1;33m\u001b[0m\u001b[1;33m\u001b[0m\u001b[0m\n\u001b[0;32m    372\u001b[0m             \u001b[0mresponse\u001b[0m \u001b[1;33m=\u001b[0m \u001b[0mresponse\u001b[0m\u001b[1;33m[\u001b[0m\u001b[1;34m'value'\u001b[0m\u001b[1;33m]\u001b[0m\u001b[1;33m\u001b[0m\u001b[1;33m\u001b[0m\u001b[0m\n",
      "\u001b[1;32m~\\anaconda3\\lib\\site-packages\\selenium\\webdriver\\remote\\webdriver.py\u001b[0m in \u001b[0;36mexecute\u001b[1;34m(self, driver_command, params)\u001b[0m\n\u001b[0;32m    433\u001b[0m         \u001b[0mresponse\u001b[0m \u001b[1;33m=\u001b[0m \u001b[0mself\u001b[0m\u001b[1;33m.\u001b[0m\u001b[0mcommand_executor\u001b[0m\u001b[1;33m.\u001b[0m\u001b[0mexecute\u001b[0m\u001b[1;33m(\u001b[0m\u001b[0mdriver_command\u001b[0m\u001b[1;33m,\u001b[0m \u001b[0mparams\u001b[0m\u001b[1;33m)\u001b[0m\u001b[1;33m\u001b[0m\u001b[1;33m\u001b[0m\u001b[0m\n\u001b[0;32m    434\u001b[0m         \u001b[1;32mif\u001b[0m \u001b[0mresponse\u001b[0m\u001b[1;33m:\u001b[0m\u001b[1;33m\u001b[0m\u001b[1;33m\u001b[0m\u001b[0m\n\u001b[1;32m--> 435\u001b[1;33m             \u001b[0mself\u001b[0m\u001b[1;33m.\u001b[0m\u001b[0merror_handler\u001b[0m\u001b[1;33m.\u001b[0m\u001b[0mcheck_response\u001b[0m\u001b[1;33m(\u001b[0m\u001b[0mresponse\u001b[0m\u001b[1;33m)\u001b[0m\u001b[1;33m\u001b[0m\u001b[1;33m\u001b[0m\u001b[0m\n\u001b[0m\u001b[0;32m    436\u001b[0m             response['value'] = self._unwrap_value(\n\u001b[0;32m    437\u001b[0m                 response.get('value', None))\n",
      "\u001b[1;32m~\\anaconda3\\lib\\site-packages\\selenium\\webdriver\\remote\\errorhandler.py\u001b[0m in \u001b[0;36mcheck_response\u001b[1;34m(self, response)\u001b[0m\n\u001b[0;32m    245\u001b[0m                 \u001b[0malert_text\u001b[0m \u001b[1;33m=\u001b[0m \u001b[0mvalue\u001b[0m\u001b[1;33m[\u001b[0m\u001b[1;34m'alert'\u001b[0m\u001b[1;33m]\u001b[0m\u001b[1;33m.\u001b[0m\u001b[0mget\u001b[0m\u001b[1;33m(\u001b[0m\u001b[1;34m'text'\u001b[0m\u001b[1;33m)\u001b[0m\u001b[1;33m\u001b[0m\u001b[1;33m\u001b[0m\u001b[0m\n\u001b[0;32m    246\u001b[0m             \u001b[1;32mraise\u001b[0m \u001b[0mexception_class\u001b[0m\u001b[1;33m(\u001b[0m\u001b[0mmessage\u001b[0m\u001b[1;33m,\u001b[0m \u001b[0mscreen\u001b[0m\u001b[1;33m,\u001b[0m \u001b[0mstacktrace\u001b[0m\u001b[1;33m,\u001b[0m \u001b[0malert_text\u001b[0m\u001b[1;33m)\u001b[0m  \u001b[1;31m# type: ignore[call-arg]  # mypy is not smart enough here\u001b[0m\u001b[1;33m\u001b[0m\u001b[1;33m\u001b[0m\u001b[0m\n\u001b[1;32m--> 247\u001b[1;33m         \u001b[1;32mraise\u001b[0m \u001b[0mexception_class\u001b[0m\u001b[1;33m(\u001b[0m\u001b[0mmessage\u001b[0m\u001b[1;33m,\u001b[0m \u001b[0mscreen\u001b[0m\u001b[1;33m,\u001b[0m \u001b[0mstacktrace\u001b[0m\u001b[1;33m)\u001b[0m\u001b[1;33m\u001b[0m\u001b[1;33m\u001b[0m\u001b[0m\n\u001b[0m\u001b[0;32m    248\u001b[0m \u001b[1;33m\u001b[0m\u001b[0m\n\u001b[0;32m    249\u001b[0m     \u001b[1;32mdef\u001b[0m \u001b[0m_value_or_default\u001b[0m\u001b[1;33m(\u001b[0m\u001b[0mself\u001b[0m\u001b[1;33m,\u001b[0m \u001b[0mobj\u001b[0m\u001b[1;33m:\u001b[0m \u001b[0mMapping\u001b[0m\u001b[1;33m[\u001b[0m\u001b[0m_KT\u001b[0m\u001b[1;33m,\u001b[0m \u001b[0m_VT\u001b[0m\u001b[1;33m]\u001b[0m\u001b[1;33m,\u001b[0m \u001b[0mkey\u001b[0m\u001b[1;33m:\u001b[0m \u001b[0m_KT\u001b[0m\u001b[1;33m,\u001b[0m \u001b[0mdefault\u001b[0m\u001b[1;33m:\u001b[0m \u001b[0m_VT\u001b[0m\u001b[1;33m)\u001b[0m \u001b[1;33m->\u001b[0m \u001b[0m_VT\u001b[0m\u001b[1;33m:\u001b[0m\u001b[1;33m\u001b[0m\u001b[1;33m\u001b[0m\u001b[0m\n",
      "\u001b[1;31mSessionNotCreatedException\u001b[0m: Message: session not created: This version of ChromeDriver only supports Chrome version 103\nCurrent browser version is 105.0.5195.102 with binary path C:\\Program Files\\Google\\Chrome\\Application\\chrome.exe\nStacktrace:\nBacktrace:\n\tOrdinal0 [0x006B6463+2188387]\n\tOrdinal0 [0x0064E461+1762401]\n\tOrdinal0 [0x00563D78+802168]\n\tOrdinal0 [0x00584E59+937561]\n\tOrdinal0 [0x00580A6C+920172]\n\tOrdinal0 [0x0057E331+910129]\n\tOrdinal0 [0x005B1430+1119280]\n\tOrdinal0 [0x005B108A+1118346]\n\tOrdinal0 [0x005AC5F6+1099254]\n\tOrdinal0 [0x00586BE0+945120]\n\tOrdinal0 [0x00587AD6+948950]\n\tGetHandleVerifier [0x009571F2+2712546]\n\tGetHandleVerifier [0x0094886D+2652765]\n\tGetHandleVerifier [0x0074002A+520730]\n\tGetHandleVerifier [0x0073EE06+516086]\n\tOrdinal0 [0x0065468B+1787531]\n\tOrdinal0 [0x00658E88+1805960]\n\tOrdinal0 [0x00658F75+1806197]\n\tOrdinal0 [0x00661DF1+1842673]\n\tBaseThreadInitThunk [0x76206739+25]\n\tRtlGetFullPathName_UEx [0x773B90AF+1215]\n\tRtlGetFullPathName_UEx [0x773B907D+1165]\n"
     ]
    }
   ],
   "source": [
    "driver = webdriver.Chrome()\n",
    "driver.get('https://www.ubs.com/global/en/wealth-management/insights.html#insights')\n",
    "sleep(10)\n",
    "# button = driver.find_element(By.XPATH,'//*[@id=\"main\"]/div/div[2]/div[2]/div[1]/div[1]/div[2]/div/div[4]/section/div')\n",
    "# button.click()\n",
    "\n",
    "# button = WebDriverWait(driver, 20).until(EC.element_to_be_clickable((By.XPATH, '//*[@id=\"main\"]/div/div[2]/div[2]/div[1]/div[1]/div[2]/div/div[4]/section/div')))\n",
    "# driver.refresh()\n",
    "# driver.execute_script(\"arguments[0].click();\", button)\n",
    "# button.click()\n",
    "# sleep(10)\n",
    "# elem = driver.find_element(By.ID,'onetrust-reject-all-handler')\n",
    "\n",
    "# element = driver.find_element(By.CSS_SELECTOR,'#doc > div > div > div.privacysettings__bannerButton > button')\n",
    "# webdriver.ActionChains(driver).move_to_element(element ).click(element ).perform()\n",
    "# for i in range(6):\n",
    "#     element2 = driver.find_element(By.CSS_SELECTOR,'#main > div > div:nth-child(2) > div.grid-container.gridcontrol2__gridContainer.gridcontrol2__gridContainer--vertical-spacing-standard > div:nth-child(1) > div.gridcontrol2__cell.grid-cell.grid-cell--l2 > div.basecomponent.basecomponent__base.sdactivitystream.sdactivitystream__base > div > div.js-showmore-wrapper > section > div > button')\n",
    "#     webdriver.ActionChains(driver).move_to_element(element2 ).click(element2 ).perform()\n",
    "\n",
    "\n",
    "input('exit?')\n",
    "driver.quit()"
   ]
  },
  {
   "cell_type": "code",
   "execution_count": 16,
   "id": "b0b7e755",
   "metadata": {},
   "outputs": [
    {
     "ename": "StaleElementReferenceException",
     "evalue": "Message: stale element reference: element is not attached to the page document\n  (Session info: chrome=104.0.5112.81)\nStacktrace:\nBacktrace:\n\tOrdinal0 [0x00D46463+2188387]\n\tOrdinal0 [0x00CDE461+1762401]\n\tOrdinal0 [0x00BF3D78+802168]\n\tOrdinal0 [0x00BF6754+812884]\n\tOrdinal0 [0x00BF6612+812562]\n\tOrdinal0 [0x00BF68A0+813216]\n\tOrdinal0 [0x00C273EE+1012718]\n\tOrdinal0 [0x00C26A5A+1010266]\n\tOrdinal0 [0x00C53E23+1195555]\n\tOrdinal0 [0x00C3C7DC+1099740]\n\tOrdinal0 [0x00C4CC22+1166370]\n\tOrdinal0 [0x00C3C5F6+1099254]\n\tOrdinal0 [0x00C16BE0+945120]\n\tOrdinal0 [0x00C17AD6+948950]\n\tGetHandleVerifier [0x00FE71F2+2712546]\n\tGetHandleVerifier [0x00FD886D+2652765]\n\tGetHandleVerifier [0x00DD002A+520730]\n\tGetHandleVerifier [0x00DCEE06+516086]\n\tOrdinal0 [0x00CE468B+1787531]\n\tOrdinal0 [0x00CE8E88+1805960]\n\tOrdinal0 [0x00CE8F75+1806197]\n\tOrdinal0 [0x00CF1DF1+1842673]\n\tBaseThreadInitThunk [0x76206739+25]\n\tRtlGetFullPathName_UEx [0x773B90AF+1215]\n\tRtlGetFullPathName_UEx [0x773B907D+1165]\n",
     "output_type": "error",
     "traceback": [
      "\u001b[1;31m---------------------------------------------------------------------------\u001b[0m",
      "\u001b[1;31mStaleElementReferenceException\u001b[0m            Traceback (most recent call last)",
      "\u001b[1;32m~\\AppData\\Local\\Temp/ipykernel_26584/232806882.py\u001b[0m in \u001b[0;36m<module>\u001b[1;34m\u001b[0m\n\u001b[0;32m     29\u001b[0m \u001b[0melement4\u001b[0m \u001b[1;33m=\u001b[0m \u001b[0mWebDriverWait\u001b[0m\u001b[1;33m(\u001b[0m\u001b[0mdriver\u001b[0m\u001b[1;33m,\u001b[0m \u001b[1;36m20\u001b[0m\u001b[1;33m,\u001b[0m\u001b[0mignored_exceptions\u001b[0m\u001b[1;33m=\u001b[0m\u001b[0mignored_exceptions\u001b[0m\u001b[1;33m)\u001b[0m\u001b[0;31m\\\u001b[0m\u001b[1;33m\u001b[0m\u001b[1;33m\u001b[0m\u001b[0m\n\u001b[0;32m     30\u001b[0m                         \u001b[1;33m.\u001b[0m\u001b[0muntil\u001b[0m\u001b[1;33m(\u001b[0m\u001b[0mexpected_conditions\u001b[0m\u001b[1;33m.\u001b[0m\u001b[0mpresence_of_element_located\u001b[0m\u001b[1;33m(\u001b[0m\u001b[1;33m(\u001b[0m\u001b[0mBy\u001b[0m\u001b[1;33m.\u001b[0m\u001b[0mCSS_SELECTOR\u001b[0m\u001b[1;33m,\u001b[0m \u001b[0mmy_element_css_4\u001b[0m\u001b[1;33m)\u001b[0m\u001b[1;33m)\u001b[0m\u001b[1;33m)\u001b[0m\u001b[1;33m\u001b[0m\u001b[1;33m\u001b[0m\u001b[0m\n\u001b[1;32m---> 31\u001b[1;33m \u001b[0mwebdriver\u001b[0m\u001b[1;33m.\u001b[0m\u001b[0mActionChains\u001b[0m\u001b[1;33m(\u001b[0m\u001b[0mdriver\u001b[0m\u001b[1;33m)\u001b[0m\u001b[1;33m.\u001b[0m\u001b[0mmove_to_element\u001b[0m\u001b[1;33m(\u001b[0m\u001b[0melement4\u001b[0m\u001b[1;33m)\u001b[0m\u001b[1;33m.\u001b[0m\u001b[0mclick\u001b[0m\u001b[1;33m(\u001b[0m\u001b[0melement4\u001b[0m\u001b[1;33m)\u001b[0m\u001b[1;33m.\u001b[0m\u001b[0mperform\u001b[0m\u001b[1;33m(\u001b[0m\u001b[1;33m)\u001b[0m\u001b[1;33m\u001b[0m\u001b[1;33m\u001b[0m\u001b[0m\n\u001b[0m\u001b[0;32m     32\u001b[0m \u001b[1;33m\u001b[0m\u001b[0m\n\u001b[0;32m     33\u001b[0m \u001b[1;33m\u001b[0m\u001b[0m\n",
      "\u001b[1;32m~\\anaconda3\\lib\\site-packages\\selenium\\webdriver\\common\\action_chains.py\u001b[0m in \u001b[0;36mperform\u001b[1;34m(self)\u001b[0m\n\u001b[0;32m     76\u001b[0m         \u001b[0mPerforms\u001b[0m \u001b[0mall\u001b[0m \u001b[0mstored\u001b[0m \u001b[0mactions\u001b[0m\u001b[1;33m.\u001b[0m\u001b[1;33m\u001b[0m\u001b[1;33m\u001b[0m\u001b[0m\n\u001b[0;32m     77\u001b[0m         \"\"\"\n\u001b[1;32m---> 78\u001b[1;33m         \u001b[0mself\u001b[0m\u001b[1;33m.\u001b[0m\u001b[0mw3c_actions\u001b[0m\u001b[1;33m.\u001b[0m\u001b[0mperform\u001b[0m\u001b[1;33m(\u001b[0m\u001b[1;33m)\u001b[0m\u001b[1;33m\u001b[0m\u001b[1;33m\u001b[0m\u001b[0m\n\u001b[0m\u001b[0;32m     79\u001b[0m \u001b[1;33m\u001b[0m\u001b[0m\n\u001b[0;32m     80\u001b[0m     \u001b[1;32mdef\u001b[0m \u001b[0mreset_actions\u001b[0m\u001b[1;33m(\u001b[0m\u001b[0mself\u001b[0m\u001b[1;33m)\u001b[0m\u001b[1;33m:\u001b[0m\u001b[1;33m\u001b[0m\u001b[1;33m\u001b[0m\u001b[0m\n",
      "\u001b[1;32m~\\anaconda3\\lib\\site-packages\\selenium\\webdriver\\common\\actions\\action_builder.py\u001b[0m in \u001b[0;36mperform\u001b[1;34m(self)\u001b[0m\n\u001b[0;32m     86\u001b[0m                 \u001b[0menc\u001b[0m\u001b[1;33m[\u001b[0m\u001b[1;34m\"actions\"\u001b[0m\u001b[1;33m]\u001b[0m\u001b[1;33m.\u001b[0m\u001b[0mappend\u001b[0m\u001b[1;33m(\u001b[0m\u001b[0mencoded\u001b[0m\u001b[1;33m)\u001b[0m\u001b[1;33m\u001b[0m\u001b[1;33m\u001b[0m\u001b[0m\n\u001b[0;32m     87\u001b[0m                 \u001b[0mdevice\u001b[0m\u001b[1;33m.\u001b[0m\u001b[0mactions\u001b[0m \u001b[1;33m=\u001b[0m \u001b[1;33m[\u001b[0m\u001b[1;33m]\u001b[0m\u001b[1;33m\u001b[0m\u001b[1;33m\u001b[0m\u001b[0m\n\u001b[1;32m---> 88\u001b[1;33m         \u001b[0mself\u001b[0m\u001b[1;33m.\u001b[0m\u001b[0mdriver\u001b[0m\u001b[1;33m.\u001b[0m\u001b[0mexecute\u001b[0m\u001b[1;33m(\u001b[0m\u001b[0mCommand\u001b[0m\u001b[1;33m.\u001b[0m\u001b[0mW3C_ACTIONS\u001b[0m\u001b[1;33m,\u001b[0m \u001b[0menc\u001b[0m\u001b[1;33m)\u001b[0m\u001b[1;33m\u001b[0m\u001b[1;33m\u001b[0m\u001b[0m\n\u001b[0m\u001b[0;32m     89\u001b[0m \u001b[1;33m\u001b[0m\u001b[0m\n\u001b[0;32m     90\u001b[0m     \u001b[1;32mdef\u001b[0m \u001b[0mclear_actions\u001b[0m\u001b[1;33m(\u001b[0m\u001b[0mself\u001b[0m\u001b[1;33m)\u001b[0m \u001b[1;33m->\u001b[0m \u001b[1;32mNone\u001b[0m\u001b[1;33m:\u001b[0m\u001b[1;33m\u001b[0m\u001b[1;33m\u001b[0m\u001b[0m\n",
      "\u001b[1;32m~\\anaconda3\\lib\\site-packages\\selenium\\webdriver\\remote\\webdriver.py\u001b[0m in \u001b[0;36mexecute\u001b[1;34m(self, driver_command, params)\u001b[0m\n\u001b[0;32m    433\u001b[0m         \u001b[0mresponse\u001b[0m \u001b[1;33m=\u001b[0m \u001b[0mself\u001b[0m\u001b[1;33m.\u001b[0m\u001b[0mcommand_executor\u001b[0m\u001b[1;33m.\u001b[0m\u001b[0mexecute\u001b[0m\u001b[1;33m(\u001b[0m\u001b[0mdriver_command\u001b[0m\u001b[1;33m,\u001b[0m \u001b[0mparams\u001b[0m\u001b[1;33m)\u001b[0m\u001b[1;33m\u001b[0m\u001b[1;33m\u001b[0m\u001b[0m\n\u001b[0;32m    434\u001b[0m         \u001b[1;32mif\u001b[0m \u001b[0mresponse\u001b[0m\u001b[1;33m:\u001b[0m\u001b[1;33m\u001b[0m\u001b[1;33m\u001b[0m\u001b[0m\n\u001b[1;32m--> 435\u001b[1;33m             \u001b[0mself\u001b[0m\u001b[1;33m.\u001b[0m\u001b[0merror_handler\u001b[0m\u001b[1;33m.\u001b[0m\u001b[0mcheck_response\u001b[0m\u001b[1;33m(\u001b[0m\u001b[0mresponse\u001b[0m\u001b[1;33m)\u001b[0m\u001b[1;33m\u001b[0m\u001b[1;33m\u001b[0m\u001b[0m\n\u001b[0m\u001b[0;32m    436\u001b[0m             response['value'] = self._unwrap_value(\n\u001b[0;32m    437\u001b[0m                 response.get('value', None))\n",
      "\u001b[1;32m~\\anaconda3\\lib\\site-packages\\selenium\\webdriver\\remote\\errorhandler.py\u001b[0m in \u001b[0;36mcheck_response\u001b[1;34m(self, response)\u001b[0m\n\u001b[0;32m    245\u001b[0m                 \u001b[0malert_text\u001b[0m \u001b[1;33m=\u001b[0m \u001b[0mvalue\u001b[0m\u001b[1;33m[\u001b[0m\u001b[1;34m'alert'\u001b[0m\u001b[1;33m]\u001b[0m\u001b[1;33m.\u001b[0m\u001b[0mget\u001b[0m\u001b[1;33m(\u001b[0m\u001b[1;34m'text'\u001b[0m\u001b[1;33m)\u001b[0m\u001b[1;33m\u001b[0m\u001b[1;33m\u001b[0m\u001b[0m\n\u001b[0;32m    246\u001b[0m             \u001b[1;32mraise\u001b[0m \u001b[0mexception_class\u001b[0m\u001b[1;33m(\u001b[0m\u001b[0mmessage\u001b[0m\u001b[1;33m,\u001b[0m \u001b[0mscreen\u001b[0m\u001b[1;33m,\u001b[0m \u001b[0mstacktrace\u001b[0m\u001b[1;33m,\u001b[0m \u001b[0malert_text\u001b[0m\u001b[1;33m)\u001b[0m  \u001b[1;31m# type: ignore[call-arg]  # mypy is not smart enough here\u001b[0m\u001b[1;33m\u001b[0m\u001b[1;33m\u001b[0m\u001b[0m\n\u001b[1;32m--> 247\u001b[1;33m         \u001b[1;32mraise\u001b[0m \u001b[0mexception_class\u001b[0m\u001b[1;33m(\u001b[0m\u001b[0mmessage\u001b[0m\u001b[1;33m,\u001b[0m \u001b[0mscreen\u001b[0m\u001b[1;33m,\u001b[0m \u001b[0mstacktrace\u001b[0m\u001b[1;33m)\u001b[0m\u001b[1;33m\u001b[0m\u001b[1;33m\u001b[0m\u001b[0m\n\u001b[0m\u001b[0;32m    248\u001b[0m \u001b[1;33m\u001b[0m\u001b[0m\n\u001b[0;32m    249\u001b[0m     \u001b[1;32mdef\u001b[0m \u001b[0m_value_or_default\u001b[0m\u001b[1;33m(\u001b[0m\u001b[0mself\u001b[0m\u001b[1;33m,\u001b[0m \u001b[0mobj\u001b[0m\u001b[1;33m:\u001b[0m \u001b[0mMapping\u001b[0m\u001b[1;33m[\u001b[0m\u001b[0m_KT\u001b[0m\u001b[1;33m,\u001b[0m \u001b[0m_VT\u001b[0m\u001b[1;33m]\u001b[0m\u001b[1;33m,\u001b[0m \u001b[0mkey\u001b[0m\u001b[1;33m:\u001b[0m \u001b[0m_KT\u001b[0m\u001b[1;33m,\u001b[0m \u001b[0mdefault\u001b[0m\u001b[1;33m:\u001b[0m \u001b[0m_VT\u001b[0m\u001b[1;33m)\u001b[0m \u001b[1;33m->\u001b[0m \u001b[0m_VT\u001b[0m\u001b[1;33m:\u001b[0m\u001b[1;33m\u001b[0m\u001b[1;33m\u001b[0m\u001b[0m\n",
      "\u001b[1;31mStaleElementReferenceException\u001b[0m: Message: stale element reference: element is not attached to the page document\n  (Session info: chrome=104.0.5112.81)\nStacktrace:\nBacktrace:\n\tOrdinal0 [0x00D46463+2188387]\n\tOrdinal0 [0x00CDE461+1762401]\n\tOrdinal0 [0x00BF3D78+802168]\n\tOrdinal0 [0x00BF6754+812884]\n\tOrdinal0 [0x00BF6612+812562]\n\tOrdinal0 [0x00BF68A0+813216]\n\tOrdinal0 [0x00C273EE+1012718]\n\tOrdinal0 [0x00C26A5A+1010266]\n\tOrdinal0 [0x00C53E23+1195555]\n\tOrdinal0 [0x00C3C7DC+1099740]\n\tOrdinal0 [0x00C4CC22+1166370]\n\tOrdinal0 [0x00C3C5F6+1099254]\n\tOrdinal0 [0x00C16BE0+945120]\n\tOrdinal0 [0x00C17AD6+948950]\n\tGetHandleVerifier [0x00FE71F2+2712546]\n\tGetHandleVerifier [0x00FD886D+2652765]\n\tGetHandleVerifier [0x00DD002A+520730]\n\tGetHandleVerifier [0x00DCEE06+516086]\n\tOrdinal0 [0x00CE468B+1787531]\n\tOrdinal0 [0x00CE8E88+1805960]\n\tOrdinal0 [0x00CE8F75+1806197]\n\tOrdinal0 [0x00CF1DF1+1842673]\n\tBaseThreadInitThunk [0x76206739+25]\n\tRtlGetFullPathName_UEx [0x773B90AF+1215]\n\tRtlGetFullPathName_UEx [0x773B907D+1165]\n"
     ]
    }
   ],
   "source": [
    "from selenium.common.exceptions import NoSuchElementException\n",
    "from selenium.common.exceptions import StaleElementReferenceException\n",
    "from selenium.webdriver.common.by import By\n",
    "from selenium.webdriver.support.ui import WebDriverWait\n",
    "from selenium.webdriver.support import expected_conditions\n",
    "\n",
    "driver = webdriver.Chrome()\n",
    "driver.get('https://www.ubs.com/global/en/wealth-management/insights.html#insights')\n",
    "sleep(10)\n",
    "element = driver.find_element(By.CSS_SELECTOR,'#doc > div > div > div.privacysettings__bannerButton > button')\n",
    "webdriver.ActionChains(driver).move_to_element(element ).click(element ).perform()\n",
    "\n",
    "my_element_css = '#main > div > div:nth-child(2) > div.grid-container.gridcontrol2__gridContainer.gridcontrol2__gridContainer--vertical-spacing-standard > div:nth-child(1) > div.gridcontrol2__cell.grid-cell.grid-cell--l2 > div.basecomponent.basecomponent__base.sdactivitystream.sdactivitystream__base > div > div.js-showmore-wrapper > section > div > button'\n",
    "ignored_exceptions=(NoSuchElementException,StaleElementReferenceException)\n",
    "element2 = WebDriverWait(driver, 20,ignored_exceptions=ignored_exceptions)\\\n",
    "                        .until(expected_conditions.presence_of_element_located((By.CSS_SELECTOR, my_element_css)))\n",
    "webdriver.ActionChains(driver).move_to_element(element2).click(element2).perform()\n",
    "element3 = WebDriverWait(driver, 20,ignored_exceptions=ignored_exceptions)\\\n",
    "                        .until(expected_conditions.presence_of_element_located((By.CSS_SELECTOR, my_element_css)))\n",
    "webdriver.ActionChains(driver).move_to_element(element3).click(element3).perform()\n",
    "#webdriver.ActionChains(driver).move_to_element(element2).click(element2).perform()\n",
    "#webdriver.ActionChains(driver).move_to_element(element2).click(element2).perform()\n",
    "# for i in range(12):\n",
    "#     try:\n",
    "#         webdriver.ActionChains(driver).move_to_element(element2).click(element2).perform()\n",
    "#     except:\n",
    "#         pass\n",
    "my_element_css_4 = '#main > div > div:nth-child(2) > div.grid-container.gridcontrol2__gridContainer.gridcontrol2__gridContainer--vertical-spacing-standard > div:nth-child(1) > div.gridcontrol2__cell.grid-cell.grid-cell--l2 > div.basecomponent.basecomponent__base.sdactivitystream.sdactivitystream__base > div > div.js-showmore-wrapper > section > div.showmorebutton__moreContainer.showmorebutton__moreContainer--is-active > button > span.showmorebutton__moreText'\n",
    "element4 = WebDriverWait(driver, 20,ignored_exceptions=ignored_exceptions)\\\n",
    "                        .until(expected_conditions.presence_of_element_located((By.CSS_SELECTOR, my_element_css_4)))\n",
    "webdriver.ActionChains(driver).move_to_element(element4).click(element4).perform()\n",
    "\n",
    "\n",
    "#main > div > div:nth-child(2) > div.grid-container.gridcontrol2__gridContainer.gridcontrol2__gridContainer--vertical-spacing-standard > div:nth-child(1) > div.gridcontrol2__cell.grid-cell.grid-cell--l2 > div.basecomponent.basecomponent__base.sdactivitystream.sdactivitystream__base > div > div.js-showmore-wrapper > section > div.showmorebutton__moreContainer.showmorebutton__moreContainer--is-active > button > span.showmorebutton__moreText\n",
    "\n",
    "input('exit?')\n",
    "driver.quit()"
   ]
  },
  {
   "cell_type": "code",
   "execution_count": 64,
   "id": "7881f2cb",
   "metadata": {},
   "outputs": [],
   "source": [
    "# driver.find_element_by_id(tc.value).click()\n",
    "# for i in range(4):\n",
    "#    try:\n",
    "#         run_test = WebDriverWait(driver, 120).until( \\\n",
    "#         EC.presence_of_element_located((By.XPATH, \"xpath\")))\n",
    "#         run_test.click()\n",
    "#         break\n",
    "#    except StaleElementReferenceException as e:\n",
    "#         raise e"
   ]
  },
  {
   "cell_type": "markdown",
   "id": "9be15f9d",
   "metadata": {},
   "source": [
    "# UBS"
   ]
  },
  {
   "cell_type": "code",
   "execution_count": 48,
   "id": "31c7acd3",
   "metadata": {},
   "outputs": [
    {
     "name": "stdout",
     "output_type": "stream",
     "text": [
      "exit?\n"
     ]
    }
   ],
   "source": [
    "driver = webdriver.Chrome()\n",
    "driver.get('https://www.ubs.com/global/en/wealth-management/insights.html#insights')\n",
    "sleep(10)\n",
    "element = driver.find_element(By.CSS_SELECTOR,'#doc > div > div > div.privacysettings__bannerButton > button')\n",
    "webdriver.ActionChains(driver).move_to_element(element ).click(element ).perform()\n",
    "button = driver.find_element(By.CSS_SELECTOR,'#main > div > div:nth-child(2) > div.grid-container.gridcontrol2__gridContainer.gridcontrol2__gridContainer--vertical-spacing-standard > div:nth-child(1) > div.gridcontrol2__cell.grid-cell.grid-cell--l2 > div.basecomponent.basecomponent__base.sdactivitystream.sdactivitystream__base > div > div.js-showmore-wrapper > section > div > button')\n",
    "#webdriver.ActionChains(driver).move_to_element(element2 ).click_and_hold(element2).pause(3).release()\n",
    "driver.execute_script(\"arguments[0].click();\", button)\n",
    "driver.execute_script(\"arguments[0].click();\", button)\n",
    "driver.execute_script(\"arguments[0].click();\", button)\n",
    "driver.execute_script(\"arguments[0].click();\", button)\n",
    "driver.execute_script(\"arguments[0].click();\", button)\n",
    "driver.execute_script(\"arguments[0].click();\", button)\n",
    "sleep(5)\n",
    "list_article = driver.find_elements(By.CSS_SELECTOR,'.sdactivitystreamtile__item--reduced+ .sdactivitystreamtile__item--reduced .sdactivitystreamtile__info')\n",
    "list_a_tag = [article.find_element(By.TAG_NAME,'a') for article in list_article]\n",
    "links = [i.get_attribute('href') for i in list_a_tag]\n",
    "input('exit?')\n",
    "driver.quit()"
   ]
  },
  {
   "cell_type": "code",
   "execution_count": 49,
   "id": "cca11ab5",
   "metadata": {},
   "outputs": [
    {
     "data": {
      "text/plain": [
       "['https://www.ubs.com/global/en/wealth-management/insights/insights-display-adp/global/en/wealth-management/insights/chief-investment-office/house-view/2022/weekly-deep-dive.html?caasID=CAAS-ActivityStream',\n",
       " 'https://www.ubs.com/global/en/wealth-management/insights/insights-display-adp/global/en/wealth-management/insights/chief-investment-office/sustainable-investing/2022/sustainable-investing-perspectives.html?caasID=CAAS-ActivityStream',\n",
       " 'https://www.ubs.com/global/en/wealth-management/insights/insights-display-adp/global/en/wealth-management/insights/chief-investment-office/house-view/2022/monthly.html?caasID=CAAS-ActivityStream',\n",
       " 'https://www.ubs.com/global/en/wealth-management/insights/insights-display-adp/global/en/wealth-management/insights/chief-investment-office/market-insights/2020/bear-market-guidebook.html?caasID=CAAS-ActivityStream',\n",
       " 'https://www.ubs.com/global/en/wealth-management/insights/insights-display-adp/de/en/wealth-management/our-service/private-equity.html?caasID=CAAS-ActivityStream',\n",
       " 'https://www.ubs.com/global/en/wealth-management/insights/insights-display-adp/global/en/wealth-management/insights/chief-investment-office/market-insights/2022/women-and-investing-reimagining-wealth-advice.html?caasID=CAAS-ActivityStream',\n",
       " 'https://www.ubs.com/global/en/wealth-management/insights/insights-display-adp/global/en/wealth-management/insights/chief-investment-office/wealth-planning/executives-and-entrepreneurs/2019/pre-sale-of-your-business.html?caasID=CAAS-ActivityStream',\n",
       " 'https://www.ubs.com/global/en/wealth-management/insights/insights-display-adp/global/en/wealth-management/insights/chief-investment-office/wealth-planning/executives-and-entrepreneurs/2019/during-the-sale-of-your-business.html?caasID=CAAS-ActivityStream',\n",
       " 'https://www.ubs.com/global/en/wealth-management/insights/insights-display-adp/global/en/wealth-management/insights/chief-investment-office/wealth-planning/executives-and-entrepreneurs/2019/how-to-sell-your-business.html?caasID=CAAS-ActivityStream',\n",
       " 'https://www.ubs.com/global/en/wealth-management/insights/insights-display-adp/global/en/wealth-management/insights/chief-investment-office/wealth-planning/executives-and-entrepreneurs/2019/post-sale-of-your-business.html?caasID=CAAS-ActivityStream',\n",
       " 'https://www.ubs.com/global/en/wealth-management/insights/insights-display-adp/global/en/wealth-management/insights/chief-investment-office/market-insights/regional-outlook/2021/us-china-tensions.html?caasID=CAAS-ActivityStream',\n",
       " 'https://www.ubs.com/global/en/wealth-management/insights/insights-display-adp/global/en/wealth-management/insights/chief-investment-office/wealth-planning/executives-and-entrepreneurs/2019/how-to-invest-lump-sum.html?caasID=CAAS-ActivityStream',\n",
       " 'https://www.ubs.com/global/en/wealth-management/insights/insights-display-adp/global/en/wealth-management/insights/chief-investment-office/market-insights/regional-outlook/2021/the-global-engine-of-new-mobility.html?caasID=CAAS-ActivityStream',\n",
       " 'https://www.ubs.com/global/en/wealth-management/insights/insights-display-adp/global/en/wealth-management/insights/chief-investment-office/market-insights/regional-outlook/2020/tech-disruption-asean-economy.html?caasID=CAAS-ActivityStream',\n",
       " 'https://www.ubs.com/global/en/wealth-management/insights/insights-display-adp/global/en/wealth-management/insights/chief-investment-office/wealth-planning/executives-and-entrepreneurs/2021/commercial-case-diversity-and-inclusion.html?caasID=CAAS-ActivityStream',\n",
       " 'https://www.ubs.com/global/en/wealth-management/insights/insights-display-adp/global/en/wealth-management/insights/chief-investment-office/market-insights/global-risk-radar/2021/february.html?caasID=CAAS-ActivityStream',\n",
       " 'https://www.ubs.com/global/en/wealth-management/insights/insights-display-adp/global/en/wealth-management/insights/chief-investment-office/sustainable-investing/2020/three-steps-to-sustainable-and-profitable-business.html?caasID=CAAS-ActivityStream',\n",
       " 'https://www.ubs.com/global/en/wealth-management/insights/insights-display-adp/global/en/wealth-management/insights/chief-investment-office/market-insights/regional-outlook/2020/asia-recovering-from-covid19.html?caasID=CAAS-ActivityStream',\n",
       " 'https://www.ubs.com/global/en/wealth-management/insights/insights-display-adp/global/en/wealth-management/insights/chief-investment-office/sustainable-investing/2020/private-investors.html?caasID=CAAS-ActivityStream',\n",
       " 'https://www.ubs.com/global/en/wealth-management/insights/insights-display-adp/global/en/wealth-management/insights/chief-investment-office/market-insights/regional-outlook/2020/is-india-the-new-china.html?caasID=CAAS-ActivityStream',\n",
       " 'https://www.ubs.com/global/en/wealth-management/insights/insights-display-adp/global/en/wealth-management/insights/chief-investment-office/wealth-planning/executives-and-entrepreneurs/2020/doing-business-in-europe-opportunities.html?caasID=CAAS-ActivityStream',\n",
       " 'https://www.ubs.com/global/en/wealth-management/insights/insights-display-adp/global/en/wealth-management/insights/chief-investment-office/market-insights/regional-outlook/2020/asia-esg-investing.html?caasID=CAAS-ActivityStream',\n",
       " 'https://www.ubs.com/global/en/wealth-management/insights/insights-display-adp/global/en/wealth-management/insights/chief-investment-office/wealth-planning/executives-and-entrepreneurs/2020/industry-4-point-zero-after-covid-19.html?caasID=CAAS-ActivityStream',\n",
       " 'https://www.ubs.com/global/en/wealth-management/insights/insights-display-adp/global/en/wealth-management/insights/chief-investment-office/market-insights/regional-outlook/2020/covid19-impact-asean-economy.html?caasID=CAAS-ActivityStream',\n",
       " 'https://www.ubs.com/global/en/wealth-management/insights/insights-display-adp/global/en/wealth-management/insights/chief-investment-office/market-insights/regional-outlook/2020/dcep-chinas-digital-currency.html?caasID=CAAS-ActivityStream',\n",
       " 'https://www.ubs.com/global/en/wealth-management/insights/insights-display-adp/global/en/wealth-management/insights/chief-investment-office/sustainable-investing/2020/truths-about-sustainable-investing.html?caasID=CAAS-ActivityStream',\n",
       " 'https://www.ubs.com/global/en/wealth-management/insights/insights-display-adp/global/en/wealth-management/insights/chief-investment-office/sustainable-investing/2020/six-impact-investment-opportunities.html?caasID=CAAS-ActivityStream',\n",
       " 'https://www.ubs.com/global/en/wealth-management/insights/insights-display-adp/global/en/wealth-management/insights/chief-investment-office/market-insights/regional-outlook/2020/how-5g-empowers-different-industries.html?caasID=CAAS-ActivityStream',\n",
       " 'https://www.ubs.com/global/en/wealth-management/insights/insights-display-adp/global/en/wealth-management/insights/chief-investment-office/market-insights/regional-outlook/2020/china-5g-opportunity.html?caasID=CAAS-ActivityStream',\n",
       " 'https://www.ubs.com/global/en/wealth-management/insights/insights-display-adp/global/en/wealth-management/insights/chief-investment-office/market-insights/2019/decade-ahead-game.html?caasID=CAAS-ActivityStream',\n",
       " 'https://www.ubs.com/global/en/wealth-management/insights/insights-display-adp/global/en/wealth-management/insights/chief-investment-office/market-insights/2019/year-ahead.html?caasID=CAAS-ActivityStream',\n",
       " 'https://www.ubs.com/global/en/wealth-management/insights/insights-display-adp/global/en/wealth-management/insights/chief-investment-office/sustainable-investing/2019/food-revolution.html?caasID=CAAS-ActivityStream',\n",
       " 'https://www.ubs.com/global/en/wealth-management/insights/insights-display-adp/global/en/wealth-management/insights/chief-investment-office/wealth-planning/executives-and-entrepreneurs/2019/diversify-investments-as-business-owners.html?caasID=CAAS-ActivityStream',\n",
       " 'https://www.ubs.com/global/en/wealth-management/insights/insights-display-adp/global/en/wealth-management/insights/chief-investment-office/market-insights/regional-outlook/2019/future-of-europe.html?caasID=CAAS-ActivityStream',\n",
       " 'https://www.ubs.com/global/en/wealth-management/insights/insights-display-adp/global/en/wealth-management/insights/chief-investment-office/market-insights/regional-outlook/2019/shifting-asia-hub.html?caasID=CAAS-ActivityStream',\n",
       " 'https://www.ubs.com/global/en/wealth-management/insights/insights-display-adp/global/en/wealth-management/insights/chief-investment-office/market-insights/2019/quantitative-tightening-impact.html?caasID=CAAS-ActivityStream',\n",
       " 'https://www.ubs.com/global/en/wealth-management/insights/insights-display-adp/global/en/wealth-management/insights/chief-investment-office/sustainable-investing/2019/wef-2019.html?caasID=CAAS-ActivityStream',\n",
       " 'https://www.ubs.com/global/en/wealth-management/insights/insights-display-adp/global/en/wealth-management/insights/chief-investment-office/market-insights/regional-outlook/2018/china-biotech.html?caasID=CAAS-ActivityStream',\n",
       " 'https://www.ubs.com/global/en/wealth-management/insights/insights-display-adp/global/en/wealth-management/insights/chief-investment-office/market-insights/regional-outlook/2018/investing-in-china-dragon-awakens.html?caasID=CAAS-ActivityStream',\n",
       " 'https://www.ubs.com/global/en/wealth-management/insights/insights-display-adp/global/en/wealth-management/insights/chief-investment-office/sustainable-investing/2018/7-ways-of-investing.html?caasID=CAAS-ActivityStream',\n",
       " 'https://www.ubs.com/global/en/wealth-management/insights/insights-display-adp/global/en/wealth-management/insights/chief-investment-office/sustainable-investing/2017/interview-chuck-slaughter-living-goods.html?caasID=CAAS-ActivityStream',\n",
       " 'https://www.ubs.com/global/en/wealth-management/insights/insights-display-adp/global/en/wealth-management/insights/chief-investment-office/sustainable-investing/2017/interview-david-hertz-gastromotiva.html?caasID=CAAS-ActivityStream',\n",
       " 'https://www.ubs.com/global/en/wealth-management/insights/insights-display-adp/global/en/wealth-management/insights/chief-investment-office/sustainable-investing/2018/five-lessons-on-sustainability-un-sdg-wef.html?caasID=CAAS-ActivityStream',\n",
       " 'https://www.ubs.com/global/en/wealth-management/insights/insights-display-adp/global/en/wealth-management/insights/chief-investment-office/market-insights/2017/sustainability-challenges.html?caasID=CAAS-ActivityStream',\n",
       " 'https://www.ubs.com/global/en/wealth-management/insights/insights-display-adp/global/en/wealth-management/insights/chief-investment-office/sustainable-investing/2017/corporate-health.html?caasID=CAAS-ActivityStream',\n",
       " 'https://www.ubs.com/global/en/wealth-management/insights/insights-display-adp/global/en/wealth-management/insights/chief-investment-office/sustainable-investing/2017/sustainable-impact-investing.html?caasID=CAAS-ActivityStream',\n",
       " 'https://www.ubs.com/global/en/wealth-management/insights/insights-display-adp/global/en/wealth-management/insights/chief-investment-office/sustainable-investing/2017/wef-white-paper-2017.html?caasID=CAAS-ActivityStream',\n",
       " 'https://www.ubs.com/global/en/wealth-management/insights/insights-display-adp/global/en/wealth-management/insights/chief-investment-office/sustainable-investing/2017/business-with-impact.html?caasID=CAAS-ActivityStream',\n",
       " 'https://www.ubs.com/global/en/wealth-management/insights/insights-display-adp/global/en/wealth-management/insights/chief-investment-office/market-insights/regional-outlook/2017/africa-cradle-of-diversity.html?caasID=CAAS-ActivityStream',\n",
       " 'https://www.ubs.com/global/en/wealth-management/insights/insights-display-adp/global/en/wealth-management/insights/chief-investment-office/market-insights/regional-outlook/2017/trump-100-days.html?caasID=CAAS-ActivityStream',\n",
       " 'https://www.ubs.com/global/en/wealth-management/insights/insights-display-adp/global/en/wealth-management/insights/chief-investment-office/sustainable-investing/2017/gender-lens-wealth.html?caasID=CAAS-ActivityStream',\n",
       " 'https://www.ubs.com/global/en/wealth-management/insights/insights-display-adp/global/en/wealth-management/insights/chief-investment-office/market-insights/regional-outlook/2017/prosperity-beyond-oil.html?caasID=CAAS-ActivityStream',\n",
       " 'https://www.ubs.com/global/en/wealth-management/insights/insights-display-adp/global/en/wealth-management/insights/chief-investment-office/sustainable-investing/2017/un-sustainable-development-goals.html?caasID=CAAS-ActivityStream',\n",
       " 'https://www.ubs.com/global/en/wealth-management/insights/insights-display-adp/global/en/wealth-management/insights/chief-investment-office/sustainable-investing/2017/impact-investing-needs-siliconvalley.html?caasID=CAAS-ActivityStream',\n",
       " 'https://www.ubs.com/global/en/wealth-management/insights/insights-display-adp/global/en/wealth-management/insights/chief-investment-office/sustainable-investing/2017/why-sustainable-investing-is-a-game-changer-investors.html?caasID=CAAS-ActivityStream',\n",
       " 'https://www.ubs.com/global/en/wealth-management/insights/insights-display-adp/global/en/wealth-management/insights/chief-investment-office/sustainable-investing/2017/which-sdgs-should-private-wealth-focus-on-fulfilling.html?caasID=CAAS-ActivityStream',\n",
       " 'https://www.ubs.com/global/en/wealth-management/insights/insights-display-adp/global/en/wealth-management/insights/chief-investment-office/sustainable-investing/2017/breaking-down-barriers-private-wealth-fund-sdgs.html?caasID=CAAS-ActivityStream',\n",
       " 'https://www.ubs.com/global/en/wealth-management/insights/insights-display-adp/global/en/wealth-management/insights/chief-investment-office/sustainable-investing/2017/recommendations-private-investors-public-good.html?caasID=CAAS-ActivityStream',\n",
       " 'https://www.ubs.com/global/en/wealth-management/insights/insights-display-adp/global/en/wealth-management/insights/chief-investment-office/market-insights/regional-outlook/2017/trade-war-affect-global-markets.html?caasID=CAAS-ActivityStream',\n",
       " 'https://www.ubs.com/global/en/wealth-management/insights/insights-display-adp/global/en/wealth-management/insights/chief-investment-office/sustainable-investing/2017/five-percent-returns.html?caasID=CAAS-ActivityStream',\n",
       " 'https://www.ubs.com/global/en/wealth-management/insights/insights-display-adp/global/en/wealth-management/insights/chief-investment-office/market-insights/2017/the-end-game.html?caasID=CAAS-ActivityStream']"
      ]
     },
     "execution_count": 49,
     "metadata": {},
     "output_type": "execute_result"
    }
   ],
   "source": [
    "links"
   ]
  },
  {
   "cell_type": "code",
   "execution_count": 44,
   "id": "c6ea4897",
   "metadata": {},
   "outputs": [
    {
     "data": {
      "text/plain": [
       "61"
      ]
     },
     "execution_count": 44,
     "metadata": {},
     "output_type": "execute_result"
    }
   ],
   "source": [
    "len(list_article)"
   ]
  },
  {
   "cell_type": "code",
   "execution_count": null,
   "id": "eda1b782",
   "metadata": {},
   "outputs": [],
   "source": [
    "#main > div > div:nth-child(2) > div.grid-container.gridcontrol2__gridContainer.gridcontrol2__gridContainer--vertical-spacing-standard > div:nth-child(1) > div.gridcontrol2__cell.grid-cell.grid-cell--l2 > div.basecomponent.basecomponent__base.sdactivitystream.sdactivitystream__base > div > div.js-showmore-wrapper > section > div > button"
   ]
  },
  {
   "cell_type": "code",
   "execution_count": null,
   "id": "dcf68449",
   "metadata": {},
   "outputs": [],
   "source": [
    "#main > div > div:nth-child(2) > div.grid-container.gridcontrol2__gridContainer.gridcontrol2__gridContainer--vertical-spacing-standard > div:nth-child(1) > div.gridcontrol2__cell.grid-cell.grid-cell--l2 > div.basecomponent.basecomponent__base.sdactivitystream.sdactivitystream__base > div > div.js-showmore-wrapper > section > div.showmorebutton__moreContainer.showmorebutton__moreContainer--is-active > button"
   ]
  },
  {
   "cell_type": "code",
   "execution_count": null,
   "id": "734290a2",
   "metadata": {},
   "outputs": [],
   "source": [
    "#sdactivitystreamtile--cba5a5b1-54e6-4faf-918b-3f023c0047f6 > ul > li:nth-child(25) > article > div.sdactivitystreamtile__info > h3 > a"
   ]
  },
  {
   "cell_type": "code",
   "execution_count": null,
   "id": "1e512d4f",
   "metadata": {},
   "outputs": [],
   "source": [
    "#sdactivitystreamtile--cba5a5b1-54e6-4faf-918b-3f023c0047f6 > ul > li:nth-child(28) > article > div.sdactivitystreamtile__info > h3 > a"
   ]
  }
 ],
 "metadata": {
  "kernelspec": {
   "display_name": "Python 3 (ipykernel)",
   "language": "python",
   "name": "python3"
  },
  "language_info": {
   "codemirror_mode": {
    "name": "ipython",
    "version": 3
   },
   "file_extension": ".py",
   "mimetype": "text/x-python",
   "name": "python",
   "nbconvert_exporter": "python",
   "pygments_lexer": "ipython3",
   "version": "3.9.7"
  }
 },
 "nbformat": 4,
 "nbformat_minor": 5
}

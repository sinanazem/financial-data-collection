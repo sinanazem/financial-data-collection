{
 "cells": [
  {
   "cell_type": "code",
   "execution_count": 20,
   "id": "651447a9",
   "metadata": {},
   "outputs": [],
   "source": [
    "import requests\n",
    "from bs4 import BeautifulSoup\n",
    "\n",
    "from selenium.webdriver.common.action_chains import ActionChains\n",
    "from time import sleep\n",
    "import selenium\n",
    "from selenium import webdriver\n",
    "from selenium.webdriver.common.by import By\n",
    "from selenium.webdriver.common.keys import Keys\n",
    "from selenium.webdriver.support.ui import WebDriverWait\n",
    "from selenium.webdriver.common.by import By\n",
    "from selenium.webdriver.support import expected_conditions as EC\n",
    "import json\n",
    "import re\n",
    "from pprint import pprint\n",
    "from tqdm import tqdm\n",
    "import pandas as pd\n",
    "import seaborn as sns\n",
    "import matplotlib.pyplot as plt"
   ]
  },
  {
   "cell_type": "code",
   "execution_count": 24,
   "id": "f5cf672b",
   "metadata": {},
   "outputs": [],
   "source": [
    "driver = webdriver.Chrome()\n",
    "driver.get('https://www.goldmansachs.com/insights/series/articles/index.html')\n",
    "link_list = [i.get_attribute('href') for i in driver.find_elements(By.CSS_SELECTOR,'[class=\"title-link-hover\"]')]"
   ]
  },
  {
   "cell_type": "code",
   "execution_count": 27,
   "id": "c3a01924",
   "metadata": {},
   "outputs": [
    {
     "data": {
      "text/plain": [
       "['https://www.goldmansachs.com/insights/pages/why-some-homebuyers-in-china-are-boycotting-their-mortgage-payments.html',\n",
       " 'https://www.goldmansachs.com/insights/pages/how-close-is-the-us-to-recession.html',\n",
       " 'https://www.goldmansachs.com/insights/pages/how-to-overhaul-tried-and-tested-investment-portfolio-when-inflation-soars.html',\n",
       " 'https://www.goldmansachs.com/insights/pages/value-through-values-sustainability-is-growth-investing.html',\n",
       " 'https://www.goldmansachs.com/insights/pages/how-europe-can-replace-russian-gas-and-still-achieve-its-net-zero-emissions.html',\n",
       " 'https://www.goldmansachs.com/insights/pages/what-happens-if-russia-cuts-off-gas-to-europe-index.html',\n",
       " 'https://www.goldmansachs.com/insights/pages/small-businesses-are-braving-a-stormy-outlook.html',\n",
       " 'https://www.goldmansachs.com/insights/pages/can-private-markets-resist-the-bear-market-in-stocks.html',\n",
       " 'https://www.goldmansachs.com/insights/pages/the-global-housing-market-is-starting-to-wobble-as-central-banks-hike-rates.html',\n",
       " 'https://www.goldmansachs.com/insights/pages/wage-inflation-in-the-us-may-have-already-peaked.html',\n",
       " 'https://www.goldmansachs.com/insights/pages/how-the-ecb-plans-to-avoid-fragmentation-and-contain-inflation.html',\n",
       " 'https://www.goldmansachs.com/insights/pages/the-war-in-ukraine-stokes-global-food-inflation.html',\n",
       " 'https://www.goldmansachs.com/insights/pages/could-immigration-solve-the-us-worker-shortage.html',\n",
       " 'https://www.goldmansachs.com/insights/pages/postmodern-cycle-of-higher-inflation-and-lower-stock-returns.html',\n",
       " 'https://www.goldmansachs.com/insights/pages/retail-investors-are-sticking-with-the-us-stock-market-so-far.html',\n",
       " 'https://www.goldmansachs.com/insights/pages/us-economy-poised-to-slow.html',\n",
       " 'https://www.goldmansachs.com/insights/pages/brazil-wrestles-with-stagflation.html',\n",
       " 'https://www.goldmansachs.com/insights/pages/unleashing-new-waves-of-green-investment.html',\n",
       " 'https://www.goldmansachs.com/insights/pages/from-briefings-05-may-2022.html',\n",
       " 'https://www.goldmansachs.com/insights/pages/asianomics-in-america-article.html',\n",
       " 'https://www.goldmansachs.com/insights/pages/from-briefings-28-april-2022.html',\n",
       " 'https://www.goldmansachs.com/insights/pages/from-briefings-20-april-2022.html',\n",
       " 'https://www.goldmansachs.com/insights/pages/from-briefings-07-april-2022.html',\n",
       " 'https://www.goldmansachs.com/insights/pages/from-briefings-31-march-2022.html',\n",
       " 'https://www.goldmansachs.com/insights/pages/from-briefings-17-march-2022.html',\n",
       " 'https://www.goldmansachs.com/insights/pages/from-briefings-15-march-2022.html',\n",
       " 'https://www.goldmansachs.com/insights/pages/from-briefings-10-march-2022.html',\n",
       " 'https://www.goldmansachs.com/insights/pages/from-briefings-03-march-2022.html',\n",
       " 'https://www.goldmansachs.com/insights/pages/from-briefings-24-february-2022.html',\n",
       " 'https://www.goldmansachs.com/insights/pages/from-briefings-17-february-2022.html',\n",
       " 'https://www.goldmansachs.com/insights/pages/from-briefings-10-february-2022.html',\n",
       " 'https://www.goldmansachs.com/insights/pages/from-briefings-03-february-2022.html',\n",
       " 'https://www.goldmansachs.com/insights/pages/from-briefings-27-january-2022.html',\n",
       " 'https://www.goldmansachs.com/insights/pages/from-briefings-20-january-2022.html',\n",
       " 'https://www.goldmansachs.com/insights/pages/from-briefings-13-january-2022.html',\n",
       " 'https://www.goldmansachs.com/insights/pages/from-briefings-23-december-2021.html',\n",
       " 'https://www.goldmansachs.com/insights/pages/from-briefings-09-december-2021.html',\n",
       " 'https://www.goldmansachs.com/insights/pages/from-briefings-02-december-2021.html',\n",
       " 'https://www.goldmansachs.com/insights/pages/from-briefings-11-november-2021.html',\n",
       " 'https://www.goldmansachs.com/insights/pages/from-briefings-04-november-2021.html',\n",
       " 'https://www.goldmansachs.com/insights/pages/from-briefings-28-october-2021.html',\n",
       " 'https://www.goldmansachs.com/insights/pages/from-briefings-21-october-2021.html',\n",
       " 'https://www.goldmansachs.com/insights/pages/from-briefings-14-october-2021.html',\n",
       " 'https://www.goldmansachs.com/insights/pages/from-briefings-07-october-2021.html',\n",
       " 'https://www.goldmansachs.com/insights/pages/from-briefings-30-september-2021.html',\n",
       " 'https://www.goldmansachs.com/insights/pages/from-briefings-23-september-2021.html',\n",
       " 'https://www.goldmansachs.com/insights/pages/from-briefings-16-september-2021.html',\n",
       " 'https://www.goldmansachs.com/insights/pages/from-briefings-09-september-2021.html',\n",
       " 'https://www.goldmansachs.com/insights/pages/from-briefings-19-august-2021.html',\n",
       " 'https://www.goldmansachs.com/insights/pages/from-briefings-13-august-2021.html',\n",
       " 'https://www.goldmansachs.com/insights/pages/from-briefings-05-august-2021.html',\n",
       " 'https://www.goldmansachs.com/insights/pages/from-briefings-30-july-2021.html',\n",
       " 'https://www.goldmansachs.com/insights/pages/from_briefings_09-july-2021.html',\n",
       " 'https://www.goldmansachs.com/insights/pages/from_briefings_02-july-2021.html',\n",
       " 'https://www.goldmansachs.com/insights/pages/from_briefings_24-june-2021.html',\n",
       " 'https://www.goldmansachs.com/insights/pages/from_briefings_17-june-2021.html',\n",
       " 'https://www.goldmansachs.com/insights/pages/from_briefings_10-june-2021.html',\n",
       " 'https://www.goldmansachs.com/insights/pages/from_briefings_03-june-2021.html',\n",
       " 'https://www.goldmansachs.com/insights/pages/from_briefings_27-may-2021.html',\n",
       " 'https://www.goldmansachs.com/insights/pages/from_briefings_20-may-2021.html',\n",
       " 'https://www.goldmansachs.com/insights/pages/from_briefings_23-apr-2021.html',\n",
       " 'https://www.goldmansachs.com/insights/pages/from_briefings_16-apr-2021.html',\n",
       " 'https://www.goldmansachs.com/insights/pages/from_briefings_09-april-2021.html',\n",
       " 'https://www.goldmansachs.com/insights/pages/from_briefings_25-mar-2021.html',\n",
       " 'https://www.goldmansachs.com/insights/pages/from_briefings_19-mar-2021.html',\n",
       " 'https://www.goldmansachs.com/insights/pages/from_briefings_12-mar-2021.html',\n",
       " 'https://www.goldmansachs.com/insights/pages/from_briefings_04-mar-2021.html',\n",
       " 'https://www.goldmansachs.com/insights/pages/from_briefings_26-feb-2021.html',\n",
       " 'https://www.goldmansachs.com/insights/pages/from_briefings_18-feb-2021.html',\n",
       " 'https://www.goldmansachs.com/insights/pages/from_briefings_11-feb-2021.html',\n",
       " 'https://www.goldmansachs.com/insights/pages/from_briefings_28-jan-2021.html',\n",
       " 'https://www.goldmansachs.com/insights/pages/from_briefings_21-jan-2021.html',\n",
       " 'https://www.goldmansachs.com/insights/pages/from_briefings_10-dec-2020.html',\n",
       " 'https://www.goldmansachs.com/insights/pages/from_briefings_03-dec-2020.html',\n",
       " 'https://www.goldmansachs.com/insights/pages/from_briefings_25-nov-2020.html',\n",
       " 'https://www.goldmansachs.com/insights/pages/from_briefings_29-october-2020.html',\n",
       " 'https://www.goldmansachs.com/insights/pages/from_briefings_15-october-2020.html',\n",
       " 'https://www.goldmansachs.com/insights/pages/from_briefings_30-september-2020.html',\n",
       " 'https://www.goldmansachs.com/insights/pages/from_briefings_23-september-2020.html',\n",
       " 'https://www.goldmansachs.com/insights/pages/from_briefings_16-september-2020.html',\n",
       " 'https://www.goldmansachs.com/insights/pages/from_briefings_19-august-2020.html',\n",
       " 'https://www.goldmansachs.com/insights/pages/from_briefings_11-august-2020.html',\n",
       " 'https://www.goldmansachs.com/insights/pages/from_briefings_04-august-2020.html',\n",
       " 'https://www.goldmansachs.com/insights/pages/from_briefings_28-July-2020.html',\n",
       " 'https://www.goldmansachs.com/insights/pages/from_briefings_14-july-2020.html',\n",
       " 'https://www.goldmansachs.com/insights/pages/from_briefings_08-july-2020.html',\n",
       " 'https://www.goldmansachs.com/insights/pages/from_briefings_30-june-2020.html',\n",
       " 'https://www.goldmansachs.com/insights/pages/from_briefings_24-june-2020.html',\n",
       " 'https://www.goldmansachs.com/insights/pages/from_briefings_16-june-2020.html',\n",
       " 'https://www.goldmansachs.com/insights/pages/from_briefings_09-june-2020.html',\n",
       " 'https://www.goldmansachs.com/insights/pages/from_briefings_03-june-2020.html',\n",
       " 'https://www.goldmansachs.com/insights/pages/from_briefings_26-may-2020.html',\n",
       " 'https://www.goldmansachs.com/insights/pages/from_briefings_19-may-2020.html',\n",
       " 'https://www.goldmansachs.com/insights/pages/from_briefings_05-may-2020.html',\n",
       " 'https://www.goldmansachs.com/insights/pages/from_briefings_28-apr-2020.html',\n",
       " 'https://www.goldmansachs.com/insights/pages/from_briefings_21-apr-2020.html',\n",
       " 'https://www.goldmansachs.com/insights/pages/from_briefings_14-Apr-2020.html',\n",
       " 'https://www.goldmansachs.com/insights/pages/from_briefings_07-Apr-2020.html',\n",
       " 'https://www.goldmansachs.com/insights/pages/from_briefings_31-Mar-2020.html',\n",
       " 'https://www.goldmansachs.com/insights/pages/from_briefings_24-Mar-2020.html',\n",
       " 'https://www.goldmansachs.com/insights/pages/from_briefings_17-mar-2020-v2.html',\n",
       " 'https://www.goldmansachs.com/insights/pages/from_briefings_17-mar-2020.html',\n",
       " 'https://www.goldmansachs.com/insights/pages/from_briefings_11-Mar-2020.html',\n",
       " 'https://www.goldmansachs.com/insights/pages/from_briefings_03-Mar-2020.html',\n",
       " 'https://www.goldmansachs.com/insights/pages/from_briefings_25-Feb-2020.html',\n",
       " 'https://www.goldmansachs.com/insights/pages/from_briefings_18-Feb-2020.html',\n",
       " 'https://www.goldmansachs.com/insights/pages/from_briefings_11-Feb-2020.html',\n",
       " 'https://www.goldmansachs.com/insights/pages/from_briefings_04-Feb-2020.html',\n",
       " 'https://www.goldmansachs.com/insights/pages/from_briefings_28-Jan-2020.html',\n",
       " 'https://www.goldmansachs.com/insights/pages/from_briefings_21-Jan-2020.html',\n",
       " 'https://www.goldmansachs.com/insights/pages/from_briefings_14-Jan-2020.html',\n",
       " 'https://www.goldmansachs.com/insights/pages/from_briefings_07-Jan-2020.html',\n",
       " 'https://www.goldmansachs.com/insights/pages/from_briefings_17-Dec-2019.html',\n",
       " 'https://www.goldmansachs.com/insights/pages/from_briefings_10-Dec-2019.html',\n",
       " 'https://www.goldmansachs.com/insights/pages/from_briefings_03-Dec-2019.html',\n",
       " 'https://www.goldmansachs.com/insights/pages/from_briefings_26-Nov-2019.html',\n",
       " 'https://www.goldmansachs.com/insights/pages/from_briefings_18-Nov-2019.html',\n",
       " 'https://www.goldmansachs.com/insights/pages/from_briefings_11-Nov-2019.html',\n",
       " 'https://www.goldmansachs.com/insights/pages/from_briefings_28-Oct-2019.html',\n",
       " 'https://www.goldmansachs.com/insights/pages/from_briefings_21-Oct-2019.html',\n",
       " 'https://www.goldmansachs.com/insights/pages/from_briefings_15-Oct-2019.html',\n",
       " 'https://www.goldmansachs.com/insights/pages/from_briefings_07-Oct-2019.html',\n",
       " 'https://www.goldmansachs.com/insights/pages/briefings_01_oct-2019.html',\n",
       " 'https://www.goldmansachs.com/insights/pages/from_briefings_23-sep-2019.html',\n",
       " 'https://www.goldmansachs.com/insights/pages/from_briefings_16-sep-2019.html',\n",
       " 'https://www.goldmansachs.com/insights/pages/from_briefings_19-aug-2019.html',\n",
       " 'https://www.goldmansachs.com/insights/pages/from_briefings_12-aug-2019.html',\n",
       " 'https://www.goldmansachs.com/insights/pages/from_briefings_05-aug-2019.html',\n",
       " 'https://www.goldmansachs.com/insights/pages/from_briefings_29-july-2019.html',\n",
       " 'https://www.goldmansachs.com/insights/pages/from_briefings_22-july-2019.html',\n",
       " 'https://www.goldmansachs.com/insights/pages/from_briefings_15-july-2019.html',\n",
       " 'https://www.goldmansachs.com/insights/pages/from_briefings_08-july-2019.html',\n",
       " 'https://www.goldmansachs.com/insights/pages/from_briefings_01-july-2019.html',\n",
       " 'https://www.goldmansachs.com/insights/pages/from_briefings_24_june-2019.html',\n",
       " 'https://www.goldmansachs.com/insights/pages/from_briefings_17_june-2019.html',\n",
       " 'https://www.goldmansachs.com/insights/pages/from_briefings_10_june-2019.html',\n",
       " 'https://www.goldmansachs.com/insights/pages/from_briefings_03_june-2019.html']"
      ]
     },
     "execution_count": 27,
     "metadata": {},
     "output_type": "execute_result"
    }
   ],
   "source": [
    "link_list"
   ]
  },
  {
   "cell_type": "code",
   "execution_count": 28,
   "id": "99d74aa2",
   "metadata": {},
   "outputs": [],
   "source": [
    "response = requests.get('https://www.goldmansachs.com/insights/pages/how-close-is-the-us-to-recession.html')\n",
    "soup = BeautifulSoup(response.text)"
   ]
  },
  {
   "cell_type": "code",
   "execution_count": 33,
   "id": "d2afffa6",
   "metadata": {},
   "outputs": [],
   "source": [
    "raw_content = soup.find(class_='article-content-page__content').text\n",
    "content = re.sub('\\s',' ',raw_content).strip()"
   ]
  },
  {
   "cell_type": "code",
   "execution_count": 34,
   "id": "52186b00",
   "metadata": {},
   "outputs": [
    {
     "data": {
      "text/plain": [
       "'Signs that the U.S. economy is slowing are increasing. A key question is whether it has decelerated enough to bring down inflation without tipping into recession.  Gross domestic product shrank for a second consecutive quarter, according to data reported last week, meeting a common threshold for recession. But it would be â\\x80\\x9cstrangeâ\\x80\\x9d to classify the first six months of the year â\\x80\\x94 a period marked by a booming job market â\\x80\\x94 that way, says David Mericle, chief U.S. economist in Goldman Sachs Research. The National Bureau of Economic Research uses a wide range of criteria to make the official call on whether the U.S. economy has gone into recession.  Thatâ\\x80\\x99s not to say a full-blown downturn couldnâ\\x80\\x99t happen: economists at Goldman see elevated recession risk over the next two years. They expect the Federal Reserve to slow the pace of rate hikes to 50 basis points in September and 25 basis points in November and December, eventually topping out at a rate of 3.25% to 3.5%.  Mericle says there are indications the Fed has managed to temper growth in GDP enough to start rebalancing the labor market and supply and demand within the economy, but it remains to be seen whether that will be enough to slow increases in consumer prices back to the Fedâ\\x80\\x99s 2% goal on a reasonable time horizon. We spoke with Mericle about the latest GDP report and the metrics heâ\\x80\\x99s monitoring to assess the U.S. economy.  Goldman Sachs Research noted last week that the official definition of recession is a judgmental mix of metrics across several variables, most of which continued to expand in the first half of the year. Does that mean you think the U.S. is not in recession?  Yes. Other indicators of economy activity â\\x80\\x94 payroll employment, real personal income net of government transfer payments, and industrial production â\\x80\\x94 grew in the first half of this year. I think it would be strange to classify the first half of the year, a period of significant labor market progress, as a recession.  Thatâ\\x80\\x99s not to say that weâ\\x80\\x99re in the clear â\\x80\\x94 solving the inflation problem without a recession is still going to be challenging â\\x80\\x94 but I donâ\\x80\\x99t think weâ\\x80\\x99ve fallen into a recession yet.    Where did you see signs of strength and weakness in last weekâ\\x80\\x99s GDP report?  My take is that the economy has undergone a needed deceleration to a pace of growth that is below its long-term potential growth rate, but has probably not entered into a recession. We argued at the start of the year that the Fed needed to tighten policy by more than was then anticipated in order to slow growth to a below-potential pace so that supply grows more quickly than demand and the two come back into balance. Thanks to the fiscal and monetary policy tightening that has already been delivered or signalled this year, it appears that weâ\\x80\\x99re now on the desired trajectory.  Digging into the details of the GDP report, consumer spending grew at a 1% rate, which is roughly where weâ\\x80\\x99d like overall GDP growth to be. Residential investment dropped very sharply, which is to be expected when monetary policy tightening raises mortgage rates sharply. Business investment declined in Q2, and while I expect it to start growing again in the second half of this year, weâ\\x80\\x99re keeping a close eye on it because this is the area where we would worry most about the risk that deteriorating business sentiment could depress activity too much, too fast.  Do you think the GDP report will change the thinking at the Fed in regards to interest rates, and has it changed your expectations for Fed policy going forward?  We havenâ\\x80\\x99t changed our forecast. We continue to expect the Fed to slow the pace of tightening at its remaining meetings this year.  Weâ\\x80\\x99ve been expecting that for two reasons. First, we thought theyâ\\x80\\x99d want to move in smaller increments once the level of the funds rate reached, and especially once it exceeded, their estimate of the neutral rate.  Second, we thought that once it became clear that growth is slowing more decisively, Fed officials would start to put more weight on that and shift away from their recent, more single-minded emphasis on the inflation data.  We heard both of these points from Fed Chair Jerome Powell at the July Fed meeting. Fed officials are still committed to trying to solve the inflation problem in a gentle way through a gradual rebalancing of supply and demand, and they seem to agree with our assessment that weâ\\x80\\x99re now on a low enough growth trajectory that it makes sense to start preparing to slow the pace of rate hikes to avoid inadvertently overdoing it.  What metrics are you and the team watching closely right now as you monitor the economy?  Big picture, the Fed is aiming to (1) keep economic growth below its long-run potential rate in order to (2) rebalance supply and demand in the labor market and (3) bring down wage growth and inflation. So weâ\\x80\\x99re monitoring measures that tell us how weâ\\x80\\x99re doing on those three goals. So far I would say the activity data broadly suggest weâ\\x80\\x99re doing well on (1), the employment and job openings data suggest weâ\\x80\\x99re off to a very good start on (2) but have further to go, and the wage growth and inflation data suggest we havenâ\\x80\\x99t made convincing progress yet on (3).'"
      ]
     },
     "execution_count": 34,
     "metadata": {},
     "output_type": "execute_result"
    }
   ],
   "source": [
    "content"
   ]
  },
  {
   "cell_type": "code",
   "execution_count": 35,
   "id": "6516b035",
   "metadata": {},
   "outputs": [
    {
     "data": {
      "text/plain": [
       "'How Close Is the US to Recession?'"
      ]
     },
     "execution_count": 35,
     "metadata": {},
     "output_type": "execute_result"
    }
   ],
   "source": [
    "soup.find(class_='article-content-page__title article-margin').text"
   ]
  },
  {
   "cell_type": "code",
   "execution_count": 36,
   "id": "fc4dc15f",
   "metadata": {},
   "outputs": [
    {
     "data": {
      "text/plain": [
       "'04 AUG 2022'"
      ]
     },
     "execution_count": 36,
     "metadata": {},
     "output_type": "execute_result"
    }
   ],
   "source": [
    "soup.find(class_='article-content-page__date').text"
   ]
  },
  {
   "cell_type": "code",
   "execution_count": 37,
   "id": "c137b338",
   "metadata": {},
   "outputs": [
    {
     "data": {
      "text/plain": [
       "'\\nTOPICS:\\nMarkets\\n | \\nRegional Analysis\\n'"
      ]
     },
     "execution_count": 37,
     "metadata": {},
     "output_type": "execute_result"
    }
   ],
   "source": [
    "soup.find(class_='article-content-page__topics').text"
   ]
  },
  {
   "cell_type": "code",
   "execution_count": 38,
   "id": "73876871",
   "metadata": {},
   "outputs": [
    {
     "data": {
      "text/plain": [
       "'TOPICS: Markets  |  Regional Analysis'"
      ]
     },
     "execution_count": 38,
     "metadata": {},
     "output_type": "execute_result"
    }
   ],
   "source": [
    "re.sub('\\s',' ',soup.find(class_='article-content-page__topics').text).strip()"
   ]
  },
  {
   "cell_type": "code",
   "execution_count": 39,
   "id": "7ff12d25",
   "metadata": {},
   "outputs": [],
   "source": [
    "def goldmansachs_insight(link):\n",
    "    \n",
    "    response = requests.get('https://www.goldmansachs.com/insights/pages/how-close-is-the-us-to-recession.html')\n",
    "    soup = BeautifulSoup(response.text)\n",
    "    \n",
    "    title = soup.find(class_='article-content-page__title article-margin').text\n",
    "    date = soup.find(class_='article-content-page__date').text\n",
    "    tag = re.sub('\\s',' ',soup.find(class_='article-content-page__topics').text).strip()\n",
    "    raw_content = soup.find(class_='article-content-page__content').text\n",
    "    content = re.sub('\\s',' ',raw_content).strip()\n",
    "    \n",
    "    return {         \n",
    "        'index': '',\n",
    "        'company': 'Goldman Sachs',\n",
    "        'topic': 'Insight',\n",
    "        'title': title,\n",
    "        'date': date,\n",
    "        'link': link,\n",
    "        'content': content,\n",
    "        }"
   ]
  },
  {
   "cell_type": "code",
   "execution_count": 40,
   "id": "a936b6ba",
   "metadata": {},
   "outputs": [
    {
     "data": {
      "text/plain": [
       "{'index': '',\n",
       " 'company': 'Goldman Sachs',\n",
       " 'topic': 'Insight',\n",
       " 'title': 'How Close Is the US to Recession?',\n",
       " 'date': '04 AUG 2022',\n",
       " 'link': 'https://www.goldmansachs.com/insights/pages/how-close-is-the-us-to-recession.html',\n",
       " 'content': 'Signs that the U.S. economy is slowing are increasing. A key question is whether it has decelerated enough to bring down inflation without tipping into recession.  Gross domestic product shrank for a second consecutive quarter, according to data reported last week, meeting a common threshold for recession. But it would be â\\x80\\x9cstrangeâ\\x80\\x9d to classify the first six months of the year â\\x80\\x94 a period marked by a booming job market â\\x80\\x94 that way, says David Mericle, chief U.S. economist in Goldman Sachs Research. The National Bureau of Economic Research uses a wide range of criteria to make the official call on whether the U.S. economy has gone into recession.  Thatâ\\x80\\x99s not to say a full-blown downturn couldnâ\\x80\\x99t happen: economists at Goldman see elevated recession risk over the next two years. They expect the Federal Reserve to slow the pace of rate hikes to 50 basis points in September and 25 basis points in November and December, eventually topping out at a rate of 3.25% to 3.5%.  Mericle says there are indications the Fed has managed to temper growth in GDP enough to start rebalancing the labor market and supply and demand within the economy, but it remains to be seen whether that will be enough to slow increases in consumer prices back to the Fedâ\\x80\\x99s 2% goal on a reasonable time horizon. We spoke with Mericle about the latest GDP report and the metrics heâ\\x80\\x99s monitoring to assess the U.S. economy.  Goldman Sachs Research noted last week that the official definition of recession is a judgmental mix of metrics across several variables, most of which continued to expand in the first half of the year. Does that mean you think the U.S. is not in recession?  Yes. Other indicators of economy activity â\\x80\\x94 payroll employment, real personal income net of government transfer payments, and industrial production â\\x80\\x94 grew in the first half of this year. I think it would be strange to classify the first half of the year, a period of significant labor market progress, as a recession.  Thatâ\\x80\\x99s not to say that weâ\\x80\\x99re in the clear â\\x80\\x94 solving the inflation problem without a recession is still going to be challenging â\\x80\\x94 but I donâ\\x80\\x99t think weâ\\x80\\x99ve fallen into a recession yet.    Where did you see signs of strength and weakness in last weekâ\\x80\\x99s GDP report?  My take is that the economy has undergone a needed deceleration to a pace of growth that is below its long-term potential growth rate, but has probably not entered into a recession. We argued at the start of the year that the Fed needed to tighten policy by more than was then anticipated in order to slow growth to a below-potential pace so that supply grows more quickly than demand and the two come back into balance. Thanks to the fiscal and monetary policy tightening that has already been delivered or signalled this year, it appears that weâ\\x80\\x99re now on the desired trajectory.  Digging into the details of the GDP report, consumer spending grew at a 1% rate, which is roughly where weâ\\x80\\x99d like overall GDP growth to be. Residential investment dropped very sharply, which is to be expected when monetary policy tightening raises mortgage rates sharply. Business investment declined in Q2, and while I expect it to start growing again in the second half of this year, weâ\\x80\\x99re keeping a close eye on it because this is the area where we would worry most about the risk that deteriorating business sentiment could depress activity too much, too fast.  Do you think the GDP report will change the thinking at the Fed in regards to interest rates, and has it changed your expectations for Fed policy going forward?  We havenâ\\x80\\x99t changed our forecast. We continue to expect the Fed to slow the pace of tightening at its remaining meetings this year.  Weâ\\x80\\x99ve been expecting that for two reasons. First, we thought theyâ\\x80\\x99d want to move in smaller increments once the level of the funds rate reached, and especially once it exceeded, their estimate of the neutral rate.  Second, we thought that once it became clear that growth is slowing more decisively, Fed officials would start to put more weight on that and shift away from their recent, more single-minded emphasis on the inflation data.  We heard both of these points from Fed Chair Jerome Powell at the July Fed meeting. Fed officials are still committed to trying to solve the inflation problem in a gentle way through a gradual rebalancing of supply and demand, and they seem to agree with our assessment that weâ\\x80\\x99re now on a low enough growth trajectory that it makes sense to start preparing to slow the pace of rate hikes to avoid inadvertently overdoing it.  What metrics are you and the team watching closely right now as you monitor the economy?  Big picture, the Fed is aiming to (1) keep economic growth below its long-run potential rate in order to (2) rebalance supply and demand in the labor market and (3) bring down wage growth and inflation. So weâ\\x80\\x99re monitoring measures that tell us how weâ\\x80\\x99re doing on those three goals. So far I would say the activity data broadly suggest weâ\\x80\\x99re doing well on (1), the employment and job openings data suggest weâ\\x80\\x99re off to a very good start on (2) but have further to go, and the wage growth and inflation data suggest we havenâ\\x80\\x99t made convincing progress yet on (3).'}"
      ]
     },
     "execution_count": 40,
     "metadata": {},
     "output_type": "execute_result"
    }
   ],
   "source": [
    "goldmansachs_insight('https://www.goldmansachs.com/insights/pages/how-close-is-the-us-to-recession.html')"
   ]
  },
  {
   "cell_type": "code",
   "execution_count": null,
   "id": "bb0cd16b",
   "metadata": {},
   "outputs": [],
   "source": [
    "class GoldmanSachsInsight:\n",
    "    def __init__(self):\n",
    "        \n",
    "        self.mainlink = 'https://www.jpmorgan.com/insights'\n",
    "        chrome_options = Options()\n",
    "        chrome_options.add_argument(\"--no-sandbox\")\n",
    "        chrome_options.add_argument(\"--headless\")\n",
    "        chrome_options.add_argument(\"start-maximized\")\n",
    "        chrome_options.add_experimental_option(\"excludeSwitches\", [\"enable-automation\"])\n",
    "        chrome_options.add_experimental_option('useAutomationExtension', False)\n",
    "        webdriver_service = Service('/Users/andishetavakkoli/Documents/chrom_driver/Blackrock/chromedriver')\n",
    "        #self.driver = webdriver.Chrome(service=webdriver_service, options=chrome_options)\n",
    "        self.news_driver = webdriver.Chrome(options=chrome_options)"
   ]
  }
 ],
 "metadata": {
  "kernelspec": {
   "display_name": "Python 3 (ipykernel)",
   "language": "python",
   "name": "python3"
  },
  "language_info": {
   "codemirror_mode": {
    "name": "ipython",
    "version": 3
   },
   "file_extension": ".py",
   "mimetype": "text/x-python",
   "name": "python",
   "nbconvert_exporter": "python",
   "pygments_lexer": "ipython3",
   "version": "3.9.7"
  }
 },
 "nbformat": 4,
 "nbformat_minor": 5
}

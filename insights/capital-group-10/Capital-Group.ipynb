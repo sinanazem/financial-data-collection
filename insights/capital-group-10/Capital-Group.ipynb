{
 "cells": [
  {
   "cell_type": "markdown",
   "id": "c9508dd5",
   "metadata": {},
   "source": [
    "<img src='https://images.contentstack.io/v3/assets/blt57caa63e0368f6e8/blt31e08877cfb6ac56/60708ec3fdb1ac4cff0aaa81/CaptialGroup_Logo_Horizontal.png'>"
   ]
  },
  {
   "cell_type": "code",
   "execution_count": 1,
   "id": "0d0fb289",
   "metadata": {},
   "outputs": [],
   "source": [
    "import requests"
   ]
  },
  {
   "cell_type": "code",
   "execution_count": 2,
   "id": "90dab531",
   "metadata": {},
   "outputs": [],
   "source": [
    "from bs4 import BeautifulSoup"
   ]
  },
  {
   "cell_type": "code",
   "execution_count": 5,
   "id": "bdbfbf2c",
   "metadata": {},
   "outputs": [],
   "source": [
    "headers = {\"user-agent\": \"Mozilla/5.0 (Windows NT 10.0; Win64; x64) AppleWebKit/537.36 (KHTML, like Gecko) Chrome/104.0.0.0 Safari/537.36\"}"
   ]
  },
  {
   "cell_type": "code",
   "execution_count": 6,
   "id": "109bf9ee",
   "metadata": {},
   "outputs": [
    {
     "data": {
      "text/plain": [
       "<Response [403]>"
      ]
     },
     "execution_count": 6,
     "metadata": {},
     "output_type": "execute_result"
    }
   ],
   "source": [
    "requests.get('https://www.capitalgroup.com/advisor/insights/webinars/replay-all-weather-investing-amid-storm.html', headers=headers)"
   ]
  },
  {
   "cell_type": "code",
   "execution_count": 2,
   "id": "c4206982",
   "metadata": {},
   "outputs": [],
   "source": [
    "import requests\n",
    "from bs4 import BeautifulSoup\n",
    "\n",
    "from selenium.webdriver.common.action_chains import ActionChains\n",
    "from time import sleep\n",
    "import selenium\n",
    "from selenium import webdriver\n",
    "from selenium.webdriver.common.by import By\n",
    "from selenium.webdriver.common.keys import Keys\n",
    "from selenium.webdriver.support.ui import WebDriverWait\n",
    "from selenium.webdriver.common.by import By\n",
    "from selenium.webdriver.support import expected_conditions as EC\n",
    "import json\n",
    "import re\n",
    "from pprint import pprint\n",
    "from tqdm import tqdm\n",
    "import pandas as pd\n",
    "import seaborn as sns\n",
    "import matplotlib.pyplot as plt"
   ]
  },
  {
   "cell_type": "markdown",
   "id": "1fadc72e",
   "metadata": {},
   "source": [
    "## markets-economy"
   ]
  },
  {
   "cell_type": "code",
   "execution_count": 9,
   "id": "a696ba40",
   "metadata": {},
   "outputs": [
    {
     "name": "stdout",
     "output_type": "stream",
     "text": [
      "exit?\n"
     ]
    }
   ],
   "source": [
    "\n",
    "driver = webdriver.Chrome()\n",
    "\n",
    "driver.get('https://www.capitalgroup.com/advisor/insights/categories/markets-economy.html')\n",
    "sleep(15)\n",
    "\n",
    "button = driver.find_element(By.CSS_SELECTOR, '#blue-box > div > div.text.cg-global-body-2.cg-padding-bottom--mobile--20.aem-GridColumn--default--none.aem-GridColumn--phone--none.aem-GridColumn--phone--12.aem-GridColumn.aem-GridColumn--default--10.aem-GridColumn--offset--phone--0.aem-GridColumn--offset--default--1 > div > p > button')\n",
    "button.click()\n",
    "# link_list_news =[link.get_attribute('href') for link in driver.find_elements(By.XPATH, '//*[@class=\"title\"]//a')]\n",
    "\n",
    "# while True:\n",
    "\n",
    "#     try:\n",
    "#         if driver.find_element(By.CSS_SELECTOR, '.cmp-articlelist__button'):\n",
    "#             show_more_button = driver.find_element(By.CSS_SELECTOR, '.cmp-articlelist__button')    \n",
    "#             driver.click()\n",
    "#         else:\n",
    "#             break\n",
    "            \n",
    "\n",
    "#     except: \n",
    "#         pass\n",
    "\n",
    "\n",
    "sleep(15)\n",
    "link_list = [i.get_attribute('href') for i in driver.find_elements(By.CSS_SELECTOR,'article > a[data-analytics-label=\"trackLink:article\"]')]\n",
    "input('exit?')\n",
    "driver.quit() "
   ]
  },
  {
   "cell_type": "code",
   "execution_count": null,
   "id": "81caff11",
   "metadata": {},
   "outputs": [],
   "source": [
    "i.get_attribute('href')"
   ]
  },
  {
   "cell_type": "code",
   "execution_count": 10,
   "id": "234e4207",
   "metadata": {},
   "outputs": [
    {
     "data": {
      "text/plain": [
       "['https://www.capitalgroup.com/advisor/insights/articles/pandemic-war-and-climate-change-sharpen-focus-on-esg.html',\n",
       " 'https://www.capitalgroup.com/advisor/insights/articles/rob-lovelace-all-weather-investing.html',\n",
       " 'https://www.capitalgroup.com/advisor/insights/articles/fed-aggressive-path-could-mean-more-market-turmoil.html',\n",
       " 'https://www.capitalgroup.com/advisor/insights/articles/labor-inflation-charts.html',\n",
       " 'https://www.capitalgroup.com/advisor/insights/articles/end-era-easy-money.html',\n",
       " 'https://www.capitalgroup.com/advisor/insights/articles/10-investment-themes-2022.html',\n",
       " 'https://www.capitalgroup.com/advisor/insights/articles/is-spike-commodity-prices-sustainable.html',\n",
       " 'https://www.capitalgroup.com/advisor/insights/articles/investment-impacts-war-ukraine.html',\n",
       " 'https://www.capitalgroup.com/advisor/insights/articles/3-views-russia-ukraine-conflict.html',\n",
       " 'https://www.capitalgroup.com/advisor/insights/articles/russia-ukraine-conflict-threatens-global-economy.html',\n",
       " 'https://www.capitalgroup.com/advisor/insights/webinars/washington-watch-midterm-election-preview.html',\n",
       " 'https://www.capitalgroup.com/advisor/insights/articles/market-volatility-long-term-opportunity.html',\n",
       " 'https://www.capitalgroup.com/advisor/insights/articles/midterm-elections-markets-5-charts.html',\n",
       " 'https://www.capitalgroup.com/advisor/insights/articles/rob-lovelace-year-ahead.html',\n",
       " 'https://www.capitalgroup.com/advisor/insights/articles/5-keys-investing.html',\n",
       " 'https://www.capitalgroup.com/advisor/insights/articles/bitcoin-pros-cons.html',\n",
       " 'https://www.capitalgroup.com/advisor/insights/articles/fed-economy-outlook.html',\n",
       " 'https://www.capitalgroup.com/advisor/insights/articles/labor-market-fed.html',\n",
       " 'https://www.capitalgroup.com/advisor/insights/articles/europe-growth-inflation.html',\n",
       " 'https://www.capitalgroup.com/advisor/insights/webinars/spooky-stuff-debt-inflation-rates-equities.html',\n",
       " 'https://www.capitalgroup.com/advisor/insights/articles/china-economic-outlook-2022.html',\n",
       " 'https://www.capitalgroup.com/advisor/insights/articles/inflation-transitory-troublesome.html',\n",
       " 'https://www.capitalgroup.com/advisor/insights/articles/3-predictions-Congress-tax-budget-plans.html',\n",
       " 'https://www.capitalgroup.com/advisor/insights/articles/will-pandemic-threaten-future-big-cities.html',\n",
       " 'https://www.capitalgroup.com/advisor/insights/articles/portfolio-makeover-midyear-2021.html',\n",
       " 'https://www.capitalgroup.com/advisor/insights/articles/top-5-investment-worries-answered.html',\n",
       " 'https://www.capitalgroup.com/advisor/insights/articles/four-reasons-us-debt.html',\n",
       " 'https://www.capitalgroup.com/advisor/insights/articles/how-talk-clients-about-bitcoin.html',\n",
       " 'https://www.capitalgroup.com/advisor/insights/webinars/future-esg-investing.html',\n",
       " 'https://www.capitalgroup.com/advisor/insights/articles/china-trade-tensions.html',\n",
       " 'https://www.capitalgroup.com/advisor/insights/articles/mergers-acquisitions-5-questions-answered.html',\n",
       " 'https://www.capitalgroup.com/advisor/insights/articles/pent-up-demand.html',\n",
       " 'https://www.capitalgroup.com/advisor/insights/articles/policy-priorities-emerge-new-us-leadership.html',\n",
       " 'https://www.capitalgroup.com/advisor/insights/articles/uk-eu-trade-talks.html',\n",
       " 'https://www.capitalgroup.com/advisor/insights/articles/us-election-results-policy-priorities.html',\n",
       " 'https://www.capitalgroup.com/advisor/insights/articles/what-election-means-investors.html',\n",
       " 'https://www.capitalgroup.com/advisor/insights/articles/recovery-watch-when-will-growth-return.html',\n",
       " 'https://www.capitalgroup.com/advisor/insights/articles/us-election-uncertainty.html',\n",
       " 'https://www.capitalgroup.com/advisor/insights/articles/us-political-change.html',\n",
       " 'https://www.capitalgroup.com/advisor/insights/articles/how-elections-move-markets-5-charts.html',\n",
       " 'https://www.capitalgroup.com/advisor/insights/articles/election-watch-2020.html',\n",
       " 'https://www.capitalgroup.com/advisor/insights/articles/nightwatch-market-disruptions.html',\n",
       " 'https://www.capitalgroup.com/advisor/insights/articles/guide-market-recoveries.html',\n",
       " 'https://www.capitalgroup.com/advisor/insights/articles/5-realities-weak-economy.html',\n",
       " 'https://www.capitalgroup.com/advisor/insights/articles/what-need-know-cares-act.html',\n",
       " 'https://www.capitalgroup.com/advisor/insights/articles/guide-to-recessions.html',\n",
       " 'https://www.capitalgroup.com/advisor/insights/articles/courage-been-here-before.html',\n",
       " 'https://www.capitalgroup.com/advisor/insights/articles/rob-lovelace-looks-ahead.html',\n",
       " 'https://www.capitalgroup.com/advisor/insights/video/message-from-chairman-matt-o-connor.html',\n",
       " 'https://www.capitalgroup.com/advisor/insights/articles/protecting-portfolios-coronavirus.html',\n",
       " 'https://www.capitalgroup.com/advisor/insights/articles/how-stay-calm-when-markets-stumble.html',\n",
       " 'https://www.capitalgroup.com/advisor/insights/articles/coronavirus-major-economies.html',\n",
       " 'https://www.capitalgroup.com/advisor/insights/articles/coronavirus-rattles-markets.html',\n",
       " 'https://www.capitalgroup.com/advisor/insights/articles/3-investor-mistakes-election-year.html',\n",
       " 'https://www.capitalgroup.com/advisor/insights/articles/coronavirus-impacts-markets.html',\n",
       " 'https://www.capitalgroup.com/advisor/insights/articles/5g-revolution.html',\n",
       " 'https://www.capitalgroup.com/advisor/insights/articles/top-investing-questions-answers.html',\n",
       " 'https://www.capitalgroup.com/advisor/insights/articles/robert-shiller-narrative-economics.html',\n",
       " 'https://www.capitalgroup.com/advisor/insights/articles/investors-eye-us-china-mini-trade-deal.html',\n",
       " 'https://www.capitalgroup.com/advisor/insights/articles/could-corporate-debt-sink-us-economy.html',\n",
       " 'https://www.capitalgroup.com/advisor/insights/articles/life-after-brexit-will-european-economy-rebound.html',\n",
       " 'https://www.capitalgroup.com/advisor/insights/articles/why-inflation-low-despite-rate-cuts.html',\n",
       " 'https://www.capitalgroup.com/advisor/insights/articles/argentina-update.html',\n",
       " 'https://www.capitalgroup.com/advisor/insights/articles/investing-ahead-recession-5-mistakes.html',\n",
       " 'https://www.capitalgroup.com/advisor/insights/articles/will-trade-war-push-economy-into-recession.html',\n",
       " 'https://www.capitalgroup.com/advisor/insights/articles/fed-rate-cut-shifts-monetary-policy-overdrive.html',\n",
       " 'https://www.capitalgroup.com/advisor/insights/articles/world-markets-2Q-2019.html',\n",
       " 'https://www.capitalgroup.com/advisor/insights/articles/how-do-your-clients-react-when-market-drops.html',\n",
       " 'https://www.capitalgroup.com/advisor/insights/articles/india-election-markets.html',\n",
       " 'https://www.capitalgroup.com/advisor/insights/articles/4-tax-myths-mutual-funds.html',\n",
       " 'https://www.capitalgroup.com/advisor/insights/video/perspectives-next-recession.html',\n",
       " 'https://www.capitalgroup.com/advisor/insights/articles/china-economic-slowdown.html',\n",
       " 'https://www.capitalgroup.com/advisor/insights/articles/brexit-outlook.html',\n",
       " 'https://www.capitalgroup.com/advisor/insights/articles/tax-tips-2019-beyond.html',\n",
       " 'https://www.capitalgroup.com/advisor/insights/articles/market-corrections.html',\n",
       " 'https://www.capitalgroup.com/advisor/insights/articles/not-all-bear-markets-equal.html',\n",
       " 'https://www.capitalgroup.com/advisor/insights/articles/what-next-fed-rate-hikes-2019.html',\n",
       " 'https://www.capitalgroup.com/advisor/insights/articles/brace-volatility-china-trade-dispute-worsens.html',\n",
       " 'https://www.capitalgroup.com/advisor/insights/articles/rates-rise-china-slides-market-volatility-commentary.html',\n",
       " 'https://www.capitalgroup.com/advisor/insights/articles/global-consolidation-5-charts.html',\n",
       " 'https://www.capitalgroup.com/advisor/insights/articles/3-key-takeaways-midterm-elections.html',\n",
       " 'https://www.capitalgroup.com/advisor/insights/articles/european-markets-navigating-choppy-seas.html',\n",
       " 'https://www.capitalgroup.com/advisor/insights/articles/global-trade-tariffs-6-charts.html',\n",
       " 'https://www.capitalgroup.com/advisor/insights/articles/tide-turning-qe-qt.html',\n",
       " 'https://www.capitalgroup.com/advisor/insights/articles/emerging-markets-mobile-commerce.html',\n",
       " 'https://www.capitalgroup.com/advisor/insights/articles/capital-spending-soared-2018.html',\n",
       " 'https://www.capitalgroup.com/advisor/insights/articles/consumer-expectations-spending.html',\n",
       " 'https://www.capitalgroup.com/advisor/insights/video/global-economy-remains-strong-despite-headwinds.html',\n",
       " 'https://www.capitalgroup.com/advisor/insights/articles/who-benefits-rising-commodity-prices.html',\n",
       " 'https://www.capitalgroup.com/advisor/insights/articles/long-view-volatility.html',\n",
       " 'https://www.capitalgroup.com/advisor/insights/articles/portfolio-manager-bullish-china-trade.html',\n",
       " 'https://www.capitalgroup.com/advisor/insights/articles/equity-returns-rising-inflation.html',\n",
       " 'https://www.capitalgroup.com/advisor/insights/articles/putting-market-volatility-in-perspective.html',\n",
       " 'https://www.capitalgroup.com/advisor/insights/articles/china-trade-dispute-rankles-markets.html',\n",
       " 'https://www.capitalgroup.com/advisor/insights/articles/wage-growth-leaves-room-economic-expansion.html',\n",
       " 'https://www.capitalgroup.com/advisor/insights/articles/bull-bear-history.html',\n",
       " 'https://www.capitalgroup.com/advisor/insights/articles/tax-reform-6-key-takeaways.html',\n",
       " 'https://www.capitalgroup.com/advisor/insights/articles/what-2018-tax-reforms-mean-for-investors.html',\n",
       " 'https://www.capitalgroup.com/advisor/insights/articles/return-market-volatility.html',\n",
       " 'https://www.capitalgroup.com/advisor/insights/articles/how-long-economic-expansion-continue.html',\n",
       " 'https://www.capitalgroup.com/advisor/insights/articles/fed-rates-inflation.html',\n",
       " 'https://www.capitalgroup.com/advisor/insights/articles/fed-balance-sheet-runoff.html',\n",
       " 'https://www.capitalgroup.com/advisor/insights/articles/women-investing-myth-reality.html',\n",
       " 'https://www.capitalgroup.com/advisor/insights/articles/japan-economic-outlook-rising-gdp.html',\n",
       " 'https://www.capitalgroup.com/advisor/insights/articles/millennials-lifting-labor-market.html',\n",
       " 'https://www.capitalgroup.com/advisor/insights/articles/dollar-weaker-europe.html',\n",
       " 'https://www.capitalgroup.com/advisor/insights/articles/india-surpasses-china-fastest-grower.html',\n",
       " 'https://www.capitalgroup.com/advisor/insights/articles/us-firing-more-cylinders.html',\n",
       " 'https://www.capitalgroup.com/advisor/insights/articles/growth-remains-steady-but-low.html',\n",
       " 'https://www.capitalgroup.com/advisor/insights/articles/infrastructure-bill-due.html',\n",
       " 'https://www.capitalgroup.com/advisor/insights/articles/10-charts-us-economy.html',\n",
       " 'https://www.capitalgroup.com/advisor/insights/articles/french-elections-part-deux.html',\n",
       " 'https://www.capitalgroup.com/advisor/insights/articles/us-investment-spending.html',\n",
       " 'https://www.capitalgroup.com/advisor/insights/articles/global-trade-patterns.html',\n",
       " 'https://www.capitalgroup.com/advisor/insights/articles/french-elections-outlook.html',\n",
       " 'https://www.capitalgroup.com/advisor/insights/articles/fed-lifting-march-slow-future-hikes.html',\n",
       " 'https://www.capitalgroup.com/advisor/insights/articles/india-economy-recovered-currency-recall.html',\n",
       " 'https://www.capitalgroup.com/advisor/insights/articles/markets-adjusting-policy-fog.html',\n",
       " 'https://www.capitalgroup.com/advisor/insights/articles/is-the-world-deglobalizing.html',\n",
       " 'https://www.capitalgroup.com/advisor/insights/articles/millennials-money.html',\n",
       " 'https://www.capitalgroup.com/advisor/insights/articles/world-shops-means-investors.html',\n",
       " 'https://www.capitalgroup.com/advisor/insights/articles/millennials-growing-confident-economy.html',\n",
       " 'https://www.capitalgroup.com/advisor/insights/articles/3-reasons-uk-ok.html',\n",
       " 'https://www.capitalgroup.com/advisor/insights/articles/brexit-how-did-we-get-here.html',\n",
       " 'https://www.capitalgroup.com/advisor/insights/articles/european-union-faces-crucial-test-brexit-referendum.html',\n",
       " 'https://www.capitalgroup.com/advisor/insights/webinars/recession-watch.html']"
      ]
     },
     "execution_count": 10,
     "metadata": {},
     "output_type": "execute_result"
    }
   ],
   "source": [
    "link_list"
   ]
  },
  {
   "cell_type": "code",
   "execution_count": null,
   "id": "159d447e",
   "metadata": {},
   "outputs": [],
   "source": [
    "i.get_attribute('href')"
   ]
  },
  {
   "cell_type": "code",
   "execution_count": null,
   "id": "595a5887",
   "metadata": {},
   "outputs": [],
   "source": [
    "body > div.root.responsivegrid.cg-wt-global-styles.cg-full-bleed > div > div.contentfragmentWT.contentfragment.aem-GridColumn.aem-GridColumn--default--12 > div > div.cmp-contentfragment--insights__content > div.cmp-contentfragment--insights__articleContent > div.cmp-contentfragment--insights__articlefragment"
   ]
  },
  {
   "cell_type": "code",
   "execution_count": 72,
   "id": "c33d1903",
   "metadata": {},
   "outputs": [],
   "source": [
    "def capitalgroup_insights(link):\n",
    "    driver = webdriver.Chrome()\n",
    "\n",
    "    driver.get(link)\n",
    "    sleep(10)\n",
    "   \n",
    "\n",
    "    content = driver.find_elements(By.CSS_SELECTOR, 'body > div.root.responsivegrid.cg-wt-global-styles.cg-full-bleed > div > div.contentfragmentWT.contentfragment.aem-GridColumn.aem-GridColumn--default--12 > div > div.cmp-contentfragment--insights__content > div.cmp-contentfragment--insights__articleContent > div.cmp-contentfragment--insights__articlefragment')\n",
    "    if bool(content) is True:\n",
    "        content = content[0].text\n",
    "    else:\n",
    "        content = 'N/A'\n",
    "    \n",
    "    \n",
    "    \n",
    "    title = driver.find_elements(By.CSS_SELECTOR, 'body > div.root.responsivegrid.cg-wt-global-styles.cg-full-bleed > div > div.contentfragmentWT.contentfragment.aem-GridColumn.aem-GridColumn--default--12 > div > div.cmp-contentfragment--insights__content > div.cmp-contentfragment--insights__heading > div')\n",
    "    if bool(title) is True:\n",
    "        title = title[0].text\n",
    "    else:\n",
    "        title = 'N/A'\n",
    "    \n",
    "    \n",
    "    date = driver.find_elements(By.CSS_SELECTOR, 'body > div.root.responsivegrid.cg-wt-global-styles.cg-full-bleed > div > div.contentfragmentWT.contentfragment.aem-GridColumn.aem-GridColumn--default--12 > div > div.cmp-contentfragment--insights__content > div.cmp-contentfragment--insights__authorSection > div.cmp-contentfragment--insights__articleDate')\n",
    "    if bool(date) is True:\n",
    "        date = date[0].text\n",
    "    else:\n",
    "        date = 'N/A'\n",
    "    \n",
    "    \n",
    "    \n",
    "    tag = driver.find_elements(By.CSS_SELECTOR, 'body > div.root.responsivegrid.cg-wt-global-styles.cg-full-bleed > div > div.contentfragmentWT.contentfragment.aem-GridColumn.aem-GridColumn--default--12 > div > div.cmp-contentfragment--insights__content > div.cmp-contentfragment--insights__heading > h6')\n",
    "    if bool(tag) is True:\n",
    "        tag = tag[0].text\n",
    "    else:\n",
    "        tag = 'N/A'\n",
    "    \n",
    "    \n",
    "    return {\n",
    "        'company': 'Capital Group', \n",
    "        'topic': 'Insight',\n",
    "        'title':title,\n",
    "        'link':link,\n",
    "        'date':date,\n",
    "        'content': content,\n",
    "        'tag': tag\n",
    "    }"
   ]
  },
  {
   "cell_type": "code",
   "execution_count": 24,
   "id": "46336ab9",
   "metadata": {},
   "outputs": [
    {
     "name": "stderr",
     "output_type": "stream",
     "text": [
      "  2%|█▉                                                                              | 3/126 [01:33<1:03:58, 31.21s/it]\n"
     ]
    },
    {
     "ename": "KeyboardInterrupt",
     "evalue": "",
     "output_type": "error",
     "traceback": [
      "\u001b[1;31m---------------------------------------------------------------------------\u001b[0m",
      "\u001b[1;31mKeyboardInterrupt\u001b[0m                         Traceback (most recent call last)",
      "\u001b[1;32m~\\AppData\\Local\\Temp/ipykernel_8976/3801653850.py\u001b[0m in \u001b[0;36m<module>\u001b[1;34m\u001b[0m\n\u001b[0;32m      1\u001b[0m \u001b[0mlistcapitalgroup_insights_list\u001b[0m \u001b[1;33m=\u001b[0m \u001b[1;33m[\u001b[0m\u001b[1;33m]\u001b[0m\u001b[1;33m\u001b[0m\u001b[1;33m\u001b[0m\u001b[0m\n\u001b[0;32m      2\u001b[0m \u001b[1;32mfor\u001b[0m \u001b[0mi\u001b[0m \u001b[1;32min\u001b[0m \u001b[0mtqdm\u001b[0m\u001b[1;33m(\u001b[0m\u001b[0mlink_list\u001b[0m\u001b[1;33m)\u001b[0m\u001b[1;33m:\u001b[0m\u001b[1;33m\u001b[0m\u001b[1;33m\u001b[0m\u001b[0m\n\u001b[1;32m----> 3\u001b[1;33m     \u001b[0mlistcapitalgroup_insights_list\u001b[0m\u001b[1;33m.\u001b[0m\u001b[0mappend\u001b[0m\u001b[1;33m(\u001b[0m\u001b[0mcapitalgroup_insights\u001b[0m\u001b[1;33m(\u001b[0m\u001b[0mi\u001b[0m\u001b[1;33m)\u001b[0m\u001b[1;33m)\u001b[0m\u001b[1;33m\u001b[0m\u001b[1;33m\u001b[0m\u001b[0m\n\u001b[0m",
      "\u001b[1;32m~\\AppData\\Local\\Temp/ipykernel_8976/2710476096.py\u001b[0m in \u001b[0;36mcapitalgroup_insights\u001b[1;34m(link)\u001b[0m\n\u001b[0;32m      2\u001b[0m     \u001b[0mdriver\u001b[0m \u001b[1;33m=\u001b[0m \u001b[0mwebdriver\u001b[0m\u001b[1;33m.\u001b[0m\u001b[0mChrome\u001b[0m\u001b[1;33m(\u001b[0m\u001b[1;33m)\u001b[0m\u001b[1;33m\u001b[0m\u001b[1;33m\u001b[0m\u001b[0m\n\u001b[0;32m      3\u001b[0m \u001b[1;33m\u001b[0m\u001b[0m\n\u001b[1;32m----> 4\u001b[1;33m     \u001b[0mdriver\u001b[0m\u001b[1;33m.\u001b[0m\u001b[0mget\u001b[0m\u001b[1;33m(\u001b[0m\u001b[0mlink\u001b[0m\u001b[1;33m)\u001b[0m\u001b[1;33m\u001b[0m\u001b[1;33m\u001b[0m\u001b[0m\n\u001b[0m\u001b[0;32m      5\u001b[0m     \u001b[0msleep\u001b[0m\u001b[1;33m(\u001b[0m\u001b[1;36m10\u001b[0m\u001b[1;33m)\u001b[0m\u001b[1;33m\u001b[0m\u001b[1;33m\u001b[0m\u001b[0m\n\u001b[0;32m      6\u001b[0m     \u001b[0mcontent\u001b[0m \u001b[1;33m=\u001b[0m \u001b[0mdriver\u001b[0m\u001b[1;33m.\u001b[0m\u001b[0mfind_element\u001b[0m\u001b[1;33m(\u001b[0m\u001b[0mBy\u001b[0m\u001b[1;33m.\u001b[0m\u001b[0mCSS_SELECTOR\u001b[0m\u001b[1;33m,\u001b[0m \u001b[1;34m'body > div.root.responsivegrid.cg-wt-global-styles.cg-full-bleed > div > div.contentfragmentWT.contentfragment.aem-GridColumn.aem-GridColumn--default--12 > div > div.cmp-contentfragment--insights__content > div.cmp-contentfragment--insights__articleContent > div.cmp-contentfragment--insights__articlefragment'\u001b[0m\u001b[1;33m)\u001b[0m\u001b[1;33m.\u001b[0m\u001b[0mtext\u001b[0m\u001b[1;33m\u001b[0m\u001b[1;33m\u001b[0m\u001b[0m\n",
      "\u001b[1;32m~\\anaconda3\\lib\\site-packages\\selenium\\webdriver\\remote\\webdriver.py\u001b[0m in \u001b[0;36mget\u001b[1;34m(self, url)\u001b[0m\n\u001b[0;32m    445\u001b[0m         \u001b[0mLoads\u001b[0m \u001b[0ma\u001b[0m \u001b[0mweb\u001b[0m \u001b[0mpage\u001b[0m \u001b[1;32min\u001b[0m \u001b[0mthe\u001b[0m \u001b[0mcurrent\u001b[0m \u001b[0mbrowser\u001b[0m \u001b[0msession\u001b[0m\u001b[1;33m.\u001b[0m\u001b[1;33m\u001b[0m\u001b[1;33m\u001b[0m\u001b[0m\n\u001b[0;32m    446\u001b[0m         \"\"\"\n\u001b[1;32m--> 447\u001b[1;33m         \u001b[0mself\u001b[0m\u001b[1;33m.\u001b[0m\u001b[0mexecute\u001b[0m\u001b[1;33m(\u001b[0m\u001b[0mCommand\u001b[0m\u001b[1;33m.\u001b[0m\u001b[0mGET\u001b[0m\u001b[1;33m,\u001b[0m \u001b[1;33m{\u001b[0m\u001b[1;34m'url'\u001b[0m\u001b[1;33m:\u001b[0m \u001b[0murl\u001b[0m\u001b[1;33m}\u001b[0m\u001b[1;33m)\u001b[0m\u001b[1;33m\u001b[0m\u001b[1;33m\u001b[0m\u001b[0m\n\u001b[0m\u001b[0;32m    448\u001b[0m \u001b[1;33m\u001b[0m\u001b[0m\n\u001b[0;32m    449\u001b[0m     \u001b[1;33m@\u001b[0m\u001b[0mproperty\u001b[0m\u001b[1;33m\u001b[0m\u001b[1;33m\u001b[0m\u001b[0m\n",
      "\u001b[1;32m~\\anaconda3\\lib\\site-packages\\selenium\\webdriver\\remote\\webdriver.py\u001b[0m in \u001b[0;36mexecute\u001b[1;34m(self, driver_command, params)\u001b[0m\n\u001b[0;32m    431\u001b[0m \u001b[1;33m\u001b[0m\u001b[0m\n\u001b[0;32m    432\u001b[0m         \u001b[0mparams\u001b[0m \u001b[1;33m=\u001b[0m \u001b[0mself\u001b[0m\u001b[1;33m.\u001b[0m\u001b[0m_wrap_value\u001b[0m\u001b[1;33m(\u001b[0m\u001b[0mparams\u001b[0m\u001b[1;33m)\u001b[0m\u001b[1;33m\u001b[0m\u001b[1;33m\u001b[0m\u001b[0m\n\u001b[1;32m--> 433\u001b[1;33m         \u001b[0mresponse\u001b[0m \u001b[1;33m=\u001b[0m \u001b[0mself\u001b[0m\u001b[1;33m.\u001b[0m\u001b[0mcommand_executor\u001b[0m\u001b[1;33m.\u001b[0m\u001b[0mexecute\u001b[0m\u001b[1;33m(\u001b[0m\u001b[0mdriver_command\u001b[0m\u001b[1;33m,\u001b[0m \u001b[0mparams\u001b[0m\u001b[1;33m)\u001b[0m\u001b[1;33m\u001b[0m\u001b[1;33m\u001b[0m\u001b[0m\n\u001b[0m\u001b[0;32m    434\u001b[0m         \u001b[1;32mif\u001b[0m \u001b[0mresponse\u001b[0m\u001b[1;33m:\u001b[0m\u001b[1;33m\u001b[0m\u001b[1;33m\u001b[0m\u001b[0m\n\u001b[0;32m    435\u001b[0m             \u001b[0mself\u001b[0m\u001b[1;33m.\u001b[0m\u001b[0merror_handler\u001b[0m\u001b[1;33m.\u001b[0m\u001b[0mcheck_response\u001b[0m\u001b[1;33m(\u001b[0m\u001b[0mresponse\u001b[0m\u001b[1;33m)\u001b[0m\u001b[1;33m\u001b[0m\u001b[1;33m\u001b[0m\u001b[0m\n",
      "\u001b[1;32m~\\anaconda3\\lib\\site-packages\\selenium\\webdriver\\remote\\remote_connection.py\u001b[0m in \u001b[0;36mexecute\u001b[1;34m(self, command, params)\u001b[0m\n\u001b[0;32m    342\u001b[0m         \u001b[0mdata\u001b[0m \u001b[1;33m=\u001b[0m \u001b[0mutils\u001b[0m\u001b[1;33m.\u001b[0m\u001b[0mdump_json\u001b[0m\u001b[1;33m(\u001b[0m\u001b[0mparams\u001b[0m\u001b[1;33m)\u001b[0m\u001b[1;33m\u001b[0m\u001b[1;33m\u001b[0m\u001b[0m\n\u001b[0;32m    343\u001b[0m         \u001b[0murl\u001b[0m \u001b[1;33m=\u001b[0m \u001b[1;34mf\"{self._url}{path}\"\u001b[0m\u001b[1;33m\u001b[0m\u001b[1;33m\u001b[0m\u001b[0m\n\u001b[1;32m--> 344\u001b[1;33m         \u001b[1;32mreturn\u001b[0m \u001b[0mself\u001b[0m\u001b[1;33m.\u001b[0m\u001b[0m_request\u001b[0m\u001b[1;33m(\u001b[0m\u001b[0mcommand_info\u001b[0m\u001b[1;33m[\u001b[0m\u001b[1;36m0\u001b[0m\u001b[1;33m]\u001b[0m\u001b[1;33m,\u001b[0m \u001b[0murl\u001b[0m\u001b[1;33m,\u001b[0m \u001b[0mbody\u001b[0m\u001b[1;33m=\u001b[0m\u001b[0mdata\u001b[0m\u001b[1;33m)\u001b[0m\u001b[1;33m\u001b[0m\u001b[1;33m\u001b[0m\u001b[0m\n\u001b[0m\u001b[0;32m    345\u001b[0m \u001b[1;33m\u001b[0m\u001b[0m\n\u001b[0;32m    346\u001b[0m     \u001b[1;32mdef\u001b[0m \u001b[0m_request\u001b[0m\u001b[1;33m(\u001b[0m\u001b[0mself\u001b[0m\u001b[1;33m,\u001b[0m \u001b[0mmethod\u001b[0m\u001b[1;33m,\u001b[0m \u001b[0murl\u001b[0m\u001b[1;33m,\u001b[0m \u001b[0mbody\u001b[0m\u001b[1;33m=\u001b[0m\u001b[1;32mNone\u001b[0m\u001b[1;33m)\u001b[0m\u001b[1;33m:\u001b[0m\u001b[1;33m\u001b[0m\u001b[1;33m\u001b[0m\u001b[0m\n",
      "\u001b[1;32m~\\anaconda3\\lib\\site-packages\\selenium\\webdriver\\remote\\remote_connection.py\u001b[0m in \u001b[0;36m_request\u001b[1;34m(self, method, url, body)\u001b[0m\n\u001b[0;32m    364\u001b[0m \u001b[1;33m\u001b[0m\u001b[0m\n\u001b[0;32m    365\u001b[0m         \u001b[1;32mif\u001b[0m \u001b[0mself\u001b[0m\u001b[1;33m.\u001b[0m\u001b[0mkeep_alive\u001b[0m\u001b[1;33m:\u001b[0m\u001b[1;33m\u001b[0m\u001b[1;33m\u001b[0m\u001b[0m\n\u001b[1;32m--> 366\u001b[1;33m             \u001b[0mresponse\u001b[0m \u001b[1;33m=\u001b[0m \u001b[0mself\u001b[0m\u001b[1;33m.\u001b[0m\u001b[0m_conn\u001b[0m\u001b[1;33m.\u001b[0m\u001b[0mrequest\u001b[0m\u001b[1;33m(\u001b[0m\u001b[0mmethod\u001b[0m\u001b[1;33m,\u001b[0m \u001b[0murl\u001b[0m\u001b[1;33m,\u001b[0m \u001b[0mbody\u001b[0m\u001b[1;33m=\u001b[0m\u001b[0mbody\u001b[0m\u001b[1;33m,\u001b[0m \u001b[0mheaders\u001b[0m\u001b[1;33m=\u001b[0m\u001b[0mheaders\u001b[0m\u001b[1;33m)\u001b[0m\u001b[1;33m\u001b[0m\u001b[1;33m\u001b[0m\u001b[0m\n\u001b[0m\u001b[0;32m    367\u001b[0m             \u001b[0mstatuscode\u001b[0m \u001b[1;33m=\u001b[0m \u001b[0mresponse\u001b[0m\u001b[1;33m.\u001b[0m\u001b[0mstatus\u001b[0m\u001b[1;33m\u001b[0m\u001b[1;33m\u001b[0m\u001b[0m\n\u001b[0;32m    368\u001b[0m         \u001b[1;32melse\u001b[0m\u001b[1;33m:\u001b[0m\u001b[1;33m\u001b[0m\u001b[1;33m\u001b[0m\u001b[0m\n",
      "\u001b[1;32m~\\anaconda3\\lib\\site-packages\\urllib3\\request.py\u001b[0m in \u001b[0;36mrequest\u001b[1;34m(self, method, url, fields, headers, **urlopen_kw)\u001b[0m\n\u001b[0;32m     76\u001b[0m             )\n\u001b[0;32m     77\u001b[0m         \u001b[1;32melse\u001b[0m\u001b[1;33m:\u001b[0m\u001b[1;33m\u001b[0m\u001b[1;33m\u001b[0m\u001b[0m\n\u001b[1;32m---> 78\u001b[1;33m             return self.request_encode_body(\n\u001b[0m\u001b[0;32m     79\u001b[0m                 \u001b[0mmethod\u001b[0m\u001b[1;33m,\u001b[0m \u001b[0murl\u001b[0m\u001b[1;33m,\u001b[0m \u001b[0mfields\u001b[0m\u001b[1;33m=\u001b[0m\u001b[0mfields\u001b[0m\u001b[1;33m,\u001b[0m \u001b[0mheaders\u001b[0m\u001b[1;33m=\u001b[0m\u001b[0mheaders\u001b[0m\u001b[1;33m,\u001b[0m \u001b[1;33m**\u001b[0m\u001b[0murlopen_kw\u001b[0m\u001b[1;33m\u001b[0m\u001b[1;33m\u001b[0m\u001b[0m\n\u001b[0;32m     80\u001b[0m             )\n",
      "\u001b[1;32m~\\anaconda3\\lib\\site-packages\\urllib3\\request.py\u001b[0m in \u001b[0;36mrequest_encode_body\u001b[1;34m(self, method, url, fields, headers, encode_multipart, multipart_boundary, **urlopen_kw)\u001b[0m\n\u001b[0;32m    168\u001b[0m         \u001b[0mextra_kw\u001b[0m\u001b[1;33m.\u001b[0m\u001b[0mupdate\u001b[0m\u001b[1;33m(\u001b[0m\u001b[0murlopen_kw\u001b[0m\u001b[1;33m)\u001b[0m\u001b[1;33m\u001b[0m\u001b[1;33m\u001b[0m\u001b[0m\n\u001b[0;32m    169\u001b[0m \u001b[1;33m\u001b[0m\u001b[0m\n\u001b[1;32m--> 170\u001b[1;33m         \u001b[1;32mreturn\u001b[0m \u001b[0mself\u001b[0m\u001b[1;33m.\u001b[0m\u001b[0murlopen\u001b[0m\u001b[1;33m(\u001b[0m\u001b[0mmethod\u001b[0m\u001b[1;33m,\u001b[0m \u001b[0murl\u001b[0m\u001b[1;33m,\u001b[0m \u001b[1;33m**\u001b[0m\u001b[0mextra_kw\u001b[0m\u001b[1;33m)\u001b[0m\u001b[1;33m\u001b[0m\u001b[1;33m\u001b[0m\u001b[0m\n\u001b[0m",
      "\u001b[1;32m~\\anaconda3\\lib\\site-packages\\urllib3\\poolmanager.py\u001b[0m in \u001b[0;36murlopen\u001b[1;34m(self, method, url, redirect, **kw)\u001b[0m\n\u001b[0;32m    373\u001b[0m             \u001b[0mresponse\u001b[0m \u001b[1;33m=\u001b[0m \u001b[0mconn\u001b[0m\u001b[1;33m.\u001b[0m\u001b[0murlopen\u001b[0m\u001b[1;33m(\u001b[0m\u001b[0mmethod\u001b[0m\u001b[1;33m,\u001b[0m \u001b[0murl\u001b[0m\u001b[1;33m,\u001b[0m \u001b[1;33m**\u001b[0m\u001b[0mkw\u001b[0m\u001b[1;33m)\u001b[0m\u001b[1;33m\u001b[0m\u001b[1;33m\u001b[0m\u001b[0m\n\u001b[0;32m    374\u001b[0m         \u001b[1;32melse\u001b[0m\u001b[1;33m:\u001b[0m\u001b[1;33m\u001b[0m\u001b[1;33m\u001b[0m\u001b[0m\n\u001b[1;32m--> 375\u001b[1;33m             \u001b[0mresponse\u001b[0m \u001b[1;33m=\u001b[0m \u001b[0mconn\u001b[0m\u001b[1;33m.\u001b[0m\u001b[0murlopen\u001b[0m\u001b[1;33m(\u001b[0m\u001b[0mmethod\u001b[0m\u001b[1;33m,\u001b[0m \u001b[0mu\u001b[0m\u001b[1;33m.\u001b[0m\u001b[0mrequest_uri\u001b[0m\u001b[1;33m,\u001b[0m \u001b[1;33m**\u001b[0m\u001b[0mkw\u001b[0m\u001b[1;33m)\u001b[0m\u001b[1;33m\u001b[0m\u001b[1;33m\u001b[0m\u001b[0m\n\u001b[0m\u001b[0;32m    376\u001b[0m \u001b[1;33m\u001b[0m\u001b[0m\n\u001b[0;32m    377\u001b[0m         \u001b[0mredirect_location\u001b[0m \u001b[1;33m=\u001b[0m \u001b[0mredirect\u001b[0m \u001b[1;32mand\u001b[0m \u001b[0mresponse\u001b[0m\u001b[1;33m.\u001b[0m\u001b[0mget_redirect_location\u001b[0m\u001b[1;33m(\u001b[0m\u001b[1;33m)\u001b[0m\u001b[1;33m\u001b[0m\u001b[1;33m\u001b[0m\u001b[0m\n",
      "\u001b[1;32m~\\anaconda3\\lib\\site-packages\\urllib3\\connectionpool.py\u001b[0m in \u001b[0;36murlopen\u001b[1;34m(self, method, url, body, headers, retries, redirect, assert_same_host, timeout, pool_timeout, release_conn, chunked, body_pos, **response_kw)\u001b[0m\n\u001b[0;32m    697\u001b[0m \u001b[1;33m\u001b[0m\u001b[0m\n\u001b[0;32m    698\u001b[0m             \u001b[1;31m# Make the request on the httplib connection object.\u001b[0m\u001b[1;33m\u001b[0m\u001b[1;33m\u001b[0m\u001b[0m\n\u001b[1;32m--> 699\u001b[1;33m             httplib_response = self._make_request(\n\u001b[0m\u001b[0;32m    700\u001b[0m                 \u001b[0mconn\u001b[0m\u001b[1;33m,\u001b[0m\u001b[1;33m\u001b[0m\u001b[1;33m\u001b[0m\u001b[0m\n\u001b[0;32m    701\u001b[0m                 \u001b[0mmethod\u001b[0m\u001b[1;33m,\u001b[0m\u001b[1;33m\u001b[0m\u001b[1;33m\u001b[0m\u001b[0m\n",
      "\u001b[1;32m~\\anaconda3\\lib\\site-packages\\urllib3\\connectionpool.py\u001b[0m in \u001b[0;36m_make_request\u001b[1;34m(self, conn, method, url, timeout, chunked, **httplib_request_kw)\u001b[0m\n\u001b[0;32m    443\u001b[0m                     \u001b[1;31m# Python 3 (including for exceptions like SystemExit).\u001b[0m\u001b[1;33m\u001b[0m\u001b[1;33m\u001b[0m\u001b[0m\n\u001b[0;32m    444\u001b[0m                     \u001b[1;31m# Otherwise it looks like a bug in the code.\u001b[0m\u001b[1;33m\u001b[0m\u001b[1;33m\u001b[0m\u001b[0m\n\u001b[1;32m--> 445\u001b[1;33m                     \u001b[0msix\u001b[0m\u001b[1;33m.\u001b[0m\u001b[0mraise_from\u001b[0m\u001b[1;33m(\u001b[0m\u001b[0me\u001b[0m\u001b[1;33m,\u001b[0m \u001b[1;32mNone\u001b[0m\u001b[1;33m)\u001b[0m\u001b[1;33m\u001b[0m\u001b[1;33m\u001b[0m\u001b[0m\n\u001b[0m\u001b[0;32m    446\u001b[0m         \u001b[1;32mexcept\u001b[0m \u001b[1;33m(\u001b[0m\u001b[0mSocketTimeout\u001b[0m\u001b[1;33m,\u001b[0m \u001b[0mBaseSSLError\u001b[0m\u001b[1;33m,\u001b[0m \u001b[0mSocketError\u001b[0m\u001b[1;33m)\u001b[0m \u001b[1;32mas\u001b[0m \u001b[0me\u001b[0m\u001b[1;33m:\u001b[0m\u001b[1;33m\u001b[0m\u001b[1;33m\u001b[0m\u001b[0m\n\u001b[0;32m    447\u001b[0m             \u001b[0mself\u001b[0m\u001b[1;33m.\u001b[0m\u001b[0m_raise_timeout\u001b[0m\u001b[1;33m(\u001b[0m\u001b[0merr\u001b[0m\u001b[1;33m=\u001b[0m\u001b[0me\u001b[0m\u001b[1;33m,\u001b[0m \u001b[0murl\u001b[0m\u001b[1;33m=\u001b[0m\u001b[0murl\u001b[0m\u001b[1;33m,\u001b[0m \u001b[0mtimeout_value\u001b[0m\u001b[1;33m=\u001b[0m\u001b[0mread_timeout\u001b[0m\u001b[1;33m)\u001b[0m\u001b[1;33m\u001b[0m\u001b[1;33m\u001b[0m\u001b[0m\n",
      "\u001b[1;32m~\\anaconda3\\lib\\site-packages\\urllib3\\packages\\six.py\u001b[0m in \u001b[0;36mraise_from\u001b[1;34m(value, from_value)\u001b[0m\n",
      "\u001b[1;32m~\\anaconda3\\lib\\site-packages\\urllib3\\connectionpool.py\u001b[0m in \u001b[0;36m_make_request\u001b[1;34m(self, conn, method, url, timeout, chunked, **httplib_request_kw)\u001b[0m\n\u001b[0;32m    438\u001b[0m                 \u001b[1;31m# Python 3\u001b[0m\u001b[1;33m\u001b[0m\u001b[1;33m\u001b[0m\u001b[0m\n\u001b[0;32m    439\u001b[0m                 \u001b[1;32mtry\u001b[0m\u001b[1;33m:\u001b[0m\u001b[1;33m\u001b[0m\u001b[1;33m\u001b[0m\u001b[0m\n\u001b[1;32m--> 440\u001b[1;33m                     \u001b[0mhttplib_response\u001b[0m \u001b[1;33m=\u001b[0m \u001b[0mconn\u001b[0m\u001b[1;33m.\u001b[0m\u001b[0mgetresponse\u001b[0m\u001b[1;33m(\u001b[0m\u001b[1;33m)\u001b[0m\u001b[1;33m\u001b[0m\u001b[1;33m\u001b[0m\u001b[0m\n\u001b[0m\u001b[0;32m    441\u001b[0m                 \u001b[1;32mexcept\u001b[0m \u001b[0mBaseException\u001b[0m \u001b[1;32mas\u001b[0m \u001b[0me\u001b[0m\u001b[1;33m:\u001b[0m\u001b[1;33m\u001b[0m\u001b[1;33m\u001b[0m\u001b[0m\n\u001b[0;32m    442\u001b[0m                     \u001b[1;31m# Remove the TypeError from the exception chain in\u001b[0m\u001b[1;33m\u001b[0m\u001b[1;33m\u001b[0m\u001b[0m\n",
      "\u001b[1;32m~\\anaconda3\\lib\\http\\client.py\u001b[0m in \u001b[0;36mgetresponse\u001b[1;34m(self)\u001b[0m\n\u001b[0;32m   1369\u001b[0m         \u001b[1;32mtry\u001b[0m\u001b[1;33m:\u001b[0m\u001b[1;33m\u001b[0m\u001b[1;33m\u001b[0m\u001b[0m\n\u001b[0;32m   1370\u001b[0m             \u001b[1;32mtry\u001b[0m\u001b[1;33m:\u001b[0m\u001b[1;33m\u001b[0m\u001b[1;33m\u001b[0m\u001b[0m\n\u001b[1;32m-> 1371\u001b[1;33m                 \u001b[0mresponse\u001b[0m\u001b[1;33m.\u001b[0m\u001b[0mbegin\u001b[0m\u001b[1;33m(\u001b[0m\u001b[1;33m)\u001b[0m\u001b[1;33m\u001b[0m\u001b[1;33m\u001b[0m\u001b[0m\n\u001b[0m\u001b[0;32m   1372\u001b[0m             \u001b[1;32mexcept\u001b[0m \u001b[0mConnectionError\u001b[0m\u001b[1;33m:\u001b[0m\u001b[1;33m\u001b[0m\u001b[1;33m\u001b[0m\u001b[0m\n\u001b[0;32m   1373\u001b[0m                 \u001b[0mself\u001b[0m\u001b[1;33m.\u001b[0m\u001b[0mclose\u001b[0m\u001b[1;33m(\u001b[0m\u001b[1;33m)\u001b[0m\u001b[1;33m\u001b[0m\u001b[1;33m\u001b[0m\u001b[0m\n",
      "\u001b[1;32m~\\anaconda3\\lib\\http\\client.py\u001b[0m in \u001b[0;36mbegin\u001b[1;34m(self)\u001b[0m\n\u001b[0;32m    317\u001b[0m         \u001b[1;31m# read until we get a non-100 response\u001b[0m\u001b[1;33m\u001b[0m\u001b[1;33m\u001b[0m\u001b[0m\n\u001b[0;32m    318\u001b[0m         \u001b[1;32mwhile\u001b[0m \u001b[1;32mTrue\u001b[0m\u001b[1;33m:\u001b[0m\u001b[1;33m\u001b[0m\u001b[1;33m\u001b[0m\u001b[0m\n\u001b[1;32m--> 319\u001b[1;33m             \u001b[0mversion\u001b[0m\u001b[1;33m,\u001b[0m \u001b[0mstatus\u001b[0m\u001b[1;33m,\u001b[0m \u001b[0mreason\u001b[0m \u001b[1;33m=\u001b[0m \u001b[0mself\u001b[0m\u001b[1;33m.\u001b[0m\u001b[0m_read_status\u001b[0m\u001b[1;33m(\u001b[0m\u001b[1;33m)\u001b[0m\u001b[1;33m\u001b[0m\u001b[1;33m\u001b[0m\u001b[0m\n\u001b[0m\u001b[0;32m    320\u001b[0m             \u001b[1;32mif\u001b[0m \u001b[0mstatus\u001b[0m \u001b[1;33m!=\u001b[0m \u001b[0mCONTINUE\u001b[0m\u001b[1;33m:\u001b[0m\u001b[1;33m\u001b[0m\u001b[1;33m\u001b[0m\u001b[0m\n\u001b[0;32m    321\u001b[0m                 \u001b[1;32mbreak\u001b[0m\u001b[1;33m\u001b[0m\u001b[1;33m\u001b[0m\u001b[0m\n",
      "\u001b[1;32m~\\anaconda3\\lib\\http\\client.py\u001b[0m in \u001b[0;36m_read_status\u001b[1;34m(self)\u001b[0m\n\u001b[0;32m    278\u001b[0m \u001b[1;33m\u001b[0m\u001b[0m\n\u001b[0;32m    279\u001b[0m     \u001b[1;32mdef\u001b[0m \u001b[0m_read_status\u001b[0m\u001b[1;33m(\u001b[0m\u001b[0mself\u001b[0m\u001b[1;33m)\u001b[0m\u001b[1;33m:\u001b[0m\u001b[1;33m\u001b[0m\u001b[1;33m\u001b[0m\u001b[0m\n\u001b[1;32m--> 280\u001b[1;33m         \u001b[0mline\u001b[0m \u001b[1;33m=\u001b[0m \u001b[0mstr\u001b[0m\u001b[1;33m(\u001b[0m\u001b[0mself\u001b[0m\u001b[1;33m.\u001b[0m\u001b[0mfp\u001b[0m\u001b[1;33m.\u001b[0m\u001b[0mreadline\u001b[0m\u001b[1;33m(\u001b[0m\u001b[0m_MAXLINE\u001b[0m \u001b[1;33m+\u001b[0m \u001b[1;36m1\u001b[0m\u001b[1;33m)\u001b[0m\u001b[1;33m,\u001b[0m \u001b[1;34m\"iso-8859-1\"\u001b[0m\u001b[1;33m)\u001b[0m\u001b[1;33m\u001b[0m\u001b[1;33m\u001b[0m\u001b[0m\n\u001b[0m\u001b[0;32m    281\u001b[0m         \u001b[1;32mif\u001b[0m \u001b[0mlen\u001b[0m\u001b[1;33m(\u001b[0m\u001b[0mline\u001b[0m\u001b[1;33m)\u001b[0m \u001b[1;33m>\u001b[0m \u001b[0m_MAXLINE\u001b[0m\u001b[1;33m:\u001b[0m\u001b[1;33m\u001b[0m\u001b[1;33m\u001b[0m\u001b[0m\n\u001b[0;32m    282\u001b[0m             \u001b[1;32mraise\u001b[0m \u001b[0mLineTooLong\u001b[0m\u001b[1;33m(\u001b[0m\u001b[1;34m\"status line\"\u001b[0m\u001b[1;33m)\u001b[0m\u001b[1;33m\u001b[0m\u001b[1;33m\u001b[0m\u001b[0m\n",
      "\u001b[1;32m~\\anaconda3\\lib\\socket.py\u001b[0m in \u001b[0;36mreadinto\u001b[1;34m(self, b)\u001b[0m\n\u001b[0;32m    702\u001b[0m         \u001b[1;32mwhile\u001b[0m \u001b[1;32mTrue\u001b[0m\u001b[1;33m:\u001b[0m\u001b[1;33m\u001b[0m\u001b[1;33m\u001b[0m\u001b[0m\n\u001b[0;32m    703\u001b[0m             \u001b[1;32mtry\u001b[0m\u001b[1;33m:\u001b[0m\u001b[1;33m\u001b[0m\u001b[1;33m\u001b[0m\u001b[0m\n\u001b[1;32m--> 704\u001b[1;33m                 \u001b[1;32mreturn\u001b[0m \u001b[0mself\u001b[0m\u001b[1;33m.\u001b[0m\u001b[0m_sock\u001b[0m\u001b[1;33m.\u001b[0m\u001b[0mrecv_into\u001b[0m\u001b[1;33m(\u001b[0m\u001b[0mb\u001b[0m\u001b[1;33m)\u001b[0m\u001b[1;33m\u001b[0m\u001b[1;33m\u001b[0m\u001b[0m\n\u001b[0m\u001b[0;32m    705\u001b[0m             \u001b[1;32mexcept\u001b[0m \u001b[0mtimeout\u001b[0m\u001b[1;33m:\u001b[0m\u001b[1;33m\u001b[0m\u001b[1;33m\u001b[0m\u001b[0m\n\u001b[0;32m    706\u001b[0m                 \u001b[0mself\u001b[0m\u001b[1;33m.\u001b[0m\u001b[0m_timeout_occurred\u001b[0m \u001b[1;33m=\u001b[0m \u001b[1;32mTrue\u001b[0m\u001b[1;33m\u001b[0m\u001b[1;33m\u001b[0m\u001b[0m\n",
      "\u001b[1;31mKeyboardInterrupt\u001b[0m: "
     ]
    }
   ],
   "source": [
    "listcapitalgroup_insights_list = []\n",
    "for i in tqdm(link_list):\n",
    "    listcapitalgroup_insights_list.append(capitalgroup_insights(i))"
   ]
  },
  {
   "cell_type": "code",
   "execution_count": null,
   "id": "6cc58b3f",
   "metadata": {},
   "outputs": [],
   "source": [
    "body > div.root.responsivegrid.cg-wt-global-styles.cg-full-bleed > div > div.contentfragmentWT.contentfragment.aem-GridColumn.aem-GridColumn--default--12 > div > div.cmp-contentfragment--insights__content > div.cmp-contentfragment--insights__heading > div"
   ]
  },
  {
   "cell_type": "code",
   "execution_count": 25,
   "id": "7b4759a5",
   "metadata": {},
   "outputs": [
    {
     "data": {
      "text/plain": [
       "[{'company': 'Capital Group',\n",
       "  'topic': 'Insight',\n",
       "  'title': 'Pandemic, war and climate change sharpen focus on ESG',\n",
       "  'link': 'https://www.capitalgroup.com/advisor/insights/articles/pandemic-war-and-climate-change-sharpen-focus-on-esg.html',\n",
       "  'date': 'July 27, 2022',\n",
       "  'content': 'While COVID-19 helped accelerate the ESG agenda, the tragic invasion of Ukraine is likely to further speed up its evolution.\\n\\nThe pandemic shone a spotlight on the “S” — or social issues — of ESG. The conflict in Ukraine has brought the “G” (the governance component) to investors’ attention. At the same time, a growing understanding of the implications and importance of climate change has meant that “E” (the environmental piece) continues to dominate investors’ ESG focus.\\n\\nThese insights and many more surfaced in Capital Group’s annual ESG global study published in May 2022. Collecting views from more than 1,100 institutional and wholesale investment professionals across Europe, North America and Asia-Pacific, the study showed ESG trends continue to gain traction.\\n\\nESG momentum builds\\n\\nMomentum behind ESG and sustainability continues to build, fueled by investor demand and a desire to make an impact. Compared with the previous year, a higher proportion of global investors describe their ESG stance as one of conviction, acceptance or compliance. This global cohort of ESG adopters rose to almost 90%, up from 84% in 2021. Over the same period, the number who are either on the sidelines or non-adopters has fallen to 11%, down from 16% the previous year.\\n\\nESG adoption by global investors continues to grow\\nSource: Capital Group, ESG Global Study 2022.\\nConviction in ESG is further underscored in the finding that just 13% of global investors agree ESG is a passing fad and will go out of fashion. This demonstrates how most investors view ESG as a permanent and pre-eminent part of the investment landscape.\\n\\nESG poised to become a permanent part of the investment landscape\\nSource: Capital Group, ESG Global Study 2022.\\nThe “E” of ESG continues to dominate, but greater recognition of “S”\\n\\nThe structural and societal pressures arising from climate change have been key in driving environmental issues — the “E” in ESG — to the top of investors’ sustainability concerns. The study showed that the environment continued to dominate allocation decisions, with investors increasing their focus on “E,” which rose from the year before (47% vs. 44%).\\n\\nThe “E” in ESG still dominates\\nSource: Capital Group, ESG Global Study 2022.\\nAlthough investors indicated an even greater focus on environmental issues in 2022, there are signs that this may change in the future as people recognize an imbalance. When asked whether social issues are being overlooked by this environmental focus, 41% of investors agreed.\\n\\nQualitative research we carried out as part of the study suggests some reasons behind these views. It is possible that the impact of the COVID-19 pandemic raised greater awareness on the importance of safe working conditions, access to health care and education.\\n\\nThe “S” in ESG is rising in prominence\\nSource: Capital Group, ESG Global Study 2022.\\nAs strict lockdowns were imposed across the world, companies operating in the retail and health care sectors came under particular pressure to ensure the safety and well-being of their workers. Many responded by providing protective equipment or extending paid sick leave to temporary staff and contractors. Other companies provided their goods and services free of charge — such as internet access, video conferences and remote learning to schools and universities — as a way of supporting their broader communities.\\n\\nWith an increased understanding that social issues can have material and far-reaching consequences for companies and the communities they serve, the impact of the pandemic may have prompted investors to look across a wider range of ESG issues.\\n\\n“G” increases its profile\\n\\nRussia’s invasion of Ukraine also brought several ESG issues into the spotlight, with concerns around governance flagged by respondents in the survey.\\n\\nThe global response to Russian aggression was not just political, as the corporate sector was quick to take a stance. Many companies made statements regarding their business exposure to Russia.\\n\\nAt Capital Group, we followed company actions closely. While much of the media focus was on actions announced publicly, we paid particular attention to companies that had not made public statements. Digging behind the public pronouncements helped us to gain a better understanding of the impacts and how companies’ license to operate may be affected.\\n\\nSentiments on governance concerns were echoed by a number of investors surveyed.\\n\\n“I think the crisis should, and probably will, bring governance into sharper focus,” says the CIO of an independent advisory firm. “But that should have always been the case — it’s sad that we need a tragedy and war to highlight the importance of the ‘G’.”\\n\\nA portfolio manager at a wealth management firm agreed: “I think the crisis has strengthened the ESG argument because it really is making people focus on what’s important — and that’s social governance, which is right up there in my view.”\\n\\nThe impacts of major world events have always been felt in investment markets. Building an understanding of the first-, second- and third-order effects of events and how these might impact investment decisions is not new. Viewing the consequences of these events through an ESG lens can provide a richer perspective and help frame events for investors.\\n\\nHowever, there are still challenges to overcome, which the survey also highlighted.\\n\\nAccess to reliable and consistent ESG data remains a key challenge\\n\\nA theme that came through loud and clear in last year’s study, and was reinforced in this year’s results, is the difficulties experienced in accessing and interpreting ESG data. Specific issues raised by respondents included access to ESG data, consistency between ESG data providers and transparency of benchmark and index data.\\n\\nDifficulties with the robustness of data and inconsistent scores are hampering the ability of investors to incorporate ESG considerations into their investment process.\\n\\nESG ratings and accessing data remain the largest challenges\\nSource: Capital Group, ESG Global Study 2022.\\nThe No. 1 challenge global investors cited in implementing ESG investments is a lack of consistency between different ESG rating providers (25%). This was closely followed by difficulties accessing ESG information and data.\\n\\nInconsistent and inaccurate ESG scores result from a multitude of factors. These include backward-looking data that fails to adequately assess the future value of companies transitioning to address sustainability issues. These companies could play an important role in driving change and may become tomorrow’s ESG leaders. The subjective nature of scoring systems also means there are varying views on the relative importance and material impact of different ESG factors in different sectors and countries.\\n\\nConsistency in regulation was also raised as a significant roadblock. Investors are looking to regulators to provide common standards and definitions. When asked what the ESG regulatory framework should prioritize in their respective countries, the highest proportion of respondents cite the need to harmonize global standards, taxonomies and metrics (45%). This indicates investors are struggling to untangle an increasingly complex and disjointed web of global regulations issued by different entities.\\n\\nOvercoming data challenges will help ESG to broaden its reach. Results from our global study show that momentum behind ESG and sustainability continues to build. Despite challenges around data, it appears that investors’ awareness of ESG topics is not just increasing, it is also broadening to cover a wider range of social and governance issues.\\n\\nFor a more detailed look at the latest findings, check out the full survey.\\n\\n ',\n",
       "  'tag': 'ESG'},\n",
       " {'company': 'Capital Group',\n",
       "  'topic': 'Insight',\n",
       "  'title': 'Rob Lovelace on all-weather investing',\n",
       "  'link': 'https://www.capitalgroup.com/advisor/insights/articles/rob-lovelace-all-weather-investing.html',\n",
       "  'date': 'June 29, 2022',\n",
       "  'content': \"The world has changed.\\n\\nWe are living through a pivotal time in history, marked by geopolitical realignment, high inflation, volatile financial markets and the end of a 40-year period of declining interest rates. The title of this new era could be Brave New World or Back to the Future. But I think the title I would select is Revenge of the Boomers, because a lot of these events rhyme with the past, particularly the early 1960s. That’s when we saw interest rates bottom out after decades of decline, as well as the rise of the Cold War era, which is unfortunately rearing its head again in some respects.\\n\\nDespite these challenges, I remain optimistic about the investing environment for several reasons. First, there are still signs of growth as the global economy recovers from the pandemic. Second, I believe corporate earnings will be the driving force of equity markets going forward, as opposed to multiple expansion, and that signifies a welcome return to fundamentals. Multiples needed to contract, and that is what we’ve seen over the past few months.\\n\\nThird, I think we will experience a healthy recession in the next year or two. That’s right, a healthy recession. Despite all the worry about it, I see a moderate recession as necessary to clean out the excesses of the past decade. You can’t have such a sustained period of growth without an occasional downturn to balance things out. It’s normal. It’s expected. It’s healthy.\\n\\nWe’ve seen a strong market leadership change in recent months\\nSources: Capital Group, FactSet, MSCI, Standard & Poor’s. MT FAANG represents the collective price performance of shares of Microsoft, Tesla, Meta (Facebook), Amazon, Apple, Netflix and Alphabet (Google). Defensive stocks typically generate relatively stable returns regardless of the state of the economy or the overall markets. Cyclical stocks tend to move up or down roughly in line with economic growth or contraction cycles. Index values do not reflect the impact of dividends. Data shown as of 4/30/22.\\nWhat this means for stock markets\\n\\nIn my view, we are heading into a period of real change, a fundamentally different marketplace where different leadership will emerge. That’s in sharp contrast to the 2020 COVID-19 downturn, which was really just a temporary blip in a decade-plus bull market. We know this because the same stocks that led the bull market — a relatively small group of tech-related companies — did so on the way back up.\\n\\nIn a true market shift, the leadership coming out of a bear market is usually a new sector or a new group of companies. And it’s not necessarily the same group that led on the way down. For instance, in the current environment, energy stocks have staged a remarkable rally. Do I think the energy sector is going to drive the next bull market? I do not.\\n\\nMarket leaders before and after a bear market are rarely the same\\nSources: Capital Group, MSCI, Refinitiv Datastream. Returns are absolute total returns in U.S. dollars. The periods covered are: the tech bubble, December 31, 1996 to May 31, 2000 (before bear market) and September 30, 2002 to December 30, 2005 (after bear market); the global financial crisis, December 31, 2003 to September 28, 2007 (before) and May 31, 2009 to December 31, 2013 (after); and the current market, December 31, 2021 to May 31, 2022.\\nThat said, I wouldn’t count out the FAANG (Facebook, Amazon, Apple, Netflix, Google) stocks, but I think it’s going to be a very different market going forward. It won’t be driven by a small set of stocks anymore. It won’t be characterized by growth vs. value, or U.S. vs. international. Those binary concepts don’t make sense in this environment. I think the market will be less one dimensional, and I expect a broader mix of stocks to lead us out of this downturn.\\n\\nWhat this means for bond markets\\n\\nWe are also seeing a profound shift in bond markets as we reach the end of a 40-year path of falling interest rates. Sharply higher inflation levels, not seen since the 1980s, are forcing the Federal Reserve and other central banks to aggressively tighten monetary policy. The Fed is behind the curve, which means rates are probably going to move higher from here.\\n\\nHowever, that doesn't mean we are going back to exceedingly high inflation and interest rates. It just means that, for decades, we have lived in a declining rate environment that has been highly supportive of markets. That’s all changed. Things are likely to be more difficult going forward. But even amid these headwinds, opportunities will emerge.\\n\\nIs this the end of a 40-year declining rate period?\\nSources: Capital Group, Refinitiv Datastream. Data shown as of 6/23/2022.\\nThat’s one reason I like to call this era “Revenge of the Boomers,” because it’s so reminiscent of the 1960s. Interest rates moved higher, but they didn’t spike to 16% overnight. It took decades for that to happen, and there were many policy mistakes along the way. Throughout the 1960s, rates stayed in the 3% to 6% range. It was a volatile period, but overall it was still a good environment for investing. The real trouble came later. Hopefully we’ve learned some lessons from the past and we won’t repeat the 1970s.\\n\\nIn the meantime, it’s important to remember that higher nominal interest rates are good for savers. This is a novel concept for younger folks, but boomers grew up in a world where interest rates were sufficient to earn a decent return on savings accounts and money market funds. That’s a positive change. It makes people feel better about saving, and I see it as a solid underpinning for the market.\\n\\nOver time, higher rates will also bring income back to the fixed income markets — something that has been sorely missed in the era of easy money. The importance of that shift cannot be overstated. It should eventually restore bonds to their rightful role providing diversification from equity risk.\\n\\nAlong those same lines, some inflation is actually a good thing. It allows well-positioned companies to raise prices, and it results in generally higher wages. That makes people feel better about their jobs and progress. It is hard to predict what will happen to real purchasing power, but we have seen in the past decade that without a little inflation, people feel like they’re not getting ahead.\\n\\nWhat this means for investors\\n\\nMaintaining a balanced, “all-weather” portfolio makes sense in any environment, but particularly this one. Earlier this year I reminded investors to keep an eye on valuations and prepare for a market correction. I remarked that I was buying a raincoat, but not putting it on yet. Turns out, it’s nice to have that raincoat handy. Market volatility has returned, but that’s no reason to be discouraged.\\n\\nAt Capital Group, our fundamental, bottom-up investment approach leaves us well positioned to identify specific companies that can generate strong earnings growth. We remain confident that we have the right people in place making decisions based on deep, company-specific research, which has always formed the basis of our long-term investment philosophy.\\n\\nIndeed, the world has changed dramatically. But, for selective investors, change creates opportunity.\",\n",
       "  'tag': 'MARKETS & ECONOMY'},\n",
       " {'company': 'Capital Group',\n",
       "  'topic': 'Insight',\n",
       "  'title': \"Fed's aggressive path could mean more market turmoil\",\n",
       "  'link': 'https://www.capitalgroup.com/advisor/insights/articles/fed-aggressive-path-could-mean-more-market-turmoil.html',\n",
       "  'date': 'June 16, 2022',\n",
       "  'content': \"With a 75-basis-point (bps) rate hike, the biggest single move in nearly three decades, the U.S. Federal Reserve has signaled that bringing down inflation is its primary focus. The Fed moved to a more aggressive policy stance following a firmer-than-expected May consumer price index (CPI) report, which showed an 8.6% increase, driven by broad-based price pressures.\\n\\nWith little indication that these pressures have peaked, and a greater risk that inflation will spiral out of control, the Fed is likely to maintain an aggressive posture unless financial conditions tighten sharply. \\n\\n“Clearly today's 75 bps increase is an unusually large one, and I do not expect moves of this size to be common. From the perspective of today, either a 50 bps or a 75 bps increase seems most likely at our next meeting,” Fed Chair Jerome Powell said following the June 15 decision. The Fed’s new “dot plot,” which shows the Fed governors’ individual inflation projections, is now signaling that the federal funds rate could be 3.4% by the end of the year. The market appeared to pare back expectations on the pace of rate hikes as a result, and stocks rose immediately after the Fed’s announcement.\\n\\nNotwithstanding the 75 bps rise, which brings the federal funds rate target to a range of 1.50%—1.75%, the May CPI report left little doubt that inflation is moving higher and remains the Fed’s main concern. The Fed’s latest policy statement said the committee “is strongly committed to returning inflation to its 2% objective,” while Powell said they were “acutely” attuned to inflation risks.  \\n\\nWe’re seeing strong contributions to monthly core CPI from both goods and services, although retail spending declined in May, which could suggest demand is starting to cool. Approximately 20% of the sectors in the core CPI basket are experiencing inflation at or below the Fed’s target of 2%, compared to around 55% before the COVID-19 pandemic. Meanwhile, owners’ equivalent rent (24% of the CPI basket) is moving decisively higher, a trend that will likely persist in the coming months.\\n\\nInflationary pressures are broad-based\\nSource: U.S. Bureau of Labor Statistics. CPI = consumer price index. Core CPI refers to all items in the consumer price index excluding food and energy. “Other” comprises all categories in the core CPI excluding transportation services, shelter and transportation commodities. Data as of June 10, 2022.\\nThe central bank’s job is made that much more difficult because the labor market is extremely tight. Recent academic and private-sector research shows that it may be even tighter than the official data suggests because of the decline in the labor force participation rate. Below, we provide perspectives from U.S. economist Darrell Spence, fixed income portfolio managers Tim Ng and Damien McCann, and solutions portfolio manager Wesley Phoa. \\n\\nStocks remain vulnerable amid rising rates and recession risk\\nDarrell Spence, U.S. economist\\n\\nWe are starting to see a moderate wage-price spiral developing in the United States, and as I look at the landscape, it is hard to see a clear path to bring inflation back to the Fed’s 2% target without putting the economy into a recession. Given its inability to fix supply side bottlenecks, lower growth and rising unemployment are what the Fed has to achieve if it wants to actually get inflation down.\\n\\nThe only way to really break the wage-price spiral, in my view, is to create a lot of slack in the labor market, which is done by pushing the unemployment rate up. As such, the unemployment rate may need to rise by 2 percentage points, or even more, before wage growth starts to moderate. Despite the current strength we are seeing in consumer and corporate balance sheets, I believe this will make a recession very difficult to avoid in 2023.\\n\\nThe S&P 500 Index entered bear market territory on June 13 (closing 20% below its most recent high), but I see little reason to believe market turmoil will cause the Fed to back off its plan. I think it will take a clear and significant deceleration of inflation for the Fed to stop hiking.\\n\\nMidyear Outlook webinar\\nWatch it on demand\\nCE credit available\\nREGISTER OR SIGN IN\\nCore CPI is currently around 6%, and the Fed’s target is 2%, suggesting a 4-percentage-point decline in core CPI is needed. This is nearly as large as the 5-percentage-point decline that occurred in the early 1980s (once one adjusts the historical CPI data for methodological changes that have occurred since then). Achieving that amount of disinflation ultimately required a real federal funds rate in excess of 5%.\\n\\nCurrently, the market expects the federal funds rate to peak around 4% in mid-2023, which would most likely still leave the real federal funds rate in negative territory. No tightening cycle has ended with the real federal funds rate still in negative territory. Granted, many things about the economy are different from what they were during earlier tightening cycles, but this does suggest the Fed may have to raise rates by more than the market currently expects.\\n\\nWhat does this mean for markets and earnings?\\n\\nA more challenging economic environment will likely pressure corporate earnings as we head into 2023. While the silver lining to inflation is that it can provide a boost to earnings growth, that is usually a short-lived phenomenon and eventually outweighed by the decline in activity that inflation — and the associated policy response — can generate. I still expect earnings per share (EPS) for companies in the S&P 500 to grow around 7% in 2022. However, I now expect a nearly 10% decline in 2023. This puts the market price-earnings multiple at 18.7x for 2023. This is still a bit high for the interest rate environment I envision, and there is also a chance that the earnings forecast gets revised down even further.\\n\\nThe bottom line is that bear markets associated with a recession have tended to be deeper and longer. History shows that such bear markets (in this case defined by a 15% market decline threshold) experienced a median percentage decline of 33.9% over a median duration of 17 months. Thus, we may continue to experience market volatility, and could potentially see another leg down before we reach a market bottom.\\n\\nFed likely to stick with tightening path\\nTim Ng, portfolio manager and interest rates analyst\\n\\nWe are seeing a significant inversion in the front end of the yield curve with interest rate futures showing the fed funds rate peaking at 4% by the middle of 2023 but approximately 50 basis points of cuts thereafter. This makes sense as the market continues to pull rate hikes forward.\\n\\nWhile I continue to think inflationary pressures will stay elevated and the Fed will need to tighten further, I also think the central bank will be mindful of the potential impact on markets and the tightening of financial conditions. Even though the Fed is laser focused on inflation and has demonstrated a high tolerance for declining asset prices, it will not ignore the need for market stability.\\n\\nWith the market already pricing 4% peak funds and 200 bps of hikes over the next three meetings, the risk/reward of staying short duration is becoming less attractive. Duration is a measure of a bond’s price to interest rate changes. Keeping duration and curve exposures closer to neutral makes sense as we approach what I think will likely be a volatile period in markets for the remainder of the year. \\n\\nStay selective in credit markets\\nDamien McCann, portfolio manager, American Funds Multi-Sector Income FundSM\\n\\nThe next few quarters will likely continue to be bumpy for fixed income spread assets. While valuations have cheapened across fixed income sectors, I think it still may be early to go overweight in the riskier areas of the market, such as high yield. Now is a time to think about protecting a portfolio by investing in parts of the market that are more attractively valued, and relying on research and active management to help get through this period with as little damage as possible. Within credit, on a relative basis, we are finding greater value in securitized credit and select areas of emerging markets debt. These markets have priced in a lot of the geopolitical risk from the Russia-Ukraine war. And in many cases, emerging markets central banks are ahead of their developed market counterparts in the fight on inflation. \\n\\nFavoring a defensive posture in riskier asset classes\\nWesley Phoa, solutions portfolio manager\\n\\nWith its more aggressive stance, the Fed continues to regain credibility. But markets will remain volatile and risk assets will stay under pressure. We’ve had a long period of very low rates when so-called long-duration stocks did really well. If these growth stocks had good long-term prospects, it did not matter that they were burning cash. That dynamic has reversed as the discount rate on stocks has gone up with the spike in yields. \\n\\nAt the same time, there is a lot less liquidity in the markets as quantitative easing shifts to quantitative tightening. With lower liquidity, investors are not as willing to fund companies burning cash today for growth tomorrow. As a result, in addition to equities, many riskier asset classes have come under selling pressure, including private credit, private equity, crypto currencies and financing for mergers-and-acquisitions (M&A) activity. \\n\\nMany Capital Group portfolio managers have sought to reduce their risk exposure by moving investments to areas of growth that traditionally have stronger cash flows, to less cyclical industries and, where appropriate by mandate, to dividend-oriented stocks. \\n\\nStock valuations have also ratcheted down as profit margins are compressed by higher input costs. Improved labor bargaining power results in higher labor costs for companies. And heightened supply chain risk is forcing companies to move away from just-in-time inventories and build redundancies.\\n\\nThat said, the negative factors today are easier to see. The trends are more apparent and, hence, getting priced in quickly by markets. But for the longer term, I view it as a positive development that labor has structurally more bargaining power. It’s better for households, and what’s good for consumers is good for the economy in the long term. I expect solid, long-term innovation-driven investment themes, and companies will survive and thrive as investors distinguish the wheat from the chaff.\",\n",
       "  'tag': 'FED'}]"
      ]
     },
     "execution_count": 25,
     "metadata": {},
     "output_type": "execute_result"
    }
   ],
   "source": [
    "listcapitalgroup_insights_list"
   ]
  },
  {
   "cell_type": "markdown",
   "id": "e82d7d9a",
   "metadata": {},
   "source": [
    "## Retirement"
   ]
  },
  {
   "cell_type": "code",
   "execution_count": 26,
   "id": "2077cbd1",
   "metadata": {},
   "outputs": [],
   "source": [
    "retirement_url = 'https://www.capitalgroup.com/advisor/insights/categories/retirement.html'"
   ]
  },
  {
   "cell_type": "code",
   "execution_count": 28,
   "id": "7792ff07",
   "metadata": {},
   "outputs": [
    {
     "name": "stdout",
     "output_type": "stream",
     "text": [
      "exit?\n"
     ]
    }
   ],
   "source": [
    "driver = webdriver.Chrome()\n",
    "\n",
    "driver.get(retirement_url)\n",
    "sleep(15)\n",
    "\n",
    "# button = driver.find_element(By.CSS_SELECTOR, '#blue-box > div > div.text.cg-global-body-2.cg-padding-bottom--mobile--20.aem-GridColumn--default--none.aem-GridColumn--phone--none.aem-GridColumn--phone--12.aem-GridColumn.aem-GridColumn--default--10.aem-GridColumn--offset--phone--0.aem-GridColumn--offset--default--1 > div > p > button')\n",
    "# button.click()\n",
    "# link_list_news =[link.get_attribute('href') for link in driver.find_elements(By.XPATH, '//*[@class=\"title\"]//a')]\n",
    "\n",
    "# while True:\n",
    "\n",
    "#     try:\n",
    "#         if driver.find_element(By.CSS_SELECTOR, '.cmp-articlelist__button'):\n",
    "#             show_more_button = driver.find_element(By.CSS_SELECTOR, '.cmp-articlelist__button')    \n",
    "#             driver.click()\n",
    "#         else:\n",
    "#             break\n",
    "            \n",
    "\n",
    "#     except: \n",
    "#         pass\n",
    "\n",
    "\n",
    "sleep(15)\n",
    "link_list = [i.get_attribute('href') for i in driver.find_elements(By.CSS_SELECTOR,'article > a[data-analytics-label=\"trackLink:article\"]')]\n",
    "input('exit?')\n",
    "driver.quit() "
   ]
  },
  {
   "cell_type": "code",
   "execution_count": 32,
   "id": "d1ffa742",
   "metadata": {},
   "outputs": [
    {
     "data": {
      "text/plain": [
       "54"
      ]
     },
     "execution_count": 32,
     "metadata": {},
     "output_type": "execute_result"
    }
   ],
   "source": [
    "len(link_list)"
   ]
  },
  {
   "cell_type": "code",
   "execution_count": 33,
   "id": "35ed8509",
   "metadata": {},
   "outputs": [
    {
     "name": "stderr",
     "output_type": "stream",
     "text": [
      "  4%|███                                                                                | 2/54 [01:10<30:24, 35.09s/it]\n"
     ]
    },
    {
     "ename": "KeyboardInterrupt",
     "evalue": "",
     "output_type": "error",
     "traceback": [
      "\u001b[1;31m---------------------------------------------------------------------------\u001b[0m",
      "\u001b[1;31mKeyboardInterrupt\u001b[0m                         Traceback (most recent call last)",
      "\u001b[1;32m~\\AppData\\Local\\Temp/ipykernel_8976/3801653850.py\u001b[0m in \u001b[0;36m<module>\u001b[1;34m\u001b[0m\n\u001b[0;32m      1\u001b[0m \u001b[0mlistcapitalgroup_insights_list\u001b[0m \u001b[1;33m=\u001b[0m \u001b[1;33m[\u001b[0m\u001b[1;33m]\u001b[0m\u001b[1;33m\u001b[0m\u001b[1;33m\u001b[0m\u001b[0m\n\u001b[0;32m      2\u001b[0m \u001b[1;32mfor\u001b[0m \u001b[0mi\u001b[0m \u001b[1;32min\u001b[0m \u001b[0mtqdm\u001b[0m\u001b[1;33m(\u001b[0m\u001b[0mlink_list\u001b[0m\u001b[1;33m)\u001b[0m\u001b[1;33m:\u001b[0m\u001b[1;33m\u001b[0m\u001b[1;33m\u001b[0m\u001b[0m\n\u001b[1;32m----> 3\u001b[1;33m     \u001b[0mlistcapitalgroup_insights_list\u001b[0m\u001b[1;33m.\u001b[0m\u001b[0mappend\u001b[0m\u001b[1;33m(\u001b[0m\u001b[0mcapitalgroup_insights\u001b[0m\u001b[1;33m(\u001b[0m\u001b[0mi\u001b[0m\u001b[1;33m)\u001b[0m\u001b[1;33m)\u001b[0m\u001b[1;33m\u001b[0m\u001b[1;33m\u001b[0m\u001b[0m\n\u001b[0m",
      "\u001b[1;32m~\\AppData\\Local\\Temp/ipykernel_8976/2710476096.py\u001b[0m in \u001b[0;36mcapitalgroup_insights\u001b[1;34m(link)\u001b[0m\n\u001b[0;32m      2\u001b[0m     \u001b[0mdriver\u001b[0m \u001b[1;33m=\u001b[0m \u001b[0mwebdriver\u001b[0m\u001b[1;33m.\u001b[0m\u001b[0mChrome\u001b[0m\u001b[1;33m(\u001b[0m\u001b[1;33m)\u001b[0m\u001b[1;33m\u001b[0m\u001b[1;33m\u001b[0m\u001b[0m\n\u001b[0;32m      3\u001b[0m \u001b[1;33m\u001b[0m\u001b[0m\n\u001b[1;32m----> 4\u001b[1;33m     \u001b[0mdriver\u001b[0m\u001b[1;33m.\u001b[0m\u001b[0mget\u001b[0m\u001b[1;33m(\u001b[0m\u001b[0mlink\u001b[0m\u001b[1;33m)\u001b[0m\u001b[1;33m\u001b[0m\u001b[1;33m\u001b[0m\u001b[0m\n\u001b[0m\u001b[0;32m      5\u001b[0m     \u001b[0msleep\u001b[0m\u001b[1;33m(\u001b[0m\u001b[1;36m10\u001b[0m\u001b[1;33m)\u001b[0m\u001b[1;33m\u001b[0m\u001b[1;33m\u001b[0m\u001b[0m\n\u001b[0;32m      6\u001b[0m     \u001b[0mcontent\u001b[0m \u001b[1;33m=\u001b[0m \u001b[0mdriver\u001b[0m\u001b[1;33m.\u001b[0m\u001b[0mfind_element\u001b[0m\u001b[1;33m(\u001b[0m\u001b[0mBy\u001b[0m\u001b[1;33m.\u001b[0m\u001b[0mCSS_SELECTOR\u001b[0m\u001b[1;33m,\u001b[0m \u001b[1;34m'body > div.root.responsivegrid.cg-wt-global-styles.cg-full-bleed > div > div.contentfragmentWT.contentfragment.aem-GridColumn.aem-GridColumn--default--12 > div > div.cmp-contentfragment--insights__content > div.cmp-contentfragment--insights__articleContent > div.cmp-contentfragment--insights__articlefragment'\u001b[0m\u001b[1;33m)\u001b[0m\u001b[1;33m.\u001b[0m\u001b[0mtext\u001b[0m\u001b[1;33m\u001b[0m\u001b[1;33m\u001b[0m\u001b[0m\n",
      "\u001b[1;32m~\\anaconda3\\lib\\site-packages\\selenium\\webdriver\\remote\\webdriver.py\u001b[0m in \u001b[0;36mget\u001b[1;34m(self, url)\u001b[0m\n\u001b[0;32m    445\u001b[0m         \u001b[0mLoads\u001b[0m \u001b[0ma\u001b[0m \u001b[0mweb\u001b[0m \u001b[0mpage\u001b[0m \u001b[1;32min\u001b[0m \u001b[0mthe\u001b[0m \u001b[0mcurrent\u001b[0m \u001b[0mbrowser\u001b[0m \u001b[0msession\u001b[0m\u001b[1;33m.\u001b[0m\u001b[1;33m\u001b[0m\u001b[1;33m\u001b[0m\u001b[0m\n\u001b[0;32m    446\u001b[0m         \"\"\"\n\u001b[1;32m--> 447\u001b[1;33m         \u001b[0mself\u001b[0m\u001b[1;33m.\u001b[0m\u001b[0mexecute\u001b[0m\u001b[1;33m(\u001b[0m\u001b[0mCommand\u001b[0m\u001b[1;33m.\u001b[0m\u001b[0mGET\u001b[0m\u001b[1;33m,\u001b[0m \u001b[1;33m{\u001b[0m\u001b[1;34m'url'\u001b[0m\u001b[1;33m:\u001b[0m \u001b[0murl\u001b[0m\u001b[1;33m}\u001b[0m\u001b[1;33m)\u001b[0m\u001b[1;33m\u001b[0m\u001b[1;33m\u001b[0m\u001b[0m\n\u001b[0m\u001b[0;32m    448\u001b[0m \u001b[1;33m\u001b[0m\u001b[0m\n\u001b[0;32m    449\u001b[0m     \u001b[1;33m@\u001b[0m\u001b[0mproperty\u001b[0m\u001b[1;33m\u001b[0m\u001b[1;33m\u001b[0m\u001b[0m\n",
      "\u001b[1;32m~\\anaconda3\\lib\\site-packages\\selenium\\webdriver\\remote\\webdriver.py\u001b[0m in \u001b[0;36mexecute\u001b[1;34m(self, driver_command, params)\u001b[0m\n\u001b[0;32m    431\u001b[0m \u001b[1;33m\u001b[0m\u001b[0m\n\u001b[0;32m    432\u001b[0m         \u001b[0mparams\u001b[0m \u001b[1;33m=\u001b[0m \u001b[0mself\u001b[0m\u001b[1;33m.\u001b[0m\u001b[0m_wrap_value\u001b[0m\u001b[1;33m(\u001b[0m\u001b[0mparams\u001b[0m\u001b[1;33m)\u001b[0m\u001b[1;33m\u001b[0m\u001b[1;33m\u001b[0m\u001b[0m\n\u001b[1;32m--> 433\u001b[1;33m         \u001b[0mresponse\u001b[0m \u001b[1;33m=\u001b[0m \u001b[0mself\u001b[0m\u001b[1;33m.\u001b[0m\u001b[0mcommand_executor\u001b[0m\u001b[1;33m.\u001b[0m\u001b[0mexecute\u001b[0m\u001b[1;33m(\u001b[0m\u001b[0mdriver_command\u001b[0m\u001b[1;33m,\u001b[0m \u001b[0mparams\u001b[0m\u001b[1;33m)\u001b[0m\u001b[1;33m\u001b[0m\u001b[1;33m\u001b[0m\u001b[0m\n\u001b[0m\u001b[0;32m    434\u001b[0m         \u001b[1;32mif\u001b[0m \u001b[0mresponse\u001b[0m\u001b[1;33m:\u001b[0m\u001b[1;33m\u001b[0m\u001b[1;33m\u001b[0m\u001b[0m\n\u001b[0;32m    435\u001b[0m             \u001b[0mself\u001b[0m\u001b[1;33m.\u001b[0m\u001b[0merror_handler\u001b[0m\u001b[1;33m.\u001b[0m\u001b[0mcheck_response\u001b[0m\u001b[1;33m(\u001b[0m\u001b[0mresponse\u001b[0m\u001b[1;33m)\u001b[0m\u001b[1;33m\u001b[0m\u001b[1;33m\u001b[0m\u001b[0m\n",
      "\u001b[1;32m~\\anaconda3\\lib\\site-packages\\selenium\\webdriver\\remote\\remote_connection.py\u001b[0m in \u001b[0;36mexecute\u001b[1;34m(self, command, params)\u001b[0m\n\u001b[0;32m    342\u001b[0m         \u001b[0mdata\u001b[0m \u001b[1;33m=\u001b[0m \u001b[0mutils\u001b[0m\u001b[1;33m.\u001b[0m\u001b[0mdump_json\u001b[0m\u001b[1;33m(\u001b[0m\u001b[0mparams\u001b[0m\u001b[1;33m)\u001b[0m\u001b[1;33m\u001b[0m\u001b[1;33m\u001b[0m\u001b[0m\n\u001b[0;32m    343\u001b[0m         \u001b[0murl\u001b[0m \u001b[1;33m=\u001b[0m \u001b[1;34mf\"{self._url}{path}\"\u001b[0m\u001b[1;33m\u001b[0m\u001b[1;33m\u001b[0m\u001b[0m\n\u001b[1;32m--> 344\u001b[1;33m         \u001b[1;32mreturn\u001b[0m \u001b[0mself\u001b[0m\u001b[1;33m.\u001b[0m\u001b[0m_request\u001b[0m\u001b[1;33m(\u001b[0m\u001b[0mcommand_info\u001b[0m\u001b[1;33m[\u001b[0m\u001b[1;36m0\u001b[0m\u001b[1;33m]\u001b[0m\u001b[1;33m,\u001b[0m \u001b[0murl\u001b[0m\u001b[1;33m,\u001b[0m \u001b[0mbody\u001b[0m\u001b[1;33m=\u001b[0m\u001b[0mdata\u001b[0m\u001b[1;33m)\u001b[0m\u001b[1;33m\u001b[0m\u001b[1;33m\u001b[0m\u001b[0m\n\u001b[0m\u001b[0;32m    345\u001b[0m \u001b[1;33m\u001b[0m\u001b[0m\n\u001b[0;32m    346\u001b[0m     \u001b[1;32mdef\u001b[0m \u001b[0m_request\u001b[0m\u001b[1;33m(\u001b[0m\u001b[0mself\u001b[0m\u001b[1;33m,\u001b[0m \u001b[0mmethod\u001b[0m\u001b[1;33m,\u001b[0m \u001b[0murl\u001b[0m\u001b[1;33m,\u001b[0m \u001b[0mbody\u001b[0m\u001b[1;33m=\u001b[0m\u001b[1;32mNone\u001b[0m\u001b[1;33m)\u001b[0m\u001b[1;33m:\u001b[0m\u001b[1;33m\u001b[0m\u001b[1;33m\u001b[0m\u001b[0m\n",
      "\u001b[1;32m~\\anaconda3\\lib\\site-packages\\selenium\\webdriver\\remote\\remote_connection.py\u001b[0m in \u001b[0;36m_request\u001b[1;34m(self, method, url, body)\u001b[0m\n\u001b[0;32m    364\u001b[0m \u001b[1;33m\u001b[0m\u001b[0m\n\u001b[0;32m    365\u001b[0m         \u001b[1;32mif\u001b[0m \u001b[0mself\u001b[0m\u001b[1;33m.\u001b[0m\u001b[0mkeep_alive\u001b[0m\u001b[1;33m:\u001b[0m\u001b[1;33m\u001b[0m\u001b[1;33m\u001b[0m\u001b[0m\n\u001b[1;32m--> 366\u001b[1;33m             \u001b[0mresponse\u001b[0m \u001b[1;33m=\u001b[0m \u001b[0mself\u001b[0m\u001b[1;33m.\u001b[0m\u001b[0m_conn\u001b[0m\u001b[1;33m.\u001b[0m\u001b[0mrequest\u001b[0m\u001b[1;33m(\u001b[0m\u001b[0mmethod\u001b[0m\u001b[1;33m,\u001b[0m \u001b[0murl\u001b[0m\u001b[1;33m,\u001b[0m \u001b[0mbody\u001b[0m\u001b[1;33m=\u001b[0m\u001b[0mbody\u001b[0m\u001b[1;33m,\u001b[0m \u001b[0mheaders\u001b[0m\u001b[1;33m=\u001b[0m\u001b[0mheaders\u001b[0m\u001b[1;33m)\u001b[0m\u001b[1;33m\u001b[0m\u001b[1;33m\u001b[0m\u001b[0m\n\u001b[0m\u001b[0;32m    367\u001b[0m             \u001b[0mstatuscode\u001b[0m \u001b[1;33m=\u001b[0m \u001b[0mresponse\u001b[0m\u001b[1;33m.\u001b[0m\u001b[0mstatus\u001b[0m\u001b[1;33m\u001b[0m\u001b[1;33m\u001b[0m\u001b[0m\n\u001b[0;32m    368\u001b[0m         \u001b[1;32melse\u001b[0m\u001b[1;33m:\u001b[0m\u001b[1;33m\u001b[0m\u001b[1;33m\u001b[0m\u001b[0m\n",
      "\u001b[1;32m~\\anaconda3\\lib\\site-packages\\urllib3\\request.py\u001b[0m in \u001b[0;36mrequest\u001b[1;34m(self, method, url, fields, headers, **urlopen_kw)\u001b[0m\n\u001b[0;32m     76\u001b[0m             )\n\u001b[0;32m     77\u001b[0m         \u001b[1;32melse\u001b[0m\u001b[1;33m:\u001b[0m\u001b[1;33m\u001b[0m\u001b[1;33m\u001b[0m\u001b[0m\n\u001b[1;32m---> 78\u001b[1;33m             return self.request_encode_body(\n\u001b[0m\u001b[0;32m     79\u001b[0m                 \u001b[0mmethod\u001b[0m\u001b[1;33m,\u001b[0m \u001b[0murl\u001b[0m\u001b[1;33m,\u001b[0m \u001b[0mfields\u001b[0m\u001b[1;33m=\u001b[0m\u001b[0mfields\u001b[0m\u001b[1;33m,\u001b[0m \u001b[0mheaders\u001b[0m\u001b[1;33m=\u001b[0m\u001b[0mheaders\u001b[0m\u001b[1;33m,\u001b[0m \u001b[1;33m**\u001b[0m\u001b[0murlopen_kw\u001b[0m\u001b[1;33m\u001b[0m\u001b[1;33m\u001b[0m\u001b[0m\n\u001b[0;32m     80\u001b[0m             )\n",
      "\u001b[1;32m~\\anaconda3\\lib\\site-packages\\urllib3\\request.py\u001b[0m in \u001b[0;36mrequest_encode_body\u001b[1;34m(self, method, url, fields, headers, encode_multipart, multipart_boundary, **urlopen_kw)\u001b[0m\n\u001b[0;32m    168\u001b[0m         \u001b[0mextra_kw\u001b[0m\u001b[1;33m.\u001b[0m\u001b[0mupdate\u001b[0m\u001b[1;33m(\u001b[0m\u001b[0murlopen_kw\u001b[0m\u001b[1;33m)\u001b[0m\u001b[1;33m\u001b[0m\u001b[1;33m\u001b[0m\u001b[0m\n\u001b[0;32m    169\u001b[0m \u001b[1;33m\u001b[0m\u001b[0m\n\u001b[1;32m--> 170\u001b[1;33m         \u001b[1;32mreturn\u001b[0m \u001b[0mself\u001b[0m\u001b[1;33m.\u001b[0m\u001b[0murlopen\u001b[0m\u001b[1;33m(\u001b[0m\u001b[0mmethod\u001b[0m\u001b[1;33m,\u001b[0m \u001b[0murl\u001b[0m\u001b[1;33m,\u001b[0m \u001b[1;33m**\u001b[0m\u001b[0mextra_kw\u001b[0m\u001b[1;33m)\u001b[0m\u001b[1;33m\u001b[0m\u001b[1;33m\u001b[0m\u001b[0m\n\u001b[0m",
      "\u001b[1;32m~\\anaconda3\\lib\\site-packages\\urllib3\\poolmanager.py\u001b[0m in \u001b[0;36murlopen\u001b[1;34m(self, method, url, redirect, **kw)\u001b[0m\n\u001b[0;32m    373\u001b[0m             \u001b[0mresponse\u001b[0m \u001b[1;33m=\u001b[0m \u001b[0mconn\u001b[0m\u001b[1;33m.\u001b[0m\u001b[0murlopen\u001b[0m\u001b[1;33m(\u001b[0m\u001b[0mmethod\u001b[0m\u001b[1;33m,\u001b[0m \u001b[0murl\u001b[0m\u001b[1;33m,\u001b[0m \u001b[1;33m**\u001b[0m\u001b[0mkw\u001b[0m\u001b[1;33m)\u001b[0m\u001b[1;33m\u001b[0m\u001b[1;33m\u001b[0m\u001b[0m\n\u001b[0;32m    374\u001b[0m         \u001b[1;32melse\u001b[0m\u001b[1;33m:\u001b[0m\u001b[1;33m\u001b[0m\u001b[1;33m\u001b[0m\u001b[0m\n\u001b[1;32m--> 375\u001b[1;33m             \u001b[0mresponse\u001b[0m \u001b[1;33m=\u001b[0m \u001b[0mconn\u001b[0m\u001b[1;33m.\u001b[0m\u001b[0murlopen\u001b[0m\u001b[1;33m(\u001b[0m\u001b[0mmethod\u001b[0m\u001b[1;33m,\u001b[0m \u001b[0mu\u001b[0m\u001b[1;33m.\u001b[0m\u001b[0mrequest_uri\u001b[0m\u001b[1;33m,\u001b[0m \u001b[1;33m**\u001b[0m\u001b[0mkw\u001b[0m\u001b[1;33m)\u001b[0m\u001b[1;33m\u001b[0m\u001b[1;33m\u001b[0m\u001b[0m\n\u001b[0m\u001b[0;32m    376\u001b[0m \u001b[1;33m\u001b[0m\u001b[0m\n\u001b[0;32m    377\u001b[0m         \u001b[0mredirect_location\u001b[0m \u001b[1;33m=\u001b[0m \u001b[0mredirect\u001b[0m \u001b[1;32mand\u001b[0m \u001b[0mresponse\u001b[0m\u001b[1;33m.\u001b[0m\u001b[0mget_redirect_location\u001b[0m\u001b[1;33m(\u001b[0m\u001b[1;33m)\u001b[0m\u001b[1;33m\u001b[0m\u001b[1;33m\u001b[0m\u001b[0m\n",
      "\u001b[1;32m~\\anaconda3\\lib\\site-packages\\urllib3\\connectionpool.py\u001b[0m in \u001b[0;36murlopen\u001b[1;34m(self, method, url, body, headers, retries, redirect, assert_same_host, timeout, pool_timeout, release_conn, chunked, body_pos, **response_kw)\u001b[0m\n\u001b[0;32m    697\u001b[0m \u001b[1;33m\u001b[0m\u001b[0m\n\u001b[0;32m    698\u001b[0m             \u001b[1;31m# Make the request on the httplib connection object.\u001b[0m\u001b[1;33m\u001b[0m\u001b[1;33m\u001b[0m\u001b[0m\n\u001b[1;32m--> 699\u001b[1;33m             httplib_response = self._make_request(\n\u001b[0m\u001b[0;32m    700\u001b[0m                 \u001b[0mconn\u001b[0m\u001b[1;33m,\u001b[0m\u001b[1;33m\u001b[0m\u001b[1;33m\u001b[0m\u001b[0m\n\u001b[0;32m    701\u001b[0m                 \u001b[0mmethod\u001b[0m\u001b[1;33m,\u001b[0m\u001b[1;33m\u001b[0m\u001b[1;33m\u001b[0m\u001b[0m\n",
      "\u001b[1;32m~\\anaconda3\\lib\\site-packages\\urllib3\\connectionpool.py\u001b[0m in \u001b[0;36m_make_request\u001b[1;34m(self, conn, method, url, timeout, chunked, **httplib_request_kw)\u001b[0m\n\u001b[0;32m    443\u001b[0m                     \u001b[1;31m# Python 3 (including for exceptions like SystemExit).\u001b[0m\u001b[1;33m\u001b[0m\u001b[1;33m\u001b[0m\u001b[0m\n\u001b[0;32m    444\u001b[0m                     \u001b[1;31m# Otherwise it looks like a bug in the code.\u001b[0m\u001b[1;33m\u001b[0m\u001b[1;33m\u001b[0m\u001b[0m\n\u001b[1;32m--> 445\u001b[1;33m                     \u001b[0msix\u001b[0m\u001b[1;33m.\u001b[0m\u001b[0mraise_from\u001b[0m\u001b[1;33m(\u001b[0m\u001b[0me\u001b[0m\u001b[1;33m,\u001b[0m \u001b[1;32mNone\u001b[0m\u001b[1;33m)\u001b[0m\u001b[1;33m\u001b[0m\u001b[1;33m\u001b[0m\u001b[0m\n\u001b[0m\u001b[0;32m    446\u001b[0m         \u001b[1;32mexcept\u001b[0m \u001b[1;33m(\u001b[0m\u001b[0mSocketTimeout\u001b[0m\u001b[1;33m,\u001b[0m \u001b[0mBaseSSLError\u001b[0m\u001b[1;33m,\u001b[0m \u001b[0mSocketError\u001b[0m\u001b[1;33m)\u001b[0m \u001b[1;32mas\u001b[0m \u001b[0me\u001b[0m\u001b[1;33m:\u001b[0m\u001b[1;33m\u001b[0m\u001b[1;33m\u001b[0m\u001b[0m\n\u001b[0;32m    447\u001b[0m             \u001b[0mself\u001b[0m\u001b[1;33m.\u001b[0m\u001b[0m_raise_timeout\u001b[0m\u001b[1;33m(\u001b[0m\u001b[0merr\u001b[0m\u001b[1;33m=\u001b[0m\u001b[0me\u001b[0m\u001b[1;33m,\u001b[0m \u001b[0murl\u001b[0m\u001b[1;33m=\u001b[0m\u001b[0murl\u001b[0m\u001b[1;33m,\u001b[0m \u001b[0mtimeout_value\u001b[0m\u001b[1;33m=\u001b[0m\u001b[0mread_timeout\u001b[0m\u001b[1;33m)\u001b[0m\u001b[1;33m\u001b[0m\u001b[1;33m\u001b[0m\u001b[0m\n",
      "\u001b[1;32m~\\anaconda3\\lib\\site-packages\\urllib3\\packages\\six.py\u001b[0m in \u001b[0;36mraise_from\u001b[1;34m(value, from_value)\u001b[0m\n",
      "\u001b[1;32m~\\anaconda3\\lib\\site-packages\\urllib3\\connectionpool.py\u001b[0m in \u001b[0;36m_make_request\u001b[1;34m(self, conn, method, url, timeout, chunked, **httplib_request_kw)\u001b[0m\n\u001b[0;32m    438\u001b[0m                 \u001b[1;31m# Python 3\u001b[0m\u001b[1;33m\u001b[0m\u001b[1;33m\u001b[0m\u001b[0m\n\u001b[0;32m    439\u001b[0m                 \u001b[1;32mtry\u001b[0m\u001b[1;33m:\u001b[0m\u001b[1;33m\u001b[0m\u001b[1;33m\u001b[0m\u001b[0m\n\u001b[1;32m--> 440\u001b[1;33m                     \u001b[0mhttplib_response\u001b[0m \u001b[1;33m=\u001b[0m \u001b[0mconn\u001b[0m\u001b[1;33m.\u001b[0m\u001b[0mgetresponse\u001b[0m\u001b[1;33m(\u001b[0m\u001b[1;33m)\u001b[0m\u001b[1;33m\u001b[0m\u001b[1;33m\u001b[0m\u001b[0m\n\u001b[0m\u001b[0;32m    441\u001b[0m                 \u001b[1;32mexcept\u001b[0m \u001b[0mBaseException\u001b[0m \u001b[1;32mas\u001b[0m \u001b[0me\u001b[0m\u001b[1;33m:\u001b[0m\u001b[1;33m\u001b[0m\u001b[1;33m\u001b[0m\u001b[0m\n\u001b[0;32m    442\u001b[0m                     \u001b[1;31m# Remove the TypeError from the exception chain in\u001b[0m\u001b[1;33m\u001b[0m\u001b[1;33m\u001b[0m\u001b[0m\n",
      "\u001b[1;32m~\\anaconda3\\lib\\http\\client.py\u001b[0m in \u001b[0;36mgetresponse\u001b[1;34m(self)\u001b[0m\n\u001b[0;32m   1369\u001b[0m         \u001b[1;32mtry\u001b[0m\u001b[1;33m:\u001b[0m\u001b[1;33m\u001b[0m\u001b[1;33m\u001b[0m\u001b[0m\n\u001b[0;32m   1370\u001b[0m             \u001b[1;32mtry\u001b[0m\u001b[1;33m:\u001b[0m\u001b[1;33m\u001b[0m\u001b[1;33m\u001b[0m\u001b[0m\n\u001b[1;32m-> 1371\u001b[1;33m                 \u001b[0mresponse\u001b[0m\u001b[1;33m.\u001b[0m\u001b[0mbegin\u001b[0m\u001b[1;33m(\u001b[0m\u001b[1;33m)\u001b[0m\u001b[1;33m\u001b[0m\u001b[1;33m\u001b[0m\u001b[0m\n\u001b[0m\u001b[0;32m   1372\u001b[0m             \u001b[1;32mexcept\u001b[0m \u001b[0mConnectionError\u001b[0m\u001b[1;33m:\u001b[0m\u001b[1;33m\u001b[0m\u001b[1;33m\u001b[0m\u001b[0m\n\u001b[0;32m   1373\u001b[0m                 \u001b[0mself\u001b[0m\u001b[1;33m.\u001b[0m\u001b[0mclose\u001b[0m\u001b[1;33m(\u001b[0m\u001b[1;33m)\u001b[0m\u001b[1;33m\u001b[0m\u001b[1;33m\u001b[0m\u001b[0m\n",
      "\u001b[1;32m~\\anaconda3\\lib\\http\\client.py\u001b[0m in \u001b[0;36mbegin\u001b[1;34m(self)\u001b[0m\n\u001b[0;32m    317\u001b[0m         \u001b[1;31m# read until we get a non-100 response\u001b[0m\u001b[1;33m\u001b[0m\u001b[1;33m\u001b[0m\u001b[0m\n\u001b[0;32m    318\u001b[0m         \u001b[1;32mwhile\u001b[0m \u001b[1;32mTrue\u001b[0m\u001b[1;33m:\u001b[0m\u001b[1;33m\u001b[0m\u001b[1;33m\u001b[0m\u001b[0m\n\u001b[1;32m--> 319\u001b[1;33m             \u001b[0mversion\u001b[0m\u001b[1;33m,\u001b[0m \u001b[0mstatus\u001b[0m\u001b[1;33m,\u001b[0m \u001b[0mreason\u001b[0m \u001b[1;33m=\u001b[0m \u001b[0mself\u001b[0m\u001b[1;33m.\u001b[0m\u001b[0m_read_status\u001b[0m\u001b[1;33m(\u001b[0m\u001b[1;33m)\u001b[0m\u001b[1;33m\u001b[0m\u001b[1;33m\u001b[0m\u001b[0m\n\u001b[0m\u001b[0;32m    320\u001b[0m             \u001b[1;32mif\u001b[0m \u001b[0mstatus\u001b[0m \u001b[1;33m!=\u001b[0m \u001b[0mCONTINUE\u001b[0m\u001b[1;33m:\u001b[0m\u001b[1;33m\u001b[0m\u001b[1;33m\u001b[0m\u001b[0m\n\u001b[0;32m    321\u001b[0m                 \u001b[1;32mbreak\u001b[0m\u001b[1;33m\u001b[0m\u001b[1;33m\u001b[0m\u001b[0m\n",
      "\u001b[1;32m~\\anaconda3\\lib\\http\\client.py\u001b[0m in \u001b[0;36m_read_status\u001b[1;34m(self)\u001b[0m\n\u001b[0;32m    278\u001b[0m \u001b[1;33m\u001b[0m\u001b[0m\n\u001b[0;32m    279\u001b[0m     \u001b[1;32mdef\u001b[0m \u001b[0m_read_status\u001b[0m\u001b[1;33m(\u001b[0m\u001b[0mself\u001b[0m\u001b[1;33m)\u001b[0m\u001b[1;33m:\u001b[0m\u001b[1;33m\u001b[0m\u001b[1;33m\u001b[0m\u001b[0m\n\u001b[1;32m--> 280\u001b[1;33m         \u001b[0mline\u001b[0m \u001b[1;33m=\u001b[0m \u001b[0mstr\u001b[0m\u001b[1;33m(\u001b[0m\u001b[0mself\u001b[0m\u001b[1;33m.\u001b[0m\u001b[0mfp\u001b[0m\u001b[1;33m.\u001b[0m\u001b[0mreadline\u001b[0m\u001b[1;33m(\u001b[0m\u001b[0m_MAXLINE\u001b[0m \u001b[1;33m+\u001b[0m \u001b[1;36m1\u001b[0m\u001b[1;33m)\u001b[0m\u001b[1;33m,\u001b[0m \u001b[1;34m\"iso-8859-1\"\u001b[0m\u001b[1;33m)\u001b[0m\u001b[1;33m\u001b[0m\u001b[1;33m\u001b[0m\u001b[0m\n\u001b[0m\u001b[0;32m    281\u001b[0m         \u001b[1;32mif\u001b[0m \u001b[0mlen\u001b[0m\u001b[1;33m(\u001b[0m\u001b[0mline\u001b[0m\u001b[1;33m)\u001b[0m \u001b[1;33m>\u001b[0m \u001b[0m_MAXLINE\u001b[0m\u001b[1;33m:\u001b[0m\u001b[1;33m\u001b[0m\u001b[1;33m\u001b[0m\u001b[0m\n\u001b[0;32m    282\u001b[0m             \u001b[1;32mraise\u001b[0m \u001b[0mLineTooLong\u001b[0m\u001b[1;33m(\u001b[0m\u001b[1;34m\"status line\"\u001b[0m\u001b[1;33m)\u001b[0m\u001b[1;33m\u001b[0m\u001b[1;33m\u001b[0m\u001b[0m\n",
      "\u001b[1;32m~\\anaconda3\\lib\\socket.py\u001b[0m in \u001b[0;36mreadinto\u001b[1;34m(self, b)\u001b[0m\n\u001b[0;32m    702\u001b[0m         \u001b[1;32mwhile\u001b[0m \u001b[1;32mTrue\u001b[0m\u001b[1;33m:\u001b[0m\u001b[1;33m\u001b[0m\u001b[1;33m\u001b[0m\u001b[0m\n\u001b[0;32m    703\u001b[0m             \u001b[1;32mtry\u001b[0m\u001b[1;33m:\u001b[0m\u001b[1;33m\u001b[0m\u001b[1;33m\u001b[0m\u001b[0m\n\u001b[1;32m--> 704\u001b[1;33m                 \u001b[1;32mreturn\u001b[0m \u001b[0mself\u001b[0m\u001b[1;33m.\u001b[0m\u001b[0m_sock\u001b[0m\u001b[1;33m.\u001b[0m\u001b[0mrecv_into\u001b[0m\u001b[1;33m(\u001b[0m\u001b[0mb\u001b[0m\u001b[1;33m)\u001b[0m\u001b[1;33m\u001b[0m\u001b[1;33m\u001b[0m\u001b[0m\n\u001b[0m\u001b[0;32m    705\u001b[0m             \u001b[1;32mexcept\u001b[0m \u001b[0mtimeout\u001b[0m\u001b[1;33m:\u001b[0m\u001b[1;33m\u001b[0m\u001b[1;33m\u001b[0m\u001b[0m\n\u001b[0;32m    706\u001b[0m                 \u001b[0mself\u001b[0m\u001b[1;33m.\u001b[0m\u001b[0m_timeout_occurred\u001b[0m \u001b[1;33m=\u001b[0m \u001b[1;32mTrue\u001b[0m\u001b[1;33m\u001b[0m\u001b[1;33m\u001b[0m\u001b[0m\n",
      "\u001b[1;31mKeyboardInterrupt\u001b[0m: "
     ]
    }
   ],
   "source": [
    "listcapitalgroup_insights_list = []\n",
    "for i in tqdm(link_list):\n",
    "    listcapitalgroup_insights_list.append(capitalgroup_insights(i))"
   ]
  },
  {
   "cell_type": "code",
   "execution_count": 34,
   "id": "db75ec3a",
   "metadata": {},
   "outputs": [
    {
     "data": {
      "text/plain": [
       "[{'company': 'Capital Group',\n",
       "  'topic': 'Insight',\n",
       "  'title': 'Auto features: Friend or foe?',\n",
       "  'link': 'https://www.capitalgroup.com/advisor/insights/articles/ir-auto-features-friend-or-foe.html',\n",
       "  'date': 'August 2, 2022',\n",
       "  'content': 'Every time it seems there’s nothing new to say about auto features, new questions arise. Most of them spring from fallacies that continue to be perpetuated throughout the 401(k) industry.\\n\\nSome oft-repeated misunderstandings in the retirement plan industry are:\\n  A default contribution rate of 3% is standard.\\nCapping auto-escalation lower than 15% is a good idea.\\nAuto-sweeping non-participants into the plan is risky.\\nEmployees won’t appreciate full use of auto features.\\n\\nLet’s dig into these misunderstandings and why they each may be inaccurate.\\n\\nWhy a 3% default contribution rate might be a mistake\\n\\nOne of the more confounding norms in plan design is the 3% auto-enrollment rate. No one is (or at least very few people are) retiring on 3% savings, yet many participants assume that the default rate is sufficient and are unlikely to increase it on their own. I’m sure you know this on some level, but when was the last time you actually looked at the numbers?\\n\\nMedian weekly earnings for full-time wage and salary workers in the United States were $1,037 in the first quarter of 2022.* If we extrapolate that to $53,924 annually, a 3% contribution rate would be just $1,618. Obviously, that amount would grow with time and raises (one would hope), and investments would mature. But let’s run this through a retirement calculator. We’ll set the age at 40, giving this hypothetical individual at least 25 years to save. According to American Funds’ retirement planning calculator, someone looking for 80% of their final annual salary during a 20-year retirement, starting at $53,924, could need to save $1,074,032. With a 3% contribution rate, they’re projected to come out of 27 years’ worth of saving with $152,640.†\\n\\nHypothetical growth of investments over 27 years until retirement\\nChart is for illustrative purposes only, based on the hypothetical projections from American Funds\\' retirement planning calculator, using 3% contribution of the median weekly earnings for full-time wage and salary workers in the United States. The calculator assumes that the growth rate of your investments is 8% per year before retirement and 6% per year after retirement. Many financial professionals suggest planning for a lower growth rate in retirement because you may want to switch to a more conservative investing style as you grow older. The calculator does not account for post-retirement income taxes, which may apply to certain investments. The calculator assumes an annual inflation rate of 4%. Over the past 50 years, the Consumer Price Index, a common measure of inflation, averaged about 4% a year. The calculator assumes a salary increase of 3% per year until retirement. The 3% increase is applied to the previous year\\'s salary. Hypothetical growth rates are not intended to reflect actual results; your results may vary.\\nFor most financial professionals, it’s obvious that 3% is not enough to retire on. So then why did it become the standard default contribution rate? By the power of suggestion. When auto-enrollment was introduced, several influential sources, including leading behavioral finance experts, used 3% as a hypothetical contribution rate. Pretty quickly, a norm was born. Employers routinely used 3% as their base auto-enrollment rate, despite its insufficiency.\\n\\nFortunately, that tide is starting to turn. Six percent is gaining traction as a starting enrollment rate. This is definitely an improvement. But consider the hypothetical 40-year-old saver. Even if they raise their contribution to 6%, nearly doubling their savings projection to $305,186, this number is still significantly shy of the goal.†\\n\\nEncourage plan sponsors to consider setting the default enrollment rate to at least 6% and to couple that with sufficient auto-escalation.\\n\\nEmbrace auto-escalation and raise the cap\\n\\nToo many plan sponsors are afraid of auto-escalation and set their contribution caps too low. One objection that frequently arises: “I don’t want to upset employees.” The fear is that an imagined employee will discover that a higher percentage of their paycheck is being channeled into their retirement account than they expected.\\n\\nAnecdotally, employees are rarely upset about auto-escalation, and they may be surprised when they hit the cap. Of course, most people are pleased when they discover a higher-than-expected balance in their 401(k)s, and the “problem” of an upset employee can be solved with a few clicks of a button. If they want to reduce their contribution, that is an easy fix.\\n\\nA much greater risk is to your plan participants’ savings goals. People are often inclined toward inertia and underinformed about retirement savings needs. Left to their own devices, they’re likely to assume that their current contribution rate, whether it’s 3%, 6% or something else, will help them reach their goals. Fortunately, you have tools to leverage this inertia and help them overcome their own misinformed confidence. Auto-escalation provides this power, yet some sponsors are reluctant to use it to its full extent. This is particularly true when it comes to capping the escalation rate. I’ve seen sponsors set caps as low as 6%.\\n\\nAuto-escalation has no generally applicable IRS limit, though guidance on the niche case of auto enrollment safe harbor plans has affected perception. Thanks to the SECURE Act of 2019, plan sponsors with an automatic enrollment safe harbor plan can increase the auto-escalation cap up to 15%. It’s promising to see in the Callan Institute’s 2022 Defined Contribution Trends Survey that 27% of safe harbor sponsors intend to increase their cap to the maximum. Conversely, it is disappointing to see 31% intend to make no increases whatsoever.\\n\\nHave or will increase automatic escalation cap in qualified automatic contribution arrangements (QACAs)\\nSource: Callan Institute, \"2022 Defined Contribution Trends Survey.\"\\nFor a prominent recent example of an escalation cap increase, look to Charles Schwab. According to Ignites, the company raised the cap for its own employees’ 401(k) plan from 10% to 15% in 2021 and increased the default deferral rate from 5% to 6%. Each year, contributions are automatically increased 1%. Hopefully, this plan design by a major financial firm will serve as a model to plan sponsors across industries.\\n\\nEncourage sponsors to consider setting escalation caps to 15% and let employees decide for themselves if they want to opt out.\\n\\nMake non-participants opt out every year\\n\\nIf there’s a bogeyman of auto features, it’s the auto-sweep. “What if my employees get mad that I put them back in the plan when they already opted out?” But, what if they reach age 65 and realize they haven’t saved for retirement? It may be better to make employees opt out each year than to see someone forget they opted out once upon a time. The risk is far greater to the employee in the second scenario — years of potential saving wasted.\\n\\nEncourage plan sponsors to embrace the auto-sweep feature and include the opt-out opportunity as part of their annual open enrollment, right alongside health insurance decisions.\\n\\nDefaulting to a retirement income strategy comes with risks\\n\\nAs for the new trend toward guaranteed retirement income features in qualified default investment alternatives (QDIAs), proceed with caution. Target date investments are designed to meet the needs of the majority of participants, in that most individuals will want a greater share of more conservative investments as they near retirement. That said, the closer a person is to retirement, the more nuanced their needs will be — and the less room they will have for error. Income in retirement can involve many unique factors for an individual, which means it may require more attention than your average mid-career accumulation portfolio. Many guaranteed solutions add cost and/or reduce liquidity, which may not be right for the majority at that point in their timeline.\\n\\nIf QDIAs are designed to help people who aren’t necessarily thinking about their retirement investments, then those that include either a guaranteed or a non-guaranteed income element should be prepared to flip that script. Make sure participants are paying attention. Alert them to the income element(s) of the QDIA and what that could mean for them. This may involve much more disclosure, more education and more opportunities for the participant to make different choices.\\n\\nI understand that including income-generating investments in a QDIA is designed to prevent people from reaching retirement without a plan, but people cannot afford to sleepwalk into distribution, either. If you choose to expand the retirement income aspect of your plan, here are my suggestions:\\n  Understand the retirement income aspect of your current QDIA.\\nOffer multiple options that can help meet the diverse retirement income needs of participants.\\nOffer both guaranteed (protected) and non-guaranteed options.\\nConsider allowing participants to “opt in” to guaranteed options based on their needs and preferences.\\n\\nA final point to consider\\n\\nProfessionals in the retirement industry have a duty to keep their sights on the long term, but for some reason, plan sponsors often fixate on the short-term feelings of employees over their long-term retirement readiness. When it comes to plan design, financial professionals have a responsibility to encourage plan sponsors to use the tools available to help participants work toward their retirement goals. That sometimes means making decisions they wouldn’t necessarily make for themselves, like higher default enrollment rates, higher caps on auto-escalation rates and auto-sweeping employees back into the plan. It also sometimes means approaching trends with caution, as one should with retirement income.\\n\\nTo close, remember how infrequently plan sponsors report problems from raising default contribution rates or auto-escalation caps — or even from auto-sweeping. While some of these features may feel like an overreach, encourage your clients to make full use of them.',\n",
       "  'tag': '401(K)'},\n",
       " {'company': 'Capital Group',\n",
       "  'topic': 'Insight',\n",
       "  'title': 'Help small businesses tackle the retirement emergency',\n",
       "  'link': 'https://www.capitalgroup.com/advisor/insights/articles/ir-retirement-emergency.html',\n",
       "  'date': 'July 26, 2022',\n",
       "  'content': 'Despite years of legislative efforts to increase retirement savings and plan participation, the latest numbers show that we still have a long way to go to close the gap in retirement plan coverage. Indeed, 46% of private sector employees say they have no access to a plan through their employer.\\n\\nSource: Georgetown University Center for Retirement Initiatives in conjunction with Econsult Solutions, Inc., 2020. ESI analysis of Census Bureau Current Population Survey and BLS National Compensation Survey Data.\\nWhile expanded access to workplace retirement plans is needed across the United States, the need seems to be especially great for small businesses. Firms with fewer than 100 employees comprise the majority of all businesses, accounting for nearly 98% of them and employing more than 35% of private sector workers. As a result, it could be said that the retirement savings crisis is overwhelmingly a small-business problem. While Congress has tried to make it easier for small businesses to offer retirement plans, the retirement gap among this cohort persists, as 47% of them do not offer a retirement benefit.\\n\\nSource: U.S. Bureau of Labor Statistics, National Compensation Survey: Employee Benefits in the United States, March 2021 (\"private industry\" businesses with fewer than 100 employees).\\nStill, ongoing legislative efforts at the federal and state levels are leading to increased awareness. As a result, retirement plan professionals have an opportunity to help these business owners establish plans that have the potential to close the retirement coverage gap for their employees.\\n\\nWhy no plan?\\n\\nStudies show that most employers (65%) feel very or somewhat responsible for helping their employees achieve a financially secure retirement.* But it’s clear that many employers may have reservations about setting up a plan and could use some help. The majority think they are simply not big enough to offer a plan (74%) and more than one-third (35%) say they are too costly.\\n\\nSource: Transamerica Institute, \"Navigate the Pandemic: A Survey of U.S. Employers.\" June 2021. Responses to the question, \"Why is your company not likely to offer a plan in the next two years? Select all.\"\\nBut there are options for plan sponsors of all sizes, including low-cost SEP IRAs and SIMPLE IRAs. The fact that more than 60% of employers report they are not at all familiar with SEP or SIMPLE IRAs† shows that the problem may be even larger than one simply of access.\\n\\nLegislative efforts on the federal level\\n\\nThe SECURE Act, short for Setting Every Community Up for Retirement Enhancement Act, was signed into law in 2019 and represented the first major piece of retirement legislation since the Pension Protection Act (PPA) of 2006.\\n\\nAmong the many provisions within SECURE are two key incentives meant to boost the number of employer-sponsored plans and get more employees enrolled:\\n\\n            o    Significant increase to the startup tax credit\\n\\n            o    New tax credit for automatic enrollment\\n\\nAn employer could receive up to $16,500 in tax credits for the first three years, which is an attractive selling point for those that have yet to establish a retirement plan due to cost concerns. By now, many financial professionals are familiar with SECURE’s provisions, but for a brief refresher, refer to this in-depth article that discusses key takeaways.\\n\\nBuilding on the SECURE Act’s momentum, both the U.S. House of Representatives and the U.S. Senate have bills in 2022 that are currently winding their way through the legislative process. In April, the House overwhelmingly passed its retirement legislation, the Securing a Strong Retirement Act, also referred to as the SECURE Act 2.0. For more information about SECURE 2.0, refer to our recent article.\\n\\nIn June, the Senate Finance Committee unanimously approved its legislation known as the EARN Act, short for Enhancing American Retirement Now. The two pieces of legislation include some similar provisions related to expanding coverage, including enhancements to an employer’s tax credits to cover startup costs and modifications to participation requirements for part-time workers.\\n\\nNotably, the House bill includes a new startup plan credit for small employer retirement contributions. As a result, small employers would not only receive a credit in relation to startup costs but also a credit for any employer contributions, not to exceed $1,000 per employee.\\n\\nOne area that differs is with regard to auto enrollment. Congress is wrestling with whether to mandate auto enrollment and auto escalation or incentivize those features through tax credits. The House bill, SECURE 2.0, includes a provision requiring employers to automatically enroll employees in any new plan (but not existing plans) once they become eligible and then auto increase their deferrals. The Senate bill, EARN, has a provision that would offer a tax credit to small employers who adopt an auto enrollment feature.\\n\\nThere is a chance that a retirement bill will make its way to President Biden for enactment this year and we will be closely watching how any final bill handles the coverage gap and auto enrollment.\\n\\nStates step in to close the coverage gap\\n\\nIn the absence of any federally mandated retirement program, states across the country have begun considering or actually enacting their own state-sponsored retirement program mandates to help individuals save for retirement.\\n\\nAs of April 1, 2022, 10 states and two cities have enacted mandates. Four are already active and some will take effect at a future date. To satisfy the mandates, employers must either enroll their employees in state-run payroll deduction IRAs or offer a tax-favored retirement plan (like a SIMPLE IRA or 401(k) plan) to their workers.  \\n\\nEach of the state-run IRAs is unique, but they share some common features:\\n  Investments through Roth IRA accounts\\nDefault investment in a passive target date retirement fund, subject in certain states to an initial holding period in a capital preservation fund\\nAll employees must be covered (as opposed to private sector retirement plans, which allow certain exclusions).\\n\\nWhile the state programs are a step in the right direction and may get people into the habit of saving, they don’t necessarily provide the retirement security that an employer-sponsored retirement program can.\\n\\n‘The Great Resignation’ may help drive plan formation\\n\\nIn addition to all of this legislation, there’s another phenomenon taking place in 2022. It’s colloquially referred to as \"The Great Resignation,\" which has seen employees leaving jobs in record numbers.\\n\\nAccording to data from MetLife and the latest U.S. Chamber of Commerce Small Business Index, the labor shortage may be especially painful to small-business owners, as almost half (46%) indicate they are facing a worker shortage.\\n\\nOne of the top ways companies attract and retain talent is by increasing wages. But in a tight labor market, a decent salary might not be enough. With many Americans concerned about retirement security and their ability to save enough on their own, 401(k)s are taking on increased importance to employees and candidates. As a result, a 401(k) plan or other retirement plan may be an attractive recruitment and retention tool. This provides an opening for financial professionals to talk to small-business clients about adding or enhancing a retirement plan to better compete in the race for talent.\\n\\nOpportunity for retirement plan professionals\\n\\nThe combination of the legislative landscape and the coverage gap provides an opportunity for financial professionals to expand their existing retirement plan business or gain an entry into this rapidly growing space.',\n",
       "  'tag': 'RETIREMENT PLANNING'}]"
      ]
     },
     "execution_count": 34,
     "metadata": {},
     "output_type": "execute_result"
    }
   ],
   "source": [
    "listcapitalgroup_insights_list"
   ]
  },
  {
   "cell_type": "markdown",
   "id": "fd5e518c",
   "metadata": {},
   "source": [
    "## fixed-income"
   ]
  },
  {
   "cell_type": "code",
   "execution_count": 40,
   "id": "4633c56b",
   "metadata": {},
   "outputs": [],
   "source": [
    "fixed_income_url = 'https://www.capitalgroup.com/advisor/insights/categories/fixed-income.html'"
   ]
  },
  {
   "cell_type": "code",
   "execution_count": 41,
   "id": "5d7970a5",
   "metadata": {},
   "outputs": [
    {
     "name": "stdout",
     "output_type": "stream",
     "text": [
      "exit?\n"
     ]
    }
   ],
   "source": [
    "driver = webdriver.Chrome()\n",
    "driver.get(fixed_income_url)\n",
    "sleep(20)\n",
    "fixed_income_link_list = [i.get_attribute('href') for i in driver.find_elements(By.CSS_SELECTOR,'article > a[data-analytics-label=\"trackLink:article\"]')]\n",
    "input('exit?')\n",
    "driver.quit()"
   ]
  },
  {
   "cell_type": "code",
   "execution_count": 44,
   "id": "4715d65f",
   "metadata": {},
   "outputs": [
    {
     "data": {
      "text/plain": [
       "50"
      ]
     },
     "execution_count": 44,
     "metadata": {},
     "output_type": "execute_result"
    }
   ],
   "source": [
    "len(fixed_income_link_list)"
   ]
  },
  {
   "cell_type": "code",
   "execution_count": 45,
   "id": "f708445a",
   "metadata": {},
   "outputs": [
    {
     "name": "stderr",
     "output_type": "stream",
     "text": [
      "  6%|████▉                                                                              | 3/50 [01:36<25:10, 32.13s/it]\n"
     ]
    },
    {
     "ename": "KeyboardInterrupt",
     "evalue": "",
     "output_type": "error",
     "traceback": [
      "\u001b[1;31m---------------------------------------------------------------------------\u001b[0m",
      "\u001b[1;31mKeyboardInterrupt\u001b[0m                         Traceback (most recent call last)",
      "\u001b[1;32m~\\AppData\\Local\\Temp/ipykernel_8976/1537394940.py\u001b[0m in \u001b[0;36m<module>\u001b[1;34m\u001b[0m\n\u001b[0;32m      1\u001b[0m \u001b[0mcapitalgroup_insights_fixed_income_list\u001b[0m \u001b[1;33m=\u001b[0m \u001b[1;33m[\u001b[0m\u001b[1;33m]\u001b[0m\u001b[1;33m\u001b[0m\u001b[1;33m\u001b[0m\u001b[0m\n\u001b[0;32m      2\u001b[0m \u001b[1;32mfor\u001b[0m \u001b[0mi\u001b[0m \u001b[1;32min\u001b[0m \u001b[0mtqdm\u001b[0m\u001b[1;33m(\u001b[0m\u001b[0mfixed_income_link_list\u001b[0m\u001b[1;33m)\u001b[0m\u001b[1;33m:\u001b[0m\u001b[1;33m\u001b[0m\u001b[1;33m\u001b[0m\u001b[0m\n\u001b[1;32m----> 3\u001b[1;33m     \u001b[0mcapitalgroup_insights_fixed_income_list\u001b[0m\u001b[1;33m.\u001b[0m\u001b[0mappend\u001b[0m\u001b[1;33m(\u001b[0m\u001b[0mcapitalgroup_insights\u001b[0m\u001b[1;33m(\u001b[0m\u001b[0mi\u001b[0m\u001b[1;33m)\u001b[0m\u001b[1;33m)\u001b[0m\u001b[1;33m\u001b[0m\u001b[1;33m\u001b[0m\u001b[0m\n\u001b[0m",
      "\u001b[1;32m~\\AppData\\Local\\Temp/ipykernel_8976/2710476096.py\u001b[0m in \u001b[0;36mcapitalgroup_insights\u001b[1;34m(link)\u001b[0m\n\u001b[0;32m      3\u001b[0m \u001b[1;33m\u001b[0m\u001b[0m\n\u001b[0;32m      4\u001b[0m     \u001b[0mdriver\u001b[0m\u001b[1;33m.\u001b[0m\u001b[0mget\u001b[0m\u001b[1;33m(\u001b[0m\u001b[0mlink\u001b[0m\u001b[1;33m)\u001b[0m\u001b[1;33m\u001b[0m\u001b[1;33m\u001b[0m\u001b[0m\n\u001b[1;32m----> 5\u001b[1;33m     \u001b[0msleep\u001b[0m\u001b[1;33m(\u001b[0m\u001b[1;36m10\u001b[0m\u001b[1;33m)\u001b[0m\u001b[1;33m\u001b[0m\u001b[1;33m\u001b[0m\u001b[0m\n\u001b[0m\u001b[0;32m      6\u001b[0m     \u001b[0mcontent\u001b[0m \u001b[1;33m=\u001b[0m \u001b[0mdriver\u001b[0m\u001b[1;33m.\u001b[0m\u001b[0mfind_element\u001b[0m\u001b[1;33m(\u001b[0m\u001b[0mBy\u001b[0m\u001b[1;33m.\u001b[0m\u001b[0mCSS_SELECTOR\u001b[0m\u001b[1;33m,\u001b[0m \u001b[1;34m'body > div.root.responsivegrid.cg-wt-global-styles.cg-full-bleed > div > div.contentfragmentWT.contentfragment.aem-GridColumn.aem-GridColumn--default--12 > div > div.cmp-contentfragment--insights__content > div.cmp-contentfragment--insights__articleContent > div.cmp-contentfragment--insights__articlefragment'\u001b[0m\u001b[1;33m)\u001b[0m\u001b[1;33m.\u001b[0m\u001b[0mtext\u001b[0m\u001b[1;33m\u001b[0m\u001b[1;33m\u001b[0m\u001b[0m\n\u001b[0;32m      7\u001b[0m     \u001b[0mtitle\u001b[0m \u001b[1;33m=\u001b[0m \u001b[0mdriver\u001b[0m\u001b[1;33m.\u001b[0m\u001b[0mfind_element\u001b[0m\u001b[1;33m(\u001b[0m\u001b[0mBy\u001b[0m\u001b[1;33m.\u001b[0m\u001b[0mCSS_SELECTOR\u001b[0m\u001b[1;33m,\u001b[0m \u001b[1;34m'body > div.root.responsivegrid.cg-wt-global-styles.cg-full-bleed > div > div.contentfragmentWT.contentfragment.aem-GridColumn.aem-GridColumn--default--12 > div > div.cmp-contentfragment--insights__content > div.cmp-contentfragment--insights__heading > div'\u001b[0m\u001b[1;33m)\u001b[0m\u001b[1;33m.\u001b[0m\u001b[0mtext\u001b[0m\u001b[1;33m\u001b[0m\u001b[1;33m\u001b[0m\u001b[0m\n",
      "\u001b[1;31mKeyboardInterrupt\u001b[0m: "
     ]
    }
   ],
   "source": [
    "capitalgroup_insights_fixed_income_list = []\n",
    "for i in tqdm(fixed_income_link_list):\n",
    "    capitalgroup_insights_fixed_income_list.append(capitalgroup_insights(i))"
   ]
  },
  {
   "cell_type": "code",
   "execution_count": 46,
   "id": "ff3fb1e8",
   "metadata": {},
   "outputs": [
    {
     "data": {
      "text/plain": [
       "[{'company': 'Capital Group',\n",
       "  'topic': 'Insight',\n",
       "  'title': 'Why we think the Fed is still behind the curve',\n",
       "  'link': 'https://www.capitalgroup.com/advisor/insights/articles/why-fed-behind-curve.html',\n",
       "  'date': 'March 16, 2022',\n",
       "  'content': 'The U.S. Federal Reserve raised the federal funds target rate by 25 basis points to a range of 0.25% to 0.50%, marking the start of what is expected to be a forceful path of monetary tightening. The central bank faces the challenge of taming inflation even as a commodities shock in the wake of Russia’s invasion of Ukraine dampens the outlook for global growth.\\n\\nFed chairman Jerome Powell reinforced in his comments that the central bank’s primary goal is to tamp down inflation — which is running at a 40-year high — and that it will do what it takes to bring it closer to target. The central bank chief also talked positively about growth and the labor market. “All signs are that this is a strong economy,” Powell said. “Indeed, one that will be able to flourish … in the face of less accommodative monetary policy.”\\n\\nWe maintain our view that inflation will remain elevated and that monetary policy is behind the curve. Markets are pricing in about seven 25-basis-point rate increases in 2022. Powell seems confident that the U.S. economy can withstand higher rates, and so barring a major fundamental shock, we expect the Fed will continue on its tightening path for the rest of 2022. He left open the possibility of a 50-basis-point hike but did not specify what might trigger such a move.\\n\\nPowell emphasized that he wants to see the month-over-month inflation numbers come down. The Fed is increasingly concerned about inflation becoming unmanageable, and its latest projections indicate it may move rates above its estimated long-term neutral rate of 2.4% by next year. The neutral rate is a theoretical federal funds rate at which monetary policy is considered neither accommodative nor restrictive.\\n\\nConsistent with this view, we favor positioning bond portfolios for tighter financial conditions by maintaining a short duration focused on two-year maturities. We expect the Treasury yield curve to flatten further, led by a rise in shorter maturities while long-term interest rates remain in a range.\\n\\nWe also anticipate quantitative tightening (QT) plans could be unveiled in May and begin in June following another rate increase at the Fed’s May meeting. The central bank will likely shrink its balance sheet by not replacing maturing bonds. While actively selling securities is a possibility, it is not its preferred path.\\n\\nPeak fed funds rate has declined with each successive hiking cycle\\nSources: Capital Group, Federal Reserve Bank of St. Louis, National Bureau of Economic Research. As of March 16, 2022.\\nTight labor markets complicate inflation picture\\nThe Fed remains focused on fighting inflation despite a dampened growth outlook given the war in Ukraine. Inflation rose sharply in February with headline and core metrics accelerating to 7.9% and 6.4% year-over-year, respectively. We continue to see broadening price pressures across major categories, and we see a 50% chance that CPI will accelerate in the coming months. In shelter, the largest component of the Consumer Price Index, prices have increased 4.8% year-over-year, the fastest pace since the early 1990s. Even if you strip out shelter and other high-inflation categories, CPI remains elevated and on an upward trend.\\n\\nThe surge in commodity prices — spanning energy, metals, raw materials and agricultural products — will also feed into inflation. The Bloomberg Commodity Index doubled in the past two years, an increase not seen since the early 1980s. The greatest impact is likely to be felt by lower income consumers as food and gas make up a large percentage of their spending.\\n\\nInflation is being driven higher by several components\\nSources: Capital Group, U.S. Bureau of Labor Statistics. As of February 28, 2022.\\nWith supply chain issues likely to remain troublesome and the war creating upside risks to food and energy prices, market participants are pricing rising inflation risk premia (a measure of the premium investors require for the possibility that inflation may rise or fall more than expected over the period in which a bond is held) into bonds. Breakeven inflation on five-year Treasury Inflation-Protected Securities (TIPS) has risen from 3.0% to around 3.5% this year, the highest reading since the launch of the asset class.\\n\\nWage growth and a variety of other indicators point to ongoing pressure in the labor market, which Powell said Wednesday had reached an “unhealthy level” of tightness. In February, the U.S. added 678,000 jobs, bringing unemployment down to 3.8%. The labor force participation rate rebounded to 62.3% in February, its highest level since March 2020, indicating there are going to be fewer workers on the sidelines. We are also seeing historically elevated quit rates, signaling that workers have confidence in their ability to find other employment — often with better pay. Average hourly earnings stagnated between January and February but remain up 5.1% over the past 12 months.\\n\\nWe believe the Fed’s most likely plan will be to move steadily toward restrictive policy with consecutive 25-basis-point hikes until policy rates are at or slightly above neutral. However, we are not ruling out the possibility that the central bank will move in a more forceful, Paul Volcker-esque manner. (In 1981, then Fed Chairman Volcker sharply raised rates to contain runaway inflation.)\\n\\nIn terms of societal impact, the Fed faces tough choices. If the Fed remains dovish, allowing inflation to run unchecked, food and energy prices would be among the most likely to accelerate. If it tightens aggressively and stymies growth, unemployment would likely move up and wage increases would be curtailed.\\n\\nGlobal overview\\nThe Fed is not alone in its path. Major central banks in Europe have signaled a more hawkish stance in recent weeks as inflation continues to outpace their targets.\\n\\nThe European Central Bank delivered a hawkish message at its March meeting, laying out plans to end its asset purchase program by the third quarter of this year and, in the process, paving the way for a potential rate hike.\\n\\nDespite the downside risks to growth stemming from the war in Ukraine, ECB President Christine Lagarde focused her remarks on the upside risks to inflation and stressed “optionality and flexibility” in the governing council’s policy stance. The front-end of the euro curve is pricing in roughly 30 basis points of hikes by year-end.\\n\\nMeanwhile, we expect the Bank of England to deliver another rate increase this week, hiking to 0.75%. This follows the 25-basis-point hike and initiation of passive QT announced in February. All in all, these actions should lead to tighter financial conditions in most of the major developed economies.\\n\\nAgainst this backdrop, we maintain a defensive posture in our fixed income portfolios. In U.S. core bond portfolios, in addition to a short duration and positioning for a flattening of the yield curve, we also favor a slight relative underweight to credit. Meanwhile, TIPS prices largely reflect inflationary expectations, so managers are more opportunistic based on where they see value along the maturity spectrum.\\n\\nIn many equity portfolios, depending on investment objectives and mandate, we are starting to see managers selectively add to investments in energy, materials, mining companies, consumer staples and other consumer-related companies with a degree of pricing power.',\n",
       "  'tag': 'FED'},\n",
       " {'company': 'Capital Group',\n",
       "  'topic': 'Insight',\n",
       "  'title': 'Can TIPS help your portfolio amid high inflation?',\n",
       "  'link': 'https://www.capitalgroup.com/advisor/insights/articles/can-tips-help-portfolio-high-inflation.html',\n",
       "  'date': 'February 9, 2022',\n",
       "  'content': \"If you filled up your gas tank recently, you probably weren’t thrilled with the bill. Prices are up — and not just at the pump. Across many goods and services, they are rising at the fastest pace in decades. While this increases the cost of living, it also has investment implications.\\n\\nHow do you shield a portfolio from rising inflation? There’s no silver bullet, but depending on your investment goals, a few strategies might help.\\n\\nKey inflation question: How high for how long?\\n\\nSupply shortages and other pandemic-related factors first triggered the rise of inflation. Demand for many goods began to outpace supply, which boosted prices. Towards the end of 2021, however, the trend began to look less temporary and more lasting. The Consumer Price Index (CPI), a favored broad level of inflation by many economists, increased to 7% by year-end, the highest in nearly 40 years.\\n\\nThe Federal Reserve has taken notice. It is moving to tighten monetary policy much more aggressively than markets expected a year ago. We should see the first interest rate hike as soon as March. And, while the most recent hiking cycle saw quarterly rate moves of a quarter of a percentage point per hike, this cycle could be more rapid given the current inflation dynamics.\\n\\n“High inflation is likely to persist,” says Ritchie Tuazon, portfolio manager with American Funds Strategic Bond Fund℠. “Our interest rates team estimates that inflation will continue to be firm in 2022, with our forecast a little above market consensus. In coming quarters, we project inflation well above the Fed’s 2% target.”\\n\\n“The inflationary impulses we’re seeing today are strong and signal that inflation will remain elevated for some time,” says Tim Ng, a portfolio manager with American Funds Inflation Linked Bond Fund®. “Businesses are indicating rising input costs, low inventories and a backlog of orders. Supply chain bottlenecks remain. Labor markets are tight, employers are having difficulty finding workers and wages are rising. All these factors are contributing to the strongest inflationary dynamics in over 20 years.”\\n\\nWage growth began rising sharply in 2021\\nSource: Federal Reserve Bank of Atlanta. Data shown from 1/1/2010 to 12/31/21.\\nTIPS provide direct inflation protection\\n\\nMany of today’s investors have never had to worry about high inflation. Protecting against rising prices can be important: Inflation erodes purchasing power over time. However, several assets have some indirect inflation hedging potential built in. Some stocks may benefit from rising prices as companies may see their nominal earnings rise with inflation. Many commodities are an input into production and a source of rising prices. So, having some commodity exposures in a portfolio may help hedge against rising prices. Gold is often seen as a safe-haven asset during inflationary periods.\\n\\nCPI is not directly linked to any of these. Consequently, these assets can only do an imperfect job of hedging broad-based purchasing power erosion. For example, if you pick the wrong stocks and inflation affects those companies’ labor costs more than is compensated for by their rising prices, those shares could decline. If you pick the wrong commodities, they could see less value appreciation than others driving the broader trend. Gold, too, is influenced by a variety of factors and market forces that don’t always correlate directly to actual inflation.\\n\\nYou've discovered one of Capital Group's 10 investment themes for 2022\\nSEE THE REST\\nA Treasury Inflation-Protected Security (TIPS) is a U.S. Treasury bond that pays additional compensation when inflation rises, linked to CPI. Due to that link, it is arguably the most direct hedge to the sort of broad inflation of goods and services that affect a consumer’s purchasing power.\\n\\nAre TIPS a slam dunk?\\n\\nGiven that direct link, should every investor pile into TIPS right now? Unfortunately, nothing in investing is quite so simple. Every asset is influenced by a set of risks, and TIPS are no exception.\\n\\n“At the end of the day, TIPS are bonds and therefore have interest rate risk,” Ng says. “And as most investors have seen, yields have risen recently. So, while inflation has remained elevated, the Bloomberg U.S. Treasury-Inflation Protected Securities Index (TIPS Index) had a negative return in January due to the broad rise in bond yields.”\\n\\nHowever, one tough month does not make an investment a poor choice in every month. To help manage the complexities of buying individual TIPS, investors can consider an actively managed inflation-linked bond fund that seeks to outpace its benchmark index. In contrast, passive index funds seek to replicate, not beat, their benchmarks. \\n\\n“We can target certain maturities within the TIPS Index that may benefit the most from near-term inflationary dynamics and are less exposed to a general rise in interest rates,” Ng explains.\\n\\nConviction about how investors are thinking about inflation also plays a part. “TIPS market values are based more on expectations than actual inflation,” Ng adds. “That means if the market decides it was wrong about the severity of inflation, prices could fall. The flip side, of course, is that as expectations rise so do TIPS values. Breakeven rates capture these expectations. These are rates of inflation that the market expects over a given period.”\\n\\nTIPS breakeven rates have risen notably since 2020\\nSource: Bloomberg. As of 1/31/22. TIPS are Treasury Inflation-Protected Securities.\\n“We will be watching TIPS values closely over the next several months as the Fed’s tightening ramps up,” Ng says. “In particular, if the Fed begins reducing its balance sheet growth, it could have a negative impact on these bonds. Fed purchases are responsible for roughly 20% of TIPS demand.”\\n\\nOwning a TIPS fund as a longer term strategy for preserving purchasing power might be a reasonable choice for some investors. Consider even a medium-term time horizon: The TIPS Index has only seen one period of modest negative three-year annualized returns since the inception of TIPS in 1997.\\n\\nTIPS have notched positive returns over most three-year periods\\nSource: Morningstar. Monthly rolling returns shown for the Bloomberg U.S. Treasury Inflation-Protected Securities Index between 2/29/2000 and 12/31/21 (from when TIPS were first created in 1997).\\nA TIPS fund may also be worth considering prior to retirement. At this point in a person’s investing cycle, purchasing power becomes extremely relevant as investors nearing or entering the distribution phase begin relying on their investments to contribute to income.\\n\\nCore and core-plus bond funds are another option\\n\\nBut what if an investor is neither nearing retirement nor feels the need for a long-term TIPS exposure, but still worries about inflation’s impact on their portfolio? Some actively managed core and core-plus bond funds — the sort that aim to provide ballast to a diversified portfolio — seek to provide some exposure to TIPS as well.\\n\\nThe core benchmark, the Bloomberg U.S. Aggregate Index, does not contain these inflation-protected securities. So, passive index funds seeking to replicate the Bloomberg U.S. Aggregate Index do not own TIPS either. When active fund managers maintain exposure to TIPS, they are taking a view on inflation expectations indicated by breakeven rates. TIPS have the potential to be additive to fund results relative to the benchmark if they outpace that core index — even if the TIPS Index return is negative.\\n\\nTIPS can be a useful tool for core fund managers. “For starters, we can purchase TIPS in a broader context,” Tuazon explains. “For example, TIPS can sometimes incur losses when yields are rising due to their interest rate exposure. If we have conviction that inflation will rise along with rates a hedge could be put in place to seek to mitigate that interest rate risk while still benefiting from the inflation protection.”\\n\\nLike in a TIPS fund, actively managed core and core-plus funds can invest in specific inflation-linked bonds where research suggests more upside potential. As managers see inflation receding, exposure to TIPS can be reduced. This prevents the need for individual investors to attempt to time markets by getting in or out of direct investments in TIPS.\\n\\nInflation is likely to stick around for a while until central bankers get it under control. But investors have tools that can seek to limit its negative impact on their portfolios.\",\n",
       "  'tag': 'INFLATION'},\n",
       " {'company': 'Capital Group',\n",
       "  'topic': 'Insight',\n",
       "  'title': 'Muni bonds and rising rates explained: 3 facts to know',\n",
       "  'link': 'https://www.capitalgroup.com/advisor/insights/articles/municipal-bonds-rising-rates.html',\n",
       "  'date': 'December 8, 2021',\n",
       "  'content': 'Not so long ago, the key question was: will they, or won’t they? Now, when it comes to the U.S. Federal Reserve and rate hikes, investors are simply wondering how high rates could go and for how long?\\n\\nInterest rate hikes are taking center stage. For municipal bond investors, this is happening at a time when two other potential developments are already under the spotlight: higher income taxes and massive infrastructure spending.\\n\\nTax changes and federal spending — on bridges and roads, among other things — should act as tailwinds to munis. The asset class’s tax exemptions could become even more valued, while hundreds of billions of dollars of new capital should bolster fundamentals.\\n\\nBut what about higher rates — tailwind or headwind? Answer is: It’s complicated. You might assume Fed hikes will inevitably have a negative impact. After all, the values of bonds fall when yields climb — as they often have around Fed hikes.\\n\\nWhile bond math doesn’t lie, it’s not the whole story. Here are three facts that could change your thinking about municipal bonds and rising rates.\\n\\n1. Fed hikes aren’t necessarily bad news for munis\\n\\nWith Fed hikes now front and center, it’s little wonder bond math (when yields rise, bond values decline) has spooked some investors.\\n\\nSo, if you’re feeling that now’s not the time to own muni bonds, history may offer a valuable insight. The last four times rates were raised demonstrate it’s possible for municipal bonds to show limited downside — or even gains — when the Fed hikes.\\n\\nGains, as well as modest declines: Municipal bonds and past Fed hikes\\nSource: Bloomberg Index Services Ltd. Daily returns unavailable prior to 2006; results prior to 2006 were calculated using nearest month-ends to the first and final hikes. High-yield muni results unavailable pre-2003.\\n2. Treasury yields are a major influence on muni returns\\n\\nSurging inflation and debate over the Fed’s likely policy response can dominate the headlines and, on occasion, unsettle markets. Volatility among U.S. Treasuries will likely continue to spill over into municipals.\\n\\nAlthough this dynamic is nothing new, it may have more of a profound impact on muni returns than in the past. To understand why, recall that, in simple terms, muni bond returns result from two components.\\n\\nFirst, there’s the change in yield for Treasuries (assumed to be non-risky and, therefore, provide a baseline pricing for munis and other bond markets). The other component results from changes in the credit spread, which is the “extra” yield muni investors are paid over and above Treasuries; it reflects the non-zero risk of default for any bond issuer that isn’t Uncle Sam.\\n\\nThe reason Treasury yield moves may hold greater sway over municipal bond valuations in coming months is that spreads are near their multiyear lows and look poised to remain there. There’s limited scope for further declines, and a significant move higher appears unlikely. Massive pandemic-era fiscal support for states and local municipalities should help keep a lid on spreads for some time, reflecting healthy balance sheets and fundamentals.\\n\\nSo far in 2021, Treasury yield curve changes have been a drag on overall positive muni market returns.\\n\\nMunis have eked out a modest gain lately, though higher Treasury yields took a toll\\nSource: Bloomberg Index Services Ltd. Components of index total returns as of 9/31/21.\\n3. Relative value varies widely with muni bond maturity\\n\\nRelative value across the muni bond curve ebbs and flows. Lately, ratios — which express pretax AAA-rated municipal bond yields as a percentage of Treasury yields — have declined among shorter maturities. In comparison, intermediate and longer maturities have stayed relatively stable. \\n\\nThis notable move in relative value seems to have resulted from investors favoring the front-end of the curve, ahead of Fed rate hikes. Compared to issues with longer maturities, the values of short-term bonds tend to be more resilient as the prevailing level of interest rates climbs (in other words, they have a lower duration).\\n\\nFront-end ratios have dropped as investors prepare for Fed hikes\\nSource: Bloomberg Index Services Ltd. Data as of 11/30/21.\\nRatios are a simple indicator of relative value. A level above 100 indicates municipal bonds are offering a yield premium, even without accounting for potential tax advantages.\\n\\nIn recent times, a ratio in the mid-60s and higher would suggest the tax benefits of munis could be especially attractive to an investor in the highest marginal federal income tax bracket (37%).\\n\\nOver time, the specific muni maturities that have offered the highest and lowest returns has varied, further underscoring the potential benefits of taking a selective approach to investing.\\n\\nPutting an emphasis on certain maturities could add value\\nSource: Bloomberg Index Services, Ltd. Returns shown for the Bloomberg Municipal Bond Index, and the maturity buckets that notched the maximum and minimum returns; 2021 (YTD) is through 9/30/21.\\nVolatility is inevitable. Here’s how to be prepared\\n\\nIf recent history is a guide, Fed hikes won’t be the disaster for market returns that the bond bears claim.\\n\\nThat said, with markets pricing in rapid and aggressive Fed policy action, volatility could remain elevated. A defensive posture in regard to interest rates — possibly including an emphasis on municipal bonds of shorter maturity — seems prudent.\\n\\nMore broadly, the way that muni bond yields vary with maturity (that is, the shape of the muni curve) could also present opportunities for selective investors.\\n\\nAs yields for different maturities move up and down, the slope of certain segments of the curve shifts. Lately, longer term yields have risen relatively rapidly amid robust economic recovery and supportive monetary and fiscal policies.\\n\\nThe municipal bond curve has, historically, been steeper than its Treasury counterpart due to key differences in the buyer bases for the two markets. Crucially, future tax policy is more uncertain over longer periods. Longer maturity muni bonds have, therefore, often included a yield premium to reflect that uncertainty.\\n\\nIntense investor demand at a time of more moderate issuance has resulted in the muni curve becoming less steep over the past year, though it has re-steepened more recently. In general, a steeper curve can be attractive to bond investors as it means that, with the passage of time, they should earn return from capital appreciation as well as a bond’s coupon.\\n\\nCurve changes are another way that active investors can seek relative value\\nSource: Bloomberg Index Services, Ltd. Differential between the 2s10s curve (slope of segment between 2- and 10-year maturities) for the Bloomberg Municipal Bond Index and the U.S. Treasury yield curve, through 9/30/2021.\\nLooking forward, moderating long-term growth prospects could result in a flatter curve as muni yields at shorter maturities climb more swiftly. If, on the other hand, the Fed is able to normalize policy while inflation subsides, the curve could steepen as the growth outlook brightens.\\n\\nCast in this light, preparing for volatility doesn’t have to mean being uninvested. A changing rates environment may actually present opportunities for those investors with the research and execution capabilities to invest nimbly. For active muni investors, market setbacks can even have a silver lining: the opportunity to invest in bonds offering higher tax-exempt yields. ',\n",
       "  'tag': 'MUNICIPAL BONDS'}]"
      ]
     },
     "execution_count": 46,
     "metadata": {},
     "output_type": "execute_result"
    }
   ],
   "source": [
    "capitalgroup_insights_fixed_income_list"
   ]
  },
  {
   "cell_type": "markdown",
   "id": "7c4b0c12",
   "metadata": {},
   "source": [
    "## equity"
   ]
  },
  {
   "cell_type": "code",
   "execution_count": 65,
   "id": "1537f5f3",
   "metadata": {},
   "outputs": [],
   "source": [
    "equity_url = 'https://www.capitalgroup.com/advisor/insights/categories/equity.html'"
   ]
  },
  {
   "cell_type": "code",
   "execution_count": 75,
   "id": "5f179aeb",
   "metadata": {},
   "outputs": [],
   "source": [
    "def get_capitalgroup_links(main_link):\n",
    "    driver = webdriver.Chrome()\n",
    "    driver.get(main_link)\n",
    "    sleep(20)\n",
    "    equity_link_list = [i.get_attribute('href') for i in driver.find_elements(By.CSS_SELECTOR,'article > a[data-analytics-label=\"trackLink:article\"]')]\n",
    "    return equity_link_list"
   ]
  },
  {
   "cell_type": "code",
   "execution_count": 67,
   "id": "a49117ff",
   "metadata": {},
   "outputs": [
    {
     "data": {
      "text/plain": [
       "121"
      ]
     },
     "execution_count": 67,
     "metadata": {},
     "output_type": "execute_result"
    }
   ],
   "source": [
    "len(equity_link_list)"
   ]
  },
  {
   "cell_type": "code",
   "execution_count": 73,
   "id": "12113c02",
   "metadata": {},
   "outputs": [
    {
     "name": "stderr",
     "output_type": "stream",
     "text": [
      "  8%|██████▋                                                                          | 10/121 [04:53<54:20, 29.37s/it]\n"
     ]
    },
    {
     "ename": "KeyboardInterrupt",
     "evalue": "",
     "output_type": "error",
     "traceback": [
      "\u001b[1;31m---------------------------------------------------------------------------\u001b[0m",
      "\u001b[1;31mKeyboardInterrupt\u001b[0m                         Traceback (most recent call last)",
      "\u001b[1;32m~\\AppData\\Local\\Temp/ipykernel_8976/3587034588.py\u001b[0m in \u001b[0;36m<module>\u001b[1;34m\u001b[0m\n\u001b[0;32m      1\u001b[0m \u001b[0mcapitalgroup_insights_equity_list\u001b[0m \u001b[1;33m=\u001b[0m \u001b[1;33m[\u001b[0m\u001b[1;33m]\u001b[0m\u001b[1;33m\u001b[0m\u001b[1;33m\u001b[0m\u001b[0m\n\u001b[0;32m      2\u001b[0m \u001b[1;32mfor\u001b[0m \u001b[0mi\u001b[0m \u001b[1;32min\u001b[0m \u001b[0mtqdm\u001b[0m\u001b[1;33m(\u001b[0m\u001b[0mequity_link_list\u001b[0m\u001b[1;33m)\u001b[0m\u001b[1;33m:\u001b[0m\u001b[1;33m\u001b[0m\u001b[1;33m\u001b[0m\u001b[0m\n\u001b[1;32m----> 3\u001b[1;33m     \u001b[0mcapitalgroup_insights_equity_list\u001b[0m\u001b[1;33m.\u001b[0m\u001b[0mappend\u001b[0m\u001b[1;33m(\u001b[0m\u001b[0mcapitalgroup_insights\u001b[0m\u001b[1;33m(\u001b[0m\u001b[0mi\u001b[0m\u001b[1;33m)\u001b[0m\u001b[1;33m)\u001b[0m\u001b[1;33m\u001b[0m\u001b[1;33m\u001b[0m\u001b[0m\n\u001b[0m",
      "\u001b[1;32m~\\AppData\\Local\\Temp/ipykernel_8976/1622804396.py\u001b[0m in \u001b[0;36mcapitalgroup_insights\u001b[1;34m(link)\u001b[0m\n\u001b[0;32m      3\u001b[0m \u001b[1;33m\u001b[0m\u001b[0m\n\u001b[0;32m      4\u001b[0m     \u001b[0mdriver\u001b[0m\u001b[1;33m.\u001b[0m\u001b[0mget\u001b[0m\u001b[1;33m(\u001b[0m\u001b[0mlink\u001b[0m\u001b[1;33m)\u001b[0m\u001b[1;33m\u001b[0m\u001b[1;33m\u001b[0m\u001b[0m\n\u001b[1;32m----> 5\u001b[1;33m     \u001b[0msleep\u001b[0m\u001b[1;33m(\u001b[0m\u001b[1;36m10\u001b[0m\u001b[1;33m)\u001b[0m\u001b[1;33m\u001b[0m\u001b[1;33m\u001b[0m\u001b[0m\n\u001b[0m\u001b[0;32m      6\u001b[0m \u001b[1;33m\u001b[0m\u001b[0m\n\u001b[0;32m      7\u001b[0m \u001b[1;33m\u001b[0m\u001b[0m\n",
      "\u001b[1;31mKeyboardInterrupt\u001b[0m: "
     ]
    }
   ],
   "source": [
    "capitalgroup_insights_equity_list = []\n",
    "for i in tqdm(equity_link_list):\n",
    "    capitalgroup_insights_equity_list.append(capitalgroup_insights(i))"
   ]
  },
  {
   "cell_type": "code",
   "execution_count": 74,
   "id": "915d5e44",
   "metadata": {},
   "outputs": [
    {
     "data": {
      "text/plain": [
       "[{'company': 'Capital Group',\n",
       "  'topic': 'Insight',\n",
       "  'link': 'https://www.capitalgroup.com/advisor/insights/articles/4-reasons-health-care-could-lead-the-next-bull-market.html',\n",
       "  'date': 'August 17, 2022',\n",
       "  'content': 'Amid the storm of market volatility in the first half of 2022, health care was among the few areas that offered investors some shelter.\\n\\nThat may not be surprising, considering that demand for services in the sector tend to hold up regardless of market volatility or the economic cycle. In fact, the sector has outpaced the broader global stock market in each of the past eight market declines of 15% or more.\\n\\nIndeed, prospects for select companies appear to be brightening, and some have the potential to remain compelling investment opportunities for years to come, according to equity analyst Christopher Lee, who covers U.S. pharmaceuticals and biotechnology companies.\\n\\n“Health care has been a good place to invest since the start of the pandemic for a variety of reasons,” says Lee, who holds a medical degree from Columbia University. “First you had biopharma companies developing vaccines and treatments for COVID. Now you have other companies benefiting from their defensive nature in a time of uncertainty in the markets.”\\n\\nHealth care is among the sectors that have done well in down markets\\nSources: Capital Group, FactSet, MSCI. Includes total returns for MSCI ACWI sectors for the last eight periods in which the S&P 500 declined by more than 15% on a total return basis. The 2022 bear market is considered current as of June 30, 2022, and is included in this analysis. The periods included in the analysis above are July 17, 1998–August 31, 1998; March 24, 2000–October 9, 2002; October 9, 2007–March 9, 2009; April 23, 2010–July 2, 2010; April 29, 2011–October 3, 2011; October 3, 2018–December 24, 2018; February 19, 2020–March 23, 2020; and January 3, 2022–June 30, 2022.\\n“But that’s not the whole story,” Lee adds. “Innovation across drug development, genetic sequencing, data collection and health care service delivery is accelerating. That’s driving growth for nimble companies and generating opportunity for long-term investors.”\\n\\nThis all begs the question: Could the 2020s be the decade when global health care takes a leading role in markets?\\n\\n“New market leadership has often emerged at the end of a bear market,” says equity portfolio manager Diana Wagner. “I don’t know for certain that the health care sector will lead the next bull market. But what I do know is that many leading health care companies have paid relatively high dividends, have growth potential with accelerating innovation and still offer what I believe to be compelling valuations. I do believe the best managed of these companies could emerge as new market leaders.”\\n\\nWagner and Lee identify four reasons why we may be entering a golden age of health care and the potential implications for investors.\\n\\n1. We are in a golden age of drug discovery\\n   Christopher Lee\\nWe are in the early days of a third major wave of innovation in biotech and drug discovery. In the first wave, old-line chemical companies recognized they could use chemistry to treat disease. The second wave was the emergence of protein-based therapeutics that were more targeted, harnessing the immune system to treat disease.\\n\\nI would call this third wave the genetic age of medicine. We have the insights from genetic sequencing done in recent years and a wealth of data we can now process at rapid speeds, as well as new therapeutic interventions and technologies that can more specifically intervene in the disease process. It\\'s an incredibly exciting time.\\n\\nThe number of drugs gaining approval has expanded in recent years\\nSource: Food and Drug Administration. As of 12/31/21.\\nThere are several major diseases that we are now starting to tackle. Consider obesity, arguably the world’s leading health risk, afflicting more than 650 million adults worldwide as of 2016, according to the Organisation for Economic Co-operation and Development.\\n\\nLife-threatening health problems linked to obesity include cardiovascular disease, diabetes and kidney failure, to name a few. It also puts individuals at higher risk for adverse outcomes from infectious diseases like COVID. For decades obesity was unfairly stigmatized as simply a reflection of poor lifestyle choices, but today it is widely recognized as a more complicated health problem.\\n\\nThe good news is leading pharmaceutical companies have developed a new generation of drugs that can reduce a patient’s body weight by as much as 20% to 25% — a level of weight loss on par with the impact of bariatric surgery. These drugs work by mimicking naturally occurring hormones that help people feel full after eating.\\n\\nNovo Nordisk and Eli Lilly have already introduced these agents for the treatment of Type 2 diabetes, and they are developing versions of these drugs that are exhibiting a level of weight loss that is significant for most patients. I don’t like to throw the term “miracle drug” around, but these are incredibly effective medicines that not only reduce weight but also help bring a prediabetic patient’s sugars under control and offer other potential benefits. I think this is something that will transform the entire landscape of metabolic diseases in the U.S. and around the world.\\n\\nObesity is no longer just a U.S. problem\\nSources: Capital Group, World Health Organization. Latest data as of 2016.\\n2. Genetic medicine leads to faster breakthroughs\\nInvestors poured an incredible amount of capital into the biotech and pharmaceutical industries over the last several years. And that drove innovations that resulted in the creation of intellectual property and know-how that we will likely be building on for years to come.\\n\\nOne key advancement is the development of technologies that allow intervention in disease pathways at the level of the genetic sequence or “blueprint,\" further upstream than many conventional medicines. Through sequencing and data processing, drug developers can apply highly specific and precise interventions like gene therapy, where we transplant normal genes in place of missing or defective ones to address the disease.\\n\\nTo formulate a COVID vaccine with such speed, scientists sequenced the virus within days or weeks of identifying it and then translated that sequence to various vaccines and mRNA. It\\'s an example of how targeting a pathogen genetically can create an effective medicine very quickly compared to the prior way of identifying therapies through extensive experimentation.\\n\\nCOVID became an accelerant for innovation, condensing into two years of work what the industry might have previously needed 10 years to accomplish. This new approach to drug development is likely to lead to a higher success rate and greater number of drugs coming to market at a faster pace.\\n\\nAnother emerging technology is RNAi therapeutics. RNAi is a natural biological process that regulates gene expression by interfering with messenger RNA (mRNA), which carries DNA’s instructions for making new proteins. This will be important for a wide range of diseases.\\n\\nThere\\'s potentially an explosion of new therapeutic opportunities coming over the next decade with these advances. When you find a company that can do it, it may turn out to be a special investment over time.\\n\\nYou\\'ve discovered one of Capital Group\\'s 10 investment themes for 2022\\nSEE THE REST\\n3. New managed care models improve outcomes and lower costs\\nDiana Wagner\\nI agree with Chris that we are seeing a major wave of innovation across drug development, but I am also seeing a new age of innovation on the services side of health care. If you look at how most doctors practice today, particularly primary care doctors, they operate in the traditional fee-for-service model, where they get paid for volume. So essentially the sicker you are, the more services they provide and more money they make.\\n\\nBut today, companies like UnitedHealth Group and Humana — as well as emerging ones like Agilon — are developing models that reward doctors for keeping patients healthy and out of the hospital. This elevates the primary care physician from essentially the bottom of the health care totem pole to the top.\\n\\nI see these models as an important step toward achieving what\\'s often described as the holy grail or quadruple aim in health care: better health outcomes, higher patient satisfaction, higher doctor satisfaction and lower costs per capita.\\n\\nWe\\'re already starting to see a proliferation of these types of business models. And I suspect in the next five to 10 years they will come to a physician practice near you, where you\\'ll also be able to get your obesity drugs to help drive better long-term health outcomes at a lower cost for the system.\\n\\nHealth care companies are undervalued relative to the broader market\\nSources: Capital Group, MSCI, Refinitiv Datastream. Relative valuation is the ratio between the forward 12-month price-to-earnings ratio of the health care sector and the MSCI USA Index. A value below the average (0.5%) indicates that health care is relatively undervalued. As of 7/29/22.\\n4. Well-capitalized companies can fund their own growth\\nPeriods of accelerating innovation can produce opportunities for good long-term investments. Innovation has often driven earnings and investment returns over many years. What’s more, many large pharmaceutical companies are well capitalized with a lot of cash on their balance sheets, providing them an opportunity to fund their own growth through acquisitions and other strategies.\\n\\nGlobal pharma companies stand ready for mergers and acquisitions\\nSources: Capital Group, FactSet, MSCI, Refinitiv Datastream, Refinitiv Eikon. Figures above represent the aggregated value in U.S. dollars of cash and short-term investments across MSCI World Pharmaceuticals constituents. As of June 30, 2022.\\nAn incredible amount of capital was invested in biotech over the last several years, and that provided the resources to develop tangible intellectual property that will likely continue to bear fruit. Having cash on the balance sheet is important in a period when rates are rising and the cost of capital is going up.\\n\\nUltimately what drives long-term value creation in health care is innovation. Of course, not every innovation will succeed. Some drugs will fail to meet approval or gain market acceptance. But if you identify an innovative product or service that\\'s special, it has the potential to drive an investment thesis for years. This gets me excited because it can result in real earnings and real cash flows. I think several health care companies have the potential to emerge as leaders of the next bull market.',\n",
       "  'tag': 'HEALTH CARE'},\n",
       " {'company': 'Capital Group',\n",
       "  'topic': 'Insight',\n",
       "  'link': 'https://www.capitalgroup.com/advisor/insights/articles/reinvested-dividends-interactive-chart.html',\n",
       "  'date': 'August 10, 2022',\n",
       "  'content': \"Many companies around the world resumed paying dividends last year as COVID-19 vaccines were rolled out and businesses reopened. Equity portfolio manager Caroline Randall keeps a close watch over dividend payers, but she’s especially interested in dividend growers.\\n\\n“I’m very focused on companies with strong underlying earnings growth that have demonstrated a commitment to raise dividends over time,” Randall says. “Increasing dividend payouts can be seen as a signal of management’s confidence in future earnings growth.”\\n\\nBut can past earnings growth suggest solid return potential for investors? Consider the following hypothetical illustration.\\n\\nOur interactive chart shows the returns for hypothetical $100,000 investments in three historically consistent dividend growers — McDonald’s, Nestlé and Samsung — for the 20 years ended December 31, 2021. Toggle by company and year-end results to see how those initial investments would have fared over the two decades, with all dividends reinvested.\\n\\nGrowth of a hypothetical $100,000 (2000-2021)\\nMCDONALD'S\\nSAMSUNG\\nNESTLÉ\\nValue of original shares\\nValue of shares from reinvested dividends\\n‘00\\n‘05\\n‘10\\n‘15\\n‘21\\n100,000\\n600,000\\n$1,200,000\\n20-YEAR PERFORMANCE\\n+3.8x\\nValue of shares from\\nreinvesting dividends ($)\\n40%\\n% of investment value from\\nreinvested dividends\\n$170,969\\nDividends paid\\n+1.7x\\nShare count\\n+9.5x\\nTotal investment\\nvalue ($)\\n\\n\\n\\n\\n\\n\\nYEAR END RESULTS\\n‘00\\n‘05\\n‘10\\n‘15\\n‘21\\nTotal investment value\\n$1,096,626\\n$182,393\\nDividends paid\\n4,466\\nShare count\\n$439,780\\nValue of shares from reinvesting dividends\\n40%\\n% of investment value from reinvested dividends\\nSources: Capital Group, Refinitiv Eikon, Refinitiv Datastream. Growth rate calculations for value of shares from reinvested dividends and dividends paid use the first year’s dividends payment ($797) as a starting value. This information should not be considered a recommendation to purchase or sell a particular security and is provided for illustrative purposes only. As of December 31, 2021.\\nThe chart breaks down the year-end results of the hypothetical investment into five-year increments. Looking at Nestlé, that initial $100,000 would have grown to $694,518 by 2021.\\n\\n“Dividend growers historically have tended to generate greater returns than other dividend strategies, while also keeping up with the broader market,” Randall adds.\\n\\nThe key to those strong returns is in the reinvestment of dividends. In the case of Nestlé, reinvested dividends would have generated 36% of the total investment value, or $248,301, over 20 years. McDonald’s and Samsung tell a similar story.\\n\\nOf course, not all dividend-paying companies have kept pace with the broader market, and past results aren’t predictive of future outcomes. But the illustration suggests that dividend growers may be a good option for long-term investors.\\n\\nYou've discovered one of Capital Group's 10 investment themes for 2022\\nSEE THE REST\",\n",
       "  'tag': 'N/A'},\n",
       " {'company': 'Capital Group',\n",
       "  'topic': 'Insight',\n",
       "  'link': 'https://www.capitalgroup.com/advisor/insights/webinars/replay-all-weather-investing-amid-storm.html',\n",
       "  'date': 'N/A',\n",
       "  'content': 'N/A',\n",
       "  'tag': 'N/A'},\n",
       " {'company': 'Capital Group',\n",
       "  'topic': 'Insight',\n",
       "  'link': 'https://www.capitalgroup.com/advisor/insights/articles/3-ways-prepare-down-markets.html',\n",
       "  'date': 'July 20, 2022',\n",
       "  'content': \"Risk management is critical to portfolio construction, as this year’s choppy markets have highlighted.\\n\\nSome investors may think the best way to offset market volatility is with significant portfolio changes. But we’ve found that aggressive short-term moves, whether “buying the dip” of beaten down investments or shifting to very conservative holdings to ride out a market storm, often lead to even more unintended risks.\\n\\nEquities are typically the riskiest part of a portfolio, but not all equity funds are created equal. To find out which strategies can help you weather down markets, we’ve examined results for virtually every equity mutual fund since 1934. Our research identified common traits of resilient funds, some of which can help manage risk, enhance outcomes and more closely align funds with clients’ objectives.\\n\\nHere are three ways to help prepare your portfolio for down markets:\\n\\n1. Look for a history of downside resilience\\n\\nDespite evidence that market timing doesn’t work, investors still want to protect their assets. “Loss aversion,” the behavioral finance concept that claims investors dislike losses twice as much as they appreciate gains, helps explain this mindset. Partly responsible for Daniel Kahneman’s 2002 Nobel Prize, it is also a fancy way of saying investors hate to lose money.\\n\\nThis year’s market volatility has renewed interest in finding ways to mitigate portfolio losses. But what’s the best way to achieve this?\\n\\nOur study revealed that downside capture — a measure of a fund’s results relative to a benchmark in negative market periods — has been an indicator of potential success in future downturns. Notably, funds with low downside capture ratios in the previous three years outpaced their peers in future corrections and bear markets in 12 of the 13 periods since 1973. \\n\\nFunds with strong downside capture ratios typically outpaced peers in future downturns\\nSources: Capital Group, Morningstar, Standard & Poor's. Funds were grouped into downside capture ratio quartiles based on three-year downside capture ratios in the month prior to the start of a market correction (S&P 500 decline of 10% or more). Returns shown in the chart are the relative returns of the best down capture quartile minus the returns for the worst down capture quartile during the next market correction. Funds include those from the Morningstar Open-End Large Growth, Large Value and Large Blend categories. All data reflect month-end dates. As of 6/30/22, the current market correction is still ongoing and is not included in the analysis.\\n2. Optimize your portfolio with all-weather investments\\n\\nDownside protection may be some investors’ top objective, but for most it likely isn’t enough. After all, cash will offer a measure of protection in the next downturn — albeit with virtually no upside during a market recovery.\\n\\nWhat many investors want is downside protection that also participates in market upside — an “all-weather” portfolio. A more technical term for this would be positive asymmetric risk and returns, which is an investment opportunity that’s favorably unbalanced toward the upside. This could mean the potential profit is higher than potential loss, or the probability of a gain is higher than the probability of a similar-sized loss.\\n\\nWe’ve identified three traits most common among funds that have exhibited strong outcomes across full cycles:\\n\\nActive — By definition, a passive fund’s primary goal is to replicate a chosen index’s returns, including 100% upside and 100% downside capture. In contrast, active funds can seek to manage risk through security selection, though they may lag the index. Active management can also incorporate secondary client objectives, such as income or capital preservation, in addition to growth. We found that some of the most successful managers were those that incorporated multiple client objectives into the fund prospectus and strategy.\\n\\nFlexible — Funds that incorporated some flexibility versus traditional style box metrics on size, style or geography had a larger set of stocks to choose from and could optimize based on market conditions. A flexible fund that shifts between the full universe of growth and value stocks has the potential for better outcomes than making a timing bet and aggressively buying or selling assets.\\n\\nHigh yielding — These funds often had higher dividend yields than peers. In an analysis of monthly returns since 1993, funds with the best downside resilience (an average down capture ratio of 85%) had a higher dividend yield than their peers in all periods measured. There was a notable decrease in downside protection with lower yielding funds.\\n\\nHigher dividend yields have contributed to better downside resilience\\nSource: Capital Group, based on data from Morningstar. Funds include those from the Morningstar Open-End Large Growth, Large Value and Large Blend categories. Downside capture quartiles calculated using three-year down capture ratios compared to the S&P 500 Index for all rolling monthly periods from 1/31/93–12/31/20.\\nThe asymmetry of gains and losses over time can be quite powerful. Managers who deliver on this trait can achieve a few potential benefits: 1) higher returns, as smaller losses allow for quicker compounding in the next leg up in the cycle; 2) lower volatility, as the highest peaks and deepest valleys are somewhat truncated; and 3) more patient clients, who are likely to stay the course through future market cycles. \\n\\n3. Consider funds with high overall capture ratios\\n\\nOne way to assess asymmetric risk is to examine an investment’s overall capture ratio — a measure that divides upside capture by downside capture.\\n\\nThere are many funds that may have slightly lagged the benchmark in extended positive periods, but their strong avoidance of loss in negative periods has offered an asymmetric advantage.\\n\\nThe pursuit of downside resilience is built into Capital Group’s long-term focus and investment philosophy. Over the last 30 years, every fund in our equity lineup with at least a 30-year history has had an overall capture ratio of over 100% — meaning its upside capture ratio has been higher than its downside capture ratio. Additionally, during this period, each of these funds has also achieved lower downside capture than the market. Evaluating the full spectrum of funds across this risk dimension allows investors to choose a more appropriate fund for their investment objectives.\\n\\nCapital Group’s equity funds have had positive overall capture ratios\\nSources: Capital Group, Morningstar. As of 12/31/21. The shaded blue area represents an overall capture ratio over 100% (which occurs when upside capture ratio is above downside capture ratio). Funds without a 30-year history were excluded from analysis. Please see disclosures below for full names of the funds and benchmarks used to calculate the capture ratios included in the chart.\\nFor example, Washington Mutual Investors FundSM has an upside capture of 88% and a downside capture ratio of 79% over the last 30 years. For investors who use separately managed accounts in their portfolios, Capital Group U.S. Income and GrowthSM SMA is a strategy that also emphasizes downside resilience. This type of asymmetry can add value over a full market cycle and give investors more confidence to avoid bad timing decisions.\\n\\nBy examining the risk-return frontier, objective-based strategies such as these can help fine-tune risk and the amount of potential downside protection. Taken together, these characteristics may offer exactly what most clients are looking for: reasonable participation in market upsides combined with lower downside capture potential in inevitable market declines.\",\n",
       "  'tag': 'PORTFOLIO CONSTRUCTION'},\n",
       " {'company': 'Capital Group',\n",
       "  'topic': 'Insight',\n",
       "  'link': 'https://www.capitalgroup.com/advisor/insights/articles/braving-bear-markets-5-lessons-seasoned-investors.html',\n",
       "  'date': 'July 14, 2022',\n",
       "  'content': \"Stock markets around the world have entered bear territory. In the U.S., the S&P 500 Index slid nearly 21% for the six months ended June 30, 2022, suffering its worst first half in 52 years. Today, many investors are focused on the likelihood of recession and more pain ahead.\\n\\n“No one knows when this decline will end, but I am confident it will end, so I encourage you not to get caught up in pessimism,” says equity portfolio manager Don O’Neal, who has 36 years of investment experience and has navigated several bear markets. “Declines create opportunities for investors who remain calm. If we make good decisions in times of stress, we can potentially set up the next several years for strong returns.”\\n\\nThe importance of experience\\nSource: Capital Group. As of 12/31/21.\\nIn unnerving times like these, it’s helpful to hear from veterans like O’Neal who have survived numerous bear markets. At Capital Group, 31% of portfolio managers have more than 30 years of investment experience while 84% have 20 or more.\\n\\nWe asked O’Neal and four of his colleagues, each of whom has been investing for more than three decades and 171 years collectively, to share lessons learned from past bear markets and how they are applying those lessons today.\\n\\n1. Avoid the winners of the last cycle\\nLisa Thompson, Portfolio Manager, New World Fund®\\n33 years of investment experience\\nMy experience has taught me that markets have long cycles. I believe the pandemic marked the end of the post-global financial crisis cycle — a cycle dominated by deleveraging, demand shocks and expanding globalization. These conditions led to looser monetary and fiscal policy, low cost of capital and stock price inflation.\\n\\nToday we are at the beginning of a new cycle, one that I expect will be marked by deglobalization, a shrinking labor supply and decarbonization — conditions that will lead to a shift from asset price inflation to goods inflation. Profit margins and highly valued stocks will face continued pressure. Because I expect generally higher inflation during this period, I want to steer clear of many of the fast-growing primarily U.S. companies that were the winners of the previous cycle.\\n\\nMarket leadership often changes after a bear market\\nSources: Capital Group, MSCI, Refinitiv Datastream. Returns shown are from the MSCI USA Index and are absolute total returns in U.S. dollars. For the tech bubble the dates represented are December 31, 1996, to March 31, 2000 (before bear market), and September 30, 2002, to December 30, 2005 (after bear market). For the global financial crisis the dates represented are December 31, 2003, to September 28, 2007 (before bear market), and March 31, 2009, to December 31, 2013 (after bear market).\\nWhen cycles shift, market leadership changes. So, in today’s rising rate environment, I am focused on opportunities to invest in lower priced companies that generate strong cash flow. I think of this theme as the Revenge of the Nerds. I am generally staying away from the cool kids of the last decade — glitzy tech and media companies — and looking for opportunities among the unpopular kids in those industries hurt by the low cost of capital, poor capital allocation and adverse regulations. Some examples here might include leading telecom companies in markets like Europe, Mexico and Japan.\\n\\nIn fact, I am focusing largely on companies outside the U.S. In my view, many U.S. companies have benefited more from globalization and the low cost of capital than similar companies in other markets.\\n\\nGiven recent fears of deglobalization and rising inflation, I am looking at companies in Europe and Japan, as well as emerging markets that I have covered for decades. This might include, for example, commercial banks and consumer staples in China, but also in Italy, France, Japan and Latin America.\\n\\n2. Separate the wheat from the chaff\\nDon O’Neal, Principal Investment Officer, The Growth Fund of America®\\n36 years of investment experience\\nFirst, it’s important to recognize that things have changed. What used to work for stock picking won’t work in the same way, possibly for years. Holding the best companies with the best growth stories seemed to be a good approach over the past 10 years.\\n\\nBut I believe the last decade was too easy. Whenever retail investors get hyped up and day traders abound via Robinhood, that is a sign.\\n\\nGoing forward it will likely be harder to generate good returns, and the factors that drive returns most likely will change. For example, you can no longer buy and hold the fastest growers without regard to profits. I see this as a welcome return to fundamentals.\\n\\nYou may hear the current decline described as a correction of high multiple growth stocks. While this is generally true, it is incomplete. The stocks that have fallen the most all had fundamentals that disappointed versus expectations. Stocks with continued good fundamentals have held up better.\\n\\nA lot of stocks have plummeted, but that doesn’t mean they are all bad investments. Consider this example: In the 2000 bear market, both Amazon and Pets.com declined more than 80%. Pets.com went on to become a poster child for irrational exuberance as its stock went to zero. Meanwhile Amazon went on to become …. Amazon.\\n\\nBear markets can inflict pain indiscriminately\\nSource: FactSet. Full chart shows monthly returns from 1/31/00–6/30/22. Smaller chart shows daily returns from 1/3/00–12/31/00.\\nFor me, it’s time to get out a clean sheet of paper, focus on the fundamentals and concentrate your portfolio. Ruthlessly throw out the pretenders and hold only the highest conviction investments. Separate the wheat from the chaff.\\n\\nThis could be growth companies in the semiconductor, cloud services or search areas, for example. But it could also lead to more value-oriented companies like defense contractors, insurers or energy companies.\\n\\n3. Trade the intangible for the tangible\\nCarl Kawaja, Principal Investment Officer, EuroPacific Growth Fund®\\n35 years of investment experience\\nFor the last 10 years the stock market placed a lot of value on companies that offer intangible things like software. But we've recently seen it demonstrate a greater embrace of companies that make tangible things. We all know and appreciate how rapidly electric vehicles are growing, but I think people may have underappreciated how much nickel and copper are needed to build their batteries.\\n\\nThat’s why demand for some commodities, like nickel, is benefiting from secular tailwinds, and markets are starting to recognize this. Of course, to succeed in a commodity investment, you need to identify a company that has an enduring resource or a cost-effective means of finding and producing more of it.\\n\\nConsider iron ore, a key ingredient in steel. One of the reasons it has been important since the Iron Age — that’s a long time — is that we haven't really found another material that replaces it in terms of strength, cost, weight, flexibility and ability to be molded and transported. This substance underpins so much of the world’s progress. Skyscrapers are not made of brick or wood or some New Age material. They are built of steel. There's also a lot of steel in the computer I use. And most people probably drive to work in a car built with steel.\\n\\nIron ore can be found throughout the world, so in theory a lot of people could produce steel. But there really are only two places where it can be mined economically — Brazil and Australia — because it needs to be mined in pure quantities.\\n\\nBrazil is home to a unique source of high-quality iron. When iron is mined it is often dropped directly into containers that are covered with blankets because it's so fine it can blow away in the wind, like baby powder. This makes Brazilian iron ore particularly good for blending with other grades because it lowers the cost of producing the ore in a blast furnace to make steel. It also increases the strength of the steel, so that high-quality iron ore generates a premium.\\n\\nYou can't invent that somewhere else. I’m not worried about Silicon Valley disrupting iron ore or some brilliant scientists in Switzerland discovering a different way to produce it. The market moves in cycles, so it will fall in and out of favor, but I feel reasonably confident that 50 years from now, production of iron ore will remain important.\\n\\n4. Ride supertankers, limit moonshots\\nJody Jonsson, Principal Investment Officer, New Perspective Fund®\\n33 years of investment experience\\nOne observation over my career is that when there are regime shifts in the market, the stocks that represent the former leadership can take a long time to recover. Rotation away from the dominant companies can go on much longer than you think it can or should.\\n\\nIn the late 1990s-early 2000s period, some of the largest tech stocks went down 80% or more and stayed down for five to 10 years. And these were the strong companies that survived; many others went to zero. You needed a very strong stomach to hold on through this period. It took almost a decade for tech to regain market leadership again. Financial stocks behaved similarly after the financial crisis in 2008 — out of favor for another decade. In periods like these, you must consider that something has changed beyond just the valuation for these former leaders. Usually, the valuation corrects first and the fundamentals follow.\\n\\nSo how am I thinking about investing in today’s environment? I believe that we are experiencing “climate change” in the market, not just a passing storm. We need to avoid anchoring on past growth rates, profit margins or stock prices. Given the high level of uncertainty, I focus primarily on “supertankers” — dominant companies in their industries that generate solid cash flow, have strong competitive moats and can fund their own growth. I am investing more sparingly in what I would call “moonshots” — higher risk, higher reward companies that are more volatile — because in a rising interest rate environment, investors are less forgiving on valuations for more speculative companies.\\n\\nI try to hold companies with reasonable, understandable valuations on near-term earnings and cash flows. Some examples include leading managed care providers or device makers in the health care sector, or nonbank financials such as insurers and exchanges that can benefit from rising interest rates and elevated trading volumes and are not overly sensitive to the economy.\\n\\n5. Bear markets can be your friend\\nSteve Watson, Principal Investment Officer, International Growth and Income FundSM\\n34 years of investment experience\\nOver my career I have experienced 21 market shocks, including the collapse of the Soviet Union, the bursting of the technology bubble, the global financial crisis and now COVID-19. I mention these events only to highlight the fact that market disruptions are a fact of life. It’s just a matter of time before the train goes off the rails. My list suggests it happens every 18 months or so.\\n\\nMarket disturbances are a fact of life for investors\\nSources: MSCI, RIMES. As of 6/30/22. Data is indexed to 100 on 1/1/87, based on the MSCI World Index from 1/1/87–12/31/87, the MSCI ACWI with gross returns from 1/1/88–12/31/00, and the MSCI ACWI with net returns thereafter. Shown on a logarithmic scale.\\nAs long as I’ve been in this business, I’ve seen the market swing from excessive enthusiasm to extreme pessimism. An investor with a reasonable degree of objectivity can benefit from selling the former and buying the latter. It’s an approach that frequently causes pain and tends to pay off mostly during the early stages of market upturns, as pessimism gives way to optimism. Warren Buffett said it best: Be fearful when others are greedy and greedy when others are fearful. Put another way, bear markets are an investor’s friend, provided they remain calm, patient and focus on the long term.\\n\\nI like to purchase shares when they are down and out, but I also like to hang on long enough to let the market catch up with what I think is the true value of the company in question. Despite my value bent, I remain a strong believer in the resilience of the tech sector. Entry point is important to me. Therefore, I will look to invest in some select tech companies when their shares are beaten down.\\n\\nWhat’s more, I have long placed an emphasis on dividends as the primary way that a company transfers value to its investors. In my view, the potential for dividend payers to provide relative stability during market turbulence is more important than ever. And I continue to hold several high dividend payers, as well as dividend growers. The shares I invest in, like my own children, should pay rent to live with me.\\n\\nBottom line\\n\\nToday, there are thoughtful, experienced economists and professional investors who can give you well-reasoned arguments why this bear market is different, why the economic problems are different and why this time things may get worse. But while some others might tell you, “This time is different,” our message to you is, “we’ve seen this before.”\\n\\n“I don’t know if the current decline will fit into the pantheon of bear markets past,” O’Neal says. “But what I do know is that every bear period has eventually ended, and the market started back up again.”\\n\\nOver time, and in time, the financial markets have demonstrated a remarkable ability to anticipate a better tomorrow even when today’s news feels so bad. While no one can predict the future and no two market declines are the same, we have been here before, and we’ve learned how to survive and prosper when markets begin to recover.\",\n",
       "  'tag': 'MARKET VOLATILITY'},\n",
       " {'company': 'Capital Group',\n",
       "  'topic': 'Insight',\n",
       "  'link': 'https://www.capitalgroup.com/advisor/insights/articles/investing-in-china-today.html',\n",
       "  'date': 'May 17, 2022',\n",
       "  'content': \"It’s important to state up front that we don’t believe China is “un-investible” as some have posited following the government’s recent intervention into several areas of the private-sector economy. It’s also not a geopolitical pariah like Russia, which is a tiny constituent of the global indexes and economy.\\n\\nChina’s key attraction is its enormous domestic market. But as the world’s second-largest economy, China is deeply interconnected with the global economy in manufacturing supply chains and is increasingly a large portion of multinational corporate revenues. Understanding and navigating the complexities of China has important implications for both domestic and international investing in understanding the development of its capital markets longer term.\\n\\nThe framework for investing in China has changed significantly over the past year due to micro, macro, regulatory and geopolitical factors. China is still investible, but at the right price in the right sectors. And the kinds of companies that might be future potential sources of solid returns could be quite different than in the past decade.\\n\\nWith that backdrop in mind, here is how we are thinking about investing in China today.\\n\\nThe risk premium is higher\\n\\nWe’ve been significantly reassessing the risk premium applied to China, given slower economic growth, the rising demographic headwinds and the potential for further regulatory measures. The country is going through a structural change during a cyclical downturn, and it could take some time to fully understand the impact of the government’s common prosperity agenda for the economy and President Xi Jinping’s priorities if he secures a third term.\\n\\nSo, what do we know? From our perspective, China’s problems are fairly apparent: among them, an aging population, significant debt at state-owned enterprises and local governments, pollution, wealth disparity and inefficient allocation of capital. The property sector and its current downturn are of particular concern.\\n\\nXi is trying to fix many of these critical problems with reforms and regulations. And since China’s two-term limit on the presidency was removed in 2018, Xi is widely expected to be elected for a third term at the 20th Party Congress in late 2022, giving him more time to implement his agenda and shape China for decades to come.\\n\\nExplosive growth has transformed China over 40 years\\nSources: Capital Group, CEIC Data, IMF Data, the World Bank. *Data for number of private enterprises as of 1988 and 2018. (RMB is the abbreviation for China's currency, the renminbi.)\\nFor now, it means companies with excessively high profit margins may come under scrutiny, similar to what happened in the for-profit education and technology-related sectors. It also means incorporating a much more layered and complex analysis of each security from a fundamental perspective and through a policy lens to see where it fits in Beijing’s development agenda. An example would be companies that are beneficiaries aligned with Xi’s mandate to source locally and develop internal domestic supply chains.\\n\\nIt further means applying a higher risk premium to Chinese equities with comparable businesses to listed stocks in other countries that don’t have the same political risks. Emerging internet platform companies in Southeast Asia and Latin America are an example.\\n\\nOver the past 18 months, we’ve become more selective and have narrowed exposure in China. Holdings have become increasingly concentrated in fewer larger positions and in companies run by private entrepreneurs, where there remains potential for secular growth with some political tailwinds.\\n\\nAnd we’ve become more valuation sensitive and focused on capital allocation. This has meant a reduction in technology holdings and China exposure overall. As the chart shows, China’s technology companies have tumbled since early 2021, not long after China’s regulators abruptly postponed the initial public offering of Alibaba affiliate Ant Financial.\\n\\nValue of China’s technology giants has diminished on regulatory uncertainties\\nSources: Capital Group, MSCI, RIMES. The five companies included represent the five largest Chinese technology companies (Tencent, Alibaba, JD.com, Baidu and NetEase) by market value as of February 28, 2022, that were also publicly listed in 2015. All stocks, except Tencent, reflect their American Depository Receipts.\\nA focus on domestic companies with less political risk\\n\\nFinding areas to invest alongside the priorities of China’s government has taken on even greater importance. The government seems determined to not let private companies have a disproportionate influence on any single area of the economy or to reap high profits at the expense of consumers, although they want them to remain innovative and source materials domestically.\\n\\nIt seems the playbooks for the large internet platform companies has changed and their days of exponential growth will be more measured. To some degree, this is now reflected in their stock prices. It’s become clear the government wants to prevent the large technology companies from aggressively expanding horizontally into multiple lines of business. It also seems clear the government wants to protect their smaller competitors and to force a more equitable distribution of wealth.\\n\\nOn top of this, several key areas, like e-commerce, may be maturing in terms of penetration and have become increasingly competitive. Based on reports of layoffs and bonus cuts in China’s internet sector, it appears these companies are preparing for a different future.\\n\\nIn our view, political investment risk may be reduced by focusing on domestic-oriented companies in China that are aligned with Xi’s policy priorities (i.e., automation, local technology and content, environment, electric vehicles (EVs), health care) and serve to improve people’s lives at reasonable prices and margins.\\n\\nOver the years, we’ve met many smart entrepreneurs in China who have scaled up their businesses very quickly and believe such investment opportunities remain in the country’s large addressable markets, in areas like consumer products, health care, IT services, semiconductors and clean energy. So, from our perspective, it is possible to enjoy a long tailwind of growth if you pick the right place to invest.\\n\\nChina seeks to become self-sufficient in key industries\\nSources: U.S. Chamber of Commerce and the Center for Security and Emerging Technology, based on estimated data as of 2017.\\nPotential areas of growth alongside Beijing's agenda\\n\\nOne area of interest is auto dealerships, which are building their brands within China. It’s a basic business but still largely fragmented across China with room to grow, especially in after-sales service. EVs and urban natural gas networks that replace coal are attractive areas that are aligned with the government’s agenda. And, given the aging population, automation and health care remain areas with long-term tailwinds. Other areas of potential growth are national consumer brands in the alcohol and dairy space, which are gaining share and have pricing power.\\n\\nGiven the sheer size of the population, domestic consumer brands don’t necessarily have to target consumers outside China to become successful. Many Chinese consumers are buying their first homes, refrigerators and other household appliances to improve their living standards, and the middle class continues to grow and remains aspirational. This approach also helps shield some investments from getting swept up in U.S.–China trade frictions.\\n\\nCapital Ideas™ webinars\\nInsights for long-term success\\nCE credit available\\nWATCH\\nExpect a slower rate of growth in China’s economy\\n\\nThere is a risk of a prolonged slump in China’s economy. China is dealing with another round of rolling COVID-19 lockdowns (which are more stringent than those in 2020), and this could further constrain already weak consumer spending and a broader reopening of China’s economy. This also may continue to impact global supply chains and increase global inflationary pressures.\\n\\nThe property market, which is a significant contributor to the country’s gross domestic product (GDP), is in a significant downturn with many heavily indebted real estate developers. Land and home sales have been weak, and there does not seem to be much incentive for buyers to fork over down payments on projects that might not get finished.\\n\\nOur economist colleague Stephen Green is concerned about the prospects for China’s economy over the next 12 months. He anticipates marginal growth and does not expect any significant loosening of policy that would forestall the current slowdown. He believes Beijing, which has guided to 5.5% GDP growth in 2022, has not moved fast enough to turn around the economy.\\n\\nThere are likely to be a few interest rate cuts and tax cuts for small businesses, but no big bang measures like those that pulled China out of its 2015–16 slump. At best, in Green’s estimation, Beijing will slowly turn up the stimulus dial each month.\\n\\nValuations for leading domestic consumer companies have been less affected\\nSource: Refinitiv Datastream. Data as of February 28, 2022. Forward price-to-earnings is the ratio for valuing a company that measures its current share price relative to its projected per share earnings over the next 12 months.\\nHistorically, volatility in China has been a buying opportunity: The problem appears, growth slows, the government comes up with clever tweaks to regulation and policy with more stimulus, the economy stabilizes and the market rebounds. But it seems the playbook has changed, and many of us are waiting to see if more significant stimulus measures happen after the 20th Party Congress.\\n\\nThe energy shortages that rippled through China in the fall of 2021 and temporarily shut down manufacturing facilities were telling about Xi’s resolve to restructure the economy. Why would Xi allow this when the economy was weak, the property market was rapidly decelerating, there was a trade war with the United States and COVID was impacting global export markets?\\n\\nThe message is clear, in our view: GDP growth is no longer a top priority for China’s Communist Party. We are bracing for more volatility and plan to be more selective about gauging the risk premium for industries and companies. But we continue to look for longer term opportunities amid this market selloff.\",\n",
       "  'tag': 'CHINA'},\n",
       " {'company': 'Capital Group',\n",
       "  'topic': 'Insight',\n",
       "  'link': 'https://www.capitalgroup.com/advisor/insights/articles/air-travel-taking-off.html',\n",
       "  'date': 'May 11, 2022',\n",
       "  'content': \"After two years of relatively empty skies, Ryanair CEO Michael O'Leary is an eyewitness to the incredible resurgence of demand for air travel. Faced with long security delays at Dublin Airport, he implored the Irish government to call up the army last month to help process eager travelers flooding the terminals.\\n\\nAs the global economy gradually emerges from the pandemic, airports around the world are dealing with a crush of passengers looking to make up for lost time. Fueled by pent-up demand, many are flying for the first time since the COVID-19 virus crippled the travel industry. For the airlines, the turnaround in demand has been fast and furious, surpassing even the most optimistic expectations.\\n\\n“Demand is turning back on almost as quickly as it turned off,” says Capital Group equity analyst Todd Saligman, who covers the aerospace industry in the U.S. and Europe. “Many U.S. airlines have reported that March was the strongest booking month in history, and we are seeing similar strength in Europe.”\\n\\nU.S. air travel is rebounding from a sharp pandemic-era downturn\\nSources: Capital Group, U.S. Transportation Security Administration. Data reflects number of travelers going through TSA airport checkpoints. As of 4/30/22.\\nHeading into the summer vacation season, air travel is likely to exceed pre-COVID levels in much of the Western world. That’s despite several headwinds facing the airlines today, including sharply higher fuel costs, a pilot shortage and fewer available flights as the industry ramps up to full strength. A resurgence of the virus is holding back China’s reopening, leaving Asian air travel lagging the U.S. and Europe at the moment.\\n\\n“We’re not back to pre-COVID levels yet, but it’s just a matter of time,” Saligman notes. “Travel is a secular growth industry in a lot of countries. Only about 20% of the world’s population has ever been on an airplane. So there is huge room for growth, especially in emerging markets such as China and India, where the middle class is growing and air travel is still in its infancy.”\\n\\nCapital Ideas™ webinars\\nInsights for long-term success\\nCE credit available\\nWATCH\\nVolatility is in the air\\n\\nMake no mistake, airline stocks are volatile. As a group, U.S. airline stocks fell 31% in 2020 as government-imposed lockdowns and bans on international travel brought air traffic to a virtual standstill. They fell another 2% in 2021, even as a reawakening economy lifted other sectors. It’s been a mixed bag so far this year, with the sector up nearly 10%, despite a pullback after Russia’s February 24 invasion of Ukraine.\\n\\nThe war has contributed to a meteoric rise in the price of jet fuel, which has increased 110% this year, surpassing the rise in oil prices by a wide margin. Fuel is generally the second largest expense for airlines, after labor.\\n\\nJet fuel costs are rising even faster than oil prices\\nSources: Capital Group, Refinitiv Datastream. Jet fuel prices represented by the U.S. Gulf Coast Kerosene-Type Jet Spot Price; Brent crude prices represented by the Europe Brent Spot Price. As of 4/30/2022.\\nIn normal times, such a dramatic increase in jet fuel prices would hurt the highly competitive aviation industry. But these aren’t normal times.\\n\\n“Airlines have largely been able to pass these costs along in the form of higher airfares,” Saligman explains. “These stocks will likely continue to be volatile, but I think the next six to 12 months could be a very strong period for the airlines, as well as cruise lines and other travel-related companies.”\\n\\nIndeed, two of the largest U.S. carriers — American Airlines and Delta Airlines — are both forecasting record-high revenues in the current quarter ending June 30. In recent earnings calls, airline executives said they expect sales to soar during the summer travel season. “Demand is stronger than I’ve ever seen in my career,” said United CEO Scott Kirby, “and that’s even before business travel fully recovers.”\\n\\nAirline industry poised for rapid growth in a post-pandemic world\\nSources: Capital Group, MSCI, Refinitiv Datastream, RIMES. As of 4/30/22.\\nCome fly with me\\n\\nOptimism for the airline industry comes with a few caveats. The recovery should proceed if energy prices don’t continue to skyrocket, the Russia-Ukraine conflict doesn’t spread and severe COVID restrictions aren’t once again imposed. Those are some big assumptions that may or may not play out according to plan. But over the long term, the outlook is favorable, says Steve Watson, a portfolio manager with New Perspective Fund®. \\n\\n“I think COVID will go away, and people will want to fly again — it’s that simple,” says Watson, who holds airlines, cruise lines and booking companies in his portfolios. “Investors should focus less on the timing and more on what cash flows and earnings will look like in the months and years ahead.”\\n\\nWhat about the fear that Zoom or Webex video calls will replace the need for in-person business meetings? That’s nonsense, Watson says.\\n\\n“Years ago, conference calls were supposed to kill business travel and that never really happened either,” he notes. “People who generate revenue face-to-face will be traveling.”\\n\\nLong runway for “reopening” theme\\n\\nAs one of the few industries that has not fully participated in the COVID recovery period, many airlines are attractive from a valuation perspective, says Chris Thomsen, a portfolio manager with the EuroPacific Growth Fund®.\\n\\nAirlines have experienced a delayed recovery, largely due to the emergence of the COVID-19 omicron variant last December. With omicron fading in many parts of the world, airlines and other travel-related companies are well positioned to participate in the comeback that has lifted other sectors hard hit by the 2020 downturn.\\n\\nThomsen saw evidence of that on a recent trip from London to Los Angeles.\\n\\n“The airports were crowded, restaurants were bustling and flights were full,” he says. “I think we are in a post-COVID world now. People want to get out and do all the things they couldn’t over the past two years. That’s going to benefit the travel industry for the next few years at least.”\",\n",
       "  'tag': 'AEROSPACE'},\n",
       " {'company': 'Capital Group',\n",
       "  'topic': 'Insight',\n",
       "  'link': 'https://www.capitalgroup.com/advisor/insights/webinars/what-next-us-equities.html',\n",
       "  'date': 'N/A',\n",
       "  'content': 'N/A',\n",
       "  'tag': 'N/A'},\n",
       " {'company': 'Capital Group',\n",
       "  'topic': 'Insight',\n",
       "  'link': 'https://www.capitalgroup.com/advisor/insights/articles/when-market-volatility-rising-boring-beautiful.html',\n",
       "  'date': 'April 28, 2022',\n",
       "  'content': \"Fast-growing digital and tech companies generated a lot of investor excitement over the past decade, not to mention an outsized share of market returns.\\n\\nSince the start of 2022, however, many of these market darlings have taken a beating. Amid slowing economic growth, soaring inflation and the fear of rising interest rates, investors may be taking a second look at the high valuations many digital platform and software stocks command.\\n\\n“This is one of the most complex environments for investing we have seen in years,” says equity portfolio manager Jonathan Knowles. “With questions lingering over the persistence of inflation and shifts in the geopolitical landscape, I am looking to invest in an ‘all weather portfolio’ with the potential to withstand a variety of potential risks.”\\n\\nThat’s why boring is beautiful according to Knowles. “I'm looking to invest in dull and dependable companies with the potential to generate solid cash flows and continue growing regardless of the direction of the economic cycle or macroeconomic developments.”\\n\\nHere are some investment themes that cautious investors may want to consider.\\n\\nCapital Ideas™ webinars\\nInsights for long-term success\\nCE credit available\\nWATCH\\nRailroads are riding a commodities boom\\n\\nYou can’t build the new economy without old industries.\\n\\nLong-term shifts toward a digital future, the rollout of electric vehicles and the transition to clean energy will likely continue to drive opportunity for innovators in those areas. But these trends are also providing tailwinds for old industries like mining and railroads.\\n\\nNickel, for example, is a key component in electric vehicle batteries. So is copper, which is necessary for updating the electric grid. And while software is becoming an increasingly essential player in the production of modern cars, steel remains a required component. Indeed, prices for select commodities have skyrocketed in recent months, a trend amplified by the war between Russia and Ukraine — major producers of nickel, copper and grains.\\n\\n“People have underappreciated how much copper is needed to rewire and modernize the electric grid as demand rises,” says equity portfolio manager Andrew Suzman. “Businesses like Canadian metals and mining company First Quantum Minerals, which focuses on copper, and Brazil’s Vale, a producer of iron ore, could benefit.”\\n\\nRising demand for commodities and energy could also boost demand for North America’s railroads, which are the most cost-effective way to transport heavy materials. Railroads have pricing power potential as well, which is important in today’s inflationary environment. They typically base their pricing on the cost of the underlying commodities they are hauling, so revenues rise with commodity prices.\\n\\nRising fuel costs also prove beneficial, as the difference between the cost of trucking and rails is at its widest gap in years. “A railroad like Canadian Pacific, which has the only tri-coastal Canada-U.S.-Mexico network, could do well under a variety of economic circumstances,” Suzman adds.\\n\\nRailroads have room to increase pricing amid a commodities boom\\nSources: Capital Group, Association of American Railroads, U.S. Bureau of Transportation. Data shown from January 1990 through December 2018. The rail category refers to Class 1 rail, or carriers earning more than $505 million in annual revenue. Pricing per ton-mile refers to the pricing charged for transporting one ton of freight across one mile.\\nIndustrials help power an energy-efficient future\\n\\nThe global push to reduce carbon emissions and improve energy efficiency is often associated with electric vehicles or utilities harnessing solar and wind power. At first blush, traditional industrial companies making machinery, chemicals and other construction materials might be construed as part of the problem, not the solution.\\n\\nBut HVAC companies like Carrier and Daikin are developing air conditioning and heating systems that could help reduce global greenhouse gas emissions. Regulations in Europe and elsewhere that require the replacement of older systems with more energy-efficient products could drive long-term opportunity for both companies.\\n\\nTighter carbon emissions regulations and infrastructure spending across major economies could also provide tailwinds for Swiss specialty chemical maker Sika, Knowles says. “The company makes cement additives that can reduce carbon emissions and increase durability,” Knowles says. “This may sound like a boring business, but its growth potential is pretty compelling as global emissions standards tighten.”\\n\\nTightening emissions regulations are generating opportunity for select industrials\\nSources: Capital Group, company reports, Refinitiv Datastream. Company market capitalizations are in USD as of 3/31/22.\\nBargain hunters find “treasure” at dollar stores\\n\\nWhen economic conditions become challenging, consumers may naturally become more careful about spending. Many shoppers shift their spending to discount merchants known as treasure hunt retailers. These stores offer clothing, personal care items and household products at relatively low prices, as well as some higher quality products at bargain prices.\\n\\n“In a slowing economic environment, many people will be trading down to dollar stores,” says portfolio manager Diana Wagner. “Such stores have held up well in past recessions.”\\n\\nTreasure hunt retailers have outpaced the market in recessions\\nSources: Capital Group, National Bureau of Economic Research, Refinitiv Datastream, Standard & Poor’s. Reference periods for recessions are March 2001 to October 2001, December 2007 to May 2009, and February 2020 to March 2020. Consumer discretionary category refers to the S&P 500 Consumer Discretionary Index.\\nWhat might be less intuitive is that well-run treasure hunt retailers often have pricing power potential when inflation is rising.\\n\\nFor example, Dollar Tree, which offers a wide variety of items for $1, recently launched their “breaking the buck” strategy. The company initially offered a $5 category of goods, followed by a category for $1.25. “This same approach has helped other treasure hunt retailers generate multiple years of strong same-store sales growth and margin expansion,” Wagner says.\\n\\nA change in senior management at the company could prove to be another tailwind. “Dollar Tree has been undermanaged relative to its competitor Dollar General,” Wagner observes. “But recently Rick Dreiling, the former CEO of Dollar General, was named chairman of Dollar Tree. I think this could be an important turning point for the company.\\n\\n“In today’s environment, I look for companies that can improve their businesses and make their own growth happen regardless of what the economy does,” Wagner explains. “Dollar Tree could be one of those self-help stories.”\\n\\nThe bottom line\\n\\nInvestors may be wondering if the digital transformation has run its course. “Not at all,” Knowles says. “Leading digital platform companies, cloud software and autonomous vehicle technology continue to reshape the way we work, live and shop. But many of these companies may have gotten ahead of themselves.”\\n\\nWith inflation rising and the earnings potential for many of these companies still years away, valuations may be extended. “Leading technology companies continue to look promising over the long term,” Knowles says. “But in this environment, I am shifting my focus a bit toward companies that actually make stuff and tend to hold their ground during all types of market weather.”\",\n",
       "  'tag': 'GLOBAL EQUITIES'},\n",
       " {'company': 'Capital Group',\n",
       "  'topic': 'Insight',\n",
       "  'link': 'https://www.capitalgroup.com/advisor/insights/articles/dividend-rotation-inflation.html',\n",
       "  'date': 'April 13, 2022',\n",
       "  'content': 'The recent volatility in growth stocks has brought dividend equities back into focus. Dividend-paying stocks have outpaced their growth counterparts by a substantial margin year-to-date, as fears of rising interest rates and worries about the pace of economic growth in the United States and China have raised concerns over the elevated valuations of many previously high-flying growth stocks.\\n\\nWe saw a similar market rotation in the first quarter of 2021, which fizzled out as growth stocks made a strong comeback. But this year the macro-economic backdrop is different. Inflation is at a multi-decade high, and the Federal Reserve plans to raise interest rates and wind down its quantitative easing program. Earnings reports from some of the larger growth companies, like Netflix and Meta, have disappointed versus expectations. And the value of the more distant cash flows of growth companies makes them more vulnerable to a rise in interest rates.\\n\\nDividend stocks have rebounded\\nSource: Bloomberg. Data as of February 15, 2022, and based on style factor strategies created by Bloomberg. Factor investing is an investment approach that involves targeting specific drivers of return across asset classes (including macroeconomic, fundamental and other statistical measures for building a strategy).\\nAmid rising bond yields and higher inflation, the market rotation into dividend stocks may still be in the early stages. Along those lines, dividend-income investment could well play a more important role in the total return of a portfolio. Against this backdrop, we explore four emerging trends in the dividend universe.\\n\\n1. Positive correlation between dividend yields and bond yields\\n\\nFor most of the past 30 years, the relative returns of high dividend-yielding stocks and changes in U.S. Treasury yields had a negative relationship. That relationship reversed in the past two years and high-yielding stocks have exhibited a positive correlation to bond yields. If this trend continues, a rise in interest rates may not dampen prospects of dividend stocks as they have in the past.\\n\\nPartly, it’s because interest rates are rising, but from a very low base. Even as the Fed begins to raise policy rates, our fixed income rates team expects the 10-year Treasury yield to remain within a range of 2% to 3% with a further flattening of the yield curve led by a rise in short-term rates. Against this backdrop, dividend-paying stocks provide a combination of income and potential for capital appreciation, especially since the valuations of many of these companies appear reasonable following a long bull market for growth stocks. That said, it’s important to identify companies with heavy debt loads or excessive leverage on their balance sheets in a rising rate environment.\\n\\nHistorical relationship between bond and dividend yields has turned positive\\nSources: Capital Group, MSCI, Datastream. Data as of December 31, 2021. Yield factors are constructed by ranking dividend yields within a region and then breaking them into terciles, rebalanced monthly. The return reflects the average return of the high-yielding cohort minus the average return of the low-yielding cohort. Returns are market cap weighted. The change in the 10-year Treasury is measured as the monthly basis points change in the 10-year Treasury yield. The correlation is calculated over 24 months and rolled forward on a monthly basis.\\n2. Dividends are making a comeback, but at a measured pace\\n\\nWe expect a steady increase in global dividends, but at a measured pace. Many companies are taking a more deliberate approach after their experience in the depths of the COVID-19 pandemic, when they were forced to substantially cut or eliminate their payouts. Now, amid a deceleration in global economic growth, some companies want to preserve cash in case of a greater-than-expected downturn.\\n\\nSome industries, such as travel, continue to face a high level of uncertainty. Boeing, one of the world’s largest makers of airplanes, and cruise line operator Carnival are still struggling with depressed travel and have not resumed dividend payouts. Overall, however, dividends continue to recover. Of the 242 companies that either suspended or cut their dividend in 2020, 98 have reinstated payments and only three companies cut their dividend in 2021, according to Wolfe Research data as of February 15.\\n\\nCompanies with pricing power are likely to be better positioned to increase dividends. Household products giant Procter & Gamble, for example, has already raised prices across some of its product lines to help hedge itself against inflation. Consumer staples makers are often hurt when inflation begins to move higher and input costs go up. However, after a period of three to six months, these companies often seek to reprice contracts with retailers and grocers. This ultimately puts them in a better position to recoup those raw material costs, grow their earnings and potentially increase their dividend at a commensurate rate.\\n\\nDividend acceleration is also anticipated in Europe, where governments have eased pressures on dividend payments. During the pandemic, governments and regulators had pressed some companies to refrain from making payments as part of a social solidarity movement.\\n\\nGlobal dividends are projected to rise\\nSources: Capital Group, FactSet, MSCI, RIMES. Data for 2022–2024 are estimates by FactSet as of February 2, 2022.\\n3. Highly cyclical firms take innovative approach with variable dividends\\n\\nSome companies, especially those in cyclical industries, are adopting innovative approaches to balance their business needs and a commitment to dividend payouts. Take the mining sector, which in 2021 witnessed a boom in dividend payouts. Over the past few years, many large mining companies, such as Rio Tinto and Vale, have switched from progressive dividend policies to a payout ratio. In these arrangements, dividend payouts are determined by a formula tied to certain operating metrics. This shift results in a variable dividend yield over time. But it also gives these companies an enhanced ability to manage their balance sheet and cash flows in a sustainable manner through multiple commodities cycles.\\n\\nIn the past, miners often struggled to maintain a regular dividend during market downturns and would either cut the dividend or be forced to raise debt to cover the payout.\\n\\nExploration and production (E&P) companies are also pivoting their dividend strategies. Historically, E&P companies have not been dividend payers, choosing instead to reinvest in the business to pursue more growth in production. But growth backfired at times when fluctuating energy prices hurt investment returns on projects and led to financial troubles.\\n\\nThis is starting to change as firms have become more disciplined. Companies have begun to initiate a regular dividend at a low base, supplementing them with variable or special dividends depending on commodities prices and the strength of cash flows.\\n\\nFor instance, Pioneer Natural Resources last November declared a quarterly cash variable dividend of $3.02 per share, representing approximately $740 million of capital returned to shareholders. EOG Resources has increased its dividend over the past five years and announced a special dividend last July.\\n\\nCompanies hope this newer approach can lead investors to adopt a more benign valuation framework in which to view them and thus avoid excessive stock price volatility. \\n\\n4. Financials, energy and health care are areas of dividend opportunity\\n\\nFinancials, energy and health care represent a substantial chunk of the dividend-paying universe, and a confluence of factors appear to support the case of rising dividends from each of these areas.\\n\\nFinancials: Rising rates should help the more rate-sensitive banks in the U.S. and Europe expand their net interest margins, which have been suppressed for many years by persistently low interest rates. This could result in stronger earnings, improved dividend streams and higher valuation multiples.\\n\\nBanks have been building up excess capital on their balance sheets since the Great Financial Crisis and most are now well-capitalized, having undergone a number of regulatory stress tests. And some banks in the U.S. and Europe are poised to redeploy surplus capital in the form of regular and catch-up dividends after facing regulatory limitations during the pandemic.\\n\\nFor example, Dutch banking giant ING has committed to a minimum 50% dividend payout ratio (the proportion of earnings paid out as dividends to shareholders, typically expressed as a percentage) of earnings. CaixaBank, one of Spain’s largest banks, stated it would boost its payout ratio to as much as 60% from 50% previously. It’s possible that other European banks could follow a similar course of action as regulatory pressures ease, making this sector a potential source of more consistent dividend income. \\n\\nEnergy: Large integrated oil companies have long been good sources of consistent dividends for income-oriented investors. They’ve also become more disciplined on supply, having curtailed investment in existing reserves and pursuing new sources of oil.\\n\\nU.S. oil giants Chevron and Exxon Mobil have demonstrated a steadfast commitment to paying dividends despite some dramatic swings in the price of oil over the past decade. Chevron recently increased its dividend for a 35th consecutive year.\\n\\nBut dividend policies have diverged in the oil sector and calibrating the dividend streams of oil companies has become more challenging. Over the past couple of years, European oil majors BP and Royal Dutch Shell have cut their dividends amid their transition to investing in renewable energies that are capital intensive and where the return on invested capital is still uncertain. Having reset their dividends to lower payout ratios, the European oil majors have left sufficient room to increase dividends over time.\\n\\nHealth care: Health care companies could be a source of both earnings and dividend growth in the current inflationary environment. Pharmaceutical companies historically have exhibited relatively strong pricing power. While the industry has faced political pressures on drug prices, the more innovative pharmaceutical companies will likely be positioned to raise prices at modest levels.\\n\\nLike the energy companies, the major pharmaceutical companies recognize that a sizeable portion of their value proposition with the investor base is the dividend payout. That, combined with the potentially robust pipeline over the next several years at several major pharmaceutical companies across all geographies, gives us confidence that this will be another area that can be a well-diversified source of equity income.\\n\\nCommodity companies offer some of the highest yields \\nSources: MSCI, RIMES. Data as of January 31, 2022.\\nBottom line\\n\\nOver the past decade, many growth companies have been rewarded in an environment of modest global economic growth, very little inflation and ultra-low interest rates. We appear to be in the beginning stages of an equity market that is starting to show some breadth after a heavy focus placed on the technology-related growth stocks, especially those in the United States.\\n\\nAs market volatility increases due to monetary tightening and elevated levels of inflation, dividend-income investment could play a more important role in the total return of a portfolio. Investors are likely to pay greater attention to dividend payers as companies reinstate or continue to raise their dividends, albeit at a gradual pace. Furthermore, long-term investors have an opportunity to get in at the ground level amid this changing landscape; many companies currently trade at attractive valuations that may not be fully reflecting their upside potential as economies continue to normalize.',\n",
       "  'tag': 'DIVIDENDS'}]"
      ]
     },
     "execution_count": 74,
     "metadata": {},
     "output_type": "execute_result"
    }
   ],
   "source": [
    "capitalgroup_insights_equity_list"
   ]
  },
  {
   "cell_type": "markdown",
   "id": "08f3fce0",
   "metadata": {},
   "source": [
    "# Capital Group Insights Class"
   ]
  },
  {
   "cell_type": "code",
   "execution_count": 84,
   "id": "d7f09255",
   "metadata": {},
   "outputs": [],
   "source": [
    "from time import sleep\n",
    "from typing import Any\n",
    "\n",
    "from selenium import webdriver\n",
    "from selenium.webdriver.common.by import By\n",
    "\n",
    "\n",
    "class CapitalGroupInsights:\n",
    "    \n",
    "    def __init__(self):\n",
    "        self.equity_url = 'https://www.capitalgroup.com/advisor/insights/categories/equity.html'\n",
    "        self.fixed_income_url = 'https://www.capitalgroup.com/advisor/insights/categories/fixed-income.html'\n",
    "        self.retirement_url = 'https://www.capitalgroup.com/advisor/insights/categories/retirement.html'\n",
    "        self.markets_economy_url = 'https://www.capitalgroup.com/advisor/insights/categories/markets-economy.html'\n",
    "    \n",
    "    @staticmethod\n",
    "    def get_capitalgroup_links(main_link: Any) -> list:\n",
    "        \n",
    "        driver = webdriver.Chrome()\n",
    "        driver.get(main_link)\n",
    "        sleep(20)\n",
    "        equity_link_list = [i.get_attribute('href') for i in driver.find_elements(By.CSS_SELECTOR, 'article > a['\n",
    "                                                                                                   'data-analytics-label'\n",
    "                                                                                                   '=\"trackLink:article\"]')]\n",
    "        return equity_link_list\n",
    "\n",
    "\n",
    "    def capitalgroup_insights(link: Any) -> dict[str, str]:\n",
    "        \n",
    "        driver = webdriver.Chrome()\n",
    "\n",
    "        driver.get(link)\n",
    "        sleep(10)\n",
    "\n",
    "        content = driver.find_elements(By.CSS_SELECTOR,\n",
    "                                       'body > div.root.responsivegrid.cg-wt-global-styles.cg-full-bleed > div > '\n",
    "                                       'div.contentfragmentWT.contentfragment.aem-GridColumn.aem-GridColumn--default--12 '\n",
    "                                       '> div > div.cmp-contentfragment--insights__content > '\n",
    "                                       'div.cmp-contentfragment--insights__articleContent > '\n",
    "                                       'div.cmp-contentfragment--insights__articlefragment') \n",
    "        if bool(content) is True:\n",
    "            content = content[0].text\n",
    "        else:\n",
    "            content = 'N/A'\n",
    "\n",
    "        title = driver.find_elements(By.CSS_SELECTOR,\n",
    "                                     'body > div.root.responsivegrid.cg-wt-global-styles.cg-full-bleed > div > '\n",
    "                                     'div.contentfragmentWT.contentfragment.aem-GridColumn.aem-GridColumn--default--12 > '\n",
    "                                     'div > div.cmp-contentfragment--insights__content > '\n",
    "                                     'div.cmp-contentfragment--insights__heading > div') \n",
    "        if bool(title) is True:\n",
    "            title = title[0].text\n",
    "        else:\n",
    "            title = 'N/A'\n",
    "\n",
    "        date = driver.find_elements(By.CSS_SELECTOR,\n",
    "                                    'body > div.root.responsivegrid.cg-wt-global-styles.cg-full-bleed > div > '\n",
    "                                    'div.contentfragmentWT.contentfragment.aem-GridColumn.aem-GridColumn--default--12 > '\n",
    "                                    'div > div.cmp-contentfragment--insights__content > '\n",
    "                                    'div.cmp-contentfragment--insights__authorSection > '\n",
    "                                    'div.cmp-contentfragment--insights__articleDate') \n",
    "        if bool(date) is True:\n",
    "            date = date[0].text\n",
    "        else:\n",
    "            date = 'N/A'\n",
    "\n",
    "        tag = driver.find_elements(By.CSS_SELECTOR,\n",
    "                                   'body > div.root.responsivegrid.cg-wt-global-styles.cg-full-bleed > div > '\n",
    "                                   'div.contentfragmentWT.contentfragment.aem-GridColumn.aem-GridColumn--default--12 > '\n",
    "                                   'div > div.cmp-contentfragment--insights__content > '\n",
    "                                   'div.cmp-contentfragment--insights__heading > h6') \n",
    "        if bool(tag) is True:\n",
    "            tag = tag[0].text\n",
    "        else:\n",
    "            tag = 'N/A'\n",
    "\n",
    "        return {\n",
    "            'index': '',\n",
    "            'company': 'Capital Group',\n",
    "            'topic': 'Insight',\n",
    "            'article_topic': '',\n",
    "            'title': title,\n",
    "            'link': link,\n",
    "            'date': date,\n",
    "            'content': content,\n",
    "            'tag': tag,\n",
    "        }\n",
    "    \n",
    "    def get_all_article(self, link, article_topic):\n",
    "        link_list = get_capitalgroup_links(link)\n",
    "        article_list = []\n",
    "        index = 1\n",
    "        for i in tqdm(link_list):\n",
    "            article_dict = capitalgroup_insights(i)\n",
    "            article_dict['index'] = index\n",
    "            article_dict['article_topic'] = article_topic\n",
    "            article_list.append(article_dict)\n",
    "            index += 1\n",
    "        return article_list"
   ]
  },
  {
   "cell_type": "code",
   "execution_count": 88,
   "id": "b03525a8",
   "metadata": {},
   "outputs": [
    {
     "name": "stderr",
     "output_type": "stream",
     "text": [
      "  2%|█▎                                                                              | 2/126 [01:14<1:16:28, 37.00s/it]\n"
     ]
    },
    {
     "ename": "KeyboardInterrupt",
     "evalue": "",
     "output_type": "error",
     "traceback": [
      "\u001b[1;31m---------------------------------------------------------------------------\u001b[0m",
      "\u001b[1;31mKeyboardInterrupt\u001b[0m                         Traceback (most recent call last)",
      "\u001b[1;32m~\\AppData\\Local\\Temp/ipykernel_8976/2382967868.py\u001b[0m in \u001b[0;36m<module>\u001b[1;34m\u001b[0m\n\u001b[0;32m      1\u001b[0m \u001b[0mobj\u001b[0m \u001b[1;33m=\u001b[0m \u001b[0mCapitalGroupInsights\u001b[0m\u001b[1;33m(\u001b[0m\u001b[1;33m)\u001b[0m\u001b[1;33m\u001b[0m\u001b[1;33m\u001b[0m\u001b[0m\n\u001b[1;32m----> 2\u001b[1;33m \u001b[0mobj\u001b[0m\u001b[1;33m.\u001b[0m\u001b[0mget_all_article\u001b[0m\u001b[1;33m(\u001b[0m\u001b[1;34m'https://www.capitalgroup.com/advisor/insights/categories/markets-economy.html'\u001b[0m\u001b[1;33m,\u001b[0m \u001b[1;34m'markets-economy'\u001b[0m\u001b[1;33m)\u001b[0m\u001b[1;33m\u001b[0m\u001b[1;33m\u001b[0m\u001b[0m\n\u001b[0m",
      "\u001b[1;32m~\\AppData\\Local\\Temp/ipykernel_8976/3536305508.py\u001b[0m in \u001b[0;36mget_all_article\u001b[1;34m(self, link, article_topic)\u001b[0m\n\u001b[0;32m     92\u001b[0m         \u001b[0mindex\u001b[0m \u001b[1;33m=\u001b[0m \u001b[1;36m1\u001b[0m\u001b[1;33m\u001b[0m\u001b[1;33m\u001b[0m\u001b[0m\n\u001b[0;32m     93\u001b[0m         \u001b[1;32mfor\u001b[0m \u001b[0mi\u001b[0m \u001b[1;32min\u001b[0m \u001b[0mtqdm\u001b[0m\u001b[1;33m(\u001b[0m\u001b[0mlink_list\u001b[0m\u001b[1;33m)\u001b[0m\u001b[1;33m:\u001b[0m\u001b[1;33m\u001b[0m\u001b[1;33m\u001b[0m\u001b[0m\n\u001b[1;32m---> 94\u001b[1;33m             \u001b[0marticle_dict\u001b[0m \u001b[1;33m=\u001b[0m \u001b[0mcapitalgroup_insights\u001b[0m\u001b[1;33m(\u001b[0m\u001b[0mi\u001b[0m\u001b[1;33m)\u001b[0m\u001b[1;33m\u001b[0m\u001b[1;33m\u001b[0m\u001b[0m\n\u001b[0m\u001b[0;32m     95\u001b[0m             \u001b[0marticle_dict\u001b[0m\u001b[1;33m[\u001b[0m\u001b[1;34m'index'\u001b[0m\u001b[1;33m]\u001b[0m \u001b[1;33m=\u001b[0m \u001b[0mindex\u001b[0m\u001b[1;33m\u001b[0m\u001b[1;33m\u001b[0m\u001b[0m\n\u001b[0;32m     96\u001b[0m             \u001b[0marticle_dict\u001b[0m\u001b[1;33m[\u001b[0m\u001b[1;34m'article_topic'\u001b[0m\u001b[1;33m]\u001b[0m \u001b[1;33m=\u001b[0m \u001b[0marticle_topic\u001b[0m\u001b[1;33m\u001b[0m\u001b[1;33m\u001b[0m\u001b[0m\n",
      "\u001b[1;32m~\\AppData\\Local\\Temp/ipykernel_8976/1622804396.py\u001b[0m in \u001b[0;36mcapitalgroup_insights\u001b[1;34m(link)\u001b[0m\n\u001b[0;32m      3\u001b[0m \u001b[1;33m\u001b[0m\u001b[0m\n\u001b[0;32m      4\u001b[0m     \u001b[0mdriver\u001b[0m\u001b[1;33m.\u001b[0m\u001b[0mget\u001b[0m\u001b[1;33m(\u001b[0m\u001b[0mlink\u001b[0m\u001b[1;33m)\u001b[0m\u001b[1;33m\u001b[0m\u001b[1;33m\u001b[0m\u001b[0m\n\u001b[1;32m----> 5\u001b[1;33m     \u001b[0msleep\u001b[0m\u001b[1;33m(\u001b[0m\u001b[1;36m10\u001b[0m\u001b[1;33m)\u001b[0m\u001b[1;33m\u001b[0m\u001b[1;33m\u001b[0m\u001b[0m\n\u001b[0m\u001b[0;32m      6\u001b[0m \u001b[1;33m\u001b[0m\u001b[0m\n\u001b[0;32m      7\u001b[0m \u001b[1;33m\u001b[0m\u001b[0m\n",
      "\u001b[1;31mKeyboardInterrupt\u001b[0m: "
     ]
    }
   ],
   "source": [
    "obj = CapitalGroupInsights()\n",
    "obj.get_all_article('https://www.capitalgroup.com/advisor/insights/categories/markets-economy.html', 'markets-economy')"
   ]
  },
  {
   "cell_type": "code",
   "execution_count": 87,
   "id": "e53a3942",
   "metadata": {},
   "outputs": [
    {
     "ename": "NameError",
     "evalue": "name 'l1' is not defined",
     "output_type": "error",
     "traceback": [
      "\u001b[1;31m---------------------------------------------------------------------------\u001b[0m",
      "\u001b[1;31mNameError\u001b[0m                                 Traceback (most recent call last)",
      "\u001b[1;32m~\\AppData\\Local\\Temp/ipykernel_8976/2585568370.py\u001b[0m in \u001b[0;36m<module>\u001b[1;34m\u001b[0m\n\u001b[1;32m----> 1\u001b[1;33m \u001b[0ml1\u001b[0m\u001b[1;33m\u001b[0m\u001b[1;33m\u001b[0m\u001b[0m\n\u001b[0m",
      "\u001b[1;31mNameError\u001b[0m: name 'l1' is not defined"
     ]
    }
   ],
   "source": [
    "l1"
   ]
  },
  {
   "cell_type": "code",
   "execution_count": null,
   "id": "d4ef926e",
   "metadata": {},
   "outputs": [],
   "source": []
  },
  {
   "cell_type": "code",
   "execution_count": null,
   "id": "c1d9b4a1",
   "metadata": {},
   "outputs": [],
   "source": []
  },
  {
   "cell_type": "code",
   "execution_count": 76,
   "id": "eb06cac8",
   "metadata": {},
   "outputs": [],
   "source": [
    "def get_capitalgroup_links(main_link: Any) -> list:\n",
    "    driver = webdriver.Chrome()\n",
    "    driver.get(main_link)\n",
    "    sleep(20)\n",
    "    equity_link_list = [i.get_attribute('href') for i in driver.find_elements(By.CSS_SELECTOR, 'article > a['\n",
    "                                                                                               'data-analytics-label'\n",
    "                                                                                               '=\"trackLink:article\"]')]\n",
    "    return equity_link_list\n"
   ]
  },
  {
   "cell_type": "code",
   "execution_count": null,
   "id": "7ada0a5b",
   "metadata": {},
   "outputs": [],
   "source": [
    "from time import sleep\n",
    "from typing import Any\n",
    "\n",
    "from selenium import webdriver\n",
    "from selenium.webdriver.common.by import By\n",
    "\n",
    "\n",
    "def capitalgroup_insights(link: Any) -> dict[str, str]:\n",
    "    driver = webdriver.Chrome()\n",
    "\n",
    "    driver.get(link)\n",
    "    sleep(10)\n",
    "\n",
    "    content = driver.find_elements(By.CSS_SELECTOR,\n",
    "                                   'body > div.root.responsivegrid.cg-wt-global-styles.cg-full-bleed > div > '\n",
    "                                   'div.contentfragmentWT.contentfragment.aem-GridColumn.aem-GridColumn--default--12 '\n",
    "                                   '> div > div.cmp-contentfragment--insights__content > '\n",
    "                                   'div.cmp-contentfragment--insights__articleContent > '\n",
    "                                   'div.cmp-contentfragment--insights__articlefragment') \n",
    "    if bool(content) is True:\n",
    "        content = content[0].text\n",
    "    else:\n",
    "        content = 'N/A'\n",
    "\n",
    "    title = driver.find_elements(By.CSS_SELECTOR,\n",
    "                                 'body > div.root.responsivegrid.cg-wt-global-styles.cg-full-bleed > div > '\n",
    "                                 'div.contentfragmentWT.contentfragment.aem-GridColumn.aem-GridColumn--default--12 > '\n",
    "                                 'div > div.cmp-contentfragment--insights__content > '\n",
    "                                 'div.cmp-contentfragment--insights__heading > div') \n",
    "    if bool(title) is True:\n",
    "        title = title[0].text\n",
    "    else:\n",
    "        title = 'N/A'\n",
    "\n",
    "    date = driver.find_elements(By.CSS_SELECTOR,\n",
    "                                'body > div.root.responsivegrid.cg-wt-global-styles.cg-full-bleed > div > '\n",
    "                                'div.contentfragmentWT.contentfragment.aem-GridColumn.aem-GridColumn--default--12 > '\n",
    "                                'div > div.cmp-contentfragment--insights__content > '\n",
    "                                'div.cmp-contentfragment--insights__authorSection > '\n",
    "                                'div.cmp-contentfragment--insights__articleDate') \n",
    "    if bool(date) is True:\n",
    "        date = date[0].text\n",
    "    else:\n",
    "        date = 'N/A'\n",
    "\n",
    "    tag = driver.find_elements(By.CSS_SELECTOR,\n",
    "                               'body > div.root.responsivegrid.cg-wt-global-styles.cg-full-bleed > div > '\n",
    "                               'div.contentfragmentWT.contentfragment.aem-GridColumn.aem-GridColumn--default--12 > '\n",
    "                               'div > div.cmp-contentfragment--insights__content > '\n",
    "                               'div.cmp-contentfragment--insights__heading > h6') \n",
    "    if bool(tag) is True:\n",
    "        tag = tag[0].text\n",
    "    else:\n",
    "        tag = 'N/A'\n",
    "\n",
    "    return {\n",
    "        'company': 'Capital Group',\n",
    "        'topic': 'Insight',\n",
    "        'title': title,\n",
    "        'link': link,\n",
    "        'date': date,\n",
    "        'content': content,\n",
    "        'tag': tag\n",
    "    }\n"
   ]
  },
  {
   "cell_type": "code",
   "execution_count": 77,
   "id": "eb51d635",
   "metadata": {},
   "outputs": [],
   "source": [
    "import types\n",
    "import builtins\n",
    "builtin_function_names = [name for name, obj in vars(builtins).items() \n",
    "                          if isinstance(obj, types.BuiltinFunctionType)]"
   ]
  },
  {
   "cell_type": "code",
   "execution_count": 78,
   "id": "a672d827",
   "metadata": {},
   "outputs": [
    {
     "data": {
      "text/plain": [
       "['__build_class__',\n",
       " '__import__',\n",
       " 'abs',\n",
       " 'all',\n",
       " 'any',\n",
       " 'ascii',\n",
       " 'bin',\n",
       " 'breakpoint',\n",
       " 'callable',\n",
       " 'chr',\n",
       " 'compile',\n",
       " 'delattr',\n",
       " 'dir',\n",
       " 'divmod',\n",
       " 'eval',\n",
       " 'exec',\n",
       " 'format',\n",
       " 'getattr',\n",
       " 'globals',\n",
       " 'hasattr',\n",
       " 'hash',\n",
       " 'hex',\n",
       " 'id',\n",
       " 'isinstance',\n",
       " 'issubclass',\n",
       " 'iter',\n",
       " 'len',\n",
       " 'locals',\n",
       " 'max',\n",
       " 'min',\n",
       " 'next',\n",
       " 'oct',\n",
       " 'ord',\n",
       " 'pow',\n",
       " 'print',\n",
       " 'repr',\n",
       " 'round',\n",
       " 'setattr',\n",
       " 'sorted',\n",
       " 'sum',\n",
       " 'vars',\n",
       " 'open']"
      ]
     },
     "execution_count": 78,
     "metadata": {},
     "output_type": "execute_result"
    }
   ],
   "source": [
    "builtin_function_names"
   ]
  },
  {
   "cell_type": "code",
   "execution_count": 89,
   "id": "3660965e",
   "metadata": {},
   "outputs": [],
   "source": [
    "import requests"
   ]
  },
  {
   "cell_type": "code",
   "execution_count": 90,
   "id": "68f9fcd8",
   "metadata": {},
   "outputs": [
    {
     "data": {
      "text/plain": [
       "<Response [200]>"
      ]
     },
     "execution_count": 90,
     "metadata": {},
     "output_type": "execute_result"
    }
   ],
   "source": [
    "requests.get('  ')"
   ]
  },
  {
   "cell_type": "code",
   "execution_count": null,
   "id": "1fb50815",
   "metadata": {},
   "outputs": [],
   "source": []
  }
 ],
 "metadata": {
  "kernelspec": {
   "display_name": "Python 3 (ipykernel)",
   "language": "python",
   "name": "python3"
  },
  "language_info": {
   "codemirror_mode": {
    "name": "ipython",
    "version": 3
   },
   "file_extension": ".py",
   "mimetype": "text/x-python",
   "name": "python",
   "nbconvert_exporter": "python",
   "pygments_lexer": "ipython3",
   "version": "3.9.7"
  }
 },
 "nbformat": 4,
 "nbformat_minor": 5
}

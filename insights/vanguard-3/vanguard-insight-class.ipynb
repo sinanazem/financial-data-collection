{
 "cells": [
  {
   "cell_type": "code",
   "execution_count": 28,
   "id": "4a7700c3",
   "metadata": {},
   "outputs": [],
   "source": [
    "import requests\n",
    "from bs4 import BeautifulSoup\n",
    "\n",
    "from selenium.webdriver.common.action_chains import ActionChains\n",
    "from time import sleep\n",
    "import selenium\n",
    "from selenium import webdriver\n",
    "from selenium.webdriver.common.by import By\n",
    "from selenium.webdriver.common.keys import Keys\n",
    "from selenium.webdriver.support.ui import WebDriverWait\n",
    "from selenium.webdriver.common.by import By\n",
    "from selenium.webdriver.support import expected_conditions as EC\n",
    "import json\n",
    "from pprint import pprint\n",
    "from tqdm import tqdm\n",
    "import pandas as pd\n",
    "import re"
   ]
  },
  {
   "cell_type": "code",
   "execution_count": 67,
   "id": "505ee13b",
   "metadata": {},
   "outputs": [],
   "source": [
    "def extract_content_with_id(link):\n",
    "    response = requests.get(link)\n",
    "    soup = BeautifulSoup(response.text)\n",
    "    content = ' '.join([i.text for i in soup.find_all(\"div\", {\"id\": \"iw_placeholder1585759247342\"})]).strip()\n",
    "    return content"
   ]
  },
  {
   "cell_type": "code",
   "execution_count": 81,
   "id": "0ce6cc04",
   "metadata": {},
   "outputs": [
    {
     "ename": "AttributeError",
     "evalue": "'Response' object has no attribute 'read'",
     "output_type": "error",
     "traceback": [
      "\u001b[1;31m---------------------------------------------------------------------------\u001b[0m",
      "\u001b[1;31mAttributeError\u001b[0m                            Traceback (most recent call last)",
      "\u001b[1;32m~\\AppData\\Local\\Temp/ipykernel_352/1720884259.py\u001b[0m in \u001b[0;36m<module>\u001b[1;34m\u001b[0m\n\u001b[1;32m----> 1\u001b[1;33m \u001b[0mdir\u001b[0m\u001b[1;33m(\u001b[0m\u001b[0mresponse\u001b[0m\u001b[1;33m.\u001b[0m\u001b[0mread\u001b[0m\u001b[1;33m(\u001b[0m\u001b[1;33m)\u001b[0m\u001b[1;33m)\u001b[0m\u001b[1;33m\u001b[0m\u001b[1;33m\u001b[0m\u001b[0m\n\u001b[0m",
      "\u001b[1;31mAttributeError\u001b[0m: 'Response' object has no attribute 'read'"
     ]
    }
   ],
   "source": [
    "dir(response.read())"
   ]
  },
  {
   "cell_type": "code",
   "execution_count": 89,
   "id": "82adb117",
   "metadata": {},
   "outputs": [],
   "source": [
    "url = 'https://www.ubs.com/global/en/wealth-management/insights/insights-display-adp/global/en/wealth-management/insights/chief-investment-office/market-insights/2019/year-ahead.html?caasID=CAAS-ActivityStream'\n",
    "response = requests.get(url)\n",
    "soup = BeautifulSoup(response.text.encode('utf-8'))\n",
    "# soup = BeautifulSoup(response.read().decode('utf-8'))\n"
   ]
  },
  {
   "cell_type": "code",
   "execution_count": 90,
   "id": "44c50673",
   "metadata": {},
   "outputs": [
    {
     "data": {
      "text/plain": [
       "[]"
      ]
     },
     "execution_count": 90,
     "metadata": {},
     "output_type": "execute_result"
    }
   ],
   "source": [
    "soup.find_all(class_='textimage__richtext richtext__base  ')"
   ]
  },
  {
   "cell_type": "code",
   "execution_count": 61,
   "id": "b5170cb5",
   "metadata": {},
   "outputs": [
    {
     "data": {
      "text/plain": [
       "[<div class=\"layout-container fas-container acl-print-hidden iw_section\" data-main-content=\"\" id=\"sectionk8hk4258\">\n",
       " <div class=\"fas-row iw_row iw_stretch\" id=\"rowk8hk4259\">\n",
       " <!-- sidebar -->\n",
       " <div class=\"iw_columns col-16 md:col-12 md:offset-2 lg:col-2 lg:offset-1 md:pt-7x print:offset-0\" id=\"colk8hk425a\">\n",
       " <div class=\"iw_placeholder\" id=\"iw_placeholder1585759247323\"></div>\n",
       " </div>\n",
       " <!-- content -->\n",
       " <div class=\"iw_columns col-16 md:col-12 md:offset-2 lg:col-9 lg:offset-1 pt-7x print:offset-0\" id=\"colk62h8xr0\">\n",
       " <div class=\"iw_placeholder\" id=\"iw_placeholder1585759247342\">\n",
       " <div class=\"iw_component\" id=\"iw_comp1659031752712\">\n",
       " <div class=\"content content-container\"><p>Your clients want to make sure their investments reflect the issues they care about and avoid supporting others. Their desire has made environmental, social, and governance (ESG) investing, also known as socially responsible, faith-based, values-driven, or sustainable investing, a burgeoning trend.<sup>1</sup></p>\n",
       " <p>It's true that you can help align clients' investments with their preferences using off-the-shelf ETFs and mutual funds. But for clients with very specific ideas about causes or issues they want their investments to support or exclude, <a href=\"https://advisors.vanguard.com/investments/personalized-indexing\">Vanguard Personalized Indexing</a> could be a more precise solution.</p>\n",
       " <h2>Get more than \"E\" for environmental</h2>\n",
       " <p>Like many people, your clients may focus mostly on the \"E\" of ESG—that is, environmental concerns like a company's carbon footprint or involvement with fossil fuels—but <a href=\"https://advisors.vanguard.com/investments/approach/esg-strategies\" title=\"Vanguard ESG strategies web page\">ESG investing</a> can cover a much wider range of issues. For example, your clients can:</p>\n",
       " <ul>\n",
       " <li>Incorporate religious preferences into their portfolios.</li>\n",
       " <li>Avoid investing in companies involved in activities they find objectionable, such as predatory lending or gambling.</li>\n",
       " <li>Support companies that pay their workers a fair living wage or that advance diversity on the board of directors.</li>\n",
       " <li>Choose multiple issues to tailor the portfolio's focus to suit their preferences. A client could focus on specific social issues as well as climate change, for example.</li>\n",
       " </ul>\n",
       " <p>What makes a personalized indexing portfolio so flexible? It's all in the structure—and its easy-to-use technology. With mutual funds or ETFs, investors own a single fund that bundles individual stocks together. With a Vanguard Personalized Indexing portfolio, investors own individual stocks directly in separately managed accounts (SMAs). The stocks in each SMA represent a benchmark that you and your client select. Direct ownership of each stock makes an SMA <strong>fully customizable</strong>—you can <a href=\"https://advisors.vanguard.com/insights/article/whatisdirectindexing\">build portfolios that precisely reflect each client's preferences and outlook.</a></p>\n",
       " <h2>Customize SMAs with screens and tilts</h2>\n",
       " <p>You can use negative screens, positive tilts, or a combination of both to tailor your clients' portfolios with personalized indexing.</p>\n",
       " <ul>\n",
       " <li><strong>A screen</strong> eliminates certain companies, sectors, or industries from a client's portfolio entirely, according to criteria each client selects. For example, your client might want to avoid any investment with companies that produce adult entertainment or nuclear weapons, or that violate their religious principles. You can even screen out a single company if a client has strong feelings against investing in it.<br/><br/>Use screens in cases where you need to ensure that all companies that violate a client's principles are excluded from the portfolio.</li>\n",
       " <li><strong>Tilts</strong> add a preferential weight to a portfolio that helps improve its focus on topics that are important to a client. In contrast to the black-and-white exclusion of screens, you can use tilts to help clients support issues that fall within a gradient. Examples include weighting a portfolio with companies that are moving toward a lower carbon footprint or are increasing the number of women in leadership roles.<br/><br/>Think of it this way: Tilts let clients express support of companies that engage in \"good\" behavior on an issue, whereas screens let them express disapproval of \"bad\" behavior by a company.<sup>2</sup></li>\n",
       " </ul>\n",
       " <p>Vanguard Personalized Indexing offers a wide range of screens and tilts for your clients to choose from. You can also request custom options, such as faith-based or vegan. Once your clients have made their selections, you can generate impact and performance reports on demand, so clients can have a clear picture of the impact of their customizations.</p>\n",
       " <p> </p></div>\n",
       " </div>\n",
       " <div class=\"iw_component\" id=\"iw_comp1659031752713\">\n",
       " <aside class=\"also-of-interest print:hidden\">\n",
       " <div class=\"content content-container\"><h3>Harness the power of Vanguard Personalized Indexing</h3>\n",
       " <p>Request a demo today to discover how Vanguard Personalized Indexing can help deliver additional value to you and your clients.</p></div><a class=\"button long secondary mt-3x\" href=\"https://advisors.vanguard.com/investments/personalized-indexing\" target=\"_self\">Explore Vanguard Personalized Indexing<i class=\"icon right\"></i></a></aside>\n",
       " </div>\n",
       " <div class=\"iw_component\" id=\"iw_comp1659031752714\">\n",
       " <div class=\"content content-container\"><h2>Keep an eye on customization and risk levels</h2>\n",
       " <p>Vanguard Personalized Indexing is a flexible, transparent way to customize a client’s portfolio, but sometimes customizations can require special consideration from you.</p>\n",
       " <ul>\n",
       " <li><strong>Tracking error:</strong> You can apply as many customizations to clients' personalized indexing portfolios as they wish. However, each customization can potentially increase tracking error from the portfolio's underlying benchmark, increasing a client's risk.</li>\n",
       " <li><strong>Limited market exposure:</strong> A client who wants to screen out all companies that have engaged in controversial activities could be left with very few companies to invest in, potentially limiting their exposure to the market and reducing their portfolio’s diversification benefits.</li>\n",
       " <li><strong>Contradictory tilts:</strong> When too many tilts are chosen, they tend to cancel each other out, diluting the client's desired impact.</li>\n",
       " </ul>\n",
       " <p>In these cases, you can help your clients understand that positive impact doesn't require perfection. Together, you and your clients can prioritize their goals. That way, you can ensure that each personalized index is customized effectively and that clients are comfortable with the risk level in their portfolios.</p>\n",
       " <h2>Deepen client relationships</h2>\n",
       " <p>Vanguard Personalized Indexing gives you the power to offer clients a highly personalized, index-based, tax-efficient solution that incorporates their unique preferences. It can also give you an opportunity to forge deeper emotional connections with your clients as you discuss their varying interests and experiences and how they might want to incorporate them into their investments.</p></div>\n",
       " </div>\n",
       " </div>\n",
       " </div>\n",
       " </div>\n",
       " </div>]"
      ]
     },
     "execution_count": 61,
     "metadata": {},
     "output_type": "execute_result"
    }
   ],
   "source": [
    "soup.select('#sectionk8hk4258')"
   ]
  },
  {
   "cell_type": "code",
   "execution_count": 68,
   "id": "406d1a73",
   "metadata": {},
   "outputs": [
    {
     "data": {
      "text/plain": [
       "'Patient investors are likely to be rewarded as we expect yields to rally—that is, decline—in emerging markets (EM). That\\'s the key finding of Higher inflation is creating an opportunity in emerging markets, an analysis produced by Vanguard Fixed Income Group\\'s (FIG) Nishan Pradhan, Liza Ermolenko, Zoe Odenwalder, Nick Eisinger, and Daniel Shaykevich.\\nReasons for optimism\\nThe authors cite two major reasons why they think the peak in EM inflation is near and why the resulting disinflation1 will create attractive buying opportunities.\\n\\nDifferences in goods and services consumption patterns have contributed to higher EM inflation.Recent inflation in emerging markets has been more supply driven than in developed markets. This makes EM inflation more likely to fall when supply-side pressures abate.\\nIn general, central banks in emerging markets have been proactively hiking.And market prices anticipate a good deal of rates hikes over and above what central banks have delivered.\\n\\nSome EMs have done more of the heavy lifting on interest rates than others\\nHikes made in the last two years, and hikes priced in by the market for the next 12 months, both in basis points\\nNotes: Data are as of August, 2022. Priced-in hikes reflect the difference between current policy rate and 1-year forward implied policy rate. A basis point equals 1/100 of a percentage point.\\nSources: Vanguard and Bloomberg.\\n\\xa0\\n\\nWhile the authors do not attempt to pinpoint the peak in inflation, they believe that local emerging markets rates are starting to look attractive.\\n\"We are excited to have a strong process in place to play long duration EM local rates when the trend decisively turns,\" said Shaykevich, senior emerging markets portfolio manager in FIG. \"We believe we are close to this point.\"'"
      ]
     },
     "execution_count": 68,
     "metadata": {},
     "output_type": "execute_result"
    }
   ],
   "source": [
    "extract_content_with_id('https://advisors.vanguard.com/insights/article/opportunitiesinemergingmarketbonds')"
   ]
  },
  {
   "cell_type": "code",
   "execution_count": 79,
   "id": "adbce457",
   "metadata": {
    "scrolled": true
   },
   "outputs": [
    {
     "data": {
      "text/plain": [
       "'1 Alyssa Stankiewicz, 2022. Sustainable Fund Flows Dip for the Quarter but Peak for the Year, Morningstar.com. (Sustainability Matters.) Accessed July 22, 2022, at https://www.morningstar.com/articles/1076648/sustainable-fund-flows-dip-for-the-quarter-but-peak-for-the-year.\\n2 \"Good\" and \"bad\" behaviors are based on the data provider\\'s criteria and may vary from an investor\\'s personal beliefs and values.\\n\\xa0\\nNotes:\\n\\nVanguard Personalized Indexing Management, LLC (\"Vanguard Personalized Indexing Management\"), formerly Just Invest, LLC, an SEC-registered investment advisor, is an independently operated wholly-owned subsidiary of The Vanguard Group, Inc. (\"Vanguard\"). Vanguard Personalized Indexing is an asset management technology that has been developed and is offered solely by Vanguard Personalized Indexing Management.\\nAll investing is subject to risk, including possible loss of principal. Be aware that fluctuations in the financial markets and other factors may cause declines in the value of your account. There is no guarantee that any particular asset allocation or mix of funds will meet your investment objectives or provide you with a given level of income. Diversification does not ensure a profit or protect against a loss.\\nESG portfolios are subject to ESG investment risk, which is the chance that the stocks or bonds screened by the data provider for ESG criteria generally will underperform the market as a whole or, in the aggregate, will trail returns of other portfolios screened for ESG criteria. The data provider\\'s assessment of a company, based on the company\\'s level of involvement in a particular industry or the data provider\\'s own ESG criteria, may differ from that of other portfolios or of the advisor\\'s or an investor\\'s assessment of such company. As a result, the companies deemed eligible by the data provider may not reflect the beliefs and values of any particular investor and certain screens may not exhibit positive or favorable ESG characteristics. The evaluation of companies for ESG screening or integration is dependent on the timely and accurate reporting of ESG data by the companies. Successful application of the customized investment strategy will depend on the data provider\\'s proper identification and analysis of ESG data.\\nFor more information on Vanguard Personalized Indexing Management and Vanguard Personalized Indexing, and to access Vanguard Personalized Indexing Management\\'s Form CRS and Form ADV Part 2A disclosure brochure, please visit the Vanguard Personalized Indexing topic page.'"
      ]
     },
     "execution_count": 79,
     "metadata": {},
     "output_type": "execute_result"
    }
   ],
   "source": [
    "' '.join([i.text for i in soup.find_all(\"div\", {\"id\": [\"\",\"iw_placeholder1585759247354\"]})]).strip()"
   ]
  },
  {
   "cell_type": "code",
   "execution_count": null,
   "id": "d13d3eb8",
   "metadata": {},
   "outputs": [],
   "source": [
    "find_all(\"tr\",  {\"class\": [\"layout-container fas-container acl-print-hidden iw_section as-first-div as-first-author as-last-p\", \"fas-container\",]})"
   ]
  },
  {
   "cell_type": "code",
   "execution_count": 74,
   "id": "db0e196d",
   "metadata": {},
   "outputs": [
    {
     "ename": "ElementClickInterceptedException",
     "evalue": "Message: element click intercepted: Element <span role=\"button\" aria-label=\"Forward One Page\" tabindex=\"0\" class=\"icon icon-right\"></span> is not clickable at point (860, 657). Other element would receive the click: <iframe id=\"kampyleForm3281\" src=\"https://mdl-medallia-digital.vanguard.com/pkg/1.0.0/web/FAS_external_libs/liveApp/2.41.1/form-app-web.html?formId=3281&amp;type=live&amp;isMobile=false&amp;referrer=https%3A%2F%2Fadvisors.vanguard.com%2Finsights%2Fall&amp;region=digital-cloud-us-prem&amp;isWCAG=true&amp;displayType=lightbox&amp;isSeparateFormTemplateFromData=true\" tabindex=\"-1\" title=\"Feedback Survey\" origin=\"https://mdl-medallia-digital.vanguard.com\" style=\"border: 0px !important; height: 100% !important; max-height: 100% !important; min-height: 100% !important; width: 100% !important; max-width: 100% !important; min-width: 100% !important; display: block !important; position: fixed !important;\"></iframe>\n  (Session info: chrome=104.0.5112.81)\nStacktrace:\nBacktrace:\n\tOrdinal0 [0x00FB6463+2188387]\n\tOrdinal0 [0x00F4E461+1762401]\n\tOrdinal0 [0x00E63D78+802168]\n\tOrdinal0 [0x00E97F9B+1015707]\n\tOrdinal0 [0x00E95F68+1007464]\n\tOrdinal0 [0x00E93C6B+998507]\n\tOrdinal0 [0x00E929D9+993753]\n\tOrdinal0 [0x00E88613+951827]\n\tOrdinal0 [0x00EAC7DC+1099740]\n\tOrdinal0 [0x00E87FF4+950260]\n\tOrdinal0 [0x00EAC9F4+1100276]\n\tOrdinal0 [0x00EBCC22+1166370]\n\tOrdinal0 [0x00EAC5F6+1099254]\n\tOrdinal0 [0x00E86BE0+945120]\n\tOrdinal0 [0x00E87AD6+948950]\n\tGetHandleVerifier [0x012571F2+2712546]\n\tGetHandleVerifier [0x0124886D+2652765]\n\tGetHandleVerifier [0x0104002A+520730]\n\tGetHandleVerifier [0x0103EE06+516086]\n\tOrdinal0 [0x00F5468B+1787531]\n\tOrdinal0 [0x00F58E88+1805960]\n\tOrdinal0 [0x00F58F75+1806197]\n\tOrdinal0 [0x00F61DF1+1842673]\n\tBaseThreadInitThunk [0x76206739+25]\n\tRtlGetFullPathName_UEx [0x773B90AF+1215]\n\tRtlGetFullPathName_UEx [0x773B907D+1165]\n",
     "output_type": "error",
     "traceback": [
      "\u001b[1;31m---------------------------------------------------------------------------\u001b[0m",
      "\u001b[1;31mElementClickInterceptedException\u001b[0m          Traceback (most recent call last)",
      "\u001b[1;32m~\\AppData\\Local\\Temp/ipykernel_352/1056989130.py\u001b[0m in \u001b[0;36m<module>\u001b[1;34m\u001b[0m\n\u001b[0;32m     31\u001b[0m     \u001b[0mall_pages\u001b[0m\u001b[1;33m.\u001b[0m\u001b[0mappend\u001b[0m\u001b[1;33m(\u001b[0m\u001b[0mlist_of_dict_8\u001b[0m\u001b[1;33m)\u001b[0m\u001b[1;33m\u001b[0m\u001b[1;33m\u001b[0m\u001b[0m\n\u001b[0;32m     32\u001b[0m     \u001b[0mnext_page\u001b[0m \u001b[1;33m=\u001b[0m \u001b[0mdriver\u001b[0m\u001b[1;33m.\u001b[0m\u001b[0mfind_element\u001b[0m\u001b[1;33m(\u001b[0m\u001b[0mBy\u001b[0m\u001b[1;33m.\u001b[0m\u001b[0mCSS_SELECTOR\u001b[0m\u001b[1;33m,\u001b[0m\u001b[1;34m'#insights-archive-section > div.pagination > div.pagination__arrows > span.icon.icon-right'\u001b[0m\u001b[1;33m)\u001b[0m\u001b[1;33m\u001b[0m\u001b[1;33m\u001b[0m\u001b[0m\n\u001b[1;32m---> 33\u001b[1;33m     \u001b[0mnext_page\u001b[0m\u001b[1;33m.\u001b[0m\u001b[0mclick\u001b[0m\u001b[1;33m(\u001b[0m\u001b[1;33m)\u001b[0m\u001b[1;33m\u001b[0m\u001b[1;33m\u001b[0m\u001b[0m\n\u001b[0m",
      "\u001b[1;32m~\\anaconda3\\lib\\site-packages\\selenium\\webdriver\\remote\\webelement.py\u001b[0m in \u001b[0;36mclick\u001b[1;34m(self)\u001b[0m\n\u001b[0;32m     86\u001b[0m     \u001b[1;32mdef\u001b[0m \u001b[0mclick\u001b[0m\u001b[1;33m(\u001b[0m\u001b[0mself\u001b[0m\u001b[1;33m)\u001b[0m \u001b[1;33m->\u001b[0m \u001b[1;32mNone\u001b[0m\u001b[1;33m:\u001b[0m\u001b[1;33m\u001b[0m\u001b[1;33m\u001b[0m\u001b[0m\n\u001b[0;32m     87\u001b[0m         \u001b[1;34m\"\"\"Clicks the element.\"\"\"\u001b[0m\u001b[1;33m\u001b[0m\u001b[1;33m\u001b[0m\u001b[0m\n\u001b[1;32m---> 88\u001b[1;33m         \u001b[0mself\u001b[0m\u001b[1;33m.\u001b[0m\u001b[0m_execute\u001b[0m\u001b[1;33m(\u001b[0m\u001b[0mCommand\u001b[0m\u001b[1;33m.\u001b[0m\u001b[0mCLICK_ELEMENT\u001b[0m\u001b[1;33m)\u001b[0m\u001b[1;33m\u001b[0m\u001b[1;33m\u001b[0m\u001b[0m\n\u001b[0m\u001b[0;32m     89\u001b[0m \u001b[1;33m\u001b[0m\u001b[0m\n\u001b[0;32m     90\u001b[0m     \u001b[1;32mdef\u001b[0m \u001b[0msubmit\u001b[0m\u001b[1;33m(\u001b[0m\u001b[0mself\u001b[0m\u001b[1;33m)\u001b[0m\u001b[1;33m:\u001b[0m\u001b[1;33m\u001b[0m\u001b[1;33m\u001b[0m\u001b[0m\n",
      "\u001b[1;32m~\\anaconda3\\lib\\site-packages\\selenium\\webdriver\\remote\\webelement.py\u001b[0m in \u001b[0;36m_execute\u001b[1;34m(self, command, params)\u001b[0m\n\u001b[0;32m    394\u001b[0m             \u001b[0mparams\u001b[0m \u001b[1;33m=\u001b[0m \u001b[1;33m{\u001b[0m\u001b[1;33m}\u001b[0m\u001b[1;33m\u001b[0m\u001b[1;33m\u001b[0m\u001b[0m\n\u001b[0;32m    395\u001b[0m         \u001b[0mparams\u001b[0m\u001b[1;33m[\u001b[0m\u001b[1;34m'id'\u001b[0m\u001b[1;33m]\u001b[0m \u001b[1;33m=\u001b[0m \u001b[0mself\u001b[0m\u001b[1;33m.\u001b[0m\u001b[0m_id\u001b[0m\u001b[1;33m\u001b[0m\u001b[1;33m\u001b[0m\u001b[0m\n\u001b[1;32m--> 396\u001b[1;33m         \u001b[1;32mreturn\u001b[0m \u001b[0mself\u001b[0m\u001b[1;33m.\u001b[0m\u001b[0m_parent\u001b[0m\u001b[1;33m.\u001b[0m\u001b[0mexecute\u001b[0m\u001b[1;33m(\u001b[0m\u001b[0mcommand\u001b[0m\u001b[1;33m,\u001b[0m \u001b[0mparams\u001b[0m\u001b[1;33m)\u001b[0m\u001b[1;33m\u001b[0m\u001b[1;33m\u001b[0m\u001b[0m\n\u001b[0m\u001b[0;32m    397\u001b[0m \u001b[1;33m\u001b[0m\u001b[0m\n\u001b[0;32m    398\u001b[0m     \u001b[1;32mdef\u001b[0m \u001b[0mfind_element\u001b[0m\u001b[1;33m(\u001b[0m\u001b[0mself\u001b[0m\u001b[1;33m,\u001b[0m \u001b[0mby\u001b[0m\u001b[1;33m=\u001b[0m\u001b[0mBy\u001b[0m\u001b[1;33m.\u001b[0m\u001b[0mID\u001b[0m\u001b[1;33m,\u001b[0m \u001b[0mvalue\u001b[0m\u001b[1;33m=\u001b[0m\u001b[1;32mNone\u001b[0m\u001b[1;33m)\u001b[0m \u001b[1;33m->\u001b[0m \u001b[0mWebElement\u001b[0m\u001b[1;33m:\u001b[0m\u001b[1;33m\u001b[0m\u001b[1;33m\u001b[0m\u001b[0m\n",
      "\u001b[1;32m~\\anaconda3\\lib\\site-packages\\selenium\\webdriver\\remote\\webdriver.py\u001b[0m in \u001b[0;36mexecute\u001b[1;34m(self, driver_command, params)\u001b[0m\n\u001b[0;32m    433\u001b[0m         \u001b[0mresponse\u001b[0m \u001b[1;33m=\u001b[0m \u001b[0mself\u001b[0m\u001b[1;33m.\u001b[0m\u001b[0mcommand_executor\u001b[0m\u001b[1;33m.\u001b[0m\u001b[0mexecute\u001b[0m\u001b[1;33m(\u001b[0m\u001b[0mdriver_command\u001b[0m\u001b[1;33m,\u001b[0m \u001b[0mparams\u001b[0m\u001b[1;33m)\u001b[0m\u001b[1;33m\u001b[0m\u001b[1;33m\u001b[0m\u001b[0m\n\u001b[0;32m    434\u001b[0m         \u001b[1;32mif\u001b[0m \u001b[0mresponse\u001b[0m\u001b[1;33m:\u001b[0m\u001b[1;33m\u001b[0m\u001b[1;33m\u001b[0m\u001b[0m\n\u001b[1;32m--> 435\u001b[1;33m             \u001b[0mself\u001b[0m\u001b[1;33m.\u001b[0m\u001b[0merror_handler\u001b[0m\u001b[1;33m.\u001b[0m\u001b[0mcheck_response\u001b[0m\u001b[1;33m(\u001b[0m\u001b[0mresponse\u001b[0m\u001b[1;33m)\u001b[0m\u001b[1;33m\u001b[0m\u001b[1;33m\u001b[0m\u001b[0m\n\u001b[0m\u001b[0;32m    436\u001b[0m             response['value'] = self._unwrap_value(\n\u001b[0;32m    437\u001b[0m                 response.get('value', None))\n",
      "\u001b[1;32m~\\anaconda3\\lib\\site-packages\\selenium\\webdriver\\remote\\errorhandler.py\u001b[0m in \u001b[0;36mcheck_response\u001b[1;34m(self, response)\u001b[0m\n\u001b[0;32m    245\u001b[0m                 \u001b[0malert_text\u001b[0m \u001b[1;33m=\u001b[0m \u001b[0mvalue\u001b[0m\u001b[1;33m[\u001b[0m\u001b[1;34m'alert'\u001b[0m\u001b[1;33m]\u001b[0m\u001b[1;33m.\u001b[0m\u001b[0mget\u001b[0m\u001b[1;33m(\u001b[0m\u001b[1;34m'text'\u001b[0m\u001b[1;33m)\u001b[0m\u001b[1;33m\u001b[0m\u001b[1;33m\u001b[0m\u001b[0m\n\u001b[0;32m    246\u001b[0m             \u001b[1;32mraise\u001b[0m \u001b[0mexception_class\u001b[0m\u001b[1;33m(\u001b[0m\u001b[0mmessage\u001b[0m\u001b[1;33m,\u001b[0m \u001b[0mscreen\u001b[0m\u001b[1;33m,\u001b[0m \u001b[0mstacktrace\u001b[0m\u001b[1;33m,\u001b[0m \u001b[0malert_text\u001b[0m\u001b[1;33m)\u001b[0m  \u001b[1;31m# type: ignore[call-arg]  # mypy is not smart enough here\u001b[0m\u001b[1;33m\u001b[0m\u001b[1;33m\u001b[0m\u001b[0m\n\u001b[1;32m--> 247\u001b[1;33m         \u001b[1;32mraise\u001b[0m \u001b[0mexception_class\u001b[0m\u001b[1;33m(\u001b[0m\u001b[0mmessage\u001b[0m\u001b[1;33m,\u001b[0m \u001b[0mscreen\u001b[0m\u001b[1;33m,\u001b[0m \u001b[0mstacktrace\u001b[0m\u001b[1;33m)\u001b[0m\u001b[1;33m\u001b[0m\u001b[1;33m\u001b[0m\u001b[0m\n\u001b[0m\u001b[0;32m    248\u001b[0m \u001b[1;33m\u001b[0m\u001b[0m\n\u001b[0;32m    249\u001b[0m     \u001b[1;32mdef\u001b[0m \u001b[0m_value_or_default\u001b[0m\u001b[1;33m(\u001b[0m\u001b[0mself\u001b[0m\u001b[1;33m,\u001b[0m \u001b[0mobj\u001b[0m\u001b[1;33m:\u001b[0m \u001b[0mMapping\u001b[0m\u001b[1;33m[\u001b[0m\u001b[0m_KT\u001b[0m\u001b[1;33m,\u001b[0m \u001b[0m_VT\u001b[0m\u001b[1;33m]\u001b[0m\u001b[1;33m,\u001b[0m \u001b[0mkey\u001b[0m\u001b[1;33m:\u001b[0m \u001b[0m_KT\u001b[0m\u001b[1;33m,\u001b[0m \u001b[0mdefault\u001b[0m\u001b[1;33m:\u001b[0m \u001b[0m_VT\u001b[0m\u001b[1;33m)\u001b[0m \u001b[1;33m->\u001b[0m \u001b[0m_VT\u001b[0m\u001b[1;33m:\u001b[0m\u001b[1;33m\u001b[0m\u001b[1;33m\u001b[0m\u001b[0m\n",
      "\u001b[1;31mElementClickInterceptedException\u001b[0m: Message: element click intercepted: Element <span role=\"button\" aria-label=\"Forward One Page\" tabindex=\"0\" class=\"icon icon-right\"></span> is not clickable at point (860, 657). Other element would receive the click: <iframe id=\"kampyleForm3281\" src=\"https://mdl-medallia-digital.vanguard.com/pkg/1.0.0/web/FAS_external_libs/liveApp/2.41.1/form-app-web.html?formId=3281&amp;type=live&amp;isMobile=false&amp;referrer=https%3A%2F%2Fadvisors.vanguard.com%2Finsights%2Fall&amp;region=digital-cloud-us-prem&amp;isWCAG=true&amp;displayType=lightbox&amp;isSeparateFormTemplateFromData=true\" tabindex=\"-1\" title=\"Feedback Survey\" origin=\"https://mdl-medallia-digital.vanguard.com\" style=\"border: 0px !important; height: 100% !important; max-height: 100% !important; min-height: 100% !important; width: 100% !important; max-width: 100% !important; min-width: 100% !important; display: block !important; position: fixed !important;\"></iframe>\n  (Session info: chrome=104.0.5112.81)\nStacktrace:\nBacktrace:\n\tOrdinal0 [0x00FB6463+2188387]\n\tOrdinal0 [0x00F4E461+1762401]\n\tOrdinal0 [0x00E63D78+802168]\n\tOrdinal0 [0x00E97F9B+1015707]\n\tOrdinal0 [0x00E95F68+1007464]\n\tOrdinal0 [0x00E93C6B+998507]\n\tOrdinal0 [0x00E929D9+993753]\n\tOrdinal0 [0x00E88613+951827]\n\tOrdinal0 [0x00EAC7DC+1099740]\n\tOrdinal0 [0x00E87FF4+950260]\n\tOrdinal0 [0x00EAC9F4+1100276]\n\tOrdinal0 [0x00EBCC22+1166370]\n\tOrdinal0 [0x00EAC5F6+1099254]\n\tOrdinal0 [0x00E86BE0+945120]\n\tOrdinal0 [0x00E87AD6+948950]\n\tGetHandleVerifier [0x012571F2+2712546]\n\tGetHandleVerifier [0x0124886D+2652765]\n\tGetHandleVerifier [0x0104002A+520730]\n\tGetHandleVerifier [0x0103EE06+516086]\n\tOrdinal0 [0x00F5468B+1787531]\n\tOrdinal0 [0x00F58E88+1805960]\n\tOrdinal0 [0x00F58F75+1806197]\n\tOrdinal0 [0x00F61DF1+1842673]\n\tBaseThreadInitThunk [0x76206739+25]\n\tRtlGetFullPathName_UEx [0x773B90AF+1215]\n\tRtlGetFullPathName_UEx [0x773B907D+1165]\n"
     ]
    }
   ],
   "source": [
    "driver = webdriver.Chrome()\n",
    "driver.get('https://advisors.vanguard.com/insights/all')\n",
    "sleep(10)\n",
    "all_pages = []\n",
    "for i in range(18):\n",
    "    title_list = [i.text for i in driver.find_elements(By.XPATH,'//*[(@id = \"insights-archive-section\")]//h3')] \n",
    "    perspective_list = [i.text for i in driver.find_elements(By.XPATH, '//*[contains(concat( \" \", @class, \" \" ), concat( \" \", \"type\", \" \" ))]')]\n",
    "    abstract_list = [i.text for i in driver.find_elements(By.XPATH, '//*[(@id = \"insights-archive-section\")]//*[contains(concat( \" \", @class, \" \" ), concat( \" \", \"p2\", \" \" ))]')]\n",
    "\n",
    "    date_perspectives = driver.find_elements(By.XPATH,'//*[contains(concat( \" \", @class, \" \" ), concat( \" \", \"eyebrow\", \" \" ))]')\n",
    "    date_list = [''.join(re.findall(r'[A-Z]+\\s\\d+,\\s\\d+', i)) for i in [i.text for i in date_perspectives][1:]]\n",
    "    #date_list = [''.join(re.findall(r'[A-Z]+\\s\\d+,\\s\\d+', i)) for i in driver.find_elements(By.XPATH,'//*[contains(concat( \" \", @class, \" \" ), concat( \" \", \"eyebrow\", \" \" ))]')]\n",
    "\n",
    "\n",
    "    tag_list = [i.text for i in driver.find_elements(By.XPATH, '//*[(@id = \"insights-archive-section\")]//*[contains(concat( \" \", @class, \" \" ), concat( \" \", \"tags\", \" \" ))]')]\n",
    "    link_list = [link.get_attribute('href') for link in driver.find_elements(By.CSS_SELECTOR, '.detail-link')]\n",
    "\n",
    "    list_of_dict_8 = []\n",
    "    for title, perspective, abstract, date, tag , link in zip(title_list, perspective_list, abstract_list, date_list, tag_list, link_list):\n",
    "        d = {\n",
    "            'title': title,\n",
    "            'perspective': perspective,\n",
    "            'abstract': abstract,\n",
    "            'date': date,\n",
    "            'tag': tag,\n",
    "            'link': link,\n",
    "            'content': extract_content_with_id(link=link)\n",
    "        }\n",
    "        list_of_dict_8.append(d)\n",
    "        \n",
    "    all_pages.append(list_of_dict_8)\n",
    "    next_page = driver.find_element(By.CSS_SELECTOR,'#insights-archive-section > div.pagination > div.pagination__arrows > span.icon.icon-right')\n",
    "    next_page.click()"
   ]
  },
  {
   "cell_type": "code",
   "execution_count": 78,
   "id": "356a3a46",
   "metadata": {},
   "outputs": [
    {
     "data": {
      "text/plain": [
       "8"
      ]
     },
     "execution_count": 78,
     "metadata": {},
     "output_type": "execute_result"
    }
   ],
   "source": [
    "len(all_pages[2])"
   ]
  },
  {
   "cell_type": "code",
   "execution_count": 63,
   "id": "cf342870",
   "metadata": {},
   "outputs": [
    {
     "data": {
      "text/plain": [
       "['https://advisors.vanguard.com/insights/article/vanguardtointroduceenvironmentalopportunitiesfund',\n",
       " 'https://advisors.vanguard.com/insights/article/IWE_ResPuttingAValueOnValue',\n",
       " 'https://advisors.vanguard.com/insights/article/opportunitiesinemergingmarketbonds',\n",
       " 'https://advisors.vanguard.com/insights/article/offerclientscustomesgoptionswithpersonalizedindexing',\n",
       " 'https://advisors.vanguard.com/insights/article/whywerebullishonemergingmarketdebt',\n",
       " 'https://advisors.vanguard.com/insights/article/whatsbehindourportfolioconstructionprocess',\n",
       " 'https://advisors.vanguard.com/insights/article/series/activefixedincomeperspectives',\n",
       " 'https://advisors.vanguard.com/insights/article/explorewaystoapproachlargeetftrades']"
      ]
     },
     "execution_count": 63,
     "metadata": {},
     "output_type": "execute_result"
    }
   ],
   "source": [
    "link_list"
   ]
  },
  {
   "cell_type": "code",
   "execution_count": null,
   "id": "5a07cce9",
   "metadata": {},
   "outputs": [],
   "source": [
    "# title_list = [i.text for i in driver.find_elements(By.XPATH,'//*[(@id = \"insights-archive-section\")]//h3')] \n",
    "# perspective_list = [i.text for i in driver.find_elements(By.XPATH, '//*[contains(concat( \" \", @class, \" \" ), concat( \" \", \"type\", \" \" ))]')]\n",
    "# abstract_list = [i.text for i in driver.find_elements(By.XPATH, '//*[(@id = \"insights-archive-section\")]//*[contains(concat( \" \", @class, \" \" ), concat( \" \", \"p2\", \" \" ))]')]\n",
    "# date_list = [''.join(re.findall(r'[A-Z]+\\s\\d+,\\s\\d+', i)) for i in driver.find_elements(By.XPATH,'//*[contains(concat( \" \", @class, \" \" ), concat( \" \", \"eyebrow\", \" \" ))]')]\n",
    "# tag_list = [i.text for i in driver.find_elements(By.XPATH, '//*[(@id = \"insights-archive-section\")]//*[contains(concat( \" \", @class, \" \" ), concat( \" \", \"tags\", \" \" ))]')]\n",
    "# link_list = [link.get_attribute('href') for link in driver.find_elements(By.CSS_SELECTOR, '.detail-link')]\n"
   ]
  }
 ],
 "metadata": {
  "kernelspec": {
   "display_name": "Python 3 (ipykernel)",
   "language": "python",
   "name": "python3"
  },
  "language_info": {
   "codemirror_mode": {
    "name": "ipython",
    "version": 3
   },
   "file_extension": ".py",
   "mimetype": "text/x-python",
   "name": "python",
   "nbconvert_exporter": "python",
   "pygments_lexer": "ipython3",
   "version": "3.9.7"
  }
 },
 "nbformat": 4,
 "nbformat_minor": 5
}

{
 "cells": [
  {
   "cell_type": "code",
   "execution_count": 82,
   "id": "8c49a5ce",
   "metadata": {},
   "outputs": [],
   "source": [
    "import requests\n",
    "from bs4 import BeautifulSoup\n",
    "\n",
    "from selenium.webdriver.common.action_chains import ActionChains\n",
    "from time import sleep\n",
    "import selenium\n",
    "from selenium import webdriver\n",
    "from selenium.webdriver.common.by import By\n",
    "from selenium.webdriver.common.keys import Keys\n",
    "from selenium.webdriver.support.ui import WebDriverWait\n",
    "from selenium.webdriver.common.by import By\n",
    "from selenium.webdriver.support import expected_conditions as EC\n",
    "import json\n",
    "from webdriver_manager.chrome import ChromeDriverManager\n",
    "from selenium.webdriver.chrome.service import Service\n",
    "import re\n",
    "from pprint import pprint\n",
    "from tqdm import tqdm\n",
    "import pandas as pd\n",
    "import seaborn as sns\n",
    "import matplotlib.pyplot as plt"
   ]
  },
  {
   "cell_type": "code",
   "execution_count": 41,
   "id": "d156e92b",
   "metadata": {},
   "outputs": [],
   "source": [
    "class VanguardInsights:\n",
    "    \n",
    "    def __init__(self, all_insight_link):\n",
    "        self.all_insight_link = all_insight_link\n",
    "        service = Service(executable_path=ChromeDriverManager().install())\n",
    "        self.driver = webdriver.Chrome(service=service)\n",
    "            \n",
    "    @staticmethod\n",
    "    def extract_content_with_id(link):\n",
    "        response = requests.get(link)\n",
    "        soup = BeautifulSoup(response.text)\n",
    "        content = ' '.join([i.text for i in soup.find_all(\"div\", {\"id\": \"iw_placeholder1585759247342\"})]).strip()\n",
    "        return content\n",
    "            \n",
    "    def get_article_insight(self):\n",
    "        \n",
    "        self.driver.get(self.all_insight_link)\n",
    "        sleep(10)\n",
    "\n",
    "        all_pages = []\n",
    "\n",
    "        for i in range(18):\n",
    "\n",
    "            title_tags = self.driver.find_elements(By.XPATH,'//*[(@id = \"insights-archive-section\")]//h3')\n",
    "            title_contents = self.driver.find_elements(By.XPATH, '//*[(@id = \"insights-archive-section\")]//*[contains(concat( \" \", @class, \" \" ), concat( \" \", \"p2\", \" \" ))]')\n",
    "            date_perspectives = self.driver.find_elements(By.XPATH,'//*[contains(concat( \" \", @class, \" \" ), concat( \" \", \"eyebrow\", \" \" ))]')\n",
    "            perspectives = self.driver.find_elements(By.XPATH, '//*[contains(concat( \" \", @class, \" \" ), concat( \" \", \"type\", \" \" ))]')\n",
    "            # dates = browser.find_elements(By.CSS_SELECTOR, '.content-eyebrow .eyebrow')\n",
    "            tags = self.driver.find_elements(By.CSS_SELECTOR, \"[id='insights-archive'] [class='tags']\")\n",
    "            tags = [i.find_elements(By.CSS_SELECTOR, \"[id='insights-archive'] [class='tags'] [class='pill tag']\") for i in tags]\n",
    "            links = self.driver.find_elements(By.CSS_SELECTOR, '.detail-link')\n",
    "\n",
    "\n",
    "\n",
    "            title_tag = [i.text for i in title_tags] \n",
    "            title_content = [i.text for i in title_contents]\n",
    "            date_perspective = [i.text for i in date_perspectives]\n",
    "            date = [''.join(re.findall(r'[A-Z]+\\s\\d+,\\s\\d+', i)) for i in date_perspective[1:]]\n",
    "            perspective = [i.text for i in perspectives]\n",
    "            #date = [i.text for i in dates]\n",
    "            tag = [[j.text for j in i]for i in tags]\n",
    "            links_list = [link.get_attribute('href') for link in links]\n",
    "\n",
    "            list_of_dict = []\n",
    "            for tg,tc,d,p,t,l in zip(title_tag, title_content, date, perspective, tag, links_list):\n",
    "                economy_market_dict = {\n",
    "                                    'company': 'Vanguard', \n",
    "                                    'topic': 'Insight', \n",
    "                                    'articel_title': tg, \n",
    "                                    'abstract' : tc,\n",
    "                                    'date' : d,\n",
    "                                    'perspective' : p,\n",
    "                                    'tag': ','.join(t),\n",
    "                                    'link':l,\n",
    "                                    'content':self.extract_content_with_id(l),\n",
    "                }\n",
    "                list_of_dict.append(economy_market_dict)\n",
    "\n",
    "\n",
    "            all_pages.append(list_of_dict)\n",
    "            next_page = self.driver.find_element(By.CSS_SELECTOR,'#insights-archive-section > div.pagination > div.pagination__arrows > span.icon.icon-right')\n",
    "            next_page.click()\n",
    "\n",
    "        self.driver.quit()\n",
    "        vanguard_insight_list = []\n",
    "        for p_8 in all_pages:\n",
    "            for p in p_8:\n",
    "                vanguard_insight_list.append(p)\n",
    "                \n",
    "        return vanguard_insight_list\n"
   ]
  },
  {
   "cell_type": "code",
   "execution_count": 42,
   "id": "a59127fc",
   "metadata": {},
   "outputs": [],
   "source": [
    "vanguard_insight_obj = VanguardInsights('https://advisors.vanguard.com/insights/all')\n",
    "vanguard_insight_list = vanguard_insight_obj.get_article_insight()"
   ]
  },
  {
   "cell_type": "code",
   "execution_count": 83,
   "id": "0cd2b920",
   "metadata": {},
   "outputs": [],
   "source": [
    "df = pd.DataFrame(vanguard_insight_list)"
   ]
  },
  {
   "cell_type": "code",
   "execution_count": 90,
   "id": "2a9646ee",
   "metadata": {},
   "outputs": [],
   "source": [
    "d = {'U.S.': 0,\n",
    "    'Fixed Income': 0,\n",
    "    'International':0,\n",
    "    'ESG Strategies':0,\n",
    "    \"Advisor's Alpha®\":0,\n",
    "    'Portfolio Construction': 0,\n",
    "    'ETF Investing': 0,\n",
    "    'Equities': 0,\n",
    "    'Behavioral Coaching':0,\n",
    "    'Wealth Management': 0,\n",
    "    'Alternatives': 0,\n",
    "    'Factor-based Strategies': 0,\n",
    "    'Bear Markets': 0\n",
    "    }\n",
    "\n",
    "for i in df['tag']:\n",
    "    if 'U.S.' in i:\n",
    "        d['U.S.'] += 1\n",
    "    if 'Fixed Income' in i:\n",
    "        d['Fixed Income'] += 1\n",
    "    if 'International' in i:\n",
    "        d['International'] += 1\n",
    "    if 'ESG Strategies' in i:\n",
    "        d['ESG Strategies'] += 1\n",
    "    if \"Advisor's Alpha®\" in i :\n",
    "        d[\"Advisor's Alpha®\"] += 1\n",
    "    if 'Portfolio Construction' in i:\n",
    "        d['Portfolio Construction'] += 1\n",
    "    if 'ETF Investing' in i:\n",
    "        d['ETF Investing'] += 1\n",
    "    if 'Equities' in i:\n",
    "        d['Equities'] += 1\n",
    "    if 'Behavioral Coaching' in i:\n",
    "        d['Behavioral Coaching'] +=1\n",
    "    if 'Wealth Management' in i:\n",
    "        d['Wealth Management'] += 1\n",
    "    if 'Alternatives' in i:\n",
    "        d['Alternatives'] +=1\n",
    "    if 'Factor-based Strategies' in i:\n",
    "        d['Factor-based Strategies'] +=1\n",
    "    if 'Bear Markets' in i:\n",
    "        d['Bear Markets'] +=1"
   ]
  },
  {
   "cell_type": "code",
   "execution_count": 91,
   "id": "92c9af75",
   "metadata": {},
   "outputs": [],
   "source": [
    "df_barplot = pd.DataFrame([d]).T\n",
    "df_barplot.rename(columns={0:\"count\"}, inplace=True)\n",
    "df_barplot = df_barplot.sort_values('count', ascending=False)"
   ]
  },
  {
   "cell_type": "code",
   "execution_count": 92,
   "id": "c3558657",
   "metadata": {},
   "outputs": [
    {
     "data": {
      "text/plain": [
       "dict_keys(['U.S.', 'Fixed Income', 'International', 'ESG Strategies', \"Advisor's Alpha®\", 'Portfolio Construction', 'ETF Investing', 'Equities', 'Behavioral Coaching', 'Wealth Management', 'Alternatives', 'Factor-based Strategies', 'Bear Markets'])"
      ]
     },
     "execution_count": 92,
     "metadata": {},
     "output_type": "execute_result"
    }
   ],
   "source": [
    "d.keys()"
   ]
  },
  {
   "cell_type": "code",
   "execution_count": 93,
   "id": "46dc7997",
   "metadata": {},
   "outputs": [
    {
     "data": {
      "image/png": "[encoded data removed]",
      "text/plain": [
       "<Figure size 432x288 with 1 Axes>"
      ]
     },
     "metadata": {},
     "output_type": "display_data"
    }
   ],
   "source": [
    "sns.set_style('darkgrid')\n",
    "sns.barplot(y=df_barplot.index,x=df_barplot['count'])\n",
    "plt.title('Vanguard')\n",
    "plt.show()"
   ]
  },
  {
   "cell_type": "code",
   "execution_count": null,
   "id": "1bde3d31",
   "metadata": {},
   "outputs": [],
   "source": []
  }
 ],
 "metadata": {
  "kernelspec": {
   "display_name": "Python 3 (ipykernel)",
   "language": "python",
   "name": "python3"
  },
  "language_info": {
   "codemirror_mode": {
    "name": "ipython",
    "version": 3
   },
   "file_extension": ".py",
   "mimetype": "text/x-python",
   "name": "python",
   "nbconvert_exporter": "python",
   "pygments_lexer": "ipython3",
   "version": "3.9.7"
  }
 },
 "nbformat": 4,
 "nbformat_minor": 5
}

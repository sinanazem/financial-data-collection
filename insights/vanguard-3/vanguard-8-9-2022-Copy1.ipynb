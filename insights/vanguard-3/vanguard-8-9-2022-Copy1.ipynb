{
 "cells": [
  {
   "cell_type": "code",
   "execution_count": 22,
   "id": "8c49a5ce",
   "metadata": {},
   "outputs": [],
   "source": [
    "import requests\n",
    "from bs4 import BeautifulSoup\n",
    "\n",
    "from selenium.webdriver.common.action_chains import ActionChains\n",
    "from time import sleep\n",
    "import selenium\n",
    "from selenium import webdriver\n",
    "from selenium.webdriver.common.by import By\n",
    "from selenium.webdriver.common.keys import Keys\n",
    "from selenium.webdriver.support.ui import WebDriverWait\n",
    "from selenium.webdriver.common.by import By\n",
    "from selenium.webdriver.support import expected_conditions as EC\n",
    "import json\n",
    "import re\n",
    "from pprint import pprint\n",
    "from tqdm import tqdm\n",
    "import pandas as pd\n",
    "import seaborn as sns\n",
    "import matplotlib.pyplot as plt"
   ]
  },
  {
   "cell_type": "markdown",
   "id": "3aa80e86",
   "metadata": {},
   "source": [
    "<img src=\"https://upload.wikimedia.org/wikipedia/commons/thumb/8/85/BlackRock_wordmark.svg/2560px-BlackRock_wordmark.svg.png\" width=350>"
   ]
  },
  {
   "cell_type": "code",
   "execution_count": 3,
   "id": "c9438782",
   "metadata": {},
   "outputs": [],
   "source": [
    "class BlackRockInsights:\n",
    "    \n",
    "    def __init__(self, all_insight_link):\n",
    "        self.all_insight_link = all_insight_link\n",
    "        self.driver = webdriver.Chrome()\n",
    "    \n",
    "    @staticmethod\n",
    "    def extract_content_with_p(link: str) -> str:\n",
    "        # send requests and get response\n",
    "        response = requests.get(link)\n",
    "\n",
    "        # get content if response is ok\n",
    "        if response.ok is True:\n",
    "            soup = BeautifulSoup(response.text)\n",
    "\n",
    "            content = \" \".join([i.text for i in soup.find_all('p')[5:]])\n",
    "            return content\n",
    "        else:\n",
    "            raise Exception(f'Response is: {response}')\n",
    "            \n",
    "    @staticmethod        \n",
    "    def extract_content_with_class(link: str) -> str:\n",
    "        response = requests.get(link)\n",
    "        if response.ok is True:\n",
    "            #send requests \n",
    "            response = requests.get(link)\n",
    "            soup = BeautifulSoup(response.text)\n",
    "\n",
    "            content = ' '.join([i.text for i in soup.find_all(class_='para-content')])\n",
    "            return content\n",
    "        \n",
    "        else:\n",
    "            raise Exception(f'Response is: {response}')\n",
    "            \n",
    "    def get_article_insight(self):\n",
    "        \n",
    "        self.driver.get(self.all_insight_link)\n",
    "        sleep(10)\n",
    "        elem = self.driver.find_element(By.ID,'onetrust-reject-all-handler')\n",
    "        elem.click()\n",
    "        button = self.driver.find_element(By.XPATH,'//*[@id=\"c1561158932259\"]/div/div[2]/div/div/div[3]/button')\n",
    "        for i in range(8):\n",
    "            self.driver.execute_script(\"arguments[0].click();\", button)\n",
    "\n",
    "        title_list = [i.text for i in self.driver.find_elements(By.XPATH,'//h2')]\n",
    "        date_list = [i.text for i in self.driver.find_elements(By.XPATH, '//a//div//div//span[(((count(preceding-sibling::*) + 1) = 1) and parent::*)]')]\n",
    "        author_list = [i.text for i in self.driver.find_elements(By.CSS_SELECTOR,'span:nth-child(4)')] \n",
    "        abstract_list = [i.text for i in self.driver.find_elements(By.XPATH,'//*[contains(concat( \" \", @class, \" \" ), concat( \" \", \"description\", \" \" ))]')]\n",
    "        link_list = [i.get_attribute('href') for i in self.driver.find_elements(By.CSS_SELECTOR,'.skip-animation')]\n",
    "        tag_list = [i.text for i in self.driver.find_elements(By.XPATH,'//*[@class=\"category-text\"]')]\n",
    "\n",
    "        blackrock_insight_list = []\n",
    "        for title,date,author,abstract,link,tag in tqdm(zip(title_list,date_list,author_list,abstract_list,link_list,tag_list)):\n",
    "            \n",
    "            blackrock_insight_dict = {\n",
    "                'company': 'BlackRock', \n",
    "                'topic': 'Insight',\n",
    "                'title':title,\n",
    "                'link':link,\n",
    "                'date':date,\n",
    "                'author':author,\n",
    "                'abstract':abstract,\n",
    "                'content': self.extract_content_with_class(link),\n",
    "                'tag': tag\n",
    "            }\n",
    "            \n",
    "            blackrock_insight_list.append(blackrock_insight_dict)\n",
    "        \n",
    "        return blackrock_insight_list\n",
    "    \n",
    "\n",
    "    @staticmethod\n",
    "    def save_to_json(file_path, list_of_dict):\n",
    "        with open(file_path, 'a') as f:\n",
    "            for dict_ in list_of_dict:\n",
    "                json.dump(dict_,f,indent=4)\n",
    "\n"
   ]
  },
  {
   "cell_type": "code",
   "execution_count": 4,
   "id": "cfd38a8e",
   "metadata": {},
   "outputs": [
    {
     "ename": "SessionNotCreatedException",
     "evalue": "Message: session not created: This version of ChromeDriver only supports Chrome version 103\nCurrent browser version is 105.0.5195.102 with binary path C:\\Program Files\\Google\\Chrome\\Application\\chrome.exe\nStacktrace:\nBacktrace:\n\tOrdinal0 [0x00BA6463+2188387]\n\tOrdinal0 [0x00B3E461+1762401]\n\tOrdinal0 [0x00A53D78+802168]\n\tOrdinal0 [0x00A74E59+937561]\n\tOrdinal0 [0x00A70A6C+920172]\n\tOrdinal0 [0x00A6E331+910129]\n\tOrdinal0 [0x00AA1430+1119280]\n\tOrdinal0 [0x00AA108A+1118346]\n\tOrdinal0 [0x00A9C5F6+1099254]\n\tOrdinal0 [0x00A76BE0+945120]\n\tOrdinal0 [0x00A77AD6+948950]\n\tGetHandleVerifier [0x00E471F2+2712546]\n\tGetHandleVerifier [0x00E3886D+2652765]\n\tGetHandleVerifier [0x00C3002A+520730]\n\tGetHandleVerifier [0x00C2EE06+516086]\n\tOrdinal0 [0x00B4468B+1787531]\n\tOrdinal0 [0x00B48E88+1805960]\n\tOrdinal0 [0x00B48F75+1806197]\n\tOrdinal0 [0x00B51DF1+1842673]\n\tBaseThreadInitThunk [0x76206739+25]\n\tRtlGetFullPathName_UEx [0x773B90AF+1215]\n\tRtlGetFullPathName_UEx [0x773B907D+1165]\n",
     "output_type": "error",
     "traceback": [
      "\u001b[1;31m---------------------------------------------------------------------------\u001b[0m",
      "\u001b[1;31mSessionNotCreatedException\u001b[0m                Traceback (most recent call last)",
      "\u001b[1;32m~\\AppData\\Local\\Temp/ipykernel_34400/112307114.py\u001b[0m in \u001b[0;36m<module>\u001b[1;34m\u001b[0m\n\u001b[1;32m----> 1\u001b[1;33m \u001b[0mobj\u001b[0m \u001b[1;33m=\u001b[0m \u001b[0mBlackRockInsights\u001b[0m\u001b[1;33m(\u001b[0m\u001b[1;34m'https://www.blackrock.com/us/individual/insights'\u001b[0m\u001b[1;33m)\u001b[0m\u001b[1;33m\u001b[0m\u001b[1;33m\u001b[0m\u001b[0m\n\u001b[0m\u001b[0;32m      2\u001b[0m \u001b[0ml\u001b[0m \u001b[1;33m=\u001b[0m \u001b[0mobj\u001b[0m\u001b[1;33m.\u001b[0m\u001b[0mget_article_insight\u001b[0m\u001b[1;33m(\u001b[0m\u001b[1;33m)\u001b[0m\u001b[1;33m\u001b[0m\u001b[1;33m\u001b[0m\u001b[0m\n",
      "\u001b[1;32m~\\AppData\\Local\\Temp/ipykernel_34400/1934234261.py\u001b[0m in \u001b[0;36m__init__\u001b[1;34m(self, all_insight_link)\u001b[0m\n\u001b[0;32m      3\u001b[0m     \u001b[1;32mdef\u001b[0m \u001b[0m__init__\u001b[0m\u001b[1;33m(\u001b[0m\u001b[0mself\u001b[0m\u001b[1;33m,\u001b[0m \u001b[0mall_insight_link\u001b[0m\u001b[1;33m)\u001b[0m\u001b[1;33m:\u001b[0m\u001b[1;33m\u001b[0m\u001b[1;33m\u001b[0m\u001b[0m\n\u001b[0;32m      4\u001b[0m         \u001b[0mself\u001b[0m\u001b[1;33m.\u001b[0m\u001b[0mall_insight_link\u001b[0m \u001b[1;33m=\u001b[0m \u001b[0mall_insight_link\u001b[0m\u001b[1;33m\u001b[0m\u001b[1;33m\u001b[0m\u001b[0m\n\u001b[1;32m----> 5\u001b[1;33m         \u001b[0mself\u001b[0m\u001b[1;33m.\u001b[0m\u001b[0mdriver\u001b[0m \u001b[1;33m=\u001b[0m \u001b[0mwebdriver\u001b[0m\u001b[1;33m.\u001b[0m\u001b[0mChrome\u001b[0m\u001b[1;33m(\u001b[0m\u001b[1;33m)\u001b[0m\u001b[1;33m\u001b[0m\u001b[1;33m\u001b[0m\u001b[0m\n\u001b[0m\u001b[0;32m      6\u001b[0m \u001b[1;33m\u001b[0m\u001b[0m\n\u001b[0;32m      7\u001b[0m     \u001b[1;33m@\u001b[0m\u001b[0mstaticmethod\u001b[0m\u001b[1;33m\u001b[0m\u001b[1;33m\u001b[0m\u001b[0m\n",
      "\u001b[1;32m~\\anaconda3\\lib\\site-packages\\selenium\\webdriver\\chrome\\webdriver.py\u001b[0m in \u001b[0;36m__init__\u001b[1;34m(self, executable_path, port, options, service_args, desired_capabilities, service_log_path, chrome_options, service, keep_alive)\u001b[0m\n\u001b[0;32m     67\u001b[0m             \u001b[0mservice\u001b[0m \u001b[1;33m=\u001b[0m \u001b[0mService\u001b[0m\u001b[1;33m(\u001b[0m\u001b[0mexecutable_path\u001b[0m\u001b[1;33m,\u001b[0m \u001b[0mport\u001b[0m\u001b[1;33m,\u001b[0m \u001b[0mservice_args\u001b[0m\u001b[1;33m,\u001b[0m \u001b[0mservice_log_path\u001b[0m\u001b[1;33m)\u001b[0m\u001b[1;33m\u001b[0m\u001b[1;33m\u001b[0m\u001b[0m\n\u001b[0;32m     68\u001b[0m \u001b[1;33m\u001b[0m\u001b[0m\n\u001b[1;32m---> 69\u001b[1;33m         super().__init__(DesiredCapabilities.CHROME['browserName'], \"goog\",\n\u001b[0m\u001b[0;32m     70\u001b[0m                          \u001b[0mport\u001b[0m\u001b[1;33m,\u001b[0m \u001b[0moptions\u001b[0m\u001b[1;33m,\u001b[0m\u001b[1;33m\u001b[0m\u001b[1;33m\u001b[0m\u001b[0m\n\u001b[0;32m     71\u001b[0m                          \u001b[0mservice_args\u001b[0m\u001b[1;33m,\u001b[0m \u001b[0mdesired_capabilities\u001b[0m\u001b[1;33m,\u001b[0m\u001b[1;33m\u001b[0m\u001b[1;33m\u001b[0m\u001b[0m\n",
      "\u001b[1;32m~\\anaconda3\\lib\\site-packages\\selenium\\webdriver\\chromium\\webdriver.py\u001b[0m in \u001b[0;36m__init__\u001b[1;34m(self, browser_name, vendor_prefix, port, options, service_args, desired_capabilities, service_log_path, service, keep_alive)\u001b[0m\n\u001b[0;32m     90\u001b[0m \u001b[1;33m\u001b[0m\u001b[0m\n\u001b[0;32m     91\u001b[0m         \u001b[1;32mtry\u001b[0m\u001b[1;33m:\u001b[0m\u001b[1;33m\u001b[0m\u001b[1;33m\u001b[0m\u001b[0m\n\u001b[1;32m---> 92\u001b[1;33m             super().__init__(\n\u001b[0m\u001b[0;32m     93\u001b[0m                 command_executor=ChromiumRemoteConnection(\n\u001b[0;32m     94\u001b[0m                     \u001b[0mremote_server_addr\u001b[0m\u001b[1;33m=\u001b[0m\u001b[0mself\u001b[0m\u001b[1;33m.\u001b[0m\u001b[0mservice\u001b[0m\u001b[1;33m.\u001b[0m\u001b[0mservice_url\u001b[0m\u001b[1;33m,\u001b[0m\u001b[1;33m\u001b[0m\u001b[1;33m\u001b[0m\u001b[0m\n",
      "\u001b[1;32m~\\anaconda3\\lib\\site-packages\\selenium\\webdriver\\remote\\webdriver.py\u001b[0m in \u001b[0;36m__init__\u001b[1;34m(self, command_executor, desired_capabilities, browser_profile, proxy, keep_alive, file_detector, options)\u001b[0m\n\u001b[0;32m    275\u001b[0m         \u001b[0mself\u001b[0m\u001b[1;33m.\u001b[0m\u001b[0m_authenticator_id\u001b[0m \u001b[1;33m=\u001b[0m \u001b[1;32mNone\u001b[0m\u001b[1;33m\u001b[0m\u001b[1;33m\u001b[0m\u001b[0m\n\u001b[0;32m    276\u001b[0m         \u001b[0mself\u001b[0m\u001b[1;33m.\u001b[0m\u001b[0mstart_client\u001b[0m\u001b[1;33m(\u001b[0m\u001b[1;33m)\u001b[0m\u001b[1;33m\u001b[0m\u001b[1;33m\u001b[0m\u001b[0m\n\u001b[1;32m--> 277\u001b[1;33m         \u001b[0mself\u001b[0m\u001b[1;33m.\u001b[0m\u001b[0mstart_session\u001b[0m\u001b[1;33m(\u001b[0m\u001b[0mcapabilities\u001b[0m\u001b[1;33m,\u001b[0m \u001b[0mbrowser_profile\u001b[0m\u001b[1;33m)\u001b[0m\u001b[1;33m\u001b[0m\u001b[1;33m\u001b[0m\u001b[0m\n\u001b[0m\u001b[0;32m    278\u001b[0m \u001b[1;33m\u001b[0m\u001b[0m\n\u001b[0;32m    279\u001b[0m     \u001b[1;32mdef\u001b[0m \u001b[0m__repr__\u001b[0m\u001b[1;33m(\u001b[0m\u001b[0mself\u001b[0m\u001b[1;33m)\u001b[0m\u001b[1;33m:\u001b[0m\u001b[1;33m\u001b[0m\u001b[1;33m\u001b[0m\u001b[0m\n",
      "\u001b[1;32m~\\anaconda3\\lib\\site-packages\\selenium\\webdriver\\remote\\webdriver.py\u001b[0m in \u001b[0;36mstart_session\u001b[1;34m(self, capabilities, browser_profile)\u001b[0m\n\u001b[0;32m    368\u001b[0m         \u001b[0mw3c_caps\u001b[0m \u001b[1;33m=\u001b[0m \u001b[0m_make_w3c_caps\u001b[0m\u001b[1;33m(\u001b[0m\u001b[0mcapabilities\u001b[0m\u001b[1;33m)\u001b[0m\u001b[1;33m\u001b[0m\u001b[1;33m\u001b[0m\u001b[0m\n\u001b[0;32m    369\u001b[0m         \u001b[0mparameters\u001b[0m \u001b[1;33m=\u001b[0m \u001b[1;33m{\u001b[0m\u001b[1;34m\"capabilities\"\u001b[0m\u001b[1;33m:\u001b[0m \u001b[0mw3c_caps\u001b[0m\u001b[1;33m}\u001b[0m\u001b[1;33m\u001b[0m\u001b[1;33m\u001b[0m\u001b[0m\n\u001b[1;32m--> 370\u001b[1;33m         \u001b[0mresponse\u001b[0m \u001b[1;33m=\u001b[0m \u001b[0mself\u001b[0m\u001b[1;33m.\u001b[0m\u001b[0mexecute\u001b[0m\u001b[1;33m(\u001b[0m\u001b[0mCommand\u001b[0m\u001b[1;33m.\u001b[0m\u001b[0mNEW_SESSION\u001b[0m\u001b[1;33m,\u001b[0m \u001b[0mparameters\u001b[0m\u001b[1;33m)\u001b[0m\u001b[1;33m\u001b[0m\u001b[1;33m\u001b[0m\u001b[0m\n\u001b[0m\u001b[0;32m    371\u001b[0m         \u001b[1;32mif\u001b[0m \u001b[1;34m'sessionId'\u001b[0m \u001b[1;32mnot\u001b[0m \u001b[1;32min\u001b[0m \u001b[0mresponse\u001b[0m\u001b[1;33m:\u001b[0m\u001b[1;33m\u001b[0m\u001b[1;33m\u001b[0m\u001b[0m\n\u001b[0;32m    372\u001b[0m             \u001b[0mresponse\u001b[0m \u001b[1;33m=\u001b[0m \u001b[0mresponse\u001b[0m\u001b[1;33m[\u001b[0m\u001b[1;34m'value'\u001b[0m\u001b[1;33m]\u001b[0m\u001b[1;33m\u001b[0m\u001b[1;33m\u001b[0m\u001b[0m\n",
      "\u001b[1;32m~\\anaconda3\\lib\\site-packages\\selenium\\webdriver\\remote\\webdriver.py\u001b[0m in \u001b[0;36mexecute\u001b[1;34m(self, driver_command, params)\u001b[0m\n\u001b[0;32m    433\u001b[0m         \u001b[0mresponse\u001b[0m \u001b[1;33m=\u001b[0m \u001b[0mself\u001b[0m\u001b[1;33m.\u001b[0m\u001b[0mcommand_executor\u001b[0m\u001b[1;33m.\u001b[0m\u001b[0mexecute\u001b[0m\u001b[1;33m(\u001b[0m\u001b[0mdriver_command\u001b[0m\u001b[1;33m,\u001b[0m \u001b[0mparams\u001b[0m\u001b[1;33m)\u001b[0m\u001b[1;33m\u001b[0m\u001b[1;33m\u001b[0m\u001b[0m\n\u001b[0;32m    434\u001b[0m         \u001b[1;32mif\u001b[0m \u001b[0mresponse\u001b[0m\u001b[1;33m:\u001b[0m\u001b[1;33m\u001b[0m\u001b[1;33m\u001b[0m\u001b[0m\n\u001b[1;32m--> 435\u001b[1;33m             \u001b[0mself\u001b[0m\u001b[1;33m.\u001b[0m\u001b[0merror_handler\u001b[0m\u001b[1;33m.\u001b[0m\u001b[0mcheck_response\u001b[0m\u001b[1;33m(\u001b[0m\u001b[0mresponse\u001b[0m\u001b[1;33m)\u001b[0m\u001b[1;33m\u001b[0m\u001b[1;33m\u001b[0m\u001b[0m\n\u001b[0m\u001b[0;32m    436\u001b[0m             response['value'] = self._unwrap_value(\n\u001b[0;32m    437\u001b[0m                 response.get('value', None))\n",
      "\u001b[1;32m~\\anaconda3\\lib\\site-packages\\selenium\\webdriver\\remote\\errorhandler.py\u001b[0m in \u001b[0;36mcheck_response\u001b[1;34m(self, response)\u001b[0m\n\u001b[0;32m    245\u001b[0m                 \u001b[0malert_text\u001b[0m \u001b[1;33m=\u001b[0m \u001b[0mvalue\u001b[0m\u001b[1;33m[\u001b[0m\u001b[1;34m'alert'\u001b[0m\u001b[1;33m]\u001b[0m\u001b[1;33m.\u001b[0m\u001b[0mget\u001b[0m\u001b[1;33m(\u001b[0m\u001b[1;34m'text'\u001b[0m\u001b[1;33m)\u001b[0m\u001b[1;33m\u001b[0m\u001b[1;33m\u001b[0m\u001b[0m\n\u001b[0;32m    246\u001b[0m             \u001b[1;32mraise\u001b[0m \u001b[0mexception_class\u001b[0m\u001b[1;33m(\u001b[0m\u001b[0mmessage\u001b[0m\u001b[1;33m,\u001b[0m \u001b[0mscreen\u001b[0m\u001b[1;33m,\u001b[0m \u001b[0mstacktrace\u001b[0m\u001b[1;33m,\u001b[0m \u001b[0malert_text\u001b[0m\u001b[1;33m)\u001b[0m  \u001b[1;31m# type: ignore[call-arg]  # mypy is not smart enough here\u001b[0m\u001b[1;33m\u001b[0m\u001b[1;33m\u001b[0m\u001b[0m\n\u001b[1;32m--> 247\u001b[1;33m         \u001b[1;32mraise\u001b[0m \u001b[0mexception_class\u001b[0m\u001b[1;33m(\u001b[0m\u001b[0mmessage\u001b[0m\u001b[1;33m,\u001b[0m \u001b[0mscreen\u001b[0m\u001b[1;33m,\u001b[0m \u001b[0mstacktrace\u001b[0m\u001b[1;33m)\u001b[0m\u001b[1;33m\u001b[0m\u001b[1;33m\u001b[0m\u001b[0m\n\u001b[0m\u001b[0;32m    248\u001b[0m \u001b[1;33m\u001b[0m\u001b[0m\n\u001b[0;32m    249\u001b[0m     \u001b[1;32mdef\u001b[0m \u001b[0m_value_or_default\u001b[0m\u001b[1;33m(\u001b[0m\u001b[0mself\u001b[0m\u001b[1;33m,\u001b[0m \u001b[0mobj\u001b[0m\u001b[1;33m:\u001b[0m \u001b[0mMapping\u001b[0m\u001b[1;33m[\u001b[0m\u001b[0m_KT\u001b[0m\u001b[1;33m,\u001b[0m \u001b[0m_VT\u001b[0m\u001b[1;33m]\u001b[0m\u001b[1;33m,\u001b[0m \u001b[0mkey\u001b[0m\u001b[1;33m:\u001b[0m \u001b[0m_KT\u001b[0m\u001b[1;33m,\u001b[0m \u001b[0mdefault\u001b[0m\u001b[1;33m:\u001b[0m \u001b[0m_VT\u001b[0m\u001b[1;33m)\u001b[0m \u001b[1;33m->\u001b[0m \u001b[0m_VT\u001b[0m\u001b[1;33m:\u001b[0m\u001b[1;33m\u001b[0m\u001b[1;33m\u001b[0m\u001b[0m\n",
      "\u001b[1;31mSessionNotCreatedException\u001b[0m: Message: session not created: This version of ChromeDriver only supports Chrome version 103\nCurrent browser version is 105.0.5195.102 with binary path C:\\Program Files\\Google\\Chrome\\Application\\chrome.exe\nStacktrace:\nBacktrace:\n\tOrdinal0 [0x00BA6463+2188387]\n\tOrdinal0 [0x00B3E461+1762401]\n\tOrdinal0 [0x00A53D78+802168]\n\tOrdinal0 [0x00A74E59+937561]\n\tOrdinal0 [0x00A70A6C+920172]\n\tOrdinal0 [0x00A6E331+910129]\n\tOrdinal0 [0x00AA1430+1119280]\n\tOrdinal0 [0x00AA108A+1118346]\n\tOrdinal0 [0x00A9C5F6+1099254]\n\tOrdinal0 [0x00A76BE0+945120]\n\tOrdinal0 [0x00A77AD6+948950]\n\tGetHandleVerifier [0x00E471F2+2712546]\n\tGetHandleVerifier [0x00E3886D+2652765]\n\tGetHandleVerifier [0x00C3002A+520730]\n\tGetHandleVerifier [0x00C2EE06+516086]\n\tOrdinal0 [0x00B4468B+1787531]\n\tOrdinal0 [0x00B48E88+1805960]\n\tOrdinal0 [0x00B48F75+1806197]\n\tOrdinal0 [0x00B51DF1+1842673]\n\tBaseThreadInitThunk [0x76206739+25]\n\tRtlGetFullPathName_UEx [0x773B90AF+1215]\n\tRtlGetFullPathName_UEx [0x773B907D+1165]\n"
     ]
    }
   ],
   "source": [
    "obj = BlackRockInsights('https://www.blackrock.com/us/individual/insights')\n",
    "l = obj.get_article_insight()"
   ]
  },
  {
   "cell_type": "code",
   "execution_count": null,
   "id": "3a957f94",
   "metadata": {},
   "outputs": [],
   "source": [
    "l"
   ]
  },
  {
   "cell_type": "code",
   "execution_count": 13,
   "id": "74613646",
   "metadata": {},
   "outputs": [],
   "source": [
    "blackrock_df = pd.DataFrame(l)"
   ]
  },
  {
   "cell_type": "code",
   "execution_count": 17,
   "id": "0fb662fc",
   "metadata": {},
   "outputs": [
    {
     "data": {
      "text/plain": [
       "array(['PORTFOLIO MANAGEMENT VIEWS', 'GLOBAL ALLOCATION',\n",
       "       'MARKET OUTLOOK', 'RETIREMENT', 'BLACKROCK INVESTMENT INSTITUTE',\n",
       "       'SUSTAINABILITY', 'FIXED INCOME', 'ALTERNATIVES', 'MULTI-ASSET'],\n",
       "      dtype=object)"
      ]
     },
     "execution_count": 17,
     "metadata": {},
     "output_type": "execute_result"
    }
   ],
   "source": [
    "blackrock_df['tag'].unique()"
   ]
  },
  {
   "cell_type": "code",
   "execution_count": 22,
   "id": "a78172cc",
   "metadata": {},
   "outputs": [
    {
     "name": "stderr",
     "output_type": "stream",
     "text": [
      "C:\\Users\\user\\anaconda3\\lib\\site-packages\\seaborn\\_decorators.py:36: FutureWarning: Pass the following variable as a keyword arg: x. From version 0.12, the only valid positional argument will be `data`, and passing other arguments without an explicit keyword will result in an error or misinterpretation.\n",
      "  warnings.warn(\n"
     ]
    },
    {
     "data": {
      "text/plain": [
       "(array([0, 1, 2, 3, 4, 5, 6, 7, 8]),\n",
       " [Text(0, 0, 'PORTFOLIO MANAGEMENT VIEWS'),\n",
       "  Text(1, 0, 'GLOBAL ALLOCATION'),\n",
       "  Text(2, 0, 'MARKET OUTLOOK'),\n",
       "  Text(3, 0, 'RETIREMENT'),\n",
       "  Text(4, 0, 'BLACKROCK INVESTMENT INSTITUTE'),\n",
       "  Text(5, 0, 'SUSTAINABILITY'),\n",
       "  Text(6, 0, 'FIXED INCOME'),\n",
       "  Text(7, 0, 'ALTERNATIVES'),\n",
       "  Text(8, 0, 'MULTI-ASSET')])"
      ]
     },
     "execution_count": 22,
     "metadata": {},
     "output_type": "execute_result"
    },
    {
     "data": {
      "image/png": "[encoded data removed]",
      "text/plain": [
       "<Figure size 432x288 with 1 Axes>"
      ]
     },
     "metadata": {
      "needs_background": "light"
     },
     "output_type": "display_data"
    }
   ],
   "source": [
    "sns.countplot(blackrock_df['tag'])\n",
    "plt.xticks(rotation=90)"
   ]
  },
  {
   "cell_type": "code",
   "execution_count": 5,
   "id": "46e0efa2",
   "metadata": {},
   "outputs": [],
   "source": [
    "BlackRockInsights.save_to_json('a.json', l)"
   ]
  },
  {
   "cell_type": "code",
   "execution_count": null,
   "id": "17ac8025",
   "metadata": {},
   "outputs": [],
   "source": [
    "https://www.blackrock.com/institutions/en-us/insights#macro-and-market-views"
   ]
  },
  {
   "cell_type": "code",
   "execution_count": null,
   "id": "f4a0bf25",
   "metadata": {},
   "outputs": [],
   "source": []
  },
  {
   "cell_type": "code",
   "execution_count": null,
   "id": "de36a4ee",
   "metadata": {},
   "outputs": [],
   "source": []
  },
  {
   "cell_type": "code",
   "execution_count": null,
   "id": "4ac995a1",
   "metadata": {},
   "outputs": [],
   "source": []
  },
  {
   "cell_type": "code",
   "execution_count": null,
   "id": "22b85440",
   "metadata": {},
   "outputs": [],
   "source": []
  },
  {
   "cell_type": "code",
   "execution_count": null,
   "id": "3ceeba0f",
   "metadata": {},
   "outputs": [],
   "source": []
  },
  {
   "cell_type": "code",
   "execution_count": null,
   "id": "820b62c2",
   "metadata": {},
   "outputs": [],
   "source": []
  },
  {
   "cell_type": "code",
   "execution_count": null,
   "id": "04ed0a05",
   "metadata": {},
   "outputs": [],
   "source": []
  },
  {
   "cell_type": "code",
   "execution_count": null,
   "id": "eb8fe953",
   "metadata": {},
   "outputs": [],
   "source": []
  },
  {
   "cell_type": "code",
   "execution_count": null,
   "id": "ca7d4a68",
   "metadata": {},
   "outputs": [],
   "source": []
  },
  {
   "cell_type": "code",
   "execution_count": null,
   "id": "98d208bf",
   "metadata": {},
   "outputs": [],
   "source": []
  },
  {
   "cell_type": "code",
   "execution_count": null,
   "id": "951acf9e",
   "metadata": {},
   "outputs": [],
   "source": []
  },
  {
   "cell_type": "code",
   "execution_count": null,
   "id": "838d56da",
   "metadata": {},
   "outputs": [],
   "source": []
  },
  {
   "cell_type": "code",
   "execution_count": null,
   "id": "afbd49da",
   "metadata": {},
   "outputs": [],
   "source": []
  },
  {
   "cell_type": "code",
   "execution_count": null,
   "id": "1f5f1121",
   "metadata": {},
   "outputs": [],
   "source": []
  },
  {
   "cell_type": "markdown",
   "id": "fd2bc69a",
   "metadata": {},
   "source": [
    "<img src='https://1000logos.net/wp-content/uploads/2021/05/Vanguard-logo.png' width=350>"
   ]
  },
  {
   "cell_type": "code",
   "execution_count": 25,
   "id": "6577325c",
   "metadata": {},
   "outputs": [],
   "source": [
    "from webdriver_manager.chrome import ChromeDriverManager\n",
    "from selenium.webdriver.chrome.service import Service"
   ]
  },
  {
   "cell_type": "code",
   "execution_count": 41,
   "id": "d156e92b",
   "metadata": {},
   "outputs": [],
   "source": [
    "class VanguardInsights:\n",
    "    \n",
    "    def __init__(self, all_insight_link):\n",
    "        self.all_insight_link = all_insight_link\n",
    "        service = Service(executable_path=ChromeDriverManager().install())\n",
    "        self.driver = webdriver.Chrome(service=service)\n",
    "            \n",
    "    @staticmethod\n",
    "    def extract_content_with_id(link):\n",
    "        response = requests.get(link)\n",
    "        soup = BeautifulSoup(response.text)\n",
    "        content = ' '.join([i.text for i in soup.find_all(\"div\", {\"id\": \"iw_placeholder1585759247342\"})]).strip()\n",
    "        return content\n",
    "            \n",
    "    def get_article_insight(self):\n",
    "        \n",
    "        self.driver.get(self.all_insight_link)\n",
    "        sleep(10)\n",
    "\n",
    "        all_pages = []\n",
    "\n",
    "        for i in range(18):\n",
    "\n",
    "            title_tags = self.driver.find_elements(By.XPATH,'//*[(@id = \"insights-archive-section\")]//h3')\n",
    "            title_contents = self.driver.find_elements(By.XPATH, '//*[(@id = \"insights-archive-section\")]//*[contains(concat( \" \", @class, \" \" ), concat( \" \", \"p2\", \" \" ))]')\n",
    "            date_perspectives = self.driver.find_elements(By.XPATH,'//*[contains(concat( \" \", @class, \" \" ), concat( \" \", \"eyebrow\", \" \" ))]')\n",
    "            perspectives = self.driver.find_elements(By.XPATH, '//*[contains(concat( \" \", @class, \" \" ), concat( \" \", \"type\", \" \" ))]')\n",
    "            # dates = browser.find_elements(By.CSS_SELECTOR, '.content-eyebrow .eyebrow')\n",
    "            tags = self.driver.find_elements(By.CSS_SELECTOR, \"[id='insights-archive'] [class='tags']\")\n",
    "            tags = [i.find_elements(By.CSS_SELECTOR, \"[id='insights-archive'] [class='tags'] [class='pill tag']\") for i in tags]\n",
    "            links = self.driver.find_elements(By.CSS_SELECTOR, '.detail-link')\n",
    "\n",
    "\n",
    "\n",
    "            title_tag = [i.text for i in title_tags] \n",
    "            title_content = [i.text for i in title_contents]\n",
    "            date_perspective = [i.text for i in date_perspectives]\n",
    "            date = [''.join(re.findall(r'[A-Z]+\\s\\d+,\\s\\d+', i)) for i in date_perspective[1:]]\n",
    "            perspective = [i.text for i in perspectives]\n",
    "            #date = [i.text for i in dates]\n",
    "            tag = [[j.text for j in i]for i in tags]\n",
    "            links_list = [link.get_attribute('href') for link in links]\n",
    "\n",
    "            list_of_dict = []\n",
    "            for tg,tc,d,p,t,l in zip(title_tag, title_content, date, perspective, tag, links_list):\n",
    "                economy_market_dict = {\n",
    "                                    'company': 'Vanguard', \n",
    "                                    'topic': 'Insight', \n",
    "                                    'articel_title': tg, \n",
    "                                    'abstract' : tc,\n",
    "                                    'date' : d,\n",
    "                                    'perspective' : p,\n",
    "                                    'tag': ','.join(t),\n",
    "                                    'link':l,\n",
    "                                    'content':self.extract_content_with_id(l),\n",
    "                }\n",
    "                list_of_dict.append(economy_market_dict)\n",
    "\n",
    "\n",
    "            all_pages.append(list_of_dict)\n",
    "            next_page = self.driver.find_element(By.CSS_SELECTOR,'#insights-archive-section > div.pagination > div.pagination__arrows > span.icon.icon-right')\n",
    "            next_page.click()\n",
    "\n",
    "        self.driver.quit()\n",
    "        vanguard_insight_list = []\n",
    "        for p_8 in all_pages:\n",
    "            for p in p_8:\n",
    "                vanguard_insight_list.append(p)\n",
    "                \n",
    "        return vanguard_insight_list\n",
    "\n",
    "\n",
    "    @staticmethod\n",
    "    def save_to_json(file_path, list_of_dict):\n",
    "        with open(file_path, 'a') as f:\n",
    "            for dict_ in list_of_dict:\n",
    "                json.dump(dict_,f,indent=4)\n",
    "\n"
   ]
  },
  {
   "cell_type": "code",
   "execution_count": 42,
   "id": "a59127fc",
   "metadata": {},
   "outputs": [],
   "source": [
    "vanguard_insight_obj = VanguardInsights('https://advisors.vanguard.com/insights/all')\n",
    "vanguard_insight_list = vanguard_insight_obj.get_article_insight()"
   ]
  },
  {
   "cell_type": "code",
   "execution_count": 43,
   "id": "0cd2b920",
   "metadata": {},
   "outputs": [],
   "source": [
    "df = pd.DataFrame(vanguard_insight_list)"
   ]
  },
  {
   "cell_type": "code",
   "execution_count": 44,
   "id": "b6257291",
   "metadata": {},
   "outputs": [
    {
     "data": {
      "text/plain": [
       "array(['U.S.', 'Fixed Income,Equities,Portfolio Construction',\n",
       "       'U.S.,International', 'International', '',\n",
       "       'Fixed Income,U.S.,Bear Markets', 'ESG Strategies,Equities',\n",
       "       \"Advisor's Alpha®,Behavioral Coaching,Portfolio Construction\",\n",
       "       'Fixed Income', 'Fixed Income,Portfolio Construction',\n",
       "       'Portfolio Construction', 'ETF Investing', 'U.S.,Fixed Income',\n",
       "       'Fixed Income,U.S.', 'Equities',\n",
       "       \"Advisor's Alpha®,Behavioral Coaching,Bear Markets\",\n",
       "       \"Advisor's Alpha®,Behavioral Coaching\",\n",
       "       \"Advisor's Alpha®,Behavioral Coaching,U.S.\",\n",
       "       'Equities,Portfolio Construction', 'ESG Strategies',\n",
       "       'Behavioral Coaching', 'Fixed Income,Equities',\n",
       "       'Fixed Income,Bear Markets', 'Fixed Income,Equities,International',\n",
       "       'International,Bear Markets,Fixed Income', \"Advisor's Alpha®\",\n",
       "       'ETF Investing,Fixed Income', 'Wealth Management',\n",
       "       'ETF Investing,Equities', 'Behavioral Coaching,Wealth Management',\n",
       "       'ETF Investing,Equities,Bear Markets', 'Alternatives',\n",
       "       'Factor-based Strategies,ETF Investing',\n",
       "       'U.S.,International,Fixed Income',\n",
       "       \"Advisor's Alpha®,Wealth Management\",\n",
       "       'Fixed Income,Portfolio Construction,U.S.',\n",
       "       'Factor-based Strategies,Equities', 'U.S.,Equities,Alternatives',\n",
       "       \"Advisor's Alpha®,U.S.\", 'Bear Markets,Behavioral Coaching'],\n",
       "      dtype=object)"
      ]
     },
     "execution_count": 44,
     "metadata": {},
     "output_type": "execute_result"
    }
   ],
   "source": [
    "df['tag'].unique()"
   ]
  },
  {
   "cell_type": "code",
   "execution_count": 45,
   "id": "4e720c05",
   "metadata": {},
   "outputs": [],
   "source": [
    "df['tag2'] = df['tag'].apply(lambda x: x.split(',')[0])"
   ]
  },
  {
   "cell_type": "code",
   "execution_count": 49,
   "id": "e7f37e9d",
   "metadata": {},
   "outputs": [
    {
     "data": {
      "text/html": [
       "<div>\n",
       "<style scoped>\n",
       "    .dataframe tbody tr th:only-of-type {\n",
       "        vertical-align: middle;\n",
       "    }\n",
       "\n",
       "    .dataframe tbody tr th {\n",
       "        vertical-align: top;\n",
       "    }\n",
       "\n",
       "    .dataframe thead th {\n",
       "        text-align: right;\n",
       "    }\n",
       "</style>\n",
       "<table border=\"1\" class=\"dataframe\">\n",
       "  <thead>\n",
       "    <tr style=\"text-align: right;\">\n",
       "      <th></th>\n",
       "      <th>company</th>\n",
       "      <th>topic</th>\n",
       "      <th>articel_title</th>\n",
       "      <th>abstract</th>\n",
       "      <th>date</th>\n",
       "      <th>perspective</th>\n",
       "      <th>tag</th>\n",
       "      <th>link</th>\n",
       "      <th>content</th>\n",
       "      <th>tag2</th>\n",
       "    </tr>\n",
       "  </thead>\n",
       "  <tbody>\n",
       "    <tr>\n",
       "      <th>0</th>\n",
       "      <td>Vanguard</td>\n",
       "      <td>Insight</td>\n",
       "      <td>Getting inside the Fed's head</td>\n",
       "      <td>Three scenarios that the Fed could face in the...</td>\n",
       "      <td>SEPTEMBER 05, 2022</td>\n",
       "      <td>EXPERT PERSPECTIVE</td>\n",
       "      <td>U.S.</td>\n",
       "      <td>https://advisors.vanguard.com/insights/article...</td>\n",
       "      <td>The task currently facing the Federal Reserve ...</td>\n",
       "      <td>U.S.</td>\n",
       "    </tr>\n",
       "    <tr>\n",
       "      <th>1</th>\n",
       "      <td>Vanguard</td>\n",
       "      <td>Insight</td>\n",
       "      <td>Find out how your portfolios stack up</td>\n",
       "      <td>Get insights into how advisors are managing th...</td>\n",
       "      <td>AUGUST 30, 2022</td>\n",
       "      <td>VANGUARD PERSPECTIVE</td>\n",
       "      <td>Fixed Income,Equities,Portfolio Construction</td>\n",
       "      <td>https://advisors.vanguard.com/insights/article...</td>\n",
       "      <td>Portfolio Analytics and Consulting is a group ...</td>\n",
       "      <td>Fixed Income</td>\n",
       "    </tr>\n",
       "    <tr>\n",
       "      <th>2</th>\n",
       "      <td>Vanguard</td>\n",
       "      <td>Insight</td>\n",
       "      <td>Market perspectives: September 2022</td>\n",
       "      <td>Vanguard September market perspectives offers ...</td>\n",
       "      <td>AUGUST 29, 2022</td>\n",
       "      <td>VANGUARD PERSPECTIVE</td>\n",
       "      <td>U.S.,International</td>\n",
       "      <td>https://advisors.vanguard.com/insights/article...</td>\n",
       "      <td>Key highlights\\n\\nWe place the likelihood of a...</td>\n",
       "      <td>U.S.</td>\n",
       "    </tr>\n",
       "    <tr>\n",
       "      <th>3</th>\n",
       "      <td>Vanguard</td>\n",
       "      <td>Insight</td>\n",
       "      <td>Inside Jane Street's ETF trading</td>\n",
       "      <td>Gain expert insight into how the rapidly growi...</td>\n",
       "      <td>AUGUST 25, 2022</td>\n",
       "      <td>EXPERT PERSPECTIVE</td>\n",
       "      <td>International</td>\n",
       "      <td>https://advisors.vanguard.com/insights/article...</td>\n",
       "      <td>With the accelerating adoption of ETFs comes t...</td>\n",
       "      <td>International</td>\n",
       "    </tr>\n",
       "    <tr>\n",
       "      <th>4</th>\n",
       "      <td>Vanguard</td>\n",
       "      <td>Insight</td>\n",
       "      <td>When is personalized indexing right for your c...</td>\n",
       "      <td>Explore potential use cases for personalized i...</td>\n",
       "      <td>AUGUST 23, 2022</td>\n",
       "      <td>VANGUARD PERSPECTIVE</td>\n",
       "      <td></td>\n",
       "      <td>https://advisors.vanguard.com/insights/article...</td>\n",
       "      <td>Personalized indexing (also known as custom or...</td>\n",
       "      <td></td>\n",
       "    </tr>\n",
       "    <tr>\n",
       "      <th>...</th>\n",
       "      <td>...</td>\n",
       "      <td>...</td>\n",
       "      <td>...</td>\n",
       "      <td>...</td>\n",
       "      <td>...</td>\n",
       "      <td>...</td>\n",
       "      <td>...</td>\n",
       "      <td>...</td>\n",
       "      <td>...</td>\n",
       "      <td>...</td>\n",
       "    </tr>\n",
       "    <tr>\n",
       "      <th>135</th>\n",
       "      <td>Vanguard</td>\n",
       "      <td>Insight</td>\n",
       "      <td>Don't let headlines dictate clients' investing...</td>\n",
       "      <td>As an advisor, you can ease clients' anxiety d...</td>\n",
       "      <td>MARCH 29, 2020</td>\n",
       "      <td>VANGUARD PERSPECTIVE</td>\n",
       "      <td>Behavioral Coaching,Wealth Management</td>\n",
       "      <td>https://advisors.vanguard.com/insights/article...</td>\n",
       "      <td>While a downturn in the financial markets is a...</td>\n",
       "      <td>Behavioral Coaching</td>\n",
       "    </tr>\n",
       "    <tr>\n",
       "      <th>136</th>\n",
       "      <td>Vanguard</td>\n",
       "      <td>Insight</td>\n",
       "      <td>How are major index providers handling upcomin...</td>\n",
       "      <td>Vanguard's benchmark providers update their pl...</td>\n",
       "      <td>MARCH 24, 2020</td>\n",
       "      <td>VANGUARD PERSPECTIVE</td>\n",
       "      <td>Equities</td>\n",
       "      <td>https://advisors.vanguard.com/insights/article...</td>\n",
       "      <td>Given the recent volatility, the increased cos...</td>\n",
       "      <td>Equities</td>\n",
       "    </tr>\n",
       "    <tr>\n",
       "      <th>137</th>\n",
       "      <td>Vanguard</td>\n",
       "      <td>Insight</td>\n",
       "      <td>Our 2020 outlook</td>\n",
       "      <td>Download a comprehensive outlook or a quick ov...</td>\n",
       "      <td>DECEMBER 12, 2019</td>\n",
       "      <td>WHITEPAPER</td>\n",
       "      <td>U.S.,International</td>\n",
       "      <td>https://advisors.vanguard.com/insights/article...</td>\n",
       "      <td>Get Vanguard's take on the global economy, mon...</td>\n",
       "      <td>U.S.</td>\n",
       "    </tr>\n",
       "    <tr>\n",
       "      <th>138</th>\n",
       "      <td>Vanguard</td>\n",
       "      <td>Insight</td>\n",
       "      <td>Clients confused about Medicare's maze? This g...</td>\n",
       "      <td>Clients' task of choosing a Medicare option ca...</td>\n",
       "      <td>OCTOBER 22, 2019</td>\n",
       "      <td>WHITEPAPER</td>\n",
       "      <td>Behavioral Coaching,Wealth Management</td>\n",
       "      <td>https://advisors.vanguard.com/insights/article...</td>\n",
       "      <td>Key highlights\\n\\nClients can use a \"prioritiz...</td>\n",
       "      <td>Behavioral Coaching</td>\n",
       "    </tr>\n",
       "    <tr>\n",
       "      <th>139</th>\n",
       "      <td>Vanguard</td>\n",
       "      <td>Insight</td>\n",
       "      <td>Is the dollar too strong?</td>\n",
       "      <td>Debate is intensifying about the U.S. dollar's...</td>\n",
       "      <td>OCTOBER 10, 2019</td>\n",
       "      <td>WHITEPAPER</td>\n",
       "      <td>U.S.</td>\n",
       "      <td>https://advisors.vanguard.com/insights/article...</td>\n",
       "      <td>Debate is intensifying about the U.S. dollar's...</td>\n",
       "      <td>U.S.</td>\n",
       "    </tr>\n",
       "  </tbody>\n",
       "</table>\n",
       "<p>140 rows × 10 columns</p>\n",
       "</div>"
      ],
      "text/plain": [
       "      company    topic                                      articel_title  \\\n",
       "0    Vanguard  Insight                      Getting inside the Fed's head   \n",
       "1    Vanguard  Insight              Find out how your portfolios stack up   \n",
       "2    Vanguard  Insight                Market perspectives: September 2022   \n",
       "3    Vanguard  Insight                   Inside Jane Street's ETF trading   \n",
       "4    Vanguard  Insight  When is personalized indexing right for your c...   \n",
       "..        ...      ...                                                ...   \n",
       "135  Vanguard  Insight  Don't let headlines dictate clients' investing...   \n",
       "136  Vanguard  Insight  How are major index providers handling upcomin...   \n",
       "137  Vanguard  Insight                                   Our 2020 outlook   \n",
       "138  Vanguard  Insight  Clients confused about Medicare's maze? This g...   \n",
       "139  Vanguard  Insight                          Is the dollar too strong?   \n",
       "\n",
       "                                              abstract                date  \\\n",
       "0    Three scenarios that the Fed could face in the...  SEPTEMBER 05, 2022   \n",
       "1    Get insights into how advisors are managing th...     AUGUST 30, 2022   \n",
       "2    Vanguard September market perspectives offers ...     AUGUST 29, 2022   \n",
       "3    Gain expert insight into how the rapidly growi...     AUGUST 25, 2022   \n",
       "4    Explore potential use cases for personalized i...     AUGUST 23, 2022   \n",
       "..                                                 ...                 ...   \n",
       "135  As an advisor, you can ease clients' anxiety d...      MARCH 29, 2020   \n",
       "136  Vanguard's benchmark providers update their pl...      MARCH 24, 2020   \n",
       "137  Download a comprehensive outlook or a quick ov...   DECEMBER 12, 2019   \n",
       "138  Clients' task of choosing a Medicare option ca...    OCTOBER 22, 2019   \n",
       "139  Debate is intensifying about the U.S. dollar's...    OCTOBER 10, 2019   \n",
       "\n",
       "              perspective                                           tag  \\\n",
       "0      EXPERT PERSPECTIVE                                          U.S.   \n",
       "1    VANGUARD PERSPECTIVE  Fixed Income,Equities,Portfolio Construction   \n",
       "2    VANGUARD PERSPECTIVE                            U.S.,International   \n",
       "3      EXPERT PERSPECTIVE                                 International   \n",
       "4    VANGUARD PERSPECTIVE                                                 \n",
       "..                    ...                                           ...   \n",
       "135  VANGUARD PERSPECTIVE         Behavioral Coaching,Wealth Management   \n",
       "136  VANGUARD PERSPECTIVE                                      Equities   \n",
       "137            WHITEPAPER                            U.S.,International   \n",
       "138            WHITEPAPER         Behavioral Coaching,Wealth Management   \n",
       "139            WHITEPAPER                                          U.S.   \n",
       "\n",
       "                                                  link  \\\n",
       "0    https://advisors.vanguard.com/insights/article...   \n",
       "1    https://advisors.vanguard.com/insights/article...   \n",
       "2    https://advisors.vanguard.com/insights/article...   \n",
       "3    https://advisors.vanguard.com/insights/article...   \n",
       "4    https://advisors.vanguard.com/insights/article...   \n",
       "..                                                 ...   \n",
       "135  https://advisors.vanguard.com/insights/article...   \n",
       "136  https://advisors.vanguard.com/insights/article...   \n",
       "137  https://advisors.vanguard.com/insights/article...   \n",
       "138  https://advisors.vanguard.com/insights/article...   \n",
       "139  https://advisors.vanguard.com/insights/article...   \n",
       "\n",
       "                                               content                 tag2  \n",
       "0    The task currently facing the Federal Reserve ...                 U.S.  \n",
       "1    Portfolio Analytics and Consulting is a group ...         Fixed Income  \n",
       "2    Key highlights\\n\\nWe place the likelihood of a...                 U.S.  \n",
       "3    With the accelerating adoption of ETFs comes t...        International  \n",
       "4    Personalized indexing (also known as custom or...                       \n",
       "..                                                 ...                  ...  \n",
       "135  While a downturn in the financial markets is a...  Behavioral Coaching  \n",
       "136  Given the recent volatility, the increased cos...             Equities  \n",
       "137  Get Vanguard's take on the global economy, mon...                 U.S.  \n",
       "138  Key highlights\\n\\nClients can use a \"prioritiz...  Behavioral Coaching  \n",
       "139  Debate is intensifying about the U.S. dollar's...                 U.S.  \n",
       "\n",
       "[140 rows x 10 columns]"
      ]
     },
     "execution_count": 49,
     "metadata": {},
     "output_type": "execute_result"
    }
   ],
   "source": [
    "df"
   ]
  },
  {
   "cell_type": "code",
   "execution_count": 48,
   "id": "78c2ad20",
   "metadata": {},
   "outputs": [
    {
     "data": {
      "text/plain": [
       "<AxesSubplot:xlabel='count', ylabel='tag2'>"
      ]
     },
     "execution_count": 48,
     "metadata": {},
     "output_type": "execute_result"
    },
    {
     "data": {
      "image/png": "[encoded data removed]",
      "text/plain": [
       "<Figure size 432x288 with 1 Axes>"
      ]
     },
     "metadata": {
      "needs_background": "light"
     },
     "output_type": "display_data"
    }
   ],
   "source": [
    "sns.countplot(y=df['tag2'])"
   ]
  },
  {
   "cell_type": "code",
   "execution_count": null,
   "id": "25c29be7",
   "metadata": {},
   "outputs": [],
   "source": [
    "tags = self.driver.find_elements(By.CSS_SELECTOR, \"[id='insights-archive'] [class='tags']\")\n",
    "tags = [i.find_elements(\"[id='insights-archive'] [class='tags'] [class='pill tag']\") for i in tags]"
   ]
  },
  {
   "cell_type": "code",
   "execution_count": null,
   "id": "c2ee8d76",
   "metadata": {},
   "outputs": [],
   "source": [
    "tag = [[j.text for j in i]for i in tags]"
   ]
  },
  {
   "cell_type": "code",
   "execution_count": 56,
   "id": "139519e6",
   "metadata": {},
   "outputs": [],
   "source": [
    "d = dict(\n",
    "        us_num = 0,\n",
    "        fixed_income_num = 0,\n",
    "        international_num = 0,\n",
    "        esg_strategies_num = 0,\n",
    "        advisor_alpha_num = 0,\n",
    "        portfolio_construction_num = 0,\n",
    "        etf_investing_num = 0,\n",
    "        equities_num = 0,\n",
    "        behavioral_coaching_num = 0,\n",
    "        wealth_management_num = 0,\n",
    "        alternatives_num =0,\n",
    "        factor_based_strategies_num = 0,\n",
    "        bear_markets_num = 0)\n",
    "\n",
    "for i in df['tag']:\n",
    "    if 'U.S.' in i:\n",
    "        d['us_num'] += 1\n",
    "    if 'Fixed Income' in i:\n",
    "        fixed_income_num += 1\n",
    "    if 'International' in i:\n",
    "        international_num += 1\n",
    "    if 'ESG Strategies' in i:\n",
    "        esg_strategies_num += 1\n",
    "    if \"Advisor's Alpha®\" in i :\n",
    "        advisor_alpha_num += 1\n",
    "    if 'Portfolio Construction' in i:\n",
    "        portfolio_construction_num += 1\n",
    "    if 'ETF Investing' in i:\n",
    "        etf_investing_num += 1\n",
    "    if 'Equities' in i:\n",
    "        equities_num += 1\n",
    "    if 'Behavioral Coaching' in i:\n",
    "        behavioral_coaching_num +=1\n",
    "    if 'Wealth Management' in i:\n",
    "        wealth_management_num += 1\n",
    "    if 'Alternatives' in i:\n",
    "        alternatives_num +=1\n",
    "    if 'Factor-based Strategies' in i:\n",
    "        factor_based_strategies_num +=1\n",
    "    if 'Bear Markets' in i:\n",
    "        bear_markets_num +=1"
   ]
  },
  {
   "cell_type": "code",
   "execution_count": 52,
   "id": "8074e083",
   "metadata": {},
   "outputs": [
    {
     "data": {
      "text/plain": [
       "array(['U.S.', 'Fixed Income', 'International', '', 'ESG Strategies',\n",
       "       \"Advisor's Alpha®\", 'Portfolio Construction', 'ETF Investing',\n",
       "       'Equities', 'Behavioral Coaching', 'Wealth Management',\n",
       "       'Alternatives', 'Factor-based Strategies', 'Bear Markets'],\n",
       "      dtype=object)"
      ]
     },
     "execution_count": 52,
     "metadata": {},
     "output_type": "execute_result"
    }
   ],
   "source": [
    "df['tag2'].unique()"
   ]
  },
  {
   "cell_type": "code",
   "execution_count": null,
   "id": "68234966",
   "metadata": {},
   "outputs": [],
   "source": [
    "d = {'U.S.': 0,\n",
    "    'Fixed Income': 0,\n",
    "    'International':0,\n",
    "    'ESG Strategies':0,\n",
    "    \"Advisor's Alpha®\":0,\n",
    "    'Portfolio Construction': 0,\n",
    "    'ETF Investing': 0,\n",
    "    'Equities': 0,\n",
    "    'Behavioral Coaching':0,\n",
    "    'Wealth Management': 0,\n",
    "    'Alternatives': 0,\n",
    "    'Factor-based Strategies': 0,\n",
    "    'Bear Markets': 0\n",
    "    }"
   ]
  },
  {
   "cell_type": "code",
   "execution_count": 58,
   "id": "86da76e2",
   "metadata": {},
   "outputs": [],
   "source": [
    "d = {'U.S.': 0,\n",
    "    'Fixed Income': 0,\n",
    "    'International':0,\n",
    "    'ESG Strategies':0,\n",
    "    \"Advisor's Alpha®\":0,\n",
    "    'Portfolio Construction': 0,\n",
    "    'ETF Investing': 0,\n",
    "    'Equities': 0,\n",
    "    'Behavioral Coaching':0,\n",
    "    'Wealth Management': 0,\n",
    "    'Alternatives': 0,\n",
    "    'Factor-based Strategies': 0,\n",
    "    'Bear Markets': 0\n",
    "    }\n",
    "\n",
    "for i in df['tag']:\n",
    "    if 'U.S.' in i:\n",
    "        d['U.S.'] += 1\n",
    "    if 'Fixed Income' in i:\n",
    "        d['Fixed Income'] += 1\n",
    "    if 'International' in i:\n",
    "        d['International'] += 1\n",
    "    if 'ESG Strategies' in i:\n",
    "        d['ESG Strategies'] += 1\n",
    "    if \"Advisor's Alpha®\" in i :\n",
    "        d[\"Advisor's Alpha®\"] += 1\n",
    "    if 'Portfolio Construction' in i:\n",
    "        d['Portfolio Construction'] += 1\n",
    "    if 'ETF Investing' in i:\n",
    "        d['ETF Investing'] += 1\n",
    "    if 'Equities' in i:\n",
    "        d['Equities'] += 1\n",
    "    if 'Behavioral Coaching' in i:\n",
    "        d['Behavioral Coaching'] +=1\n",
    "    if 'Wealth Management' in i:\n",
    "        d['Wealth Management'] += 1\n",
    "    if 'Alternatives' in i:\n",
    "        d['Alternatives'] +=1\n",
    "    if 'Factor-based Strategies' in i:\n",
    "        d['Factor-based Strategies'] +=1\n",
    "    if 'Bear Markets' in i:\n",
    "        d['bear_markets_num'] +=1"
   ]
  },
  {
   "cell_type": "code",
   "execution_count": 75,
   "id": "8ae622ff",
   "metadata": {},
   "outputs": [],
   "source": [
    "df_barplot = pd.DataFrame([d]).T\n",
    "df_barplot.rename(columns={0:\"count\"}, inplace=True)\n",
    "df_barplot = df_barplot.sort_values('count', ascending=False)"
   ]
  },
  {
   "cell_type": "code",
   "execution_count": 62,
   "id": "4c2fa4cb",
   "metadata": {},
   "outputs": [
    {
     "data": {
      "text/plain": [
       "dict_keys(['us_num', 'fixed_income_num', 'international_num', 'esg_strategies_num', 'advisor_alpha_num', 'portfolio_construction_num', 'etf_investing_num', 'equities_num', 'behavioral_coaching_num', 'wealth_management_num', 'alternatives_num', 'factor_based_strategies_num', 'bear_markets_num'])"
      ]
     },
     "execution_count": 62,
     "metadata": {},
     "output_type": "execute_result"
    }
   ],
   "source": [
    "d.keys()"
   ]
  },
  {
   "cell_type": "code",
   "execution_count": 76,
   "id": "62a1e5f9",
   "metadata": {},
   "outputs": [
    {
     "data": {
      "image/png": "[encoded data removed]",
      "text/plain": [
       "<Figure size 432x288 with 1 Axes>"
      ]
     },
     "metadata": {},
     "output_type": "display_data"
    }
   ],
   "source": [
    "sns.set_style('darkgrid')\n",
    "sns.barplot(y=df_barplot.index,x=df_barplot['count'])\n",
    "plt.show()"
   ]
  },
  {
   "cell_type": "code",
   "execution_count": 13,
   "id": "fc819877",
   "metadata": {},
   "outputs": [],
   "source": [
    "VanguardInsights.save_to_json('vanguard_insight.json', vanguard_insight_list)"
   ]
  },
  {
   "cell_type": "code",
   "execution_count": 28,
   "id": "a126d941",
   "metadata": {},
   "outputs": [],
   "source": [
    "driver = webdriver.Chrome()\n",
    "driver.get('https://www.allianzgi.com/en/insights/outlook-and-commentary')\n",
    "sleep(10)\n",
    "# tag_list = [i for i in driver.find_elements(By.CSS_SELECTOR, '#insights-archive-section .tags')]"
   ]
  },
  {
   "cell_type": "code",
   "execution_count": 26,
   "id": "63a0fbb1",
   "metadata": {},
   "outputs": [
    {
     "data": {
      "text/plain": [
       "['Fixed IncomeU.S.Bear Markets',\n",
       " 'ESG StrategiesEquities',\n",
       " \"Advisor's Alpha®Behavioral CoachingPortfolio Construction\",\n",
       " 'Fixed Income',\n",
       " '',\n",
       " 'Portfolio Construction',\n",
       " 'Fixed IncomePortfolio Construction',\n",
       " 'Fixed Income']"
      ]
     },
     "execution_count": 26,
     "metadata": {},
     "output_type": "execute_result"
    }
   ],
   "source": [
    "tag_listd"
   ]
  },
  {
   "cell_type": "code",
   "execution_count": null,
   "id": "3724dd41",
   "metadata": {},
   "outputs": [],
   "source": []
  }
 ],
 "metadata": {
  "kernelspec": {
   "display_name": "Python 3 (ipykernel)",
   "language": "python",
   "name": "python3"
  },
  "language_info": {
   "codemirror_mode": {
    "name": "ipython",
    "version": 3
   },
   "file_extension": ".py",
   "mimetype": "text/x-python",
   "name": "python",
   "nbconvert_exporter": "python",
   "pygments_lexer": "ipython3",
   "version": "3.9.7"
  }
 },
 "nbformat": 4,
 "nbformat_minor": 5
}

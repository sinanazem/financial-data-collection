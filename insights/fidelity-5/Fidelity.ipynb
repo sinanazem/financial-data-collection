{
 "cells": [
  {
   "cell_type": "code",
   "execution_count": 1,
   "id": "fda87872",
   "metadata": {},
   "outputs": [
    {
     "data": {
      "text/plain": [
       "'https://institutional.fidelity.com/app/item/RD_13569_12345/insights.html'"
      ]
     },
     "execution_count": 1,
     "metadata": {},
     "output_type": "execute_result"
    }
   ],
   "source": [
    "'https://www.fidelity.com/insights/archive'\n",
    "'https://institutional.fidelity.com/app/item/RD_13569_12345/insights.html'\n",
    "'https://www.fidelity.com/learning-center/trading-investing/markets-sectors/market-trends-and-insights'"
   ]
  },
  {
   "cell_type": "markdown",
   "id": "0f2e768d",
   "metadata": {},
   "source": [
    "<img src=\"https://blog.logomyway.com/wp-content/uploads/2021/04/fidelity-logo-PNG.png\" width=450>"
   ]
  },
  {
   "cell_type": "code",
   "execution_count": 68,
   "id": "acb46a9f",
   "metadata": {},
   "outputs": [],
   "source": [
    "import pandas as pd\n",
    "from selenium import webdriver\n",
    "from selenium.webdriver.chrome.service import Service\n",
    "from selenium.webdriver.common.by import By\n",
    "from selenium.webdriver.chrome.options import Options\n",
    "from selenium.webdriver.common.keys import Keys\n",
    "from selenium.webdriver.support.ui import WebDriverWait\n",
    "from selenium.webdriver.support import expected_conditions as EC\n",
    "from time import sleep\n",
    "import re\n",
    "from pprint import pprint\n",
    "from tqdm import tqdm\n",
    "import json\n",
    "from bs4 import BeautifulSoup\n",
    "import requests"
   ]
  },
  {
   "cell_type": "code",
   "execution_count": 3,
   "id": "3890ad5e",
   "metadata": {},
   "outputs": [
    {
     "name": "stdout",
     "output_type": "stream",
     "text": [
      "exit?\n"
     ]
    }
   ],
   "source": [
    "chrome_options = Options()\n",
    "chrome_options.add_argument(\"--headless\") \n",
    "chrome_options.add_argument(\"--no-sandbox\")\n",
    "\n",
    "\n",
    "webdriver_service = Service('/Users/andishetavakkoli/Documents/chrom_driver/chromedriver')  \n",
    "driver = webdriver.Chrome(service=webdriver_service, options=chrome_options)\n",
    "driver.get('https://institutional.fidelity.com/app/item/RD_13569_12345/insights.html')\n",
    "sleep(10)\n",
    "\n",
    "title_list = [i.text for i in driver.find_elements(By.CSS_SELECTOR, '.afc-icon-links-padding h5')]\n",
    "link_list = [link.get_attribute('href') for link in [i.find_element(By.TAG_NAME, 'a') for i in driver.find_elements(By.CSS_SELECTOR,'.afc-icon-links-padding .afc-info-right')]]\n",
    "date_list = [i.text for i in driver.find_elements(By.CSS_SELECTOR, '.afc-thumb-details .ng-binding:nth-child(1)')]\n",
    "abstract_list = [i.text for i in driver.find_elements(By.CSS_SELECTOR, '.afc-icon-links-padding p')]\n",
    "# tag_list =[j for j in [article.find_elements(By.XPATH, '/li[@class=\"afc-topic-item ng-binding ng-scope\"]') for article in driver.find_elements(By.CSS_SELECTOR,'.afc-icon-links-padding .afc-info-right')]]\n",
    "\n",
    "fidelity_insight_list = []\n",
    "index = 1\n",
    "for title, link, date, abstract in zip(title_list, link_list, date_list, abstract_list):\n",
    "    \n",
    "    fidelity_insight_dict = {\n",
    "                                'company': 'Fidelity',\n",
    "                                'title': title,\n",
    "                                'link': link,\n",
    "                                'date': date,\n",
    "                                'abstarct': abstract,\n",
    "        \n",
    "                            }\n",
    "    fidelity_insight_list.append(fidelity_insight_dict)\n",
    "    \n",
    "    \n",
    "\n",
    "input('exit?')\n",
    "driver.quit()  "
   ]
  },
  {
   "cell_type": "code",
   "execution_count": 4,
   "id": "a40a5c0c",
   "metadata": {},
   "outputs": [],
   "source": [
    "class FidelityInsight:\n",
    "    def __init__(self):\n",
    "        self.main_link = 'https://institutional.fidelity.com/app/item/RD_13569_12345/insights.html'\n",
    "        webdriver_service = Service('/Users/andishetavakkoli/Documents/chrom_driver/chromedriver')      \n",
    "        self.driver = webdriver.Chrome(service=webdriver_service )\n",
    "        \n",
    "    \n",
    "    @staticmethod\n",
    "    def extract_content(link: str)-> str:\n",
    "    \n",
    "        response = requests.get(link)\n",
    "        soup = BeautifulSoup(response.text)\n",
    "        row_content = ' '.join([i.text for i in soup.find_all(class_='insightTileAndComponentBox section')]).strip()\n",
    "        content = re.sub('\\s+', ' ', row_content)\n",
    "        return content\n",
    "   \n",
    "    \n",
    "    def extract_insight(self):  \n",
    "        \n",
    "        url = self.main_link\n",
    "        self.driver.get(url)\n",
    "        sleep(5)\n",
    "        \n",
    "        title_list = [i.text for i in self.driver.find_elements(By.CSS_SELECTOR, '.afc-icon-links-padding h5')]\n",
    "        link_list = [link.get_attribute('href') for link in [i.find_element(By.TAG_NAME, 'a') for i in self.driver.find_elements(By.CSS_SELECTOR,'.afc-icon-links-padding .afc-info-right')]]\n",
    "        date_list = [i.text for i in self.driver.find_elements(By.CSS_SELECTOR, '.afc-thumb-details .ng-binding:nth-child(1)')]\n",
    "        abstract_list = [i.text for i in self.driver.find_elements(By.CSS_SELECTOR, '.afc-icon-links-padding p')]\n",
    "        \n",
    "        self.driver.quit()\n",
    "        \n",
    "        \n",
    "        fidelity_insight_list = []\n",
    "        index = 1\n",
    "        for title, link, date, abstract in zip(title_list, link_list, date_list, abstract_list):\n",
    "\n",
    "            fidelity_insight_dict = {\n",
    "                                        'company': 'Fidelity',\n",
    "                                        'title': title,\n",
    "                                        'link': link,\n",
    "                                        'date': date,\n",
    "                                        'abstarct': abstract,\n",
    "\n",
    "                                    }\n",
    "            fidelity_insight_list.append(fidelity_insight_dict)\n",
    "            \n",
    "        return fidelity_insight_list\n",
    "    \n",
    "    \n",
    "    def save_to_json(self, file_path):\n",
    "        with open(file_path, 'w') as f:\n",
    "            for dict_ in self.extract_insight():\n",
    "                json.dump(dict_ , f, indent=4)\n",
    "            \n",
    "            "
   ]
  },
  {
   "cell_type": "code",
   "execution_count": 5,
   "id": "dc5e86f8",
   "metadata": {},
   "outputs": [],
   "source": [
    "obj = FidelityInsight()\n",
    "obj.save_to_json('fidelity_insight_dict.json')"
   ]
  },
  {
   "cell_type": "code",
   "execution_count": 8,
   "id": "2f2e9493",
   "metadata": {},
   "outputs": [],
   "source": [
    "# fidelity_insight = obj.extract_insight()"
   ]
  },
  {
   "cell_type": "code",
   "execution_count": null,
   "id": "555a0db4",
   "metadata": {},
   "outputs": [],
   "source": []
  },
  {
   "cell_type": "markdown",
   "id": "5b6b2d0c",
   "metadata": {},
   "source": [
    "# US-Markets"
   ]
  },
  {
   "cell_type": "code",
   "execution_count": 118,
   "id": "46d3927b",
   "metadata": {},
   "outputs": [
    {
     "name": "stderr",
     "output_type": "stream",
     "text": [
      "100%|███████████████████████████████████████████| 50/50 [06:00<00:00,  7.21s/it]\n"
     ]
    },
    {
     "name": "stdout",
     "output_type": "stream",
     "text": [
      "exit?\n"
     ]
    }
   ],
   "source": [
    "chrome_options = Options()\n",
    "# chrome_options.add_argument(\"--headless\") \n",
    "chrome_options.add_argument(\"--no-sandbox\")\n",
    "\n",
    "\n",
    "webdriver_service = Service('/Users/andishetavakkoli/Documents/chrom_driver/chromedriver')  \n",
    "driver = webdriver.Chrome(service=webdriver_service, options=chrome_options)\n",
    "driver.get('https://www.fidelity.com/news/us-markets')\n",
    "sleep(10)\n",
    "\n",
    "\n",
    "page = driver.find_element(By.CSS_SELECTOR,'#scl-news-category-Container > div > div > div.ng-table-pager.scl-news-cat-tb--pagination-large.ng-scope > ul.ng-table-counts.btn-group.pull-right.ng-scope > li > span:nth-child(3) > a')\n",
    "page.click()\n",
    "\n",
    "title_list = [title.text for title in driver.find_elements(By.CSS_SELECTOR, '.scl-news-cat-tb--column-title')]\n",
    "date_list = [date.text for date in driver.find_elements(By.XPATH, '//*[@data-title-text=\"Date\" and @class=\"ng-binding\"]')]\n",
    "abstract_list =[desc.text for desc in driver.find_elements(By.XPATH,'//*[@data-title-text=\"Description\" and @class=\"ng-binding\"]')]\n",
    "link_list =[link.get_attribute('href') for link in driver.find_elements(By.XPATH, \"//*[@data-title-text='Title' and contains( @class,'scl-news-cat-tb--column-title' )]//a\")]\n",
    "sleep(3)\n",
    "\n",
    "content_list = []\n",
    "for link in tqdm(links):\n",
    "    driver.get(link)\n",
    "\n",
    "    sleep(5)\n",
    "    content = driver.find_element(By.CSS_SELECTOR,'#scl-news-article .ng-scope').text\n",
    "    content_list.append(content)\n",
    "\n",
    "\n",
    "\n",
    "\n",
    "fidelity_insight_list = []\n",
    "index = 1\n",
    "for title, link, date, abstract, content in zip(title_list, link_list, date_list, abstract_list, content_list):\n",
    "    \n",
    "    fidelity_insight_dict = {\n",
    "                                'index': index,\n",
    "                                'company': 'Fidelity',\n",
    "                                'title': title,\n",
    "                                'link': link,\n",
    "                                'date': date,\n",
    "                                'abstarct': abstract,\n",
    "                                'content': content,\n",
    "        \n",
    "                            }\n",
    "    fidelity_insight_list.append(fidelity_insight_dict)\n",
    "    index += 1\n",
    "    \n",
    "    \n",
    "\n",
    "input('exit?')\n",
    "driver.quit()  "
   ]
  },
  {
   "cell_type": "markdown",
   "id": "ac8c2feb",
   "metadata": {},
   "source": [
    "# US_Economy"
   ]
  },
  {
   "cell_type": "code",
   "execution_count": 111,
   "id": "6f46a67f",
   "metadata": {},
   "outputs": [
    {
     "name": "stderr",
     "output_type": "stream",
     "text": [
      "100%|███████████████████████████████████████████| 50/50 [05:51<00:00,  7.04s/it]\n"
     ]
    },
    {
     "name": "stdout",
     "output_type": "stream",
     "text": [
      "exit?\n"
     ]
    }
   ],
   "source": [
    "chrome_options = Options()\n",
    "# chrome_options.add_argument(\"--headless\") \n",
    "chrome_options.add_argument(\"--no-sandbox\")\n",
    "\n",
    "\n",
    "webdriver_service = Service('/Users/andishetavakkoli/Documents/chrom_driver/chromedriver')  \n",
    "driver = webdriver.Chrome(service=webdriver_service, options=chrome_options)\n",
    "driver.get('https://www.fidelity.com/news/us-economy')\n",
    "sleep(10)\n",
    "\n",
    "\n",
    "page = driver.find_element(By.CSS_SELECTOR,'#scl-news-category-Container > div > div > div.ng-table-pager.scl-news-cat-tb--pagination-large.ng-scope > ul.ng-table-counts.btn-group.pull-right.ng-scope > li > span:nth-child(3) > a')\n",
    "page.click()\n",
    "\n",
    "title_list = [title.text for title in driver.find_elements(By.CSS_SELECTOR, '.scl-news-cat-tb--column-title')]\n",
    "date_list = [date.text for date in driver.find_elements(By.XPATH, '//*[@data-title-text=\"Date\" and @class=\"ng-binding\"]')]\n",
    "abstract_list =[desc.text for desc in driver.find_elements(By.XPATH,'//*[@data-title-text=\"Description\" and @class=\"ng-binding\"]')]\n",
    "link_list =[link.get_attribute('href') for link in driver.find_elements(By.XPATH, \"//*[@data-title-text='Title' and contains( @class,'scl-news-cat-tb--column-title' )]//a\")]\n",
    "sleep(3)\n",
    "\n",
    "content_list = []\n",
    "for link in tqdm(links):\n",
    "    driver.get(link)\n",
    "\n",
    "    sleep(5)\n",
    "    content = driver.find_element(By.CSS_SELECTOR,'#scl-news-article .ng-scope').text\n",
    "    content_list.append(content)\n",
    "\n",
    "\n",
    "\n",
    "\n",
    "fidelity_insight_list = []\n",
    "index = 1\n",
    "for title, link, date, abstract, content in zip(title_list, link_list, date_list, abstract_list, content_list):\n",
    "    \n",
    "    fidelity_insight_dict = {\n",
    "                                'index': index,\n",
    "                                'company': 'Fidelity',\n",
    "                                'title': title,\n",
    "                                'link': link,\n",
    "                                'date': date,\n",
    "                                'abstarct': abstract,\n",
    "                                'content': content,\n",
    "        \n",
    "                            }\n",
    "    fidelity_insight_list.append(fidelity_insight_dict)\n",
    "    index += 1\n",
    "    \n",
    "    \n",
    "\n",
    "input('exit?')\n",
    "driver.quit()  "
   ]
  },
  {
   "cell_type": "code",
   "execution_count": 112,
   "id": "27dde67c",
   "metadata": {},
   "outputs": [],
   "source": [
    "def save_to_json(file_path, list_dict):\n",
    "        with open(file_path, 'w') as f:\n",
    "            for dict_ in list_dict:\n",
    "                json.dump(dict_ , f, indent=4)"
   ]
  },
  {
   "cell_type": "code",
   "execution_count": 113,
   "id": "788ff588",
   "metadata": {},
   "outputs": [],
   "source": [
    "save_to_json('fidelity_insight_dict_economy.json', fidelity_insight_list)"
   ]
  },
  {
   "cell_type": "markdown",
   "id": "893aa18d",
   "metadata": {},
   "source": [
    "# US_International"
   ]
  },
  {
   "cell_type": "code",
   "execution_count": 120,
   "id": "311deb8a",
   "metadata": {},
   "outputs": [
    {
     "name": "stderr",
     "output_type": "stream",
     "text": [
      "100%|███████████████████████████████████████████| 50/50 [06:16<00:00,  7.54s/it]\n"
     ]
    },
    {
     "name": "stdout",
     "output_type": "stream",
     "text": [
      "exit?\n"
     ]
    }
   ],
   "source": [
    " chrome_options = Options()\n",
    "# chrome_options.add_argument(\"--headless\") \n",
    "chrome_options.add_argument(\"--no-sandbox\")\n",
    "\n",
    "\n",
    "webdriver_service = Service('/Users/andishetavakkoli/Documents/chrom_driver/chromedriver')  \n",
    "driver = webdriver.Chrome(service=webdriver_service, options=chrome_options)\n",
    "driver.get('https://www.fidelity.com/news/international')\n",
    "sleep(10)\n",
    "\n",
    "\n",
    "page = driver.find_element(By.CSS_SELECTOR,'#scl-news-category-Container > div > div > div.ng-table-pager.scl-news-cat-tb--pagination-large.ng-scope > ul.ng-table-counts.btn-group.pull-right.ng-scope > li > span:nth-child(3) > a')\n",
    "page.click()\n",
    "\n",
    "title_list = [title.text for title in driver.find_elements(By.CSS_SELECTOR, '.scl-news-cat-tb--column-title')]\n",
    "date_list = [date.text for date in driver.find_elements(By.XPATH, '//*[@data-title-text=\"Date\" and @class=\"ng-binding\"]')]\n",
    "abstract_list =[desc.text for desc in driver.find_elements(By.XPATH,'//*[@data-title-text=\"Description\" and @class=\"ng-binding\"]')]\n",
    "link_list =[link.get_attribute('href') for link in driver.find_elements(By.XPATH, \"//*[@data-title-text='Title' and contains( @class,'scl-news-cat-tb--column-title' )]//a\")]\n",
    "sleep(3)\n",
    "\n",
    "content_list = []\n",
    "for link in tqdm(links):\n",
    "    driver.get(link)\n",
    "\n",
    "    sleep(5)\n",
    "    content = driver.find_element(By.CSS_SELECTOR,'#scl-news-article .ng-scope').text\n",
    "    content_list.append(content)\n",
    "\n",
    "\n",
    "\n",
    "\n",
    "fidelity_insight_list = []\n",
    "index = 1\n",
    "for title, link, date, abstract, content in zip(title_list, link_list, date_list, abstract_list, content_list):\n",
    "    \n",
    "    fidelity_insight_dict = {\n",
    "                                'index': index,\n",
    "                                'company': 'Fidelity',\n",
    "                                'title': title,\n",
    "                                'link': link,\n",
    "                                'date': date,\n",
    "                                'abstarct': abstract,\n",
    "                                'content': content,\n",
    "        \n",
    "                            }\n",
    "    fidelity_insight_list.append(fidelity_insight_dict)\n",
    "    index += 1\n",
    "    \n",
    "    \n",
    "\n",
    "input('exit?')\n",
    "driver.quit()     "
   ]
  },
  {
   "cell_type": "code",
   "execution_count": 121,
   "id": "f60014e9",
   "metadata": {},
   "outputs": [],
   "source": [
    "save_to_json('fidelity_insight_dict_international.json', fidelity_insight_list)"
   ]
  },
  {
   "cell_type": "markdown",
   "id": "92a8af35",
   "metadata": {},
   "source": [
    "# Company News"
   ]
  },
  {
   "cell_type": "code",
   "execution_count": 122,
   "id": "fb51fb3a",
   "metadata": {},
   "outputs": [
    {
     "name": "stderr",
     "output_type": "stream",
     "text": [
      "100%|███████████████████████████████████████████| 50/50 [05:53<00:00,  7.07s/it]\n"
     ]
    },
    {
     "name": "stdout",
     "output_type": "stream",
     "text": [
      "exit?\n"
     ]
    }
   ],
   "source": [
    " chrome_options = Options()\n",
    "# chrome_options.add_argument(\"--headless\") \n",
    "chrome_options.add_argument(\"--no-sandbox\")\n",
    "\n",
    "\n",
    "webdriver_service = Service('/Users/andishetavakkoli/Documents/chrom_driver/chromedriver')  \n",
    "driver = webdriver.Chrome(service=webdriver_service, options=chrome_options)\n",
    "driver.get('https://www.fidelity.com/news/company-news')\n",
    "sleep(10)\n",
    "\n",
    "\n",
    "page = driver.find_element(By.CSS_SELECTOR,'#scl-news-category-Container > div > div > div.ng-table-pager.scl-news-cat-tb--pagination-large.ng-scope > ul.ng-table-counts.btn-group.pull-right.ng-scope > li > span:nth-child(3) > a')\n",
    "page.click()\n",
    "\n",
    "title_list = [title.text for title in driver.find_elements(By.CSS_SELECTOR, '.scl-news-cat-tb--column-title')]\n",
    "date_list = [date.text for date in driver.find_elements(By.XPATH, '//*[@data-title-text=\"Date\" and @class=\"ng-binding\"]')]\n",
    "abstract_list =[desc.text for desc in driver.find_elements(By.XPATH,'//*[@data-title-text=\"Description\" and @class=\"ng-binding\"]')]\n",
    "link_list =[link.get_attribute('href') for link in driver.find_elements(By.XPATH, \"//*[@data-title-text='Title' and contains( @class,'scl-news-cat-tb--column-title' )]//a\")]\n",
    "sleep(3)\n",
    "\n",
    "content_list = []\n",
    "for link in tqdm(links):\n",
    "    driver.get(link)\n",
    "\n",
    "    sleep(5)\n",
    "    content = driver.find_element(By.CSS_SELECTOR,'#scl-news-article .ng-scope').text\n",
    "    content_list.append(content)\n",
    "\n",
    "\n",
    "\n",
    "\n",
    "fidelity_insight_list = []\n",
    "index = 1\n",
    "for title, link, date, abstract, content in zip(title_list, link_list, date_list, abstract_list, content_list):\n",
    "    \n",
    "    fidelity_insight_dict = {\n",
    "                                'index': index,\n",
    "                                'company': 'Fidelity',\n",
    "                                'title': title,\n",
    "                                'link': link,\n",
    "                                'date': date,\n",
    "                                'abstarct': abstract,\n",
    "                                'content': content,\n",
    "        \n",
    "                            }\n",
    "    fidelity_insight_list.append(fidelity_insight_dict)\n",
    "    index += 1\n",
    "    \n",
    "    \n",
    "\n",
    "input('exit?')\n",
    "driver.quit()     "
   ]
  },
  {
   "cell_type": "code",
   "execution_count": 123,
   "id": "bf89703b",
   "metadata": {},
   "outputs": [],
   "source": [
    "save_to_json('fidelity_insight_dict_companynews.json', fidelity_insight_list)"
   ]
  },
  {
   "cell_type": "markdown",
   "id": "f093cb49",
   "metadata": {},
   "source": [
    "# Investing Idea"
   ]
  },
  {
   "cell_type": "code",
   "execution_count": 124,
   "id": "e32ddea9",
   "metadata": {},
   "outputs": [
    {
     "name": "stderr",
     "output_type": "stream",
     "text": [
      "100%|███████████████████████████████████████████| 50/50 [05:47<00:00,  6.96s/it]\n"
     ]
    },
    {
     "name": "stdout",
     "output_type": "stream",
     "text": [
      "exit?\n"
     ]
    }
   ],
   "source": [
    " chrome_options = Options()\n",
    "# chrome_options.add_argument(\"--headless\") \n",
    "chrome_options.add_argument(\"--no-sandbox\")\n",
    "\n",
    "\n",
    "webdriver_service = Service('/Users/andishetavakkoli/Documents/chrom_driver/chromedriver')  \n",
    "driver = webdriver.Chrome(service=webdriver_service, options=chrome_options)\n",
    "driver.get('https://www.fidelity.com/news/investing-ideas')\n",
    "sleep(10)\n",
    "\n",
    "\n",
    "page = driver.find_element(By.CSS_SELECTOR,'#scl-news-category-Container > div > div > div.ng-table-pager.scl-news-cat-tb--pagination-large.ng-scope > ul.ng-table-counts.btn-group.pull-right.ng-scope > li > span:nth-child(3) > a')\n",
    "page.click()\n",
    "\n",
    "title_list = [title.text for title in driver.find_elements(By.CSS_SELECTOR, '.scl-news-cat-tb--column-title')]\n",
    "date_list = [date.text for date in driver.find_elements(By.XPATH, '//*[@data-title-text=\"Date\" and @class=\"ng-binding\"]')]\n",
    "abstract_list =[desc.text for desc in driver.find_elements(By.XPATH,'//*[@data-title-text=\"Description\" and @class=\"ng-binding\"]')]\n",
    "link_list =[link.get_attribute('href') for link in driver.find_elements(By.XPATH, \"//*[@data-title-text='Title' and contains( @class,'scl-news-cat-tb--column-title' )]//a\")]\n",
    "sleep(3)\n",
    "\n",
    "content_list = []\n",
    "for link in tqdm(links):\n",
    "    driver.get(link)\n",
    "\n",
    "    sleep(5)\n",
    "    content = driver.find_element(By.CSS_SELECTOR,'#scl-news-article .ng-scope').text\n",
    "    content_list.append(content)\n",
    "\n",
    "\n",
    "\n",
    "\n",
    "fidelity_insight_list = []\n",
    "index = 1\n",
    "for title, link, date, abstract, content in zip(title_list, link_list, date_list, abstract_list, content_list):\n",
    "    \n",
    "    fidelity_insight_dict = {\n",
    "                                'index': index,\n",
    "                                'company': 'Fidelity',\n",
    "                                'title': title,\n",
    "                                'link': link,\n",
    "                                'date': date,\n",
    "                                'abstarct': abstract,\n",
    "                                'content': content,\n",
    "        \n",
    "                            }\n",
    "    fidelity_insight_list.append(fidelity_insight_dict)\n",
    "    index += 1\n",
    "    \n",
    "    \n",
    "\n",
    "input('exit?')\n",
    "driver.quit()     "
   ]
  },
  {
   "cell_type": "code",
   "execution_count": 125,
   "id": "3d0270f2",
   "metadata": {},
   "outputs": [],
   "source": [
    "save_to_json('fidelity_insight_dict_investingidea.json', fidelity_insight_list)"
   ]
  },
  {
   "cell_type": "code",
   "execution_count": null,
   "id": "ecb7093f",
   "metadata": {},
   "outputs": [],
   "source": []
  },
  {
   "cell_type": "markdown",
   "id": "262cba75",
   "metadata": {},
   "source": [
    "# Function"
   ]
  },
  {
   "cell_type": "code",
   "execution_count": 126,
   "id": "b395dfb3",
   "metadata": {},
   "outputs": [],
   "source": [
    "def fidelity_insight(link, tag):\n",
    "\n",
    "    chrome_options = Options()\n",
    "    # chrome_options.add_argument(\"--headless\") \n",
    "    chrome_options.add_argument(\"--no-sandbox\")\n",
    "\n",
    "\n",
    "    webdriver_service = Service('/Users/andishetavakkoli/Documents/chrom_driver/chromedriver')  \n",
    "    driver = webdriver.Chrome(service=webdriver_service, options=chrome_options)\n",
    "    driver.get(link)\n",
    "    sleep(10)\n",
    "\n",
    "\n",
    "    page = driver.find_element(By.CSS_SELECTOR,'#scl-news-category-Container > div > div > div.ng-table-pager.scl-news-cat-tb--pagination-large.ng-scope > ul.ng-table-counts.btn-group.pull-right.ng-scope > li > span:nth-child(3) > a')\n",
    "    page.click()\n",
    "\n",
    "    title_list = [title.text for title in driver.find_elements(By.CSS_SELECTOR, '.scl-news-cat-tb--column-title')]\n",
    "    date_list = [date.text for date in driver.find_elements(By.XPATH, '//*[@data-title-text=\"Date\" and @class=\"ng-binding\"]')]\n",
    "    abstract_list =[desc.text for desc in driver.find_elements(By.XPATH,'//*[@data-title-text=\"Description\" and @class=\"ng-binding\"]')]\n",
    "    link_list =[link.get_attribute('href') for link in driver.find_elements(By.XPATH, \"//*[@data-title-text='Title' and contains( @class,'scl-news-cat-tb--column-title' )]//a\")]\n",
    "    sleep(3)\n",
    "\n",
    "    content_list = []\n",
    "    for link in tqdm(links):\n",
    "        driver.get(link)\n",
    "\n",
    "        sleep(5)\n",
    "        content = driver.find_element(By.CSS_SELECTOR,'#scl-news-article .ng-scope').text\n",
    "        content_list.append(content)\n",
    "\n",
    "\n",
    "\n",
    "\n",
    "    fidelity_insight_list = []\n",
    "    index = 1\n",
    "    for title, link, date, abstract, content in zip(title_list, link_list, date_list, abstract_list, content_list):\n",
    "\n",
    "        fidelity_insight_dict = {\n",
    "                                    'index': index,\n",
    "                                    'tag': tag,\n",
    "                                    'company': 'Fidelity',\n",
    "                                    'title': title,\n",
    "                                    'link': link,\n",
    "                                    'date': date,\n",
    "                                    'abstarct': abstract,\n",
    "                                    'content': content,\n",
    "\n",
    "                                }\n",
    "        fidelity_insight_list.append(fidelity_insight_dict)\n",
    "        index += 1\n",
    "        \n",
    "        \n",
    "    return fidelity_insight_list\n",
    "\n",
    "\n",
    "\n"
   ]
  },
  {
   "cell_type": "code",
   "execution_count": null,
   "id": "c770207d",
   "metadata": {},
   "outputs": [
    {
     "name": "stderr",
     "output_type": "stream",
     "text": [
      " 64%|███████████████████████████▌               | 32/50 [04:01<02:13,  7.40s/it]"
     ]
    }
   ],
   "source": [
    "fidelity_insight('https://www.fidelity.com/news/us-markets', 'US_Market')"
   ]
  },
  {
   "cell_type": "code",
   "execution_count": null,
   "id": "9f36a45a",
   "metadata": {},
   "outputs": [],
   "source": [
    "links = [\n",
    "    'https://www.fidelity.com/news/us-markets', \n",
    "    'https://www.fidelity.com/news/company-news',\n",
    "    'https://www.fidelity.com/news/investing-ideas',\n",
    "    'https://www.fidelity.com/news/us-economy',\n",
    "    'https://www.fidelity.com/news/international'\n",
    "        ]"
   ]
  },
  {
   "cell_type": "code",
   "execution_count": null,
   "id": "f16fa0c8",
   "metadata": {},
   "outputs": [],
   "source": [
    "def save_to_json(file_path, list_dict):\n",
    "        with open(file_path, 'a') as f:\n",
    "            for dict_ in list_dict:\n",
    "                json.dump(dict_ , f, indent=4)"
   ]
  }
 ],
 "metadata": {
  "kernelspec": {
   "display_name": "Python 3 (ipykernel)",
   "language": "python",
   "name": "python3"
  },
  "language_info": {
   "codemirror_mode": {
    "name": "ipython",
    "version": 3
   },
   "file_extension": ".py",
   "mimetype": "text/x-python",
   "name": "python",
   "nbconvert_exporter": "python",
   "pygments_lexer": "ipython3",
   "version": "3.9.7"
  }
 },
 "nbformat": 4,
 "nbformat_minor": 5
}

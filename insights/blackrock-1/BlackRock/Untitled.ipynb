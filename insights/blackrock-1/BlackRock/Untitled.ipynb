{
 "cells": [
  {
   "cell_type": "code",
   "execution_count": 16,
   "id": "9ff67c6f",
   "metadata": {},
   "outputs": [],
   "source": [
    "import pandas as pd"
   ]
  },
  {
   "cell_type": "code",
   "execution_count": 26,
   "id": "629e0017",
   "metadata": {},
   "outputs": [],
   "source": [
    "pd.set_option('display.max_columns()',None)"
   ]
  },
  {
   "cell_type": "code",
   "execution_count": 27,
   "id": "89e58df8",
   "metadata": {},
   "outputs": [],
   "source": [
    "etf_blk_df = pd.read_excel('blk_etf.xlsx',header=[0,1], index_col=None)"
   ]
  },
  {
   "cell_type": "code",
   "execution_count": 37,
   "id": "f0a4f36b",
   "metadata": {},
   "outputs": [
    {
     "data": {
      "text/plain": [
       "2302672433270.07"
      ]
     },
     "execution_count": 37,
     "metadata": {},
     "output_type": "execute_result"
    }
   ],
   "source": [
    "etf_blk_df['Net Assets (USD)']['Unnamed: 8_level_1'].sum()"
   ]
  },
  {
   "cell_type": "code",
   "execution_count": null,
   "id": "d76dfe9e",
   "metadata": {},
   "outputs": [],
   "source": []
  }
 ],
 "metadata": {
  "kernelspec": {
   "display_name": "Python 3 (ipykernel)",
   "language": "python",
   "name": "python3"
  },
  "language_info": {
   "codemirror_mode": {
    "name": "ipython",
    "version": 3
   },
   "file_extension": ".py",
   "mimetype": "text/x-python",
   "name": "python",
   "nbconvert_exporter": "python",
   "pygments_lexer": "ipython3",
   "version": "3.9.7"
  }
 },
 "nbformat": 4,
 "nbformat_minor": 5
}

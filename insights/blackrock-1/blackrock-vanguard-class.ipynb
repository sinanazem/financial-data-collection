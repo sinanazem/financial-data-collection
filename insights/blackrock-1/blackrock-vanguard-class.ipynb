{
 "cells": [
  {
   "cell_type": "code",
   "execution_count": 22,
   "id": "8c49a5ce",
   "metadata": {},
   "outputs": [],
   "source": [
    "import requests\n",
    "from bs4 import BeautifulSoup\n",
    "\n",
    "from selenium.webdriver.common.action_chains import ActionChains\n",
    "from time import sleep\n",
    "import selenium\n",
    "from selenium import webdriver\n",
    "from selenium.webdriver.common.by import By\n",
    "from selenium.webdriver.common.keys import Keys\n",
    "from selenium.webdriver.support.ui import WebDriverWait\n",
    "from selenium.webdriver.common.by import By\n",
    "from selenium.webdriver.support import expected_conditions as EC\n",
    "import json\n",
    "import re\n",
    "from pprint import pprint\n",
    "from tqdm import tqdm\n",
    "import pandas as pd\n",
    "import seaborn as sns\n",
    "import matplotlib.pyplot as plt"
   ]
  },
  {
   "cell_type": "markdown",
   "id": "fd2bc69a",
   "metadata": {},
   "source": [
    "<img src='https://1000logos.net/wp-content/uploads/2021/05/Vanguard-logo.png' width=350>"
   ]
  },
  {
   "cell_type": "code",
   "execution_count": 25,
   "id": "a0feb585",
   "metadata": {},
   "outputs": [],
   "source": [
    "from webdriver_manager.chrome import ChromeDriverManager\n",
    "from selenium.webdriver.chrome.service import Service"
   ]
  },
  {
   "cell_type": "code",
   "execution_count": 41,
   "id": "d156e92b",
   "metadata": {},
   "outputs": [],
   "source": [
    "class VanguardInsights:\n",
    "    \n",
    "    def __init__(self, all_insight_link):\n",
    "        self.all_insight_link = all_insight_link\n",
    "        service = Service(executable_path=ChromeDriverManager().install())\n",
    "        self.driver = webdriver.Chrome(service=service)\n",
    "            \n",
    "    @staticmethod\n",
    "    def extract_content_with_id(link):\n",
    "        response = requests.get(link)\n",
    "        soup = BeautifulSoup(response.text)\n",
    "        content = ' '.join([i.text for i in soup.find_all(\"div\", {\"id\": \"iw_placeholder1585759247342\"})]).strip()\n",
    "        return content\n",
    "            \n",
    "    def get_article_insight(self):\n",
    "        \n",
    "        self.driver.get(self.all_insight_link)\n",
    "        sleep(10)\n",
    "\n",
    "        all_pages = []\n",
    "\n",
    "        for i in range(18):\n",
    "\n",
    "            title_tags = self.driver.find_elements(By.XPATH,'//*[(@id = \"insights-archive-section\")]//h3')\n",
    "            title_contents = self.driver.find_elements(By.XPATH, '//*[(@id = \"insights-archive-section\")]//*[contains(concat( \" \", @class, \" \" ), concat( \" \", \"p2\", \" \" ))]')\n",
    "            date_perspectives = self.driver.find_elements(By.XPATH,'//*[contains(concat( \" \", @class, \" \" ), concat( \" \", \"eyebrow\", \" \" ))]')\n",
    "            perspectives = self.driver.find_elements(By.XPATH, '//*[contains(concat( \" \", @class, \" \" ), concat( \" \", \"type\", \" \" ))]')\n",
    "            # dates = browser.find_elements(By.CSS_SELECTOR, '.content-eyebrow .eyebrow')\n",
    "            tags = self.driver.find_elements(By.CSS_SELECTOR, \"[id='insights-archive'] [class='tags']\")\n",
    "            tags = [i.find_elements(By.CSS_SELECTOR, \"[id='insights-archive'] [class='tags'] [class='pill tag']\") for i in tags]\n",
    "            links = self.driver.find_elements(By.CSS_SELECTOR, '.detail-link')\n",
    "\n",
    "\n",
    "\n",
    "            title_tag = [i.text for i in title_tags] \n",
    "            title_content = [i.text for i in title_contents]\n",
    "            date_perspective = [i.text for i in date_perspectives]\n",
    "            date = [''.join(re.findall(r'[A-Z]+\\s\\d+,\\s\\d+', i)) for i in date_perspective[1:]]\n",
    "            perspective = [i.text for i in perspectives]\n",
    "            #date = [i.text for i in dates]\n",
    "            tag = [[j.text for j in i]for i in tags]\n",
    "            links_list = [link.get_attribute('href') for link in links]\n",
    "\n",
    "            list_of_dict = []\n",
    "            for tg,tc,d,p,t,l in zip(title_tag, title_content, date, perspective, tag, links_list):\n",
    "                economy_market_dict = {\n",
    "                                    'company': 'Vanguard', \n",
    "                                    'topic': 'Insight', \n",
    "                                    'articel_title': tg, \n",
    "                                    'abstract' : tc,\n",
    "                                    'date' : d,\n",
    "                                    'perspective' : p,\n",
    "                                    'tag': ','.join(t),\n",
    "                                    'link':l,\n",
    "                                    'content':self.extract_content_with_id(l),\n",
    "                }\n",
    "                list_of_dict.append(economy_market_dict)\n",
    "\n",
    "\n",
    "            all_pages.append(list_of_dict)\n",
    "            next_page = self.driver.find_element(By.CSS_SELECTOR,'#insights-archive-section > div.pagination > div.pagination__arrows > span.icon.icon-right')\n",
    "            next_page.click()\n",
    "\n",
    "        self.driver.quit()\n",
    "        vanguard_insight_list = []\n",
    "        for p_8 in all_pages:\n",
    "            for p in p_8:\n",
    "                vanguard_insight_list.append(p)\n",
    "                \n",
    "        return vanguard_insight_list\n",
    "\n",
    "\n",
    "    @staticmethod\n",
    "    def save_to_json(file_path, list_of_dict):\n",
    "        with open(file_path, 'a') as f:\n",
    "            for dict_ in list_of_dict:\n",
    "                json.dump(dict_,f,indent=4)\n",
    "\n"
   ]
  },
  {
   "cell_type": "code",
   "execution_count": 42,
   "id": "a59127fc",
   "metadata": {},
   "outputs": [],
   "source": [
    "vanguard_insight_obj = VanguardInsights('https://advisors.vanguard.com/insights/all')\n",
    "vanguard_insight_list = vanguard_insight_obj.get_article_insight()"
   ]
  },
  {
   "cell_type": "code",
   "execution_count": 43,
   "id": "0cd2b920",
   "metadata": {},
   "outputs": [],
   "source": [
    "df = pd.DataFrame(vanguard_insight_list)"
   ]
  },
  {
   "cell_type": "code",
   "execution_count": 44,
   "id": "59d2b9b8",
   "metadata": {},
   "outputs": [
    {
     "data": {
      "text/plain": [
       "array(['U.S.', 'Fixed Income,Equities,Portfolio Construction',\n",
       "       'U.S.,International', 'International', '',\n",
       "       'Fixed Income,U.S.,Bear Markets', 'ESG Strategies,Equities',\n",
       "       \"Advisor's Alpha®,Behavioral Coaching,Portfolio Construction\",\n",
       "       'Fixed Income', 'Fixed Income,Portfolio Construction',\n",
       "       'Portfolio Construction', 'ETF Investing', 'U.S.,Fixed Income',\n",
       "       'Fixed Income,U.S.', 'Equities',\n",
       "       \"Advisor's Alpha®,Behavioral Coaching,Bear Markets\",\n",
       "       \"Advisor's Alpha®,Behavioral Coaching\",\n",
       "       \"Advisor's Alpha®,Behavioral Coaching,U.S.\",\n",
       "       'Equities,Portfolio Construction', 'ESG Strategies',\n",
       "       'Behavioral Coaching', 'Fixed Income,Equities',\n",
       "       'Fixed Income,Bear Markets', 'Fixed Income,Equities,International',\n",
       "       'International,Bear Markets,Fixed Income', \"Advisor's Alpha®\",\n",
       "       'ETF Investing,Fixed Income', 'Wealth Management',\n",
       "       'ETF Investing,Equities', 'Behavioral Coaching,Wealth Management',\n",
       "       'ETF Investing,Equities,Bear Markets', 'Alternatives',\n",
       "       'Factor-based Strategies,ETF Investing',\n",
       "       'U.S.,International,Fixed Income',\n",
       "       \"Advisor's Alpha®,Wealth Management\",\n",
       "       'Fixed Income,Portfolio Construction,U.S.',\n",
       "       'Factor-based Strategies,Equities', 'U.S.,Equities,Alternatives',\n",
       "       \"Advisor's Alpha®,U.S.\", 'Bear Markets,Behavioral Coaching'],\n",
       "      dtype=object)"
      ]
     },
     "execution_count": 44,
     "metadata": {},
     "output_type": "execute_result"
    }
   ],
   "source": [
    "df['tag'].unique()"
   ]
  },
  {
   "cell_type": "code",
   "execution_count": 45,
   "id": "6ba616a7",
   "metadata": {},
   "outputs": [],
   "source": [
    "df['tag2'] = df['tag'].apply(lambda x: x.split(',')[0])"
   ]
  },
  {
   "cell_type": "code",
   "execution_count": 49,
   "id": "dfe40ac5",
   "metadata": {},
   "outputs": [
    {
     "data": {
      "text/html": [
       "<div>\n",
       "<style scoped>\n",
       "    .dataframe tbody tr th:only-of-type {\n",
       "        vertical-align: middle;\n",
       "    }\n",
       "\n",
       "    .dataframe tbody tr th {\n",
       "        vertical-align: top;\n",
       "    }\n",
       "\n",
       "    .dataframe thead th {\n",
       "        text-align: right;\n",
       "    }\n",
       "</style>\n",
       "<table border=\"1\" class=\"dataframe\">\n",
       "  <thead>\n",
       "    <tr style=\"text-align: right;\">\n",
       "      <th></th>\n",
       "      <th>company</th>\n",
       "      <th>topic</th>\n",
       "      <th>articel_title</th>\n",
       "      <th>abstract</th>\n",
       "      <th>date</th>\n",
       "      <th>perspective</th>\n",
       "      <th>tag</th>\n",
       "      <th>link</th>\n",
       "      <th>content</th>\n",
       "      <th>tag2</th>\n",
       "    </tr>\n",
       "  </thead>\n",
       "  <tbody>\n",
       "    <tr>\n",
       "      <th>0</th>\n",
       "      <td>Vanguard</td>\n",
       "      <td>Insight</td>\n",
       "      <td>Getting inside the Fed's head</td>\n",
       "      <td>Three scenarios that the Fed could face in the...</td>\n",
       "      <td>SEPTEMBER 05, 2022</td>\n",
       "      <td>EXPERT PERSPECTIVE</td>\n",
       "      <td>U.S.</td>\n",
       "      <td>https://advisors.vanguard.com/insights/article...</td>\n",
       "      <td>The task currently facing the Federal Reserve ...</td>\n",
       "      <td>U.S.</td>\n",
       "    </tr>\n",
       "    <tr>\n",
       "      <th>1</th>\n",
       "      <td>Vanguard</td>\n",
       "      <td>Insight</td>\n",
       "      <td>Find out how your portfolios stack up</td>\n",
       "      <td>Get insights into how advisors are managing th...</td>\n",
       "      <td>AUGUST 30, 2022</td>\n",
       "      <td>VANGUARD PERSPECTIVE</td>\n",
       "      <td>Fixed Income,Equities,Portfolio Construction</td>\n",
       "      <td>https://advisors.vanguard.com/insights/article...</td>\n",
       "      <td>Portfolio Analytics and Consulting is a group ...</td>\n",
       "      <td>Fixed Income</td>\n",
       "    </tr>\n",
       "    <tr>\n",
       "      <th>2</th>\n",
       "      <td>Vanguard</td>\n",
       "      <td>Insight</td>\n",
       "      <td>Market perspectives: September 2022</td>\n",
       "      <td>Vanguard September market perspectives offers ...</td>\n",
       "      <td>AUGUST 29, 2022</td>\n",
       "      <td>VANGUARD PERSPECTIVE</td>\n",
       "      <td>U.S.,International</td>\n",
       "      <td>https://advisors.vanguard.com/insights/article...</td>\n",
       "      <td>Key highlights\\n\\nWe place the likelihood of a...</td>\n",
       "      <td>U.S.</td>\n",
       "    </tr>\n",
       "    <tr>\n",
       "      <th>3</th>\n",
       "      <td>Vanguard</td>\n",
       "      <td>Insight</td>\n",
       "      <td>Inside Jane Street's ETF trading</td>\n",
       "      <td>Gain expert insight into how the rapidly growi...</td>\n",
       "      <td>AUGUST 25, 2022</td>\n",
       "      <td>EXPERT PERSPECTIVE</td>\n",
       "      <td>International</td>\n",
       "      <td>https://advisors.vanguard.com/insights/article...</td>\n",
       "      <td>With the accelerating adoption of ETFs comes t...</td>\n",
       "      <td>International</td>\n",
       "    </tr>\n",
       "    <tr>\n",
       "      <th>4</th>\n",
       "      <td>Vanguard</td>\n",
       "      <td>Insight</td>\n",
       "      <td>When is personalized indexing right for your c...</td>\n",
       "      <td>Explore potential use cases for personalized i...</td>\n",
       "      <td>AUGUST 23, 2022</td>\n",
       "      <td>VANGUARD PERSPECTIVE</td>\n",
       "      <td></td>\n",
       "      <td>https://advisors.vanguard.com/insights/article...</td>\n",
       "      <td>Personalized indexing (also known as custom or...</td>\n",
       "      <td></td>\n",
       "    </tr>\n",
       "    <tr>\n",
       "      <th>...</th>\n",
       "      <td>...</td>\n",
       "      <td>...</td>\n",
       "      <td>...</td>\n",
       "      <td>...</td>\n",
       "      <td>...</td>\n",
       "      <td>...</td>\n",
       "      <td>...</td>\n",
       "      <td>...</td>\n",
       "      <td>...</td>\n",
       "      <td>...</td>\n",
       "    </tr>\n",
       "    <tr>\n",
       "      <th>135</th>\n",
       "      <td>Vanguard</td>\n",
       "      <td>Insight</td>\n",
       "      <td>Don't let headlines dictate clients' investing...</td>\n",
       "      <td>As an advisor, you can ease clients' anxiety d...</td>\n",
       "      <td>MARCH 29, 2020</td>\n",
       "      <td>VANGUARD PERSPECTIVE</td>\n",
       "      <td>Behavioral Coaching,Wealth Management</td>\n",
       "      <td>https://advisors.vanguard.com/insights/article...</td>\n",
       "      <td>While a downturn in the financial markets is a...</td>\n",
       "      <td>Behavioral Coaching</td>\n",
       "    </tr>\n",
       "    <tr>\n",
       "      <th>136</th>\n",
       "      <td>Vanguard</td>\n",
       "      <td>Insight</td>\n",
       "      <td>How are major index providers handling upcomin...</td>\n",
       "      <td>Vanguard's benchmark providers update their pl...</td>\n",
       "      <td>MARCH 24, 2020</td>\n",
       "      <td>VANGUARD PERSPECTIVE</td>\n",
       "      <td>Equities</td>\n",
       "      <td>https://advisors.vanguard.com/insights/article...</td>\n",
       "      <td>Given the recent volatility, the increased cos...</td>\n",
       "      <td>Equities</td>\n",
       "    </tr>\n",
       "    <tr>\n",
       "      <th>137</th>\n",
       "      <td>Vanguard</td>\n",
       "      <td>Insight</td>\n",
       "      <td>Our 2020 outlook</td>\n",
       "      <td>Download a comprehensive outlook or a quick ov...</td>\n",
       "      <td>DECEMBER 12, 2019</td>\n",
       "      <td>WHITEPAPER</td>\n",
       "      <td>U.S.,International</td>\n",
       "      <td>https://advisors.vanguard.com/insights/article...</td>\n",
       "      <td>Get Vanguard's take on the global economy, mon...</td>\n",
       "      <td>U.S.</td>\n",
       "    </tr>\n",
       "    <tr>\n",
       "      <th>138</th>\n",
       "      <td>Vanguard</td>\n",
       "      <td>Insight</td>\n",
       "      <td>Clients confused about Medicare's maze? This g...</td>\n",
       "      <td>Clients' task of choosing a Medicare option ca...</td>\n",
       "      <td>OCTOBER 22, 2019</td>\n",
       "      <td>WHITEPAPER</td>\n",
       "      <td>Behavioral Coaching,Wealth Management</td>\n",
       "      <td>https://advisors.vanguard.com/insights/article...</td>\n",
       "      <td>Key highlights\\n\\nClients can use a \"prioritiz...</td>\n",
       "      <td>Behavioral Coaching</td>\n",
       "    </tr>\n",
       "    <tr>\n",
       "      <th>139</th>\n",
       "      <td>Vanguard</td>\n",
       "      <td>Insight</td>\n",
       "      <td>Is the dollar too strong?</td>\n",
       "      <td>Debate is intensifying about the U.S. dollar's...</td>\n",
       "      <td>OCTOBER 10, 2019</td>\n",
       "      <td>WHITEPAPER</td>\n",
       "      <td>U.S.</td>\n",
       "      <td>https://advisors.vanguard.com/insights/article...</td>\n",
       "      <td>Debate is intensifying about the U.S. dollar's...</td>\n",
       "      <td>U.S.</td>\n",
       "    </tr>\n",
       "  </tbody>\n",
       "</table>\n",
       "<p>140 rows × 10 columns</p>\n",
       "</div>"
      ],
      "text/plain": [
       "      company    topic                                      articel_title  \\\n",
       "0    Vanguard  Insight                      Getting inside the Fed's head   \n",
       "1    Vanguard  Insight              Find out how your portfolios stack up   \n",
       "2    Vanguard  Insight                Market perspectives: September 2022   \n",
       "3    Vanguard  Insight                   Inside Jane Street's ETF trading   \n",
       "4    Vanguard  Insight  When is personalized indexing right for your c...   \n",
       "..        ...      ...                                                ...   \n",
       "135  Vanguard  Insight  Don't let headlines dictate clients' investing...   \n",
       "136  Vanguard  Insight  How are major index providers handling upcomin...   \n",
       "137  Vanguard  Insight                                   Our 2020 outlook   \n",
       "138  Vanguard  Insight  Clients confused about Medicare's maze? This g...   \n",
       "139  Vanguard  Insight                          Is the dollar too strong?   \n",
       "\n",
       "                                              abstract                date  \\\n",
       "0    Three scenarios that the Fed could face in the...  SEPTEMBER 05, 2022   \n",
       "1    Get insights into how advisors are managing th...     AUGUST 30, 2022   \n",
       "2    Vanguard September market perspectives offers ...     AUGUST 29, 2022   \n",
       "3    Gain expert insight into how the rapidly growi...     AUGUST 25, 2022   \n",
       "4    Explore potential use cases for personalized i...     AUGUST 23, 2022   \n",
       "..                                                 ...                 ...   \n",
       "135  As an advisor, you can ease clients' anxiety d...      MARCH 29, 2020   \n",
       "136  Vanguard's benchmark providers update their pl...      MARCH 24, 2020   \n",
       "137  Download a comprehensive outlook or a quick ov...   DECEMBER 12, 2019   \n",
       "138  Clients' task of choosing a Medicare option ca...    OCTOBER 22, 2019   \n",
       "139  Debate is intensifying about the U.S. dollar's...    OCTOBER 10, 2019   \n",
       "\n",
       "              perspective                                           tag  \\\n",
       "0      EXPERT PERSPECTIVE                                          U.S.   \n",
       "1    VANGUARD PERSPECTIVE  Fixed Income,Equities,Portfolio Construction   \n",
       "2    VANGUARD PERSPECTIVE                            U.S.,International   \n",
       "3      EXPERT PERSPECTIVE                                 International   \n",
       "4    VANGUARD PERSPECTIVE                                                 \n",
       "..                    ...                                           ...   \n",
       "135  VANGUARD PERSPECTIVE         Behavioral Coaching,Wealth Management   \n",
       "136  VANGUARD PERSPECTIVE                                      Equities   \n",
       "137            WHITEPAPER                            U.S.,International   \n",
       "138            WHITEPAPER         Behavioral Coaching,Wealth Management   \n",
       "139            WHITEPAPER                                          U.S.   \n",
       "\n",
       "                                                  link  \\\n",
       "0    https://advisors.vanguard.com/insights/article...   \n",
       "1    https://advisors.vanguard.com/insights/article...   \n",
       "2    https://advisors.vanguard.com/insights/article...   \n",
       "3    https://advisors.vanguard.com/insights/article...   \n",
       "4    https://advisors.vanguard.com/insights/article...   \n",
       "..                                                 ...   \n",
       "135  https://advisors.vanguard.com/insights/article...   \n",
       "136  https://advisors.vanguard.com/insights/article...   \n",
       "137  https://advisors.vanguard.com/insights/article...   \n",
       "138  https://advisors.vanguard.com/insights/article...   \n",
       "139  https://advisors.vanguard.com/insights/article...   \n",
       "\n",
       "                                               content                 tag2  \n",
       "0    The task currently facing the Federal Reserve ...                 U.S.  \n",
       "1    Portfolio Analytics and Consulting is a group ...         Fixed Income  \n",
       "2    Key highlights\\n\\nWe place the likelihood of a...                 U.S.  \n",
       "3    With the accelerating adoption of ETFs comes t...        International  \n",
       "4    Personalized indexing (also known as custom or...                       \n",
       "..                                                 ...                  ...  \n",
       "135  While a downturn in the financial markets is a...  Behavioral Coaching  \n",
       "136  Given the recent volatility, the increased cos...             Equities  \n",
       "137  Get Vanguard's take on the global economy, mon...                 U.S.  \n",
       "138  Key highlights\\n\\nClients can use a \"prioritiz...  Behavioral Coaching  \n",
       "139  Debate is intensifying about the U.S. dollar's...                 U.S.  \n",
       "\n",
       "[140 rows x 10 columns]"
      ]
     },
     "execution_count": 49,
     "metadata": {},
     "output_type": "execute_result"
    }
   ],
   "source": [
    "df"
   ]
  },
  {
   "cell_type": "code",
   "execution_count": 48,
   "id": "ed47bd47",
   "metadata": {},
   "outputs": [
    {
     "data": {
      "text/plain": [
       "<AxesSubplot:xlabel='count', ylabel='tag2'>"
      ]
     },
     "execution_count": 48,
     "metadata": {},
     "output_type": "execute_result"
    },
    {
     "data": {
      "image/png": "[encoded data removed]",
      "text/plain": [
       "<Figure size 432x288 with 1 Axes>"
      ]
     },
     "metadata": {
      "needs_background": "light"
     },
     "output_type": "display_data"
    }
   ],
   "source": [
    "sns.countplot(y=df['tag2'])"
   ]
  },
  {
   "cell_type": "code",
   "execution_count": null,
   "id": "9fb4bf76",
   "metadata": {},
   "outputs": [],
   "source": [
    "tags = self.driver.find_elements(By.CSS_SELECTOR, \"[id='insights-archive'] [class='tags']\")\n",
    "tags = [i.find_elements(\"[id='insights-archive'] [class='tags'] [class='pill tag']\") for i in tags]"
   ]
  },
  {
   "cell_type": "code",
   "execution_count": null,
   "id": "102d08d9",
   "metadata": {},
   "outputs": [],
   "source": [
    "tag = [[j.text for j in i]for i in tags]"
   ]
  },
  {
   "cell_type": "code",
   "execution_count": 56,
   "id": "75b50bfe",
   "metadata": {},
   "outputs": [],
   "source": [
    "d = dict(\n",
    "        us_num = 0,\n",
    "        fixed_income_num = 0,\n",
    "        international_num = 0,\n",
    "        esg_strategies_num = 0,\n",
    "        advisor_alpha_num = 0,\n",
    "        portfolio_construction_num = 0,\n",
    "        etf_investing_num = 0,\n",
    "        equities_num = 0,\n",
    "        behavioral_coaching_num = 0,\n",
    "        wealth_management_num = 0,\n",
    "        alternatives_num =0,\n",
    "        factor_based_strategies_num = 0,\n",
    "        bear_markets_num = 0)\n",
    "\n",
    "for i in df['tag']:\n",
    "    if 'U.S.' in i:\n",
    "        d['us_num'] += 1\n",
    "    if 'Fixed Income' in i:\n",
    "        fixed_income_num += 1\n",
    "    if 'International' in i:\n",
    "        international_num += 1\n",
    "    if 'ESG Strategies' in i:\n",
    "        esg_strategies_num += 1\n",
    "    if \"Advisor's Alpha®\" in i :\n",
    "        advisor_alpha_num += 1\n",
    "    if 'Portfolio Construction' in i:\n",
    "        portfolio_construction_num += 1\n",
    "    if 'ETF Investing' in i:\n",
    "        etf_investing_num += 1\n",
    "    if 'Equities' in i:\n",
    "        equities_num += 1\n",
    "    if 'Behavioral Coaching' in i:\n",
    "        behavioral_coaching_num +=1\n",
    "    if 'Wealth Management' in i:\n",
    "        wealth_management_num += 1\n",
    "    if 'Alternatives' in i:\n",
    "        alternatives_num +=1\n",
    "    if 'Factor-based Strategies' in i:\n",
    "        factor_based_strategies_num +=1\n",
    "    if 'Bear Markets' in i:\n",
    "        bear_markets_num +=1"
   ]
  },
  {
   "cell_type": "code",
   "execution_count": 52,
   "id": "0433e781",
   "metadata": {},
   "outputs": [
    {
     "data": {
      "text/plain": [
       "array(['U.S.', 'Fixed Income', 'International', '', 'ESG Strategies',\n",
       "       \"Advisor's Alpha®\", 'Portfolio Construction', 'ETF Investing',\n",
       "       'Equities', 'Behavioral Coaching', 'Wealth Management',\n",
       "       'Alternatives', 'Factor-based Strategies', 'Bear Markets'],\n",
       "      dtype=object)"
      ]
     },
     "execution_count": 52,
     "metadata": {},
     "output_type": "execute_result"
    }
   ],
   "source": [
    "df['tag2'].unique()"
   ]
  },
  {
   "cell_type": "code",
   "execution_count": 58,
   "id": "2e2e618b",
   "metadata": {},
   "outputs": [],
   "source": [
    "\n",
    "d = dict(\n",
    "        us_num = 0,\n",
    "        fixed_income_num = 0,\n",
    "        international_num = 0,\n",
    "        esg_strategies_num = 0,\n",
    "        advisor_alpha_num = 0,\n",
    "        portfolio_construction_num = 0,\n",
    "        etf_investing_num = 0,\n",
    "        equities_num = 0,\n",
    "        behavioral_coaching_num = 0,\n",
    "        wealth_management_num = 0,\n",
    "        alternatives_num =0,\n",
    "        factor_based_strategies_num = 0,\n",
    "        bear_markets_num = 0)\n",
    "\n",
    "for i in df['tag']:\n",
    "    if 'U.S.' in i:\n",
    "        d['us_num'] += 1\n",
    "    if 'Fixed Income' in i:\n",
    "        d['fixed_income_num'] += 1\n",
    "    if 'International' in i:\n",
    "        d['international_num'] += 1\n",
    "    if 'ESG Strategies' in i:\n",
    "        d['esg_strategies_num'] += 1\n",
    "    if \"Advisor's Alpha®\" in i :\n",
    "        d['advisor_alpha_num'] += 1\n",
    "    if 'Portfolio Construction' in i:\n",
    "        d['portfolio_construction_num'] += 1\n",
    "    if 'ETF Investing' in i:\n",
    "        d['etf_investing_num'] += 1\n",
    "    if 'Equities' in i:\n",
    "        d['equities_num'] += 1\n",
    "    if 'Behavioral Coaching' in i:\n",
    "        d['behavioral_coaching_num'] +=1\n",
    "    if 'Wealth Management' in i:\n",
    "        d['wealth_management_num'] += 1\n",
    "    if 'Alternatives' in i:\n",
    "        d['alternatives_num'] +=1\n",
    "    if 'Factor-based Strategies' in i:\n",
    "        d['factor_based_strategies_num'] +=1\n",
    "    if 'Bear Markets' in i:\n",
    "        d['bear_markets_num'] +=1"
   ]
  },
  {
   "cell_type": "code",
   "execution_count": 59,
   "id": "afcaec11",
   "metadata": {},
   "outputs": [
    {
     "data": {
      "text/plain": [
       "{'us_num': 54,\n",
       " 'fixed_income_num': 24,\n",
       " 'international_num': 33,\n",
       " 'esg_strategies_num': 12,\n",
       " 'advisor_alpha_num': 15,\n",
       " 'portfolio_construction_num': 13,\n",
       " 'etf_investing_num': 11,\n",
       " 'equities_num': 23,\n",
       " 'behavioral_coaching_num': 12,\n",
       " 'wealth_management_num': 7,\n",
       " 'alternatives_num': 2,\n",
       " 'factor_based_strategies_num': 2,\n",
       " 'bear_markets_num': 7}"
      ]
     },
     "execution_count": 59,
     "metadata": {},
     "output_type": "execute_result"
    }
   ],
   "source": [
    "d"
   ]
  },
  {
   "cell_type": "code",
   "execution_count": 62,
   "id": "6cde1c7d",
   "metadata": {},
   "outputs": [
    {
     "data": {
      "text/plain": [
       "dict_keys(['us_num', 'fixed_income_num', 'international_num', 'esg_strategies_num', 'advisor_alpha_num', 'portfolio_construction_num', 'etf_investing_num', 'equities_num', 'behavioral_coaching_num', 'wealth_management_num', 'alternatives_num', 'factor_based_strategies_num', 'bear_markets_num'])"
      ]
     },
     "execution_count": 62,
     "metadata": {},
     "output_type": "execute_result"
    }
   ],
   "source": [
    "d.keys()"
   ]
  },
  {
   "cell_type": "code",
   "execution_count": 66,
   "id": "c0051d2d",
   "metadata": {},
   "outputs": [
    {
     "data": {
      "image/png": "[encoded data removed]",
      "text/plain": [
       "<Figure size 432x288 with 1 Axes>"
      ]
     },
     "metadata": {},
     "output_type": "display_data"
    }
   ],
   "source": [
    "sns.set_style('darkgrid')\n",
    "sns.barplot(y=list(d.keys()),x=list(d.values()))\n",
    "plt.show()"
   ]
  },
  {
   "cell_type": "code",
   "execution_count": 13,
   "id": "fc819877",
   "metadata": {},
   "outputs": [],
   "source": [
    "VanguardInsights.save_to_json('vanguard_insight.json', vanguard_insight_list)"
   ]
  },
  {
   "cell_type": "code",
   "execution_count": 28,
   "id": "a126d941",
   "metadata": {},
   "outputs": [],
   "source": [
    "driver = webdriver.Chrome()\n",
    "driver.get('https://www.allianzgi.com/en/insights/outlook-and-commentary')\n",
    "sleep(10)\n",
    "# tag_list = [i for i in driver.find_elements(By.CSS_SELECTOR, '#insights-archive-section .tags')]"
   ]
  },
  {
   "cell_type": "code",
   "execution_count": 26,
   "id": "63a0fbb1",
   "metadata": {},
   "outputs": [
    {
     "data": {
      "text/plain": [
       "['Fixed IncomeU.S.Bear Markets',\n",
       " 'ESG StrategiesEquities',\n",
       " \"Advisor's Alpha®Behavioral CoachingPortfolio Construction\",\n",
       " 'Fixed Income',\n",
       " '',\n",
       " 'Portfolio Construction',\n",
       " 'Fixed IncomePortfolio Construction',\n",
       " 'Fixed Income']"
      ]
     },
     "execution_count": 26,
     "metadata": {},
     "output_type": "execute_result"
    }
   ],
   "source": [
    "tag_listd"
   ]
  },
  {
   "cell_type": "code",
   "execution_count": null,
   "id": "3724dd41",
   "metadata": {},
   "outputs": [],
   "source": []
  }
 ],
 "metadata": {
  "kernelspec": {
   "display_name": "Python 3 (ipykernel)",
   "language": "python",
   "name": "python3"
  },
  "language_info": {
   "codemirror_mode": {
    "name": "ipython",
    "version": 3
   },
   "file_extension": ".py",
   "mimetype": "text/x-python",
   "name": "python",
   "nbconvert_exporter": "python",
   "pygments_lexer": "ipython3",
   "version": "3.9.7"
  }
 },
 "nbformat": 4,
 "nbformat_minor": 5
}

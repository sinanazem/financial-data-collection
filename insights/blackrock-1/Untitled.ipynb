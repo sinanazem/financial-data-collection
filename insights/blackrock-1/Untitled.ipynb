{
 "cells": [
  {
   "cell_type": "code",
   "execution_count": 157,
   "id": "8c49a5ce",
   "metadata": {},
   "outputs": [],
   "source": [
    "import requests\n",
    "from bs4 import BeautifulSoup\n",
    "\n",
    "from selenium.webdriver.common.action_chains import ActionChains\n",
    "from time import sleep\n",
    "import selenium\n",
    "from selenium import webdriver\n",
    "from selenium.webdriver.common.by import By\n",
    "from selenium.webdriver.common.keys import Keys\n",
    "from selenium.webdriver.support.ui import WebDriverWait\n",
    "from selenium.webdriver.common.by import By\n",
    "from selenium.webdriver.support import expected_conditions as EC\n",
    "import json\n",
    "from pprint import pprint\n",
    "from tqdm import tqdm\n",
    "import pandas as pd"
   ]
  },
  {
   "cell_type": "markdown",
   "id": "3aa80e86",
   "metadata": {},
   "source": [
    "<img src=\"https://upload.wikimedia.org/wikipedia/commons/thumb/8/85/BlackRock_wordmark.svg/2560px-BlackRock_wordmark.svg.png\" width=350>"
   ]
  },
  {
   "cell_type": "code",
   "execution_count": 98,
   "id": "c9438782",
   "metadata": {},
   "outputs": [],
   "source": [
    "class BlackRockInsights:\n",
    "    \n",
    "    def __init__(self, all_insight_link):\n",
    "        self.all_insight_link = all_insight_link\n",
    "        self.driver = webdriver.Chrome()\n",
    "    \n",
    "    @staticmethod\n",
    "    def extract_content_with_p(link: str) -> str:\n",
    "        # send requests and get response\n",
    "        response = requests.get(link)\n",
    "\n",
    "        # get content if response is ok\n",
    "        if response.ok is True:\n",
    "            soup = BeautifulSoup(response.text)\n",
    "\n",
    "            content = \" \".join([i.text for i in soup.find_all('p')[5:]])\n",
    "            return content\n",
    "        else:\n",
    "            raise Exception(f'Response is: {response}')\n",
    "            \n",
    "    @staticmethod        \n",
    "    def extract_content_with_class(link: str) -> str:\n",
    "        #send requests \n",
    "        response = requests.get(link)\n",
    "        soup = BeautifulSoup(response.text)\n",
    "\n",
    "        content = ' '.join([i.text for i in soup.find_all(class_='para-content')])\n",
    "        return content\n",
    "            \n",
    "    def get_article_insight(self):\n",
    "        \n",
    "        self.driver.get(self.all_insight_link)\n",
    "        sleep(10)\n",
    "        elem = self.driver.find_element(By.ID,'onetrust-reject-all-handler')\n",
    "        elem.click()\n",
    "        button = self.driver.find_element(By.XPATH,'//*[@id=\"c1561158932259\"]/div/div[2]/div/div/div[3]/button')\n",
    "        for i in range(8):\n",
    "            self.driver.execute_script(\"arguments[0].click();\", button)\n",
    "\n",
    "        title_list = [i.text for i in self.driver.find_elements(By.XPATH,'//h2')]\n",
    "        date_list = [i.text for i in self.driver.find_elements(By.XPATH, '//a//div//div//span[(((count(preceding-sibling::*) + 1) = 1) and parent::*)]')]\n",
    "        author_list = [i.text for i in self.driver.find_elements(By.CSS_SELECTOR,'span:nth-child(4)')] \n",
    "        abstract_list = [i.text for i in self.driver.find_elements(By.XPATH,'//*[contains(concat( \" \", @class, \" \" ), concat( \" \", \"description\", \" \" ))]')]\n",
    "        link_list = [i.get_attribute('href') for i in self.driver.find_elements(By.CSS_SELECTOR,'.skip-animation')]\n",
    "\n",
    "        blackrock_insight_list = []\n",
    "        for title,date,author,abstract,link in tqdm(zip(title_list,date_list,author_list,abstract_list,link_list)):\n",
    "            \n",
    "            blackrock_insight_dict = {\n",
    "                'company': 'BlackRock', \n",
    "                'topic': 'Insight',\n",
    "                'title':title,\n",
    "                'link':link,\n",
    "                'date':date,\n",
    "                'author':author,\n",
    "                'abstract':abstract,\n",
    "                'content': self.extract_content(link),\n",
    "            }\n",
    "            \n",
    "            blackrock_insight_list.append(blackrock_insight_dict)\n",
    "        \n",
    "        return blackrock_insight_list\n",
    "    \n",
    "\n",
    "    @staticmethod\n",
    "    def save_to_json(file_path, list_of_dict):\n",
    "        with open(file_path, 'a') as f:\n",
    "            for dict_ in list_of_dict:\n",
    "                json.dump(dict_,f,indent=4)\n",
    "\n"
   ]
  },
  {
   "cell_type": "code",
   "execution_count": 99,
   "id": "cfd38a8e",
   "metadata": {},
   "outputs": [
    {
     "name": "stderr",
     "output_type": "stream",
     "text": [
      "50it [00:51,  1.03s/it]\n"
     ]
    }
   ],
   "source": [
    "obj = BlackRockInsights('https://www.blackrock.com/us/individual/insights')\n",
    "l = obj.get_article_insight()"
   ]
  },
  {
   "cell_type": "markdown",
   "id": "8cb12d11",
   "metadata": {},
   "source": [
    "<img src=\"https://1000logos.net/wp-content/uploads/2021/05/Vanguard-logo.png\" width=350 style=\"float: center;\">"
   ]
  },
  {
   "cell_type": "code",
   "execution_count": 102,
   "id": "60755931",
   "metadata": {},
   "outputs": [
    {
     "data": {
      "text/plain": [
       "'<!DOCTYPE html>\\r\\n<html lang=\"en\">\\n<head>\\n<META http-equiv=\"Content-Type\" content=\"text/html; charset=UTF-8\">\\n<title>Vanguard to introduce Environmental Opportunities Fund</title>\\n<!--grid-layout-->\\n<!--ls:begin[stylesheet]-->\\n<style type=\"text/css\">\\n          \\n          .iw_container\\n          {\\n            max-width:800px !important;\\n            margin-left: auto !important;\\n            margin-right: auto !important;\\n          }\\n          .iw_stretch\\n          {\\n            min-width: 100% !important;\\n          }\\n        </style>\\n<link href=\"/iwov-resources/grid/bootstrap/4.0/bootstrap-grid.min.css\" type=\"text/css\" rel=\"stylesheet\">\\n<!--ls:end[stylesheet]-->\\n<!--ls:begin[canonical]-->\\n<!--ls:end[canonical]-->\\n<!--ls:begin[script]-->\\n<!--ls:end[script]-->\\n<!--ls:begin[meta-keywords]-->\\n<meta name=\"keywords\" content=\"\">\\n<!--ls:end[meta-keywords]-->\\n<!--ls:begin[meta-description]-->\\n<meta name=\"description\" content=\"Vanguard announces its intention to launch Vanguard Global Environmental Opportunities Stock Fund.\">\\n<!--ls:end[meta-description]-->\\n<!--ls:begin[custom-meta-data]-->\\n<meta name=\"viewport\" content=\"width=device-width, initial-scale=1.0, maximum-scale=1.0\">\\n<meta http-equiv=\"X-UA-Compatible\" content=\"IE=edge\">\\n<!--ls:end[custom-meta-data]-->\\n<!--ls:begin[meta-vpath]-->\\n<meta name=\"vpath\" content=\"\">\\n<!--ls:end[meta-vpath]-->\\n<!--ls:begin[meta-page-locale-name]-->\\n<meta name=\"page-locale-name\" content=\"\">\\n<!--ls:end[meta-page-locale-name]-->\\n<!--ls:begin[stylesheet]-->\\n<link type=\"text/css\" href=\"/fasglobalnavigation/static/main.css\" rel=\"stylesheet\" data-ocde-desktop_or_tablet_or_phone=\"show\">\\n<!--ls:end[stylesheet]-->\\n<!--ls:begin[stylesheet]-->\\n<link type=\"text/css\" href=\"/web/ecs/fsg-fas-globalsubscriber/static/main.css\" rel=\"stylesheet\" data-ocde-desktop_or_tablet_or_phone=\"show\">\\n<!--ls:end[stylesheet]-->\\n<!--ls:begin[script]-->\\n<script type=\"text/javascript\" src=\"//advisors.web.vanguard.com/adobe_fasmkt.js\" data-ocde-desktop_or_tablet_or_phone=\"show\"></script>\\n<!--ls:end[script]-->\\n<!--ls:begin[script]--><script type=\"text/javascript\" src=\"/fasglobalnavigation/static/build.js\" data-ocde-desktop_or_tablet_or_phone=\"show\"></script>\\n<!--ls:end[script]-->\\n<!--ls:begin[script]--><script type=\"text/javascript\" src=\"/web/ecs/fsg-fas-globalsubscriber/static/build.js\" data-ocde-desktop_or_tablet_or_phone=\"show\"></script>\\n<!--ls:end[script]-->\\n<!--ls:begin[stylesheet]-->\\n<link type=\"text/css\" href=\"/e-assets/articles.min.css\" rel=\"stylesheet\" data-ocde-desktop_or_tablet_or_phone=\"show\">\\n<!--ls:end[stylesheet]-->\\n<!--ls:begin[script]-->\\n<script type=\"text/javascript\" src=\"/e-assets/articles.min.js\" data-ocde-desktop_or_tablet_or_phone=\"show\"></script>\\n<!--ls:end[script]-->\\n<!--ls:begin[script]--><script type=\"text/javascript\" src=\"/e-assets/articles.vendor.min.js\" data-ocde-desktop_or_tablet_or_phone=\"show\"></script>\\n<!--ls:end[script]-->\\n<!--ls:begin[head-injection]--><!--ls:end[head-injection]--><!--ls:begin[tracker-injection]--><!--ls:end[tracker-injection]--><!--ls:begin[script]--><!--ls:end[script]--><!--ls:begin[script]--><!--ls:end[script]--></head>\\n<body>\\n<!--ls:begin[body]--><div class=\"iw_viewport-wrapper\"><!-- article fixed header --> \\n<div class=\"iw_section acl-print-hidden\" id=\"sectionk8hk425j\"> \\n <div class=\"iw_row iw_stretch\" id=\"rowk8hk425k\"> \\n  <div class=\"iw_columns\" id=\"colk8hk425l\"> \\n   <div class=\"iw_component\" id=\"iw_comp1585759247331\">\\n     <div class=\"print:hidden\" data-fas-cmp=\"article-fixed-header\" data-prop-button-text=\"Share page\" data-prop-button-classes=\"simple red\" data-prop-main=\"*[data-main-content]\"><span slot=\"title\"></span></div> \\n   </div> \\n  </div> \\n </div> \\n</div> \\n<!-- global header --> \\n<div class=\"iw_section\" id=\"sectionk8hk425n\"> \\n <div class=\"iw_row iw_stretch\" id=\"rowk8hk425o\"> \\n  <div class=\"iw_columns\" id=\"colk8hk425p\"> \\n   <div class=\"iw_component\" id=\"iw_comp1585759247338\">\\n     <div id=\"fas-global-nav\"></div> \\n   </div> \\n  </div> \\n </div> \\n</div> \\n<main id=\"main\" role=\"main\"> \\n <article> \\n  <!-- article hero --> \\n  <div class=\"iw_section acl-print-hidden\" id=\"sectionkaxiu7m0\"> \\n   <div class=\"iw_row iw_stretch\" id=\"rowkaxiu7m1\"> \\n    <div class=\"iw_columns\" id=\"colkaxiu7m2\"> \\n     <div class=\"iw_component\" id=\"iw_comp1591078131719\">\\n       <section xmlns:xs=\"http://www.w3.org/2001/XMLSchema\" class=\"relative sm-only:mb-5x pt-3x md:pt-5x print:p-0\" data-aa=\"page\" data-aa-site-section-1=\"insights\" data-aa-site-section-2=\"Investments\" data-aa-subpage-1=\"vanguardtointroduceenvironmentalopportunitiesfund\" data-aa-page-template=\"Articles\" data-aa-is404=\"N\" data-aa-publish-date=\"08/16/2022\" data-aa-article-category=\"Investments\" data-aa-article-subcategory=\"ESG strategies, Equities\" data-advisor-certification=\"\">\\n   <div class=\"absolute top-0 left-0 right-0 bg-no-repeat bg-cover h-32x md:h-44x lg:h-54x bg-left-bottom print:hidden\" style=\"background-image:url(/e-assets/images/articles/gettyimages/fundNews__MDBL_1x_CC.jpg);\"></div>\\n   <div class=\"relative max-w-1280 ml-1.5x mr-1.5x md:ml-auto md:mr-auto\">\\n      <div class=\"flex items-start justify-end text-1.75x mb-8x md:mb-18x lg:mb-26x ml-3x mr-3x md:ml-3x md:mr-3x print:hidden\">\\n         <div data-fas-cmp=\"print-button\" data-prop-mode=\"inverted\" class=\"mr-1x only-sm:hidden\"></div>\\n         <div data-fas-cmp=\"social-share\" data-prop-mode=\"inverted\" data-prop-button-text=\"Share page\" data-prop-button-classes=\"short\" class=\"relative inline-block\"></div>\\n      </div>\\n      <div class=\"w-full md:w-14/16 lg:w-11/16 md:offset-1 lg:offset-3 md:gutter-x-1 bg-gray-10 pt-6x px-1.5x print:m-0 print:p-0\">\\n         <p class=\"font-bold text-1.75x leading-normal mb-3x md:mb-1x\">August 16, 2022 | Product News</p>\\n         <h1 class=\"h1 b black\">Vanguard to introduce Environmental Opportunities Fund</h1>\\n      </div>\\n   </div>\\n</section> \\n     </div> \\n    </div> \\n   </div> \\n  </div> \\n  <!-- sidebar content --> \\n  <div data-main-content class=\"layout-container fas-container acl-print-hidden iw_section\" id=\"sectionk8hk4258\"> \\n   <div class=\"fas-row iw_row iw_stretch\" id=\"rowk8hk4259\"> \\n    <!-- sidebar --> \\n    <div class=\"iw_columns col-16 md:col-12 md:offset-2 lg:col-2 lg:offset-1 md:pt-7x print:offset-0\" id=\"colk8hk425a\"> \\n     <div class=\"iw_placeholder\" id=\"iw_placeholder1585759247323\"></div> \\n    </div> \\n    <!-- content --> \\n    <div class=\"iw_columns col-16 md:col-12 md:offset-2 lg:col-9 lg:offset-1 pt-7x print:offset-0\" id=\"colk62h8xr0\"> \\n     <div class=\"iw_placeholder\" id=\"iw_placeholder1585759247342\"> \\n      <div class=\"iw_component\" id=\"iw_comp1659031752906\">\\n        <div class=\"content content-container\"><p>On August 16, 2022, Vanguard announced its plans to launch Vanguard Global Environmental Opportunities Stock Fund. The actively managed fund will hold a concentrated portfolio of companies that both are involved in the process of decarbonization and derive at least half of their revenue from activities deemed by the fund\\'s advisor to contribute positively to environmental change. The fund will be managed by Ninety One, an experienced active investment manager with a proven track record in environmental, decarbonization, and global investing.</p>\\n<p>\"Vanguard has been thoughtful and deliberate in building out our ESG lineup by ensuring each new fund addresses investors\\' enduring needs\" said Dan Reyes, head of Vanguard Portfolio Review Department. \"We are confident that Ninety One\\'s differentiated approach to global ESG investing will add long-term value for risk-tolerant investors who have a preference for environmental investing.\"</p>\\n<p>Founded in 1991, Ninety One manages approximately $160 billion globally.<sup>1</sup> The Global Environmental Opportunities Stock Fund takes a structured, research-driven approach to investing that targets companies seeking to accelerate the transition to a low-carbon world. Ninety One\\'s investment philosophy is cemented in the conviction that there are structural growth opportunities resulting from trends in regulation, technology, and consumer preferences, which are driving a multi-decade energy transition. The firm believes that companies that successfully navigate this transition are likely to create value for investors over the long term. This will be the first Vanguard fund advised by Ninety One.</p>\\n<p>The fund is designed for environmentally conscious investors who have a high tolerance for risk and want to augment a broadly diversified portfolio with a satellite position. The fund is expected to launch in the fourth quarter of 2022 with a competitive expense ratio of 0.75% for Investor Shares and 0.60% for Admiral Shares, compared with the industry average of 0.99% for similar funds.<sup>2</sup> The fund\\'s minimum investments are $3,000 for Investor Shares and $50,000 for Admiral Shares.</p>\\n<h2>Vanguard\\'s ESG lineup</h2>\\n<p>Vanguard takes a disciplined, research-based approach to product development and has thoughtfully expanded its lineup of <a href=\"/investment-products/esg\">ESG funds</a>, introducing funds and ETFs that exhibit enduring investment merit while addressing investors\\' evolving preferences. The new fund will complement Vanguard\\'s existing ESG lineup, including its two existing actively managed ESG funds. The recently launched <a href=\"/investment-products/mutual-funds/profile/vbpix\">Vanguard Baillie Gifford Global Positive Impact Stock Fund</a> is designed for clients who want a strategy that targets both investment and impact objectives. <a href=\"/investment-products/mutual-funds/profile/vesgx\">Vanguard Global ESG Select Stock Fund</a> caters to clients who want to maximize returns while having greater exposure to companies with attractive ESG characteristics. Vanguard also offers exclusionary-screened index equity and fixed income ETFs for investors who want to avoid or reduce exposure to certain sectors or ESG risks in their portfolio.</p>\\n<p><sup>1</sup> Data as of June 30, 2022.<br /><sup>2</sup> Sources: Morningstar, Vanguard.</p>\\n<p><strong>Notes:</strong></p>\\n<p><strong>Registration statements relating to Vanguard Global Environmental Opportunities Stock Fund have been filed with the Securities and Exchange Commission (SEC) but have not yet become effective. The SEC has not approved or disapproved these securities or passed upon the adequacy of either fund\\'s preliminary prospectus. Any representation to the contrary is considered a criminal offense. These securities may not be sold nor may offers to buy be accepted prior to the time the registration statements become effective. This communication shall not constitute an offer to sell or the solicitation of an offer to buy, nor shall there be any sale of, these securities in any state in which such offer, solicitation, or sale would be unlawful prior to registration or qualification under the securities laws of any such state.</strong></p>\\n<p><strong>For more information about Vanguard funds, visit advisors.vanguard.com or call 800-997-2798 to obtain a prospectus or, if available, a summary prospectus. Investment objectives, risks, charges, expenses, and other important information about a fund are contained in the prospectus; read and consider it carefully before investing.</strong></p>\\n<p>All investing is subject to risk, including the possible loss of the money you invest. Diversification does not ensure a profit or protect against a loss.</p>\\n<p>ESG funds are subject to ESG investment risk, which is the chance that the stocks or bonds screened by the index provider for ESG criteria generally will underperform the market as a whole or, in the aggregate, will trail returns of other funds screened for ESG criteria. The index provider\\'s assessment of a company, based on the company\\'s level of involvement in a particular industry or the index provider\\'s own ESG criteria, may differ from that of other funds or of the advisor\\'s or an investor\\'s assessment of such company. As a result, the companies deemed eligible by the index provider may not reflect the beliefs and values of any particular investor and may not exhibit positive or favorable ESG characteristics. The evaluation of companies for ESG screening or integration is dependent on the timely and accurate reporting of ESG data by the companies. Successful application of the screens will depend on the index provider&#8217;s proper identification and analysis of ESG data. The advisor may not be successful in assessing and identifying companies that have or will have a positive impact or support a given position. In some circumstances, companies could ultimately have a negative impact, or no impact.</p>\\n<p><em>Vanguard ETF Shares are not redeemable with the issuing Fund other than in very large aggregations worth millions of dollars. Instead, investors must buy and sell Vanguard ETF Shares in the secondary market and hold those shares in a brokerage account. In doing so, the investor may incur brokerage commissions and may pay more than net asset value when buying and receive less than net asset value when selling.</em></p>\\n<p>Investments in securities issued by non-U.S. companies and governments are subject to risks including country/regional risk and currency risk. These risks are especially high in emerging markets.</p></div> \\n      </div> \\n     </div> \\n    </div> \\n   </div> \\n  </div> \\n  <!-- container width --> \\n  <div class=\"iw_section fas-container layout-container acl-print-hidden\" id=\"sectionk8hk425v\"> \\n   <div class=\"iw_row iw_stretch fas-row\" id=\"rowk8hk425w\"> \\n    <div class=\"iw_columns col-16 md:col-14 md:offset-1 lg:offset-1 print:offset-0\" id=\"colk8hk425x\"> \\n     <div class=\"iw_placeholder\" id=\"iw_placeholder1585759247346\"></div> \\n    </div> \\n   </div> \\n  </div> \\n  <!-- full width --> \\n  <div class=\"layout-container bg-gray-9 py-5x md:py-8x print:bg-gray-10 print:py-0 acl-print-hidden\" id=\"sectionk8hk425z\"> \\n   <div class=\"fas-container\"> \\n    <!-- content width --> \\n    <div class=\"iw_row iw_stretch fas-row\" id=\"rowk9blarqa\"> \\n     <div class=\"iw_columns md:offset-2 lg:offset-4 col-16 md:col-12 lg:col-9 print:offset-0\" id=\"colk9blarqb\"> \\n      <div class=\"iw_placeholder\" id=\"iw_placeholder1587575225299\"></div> \\n     </div> \\n    </div> \\n    <!-- container width --> \\n    <div class=\"iw_row iw_stretch fas-row\" id=\"rowk8hk4260\"> \\n     <div class=\"iw_columns col-16 md:col-14 md:offset-1 lg:offset-1 print:offset-0\" id=\"colk8hk4261\"> \\n      <div class=\"iw_placeholder\" id=\"iw_placeholder1587575225298\"></div> \\n     </div> \\n    </div> \\n   </div> \\n  </div> \\n  <!-- content width --> \\n  <div class=\"layout-container fas-container acl-print-hidden iw_section\" id=\"sectionk8hk4263\"> \\n   <div class=\"iw_row iw_stretch fas-row\" id=\"rowk8hk4264\"> \\n    <div class=\"iw_columns md:offset-2 lg:offset-4 col-16 md:col-12 lg:col-9 print:offset-0\" id=\"colk8hk4265\"> \\n     <div class=\"iw_placeholder\" id=\"iw_placeholder1585759247354\"></div> \\n    </div> \\n   </div> \\n  </div> \\n  <!-- container width --> \\n  <div class=\"iw_section fas-container layout-container acl-print-hidden\" id=\"sectionk8hk4267\"> \\n   <div class=\"iw_row iw_stretch fas-row\" id=\"rowk8hk4268\"> \\n    <div class=\"iw_columns col-16 md:col-14 md:offset-1 lg:offset-1 print:offset-0\" id=\"colk8hk4269\"> \\n     <div class=\"iw_placeholder\" id=\"iw_placeholder1585759247358\"></div> \\n    </div> \\n   </div> \\n  </div> \\n  <!-- full width --> \\n  <div class=\"layout-container bg-gray-9 py-5x md:py-8x print:bg-gray-10 print:py-0 acl-print-hidden\" id=\"sectionk8hk426b\"> \\n   <div class=\"fas-container\"> \\n    <!-- content width --> \\n    <div class=\"iw_row iw_stretch fas-row\" id=\"rowk9blarqd\"> \\n     <div class=\"iw_columns md:offset-2 lg:offset-4 col-16 md:col-12 lg:col-9 print:offset-0\" id=\"colk9blarqe\"> \\n      <div class=\"iw_placeholder\" id=\"iw_placeholder1587575225300\"></div> \\n     </div> \\n    </div> \\n    <!-- container width --> \\n    <div class=\"iw_row iw_stretch fas-row\" id=\"rowk8hk426c\"> \\n     <div class=\"iw_columns col-16 md:col-14 md:offset-1 lg:offset-1 print:offset-0\" id=\"colk8hk426d\"> \\n      <div class=\"iw_placeholder\" id=\"iw_placeholder1585759247362\"></div> \\n     </div> \\n    </div> \\n   </div> \\n  </div> \\n  <!-- content width --> \\n  <div class=\"layout-container fas-container acl-print-hidden iw_section\" id=\"sectionk8hk426f\"> \\n   <div class=\"iw_row iw_stretch fas-row\" id=\"rowk8hk426g\"> \\n    <div class=\"iw_columns md:offset-2 lg:offset-4 col-16 md:col-12 lg:col-9 print:offset-0\" id=\"colk8hk426h\"> \\n     <div class=\"iw_placeholder\" id=\"iw_placeholder1585759247366\"></div> \\n    </div> \\n   </div> \\n  </div> \\n  <!-- container width --> \\n  <div class=\"iw_section fas-container layout-container acl-print-hidden\" id=\"sectionk8hk426j\"> \\n   <div class=\"iw_row iw_stretch fas-row\" id=\"rowk8hk426k\"> \\n    <div class=\"iw_columns col-16 md:col-14 md:offset-1 lg:offset-1 print:offset-0\" id=\"colk8hk426l\"> \\n     <div class=\"iw_placeholder\" id=\"iw_placeholder1585759247370\"></div> \\n    </div> \\n   </div> \\n  </div> \\n  <!-- full width --> \\n  <div class=\"layout-container bg-gray-9 py-5x md:py-8x print:bg-gray-10 print:py-0 acl-print-hidden\" id=\"sectionk8hk426n\"> \\n   <div class=\"fas-container\"> \\n    <!-- content width --> \\n    <div class=\"iw_row iw_stretch fas-row\" id=\"rowk9blarqg\"> \\n     <div class=\"iw_columns md:offset-2 lg:offset-4 col-16 md:col-12 lg:col-9 print:offset-0\" id=\"colk9blarqh\"> \\n      <div class=\"iw_placeholder\" id=\"iw_placeholder1587575225301\"></div> \\n     </div> \\n    </div> \\n    <!-- container width --> \\n    <div class=\"iw_row iw_stretch fas-row\" id=\"rowk8hk426o\"> \\n     <div class=\"iw_columns col-16 md:col-14 md:offset-1 lg:offset-1 print:offset-0\" id=\"colk8hk426p\"> \\n      <div class=\"iw_placeholder\" id=\"iw_placeholder1585759247374\"></div> \\n     </div> \\n    </div> \\n   </div> \\n  </div> \\n  <!-- content width --> \\n  <div class=\"layout-container fas-container acl-print-hidden iw_section\" id=\"sectionkc717s8q\"> \\n   <div class=\"iw_row iw_stretch fas-row\" id=\"rowkc717s8r\"> \\n    <div class=\"iw_columns md:offset-2 lg:offset-4 col-16 md:col-12 lg:col-9 print:offset-0\" id=\"colkc717s8s\"> \\n     <div class=\"iw_placeholder\" id=\"iw_placeholder1593829975993\"></div> \\n    </div> \\n   </div> \\n  </div> \\n  <!-- container width --> \\n  <div class=\"iw_section fas-container acl-print-hidden layout-container\" id=\"sectionkc717s8u\"> \\n   <div class=\"iw_row iw_stretch fas-row\" id=\"rowkc717s8v\"> \\n    <div class=\"iw_columns col-16 md:col-14 md:offset-1 lg:offset-1 print:offset-0\" id=\"colkc717s8w\"> \\n     <div class=\"iw_placeholder\" id=\"iw_placeholder1593829975997\"></div> \\n    </div> \\n   </div> \\n  </div> \\n  <!-- full width --> \\n  <div class=\"layout-container bg-gray-9 py-5x md:py-8x print:bg-gray-10 print:offset-0 acl-print-hidden\" id=\"sectionkc717s8y\"> \\n   <div class=\"fas-container\"> \\n    <!-- content width --> \\n    <div class=\"iw_row iw_stretch fas-row\" id=\"rowkc717s8z\"> \\n     <div class=\"iw_columns md:offset-2 lg:offset-4 col-16 md:col-12 lg:col-9 print:offset-0\" id=\"colkc717s90\"> \\n      <div class=\"iw_placeholder\" id=\"iw_placeholder1593829976001\"></div> \\n     </div> \\n    </div> \\n    <!-- container width --> \\n    <div class=\"iw_row iw_stretch fas-row\" id=\"rowkc717s93\"> \\n     <div class=\"iw_columns col-16 md:col-14 md:offset-1 lg:offset-1 print:offset-0\" id=\"colkc717s94\"> \\n      <div class=\"iw_placeholder\" id=\"iw_placeholder1593829976005\"></div> \\n     </div> \\n    </div> \\n   </div> \\n  </div> \\n  <!-- content width --> \\n  <div class=\"layout-container fas-container acl-print-hidden iw_section\" id=\"sectionkc717tcb\"> \\n   <div class=\"iw_row iw_stretch fas-row\" id=\"rowkc717tcc\"> \\n    <div class=\"iw_columns md:offset-2 lg:offset-4 col-16 md:col-12 lg:col-9 print:offset-0\" id=\"colkc717tcd\"> \\n     <div class=\"iw_placeholder\" id=\"iw_placeholder1593829977418\"></div> \\n    </div> \\n   </div> \\n  </div> \\n  <!-- container width --> \\n  <div class=\"iw_section fas-container layout-container acl-print-hidden\" id=\"sectionkc717tcf\"> \\n   <div class=\"iw_row iw_stretch fas-row\" id=\"rowkc717tcg\"> \\n    <div class=\"iw_columns col-16 md:col-14 md:offset-1 lg:offset-1 print:offset-0\" id=\"colkc717tch\"> \\n     <div class=\"iw_placeholder\" id=\"iw_placeholder1593829977422\"></div> \\n    </div> \\n   </div> \\n  </div> \\n  <!-- full width --> \\n  <div class=\"layout-container bg-gray-9 py-5x md:py-8x print:bg-gray-10 print:py-0 acl-print-hidden\" id=\"sectionkc717tcj\"> \\n   <div class=\"fas-container\"> \\n    <!-- content width --> \\n    <div class=\"row iw_row iw_stretch\" id=\"rowkc717tck\"> \\n     <div class=\"iw_columns md:offset-2 lg:offset-4 col-16 md:col-12 lg:col-9 print:offset-0\" id=\"colkc717tcl\"> \\n      <div class=\"iw_placeholder\" id=\"iw_placeholder1593829977426\"></div> \\n     </div> \\n    </div> \\n    <!-- container width --> \\n    <div class=\"row iw_row iw_stretch\" id=\"rowkc717tco\"> \\n     <div class=\"iw_columns col-16 md:col-14 md:offset-1 lg:offset-1 print:offset-0\" id=\"colkc717tcp\"> \\n      <div class=\"iw_placeholder\" id=\"iw_placeholder1593829977430\"></div> \\n     </div> \\n    </div> \\n   </div> \\n  </div> \\n  <!-- content width --> \\n  <div class=\"layout-container fas-container acl-print-hidden iw_section\" id=\"sectionkc717tgk\"> \\n   <div class=\"iw_row iw_stretch fas-row\" id=\"rowkc717tgl\"> \\n    <div class=\"iw_columns md:offset-2 lg:offset-4 col-16 md:col-12 lg:col-9 print:offset-0\" id=\"colkc717tgm\"> \\n     <div class=\"iw_placeholder\" id=\"iw_placeholder1593829977571\"></div> \\n    </div> \\n   </div> \\n  </div> \\n  <!-- container width --> \\n  <div class=\"iw_section fas-container layout-container acl-print-hidden\" id=\"sectionkc717tgo\"> \\n   <div class=\"iw_row iw_stretch fas-row\" id=\"rowkc717tgp\"> \\n    <div class=\"iw_columns col-16 md:col-14 md:offset-1 lg:offset-1 print:offset-0\" id=\"colkc717tgq\"> \\n     <div class=\"iw_placeholder\" id=\"iw_placeholder1593829977575\"></div> \\n    </div> \\n   </div> \\n  </div> \\n  <!-- article category --> \\n  <div class=\"iw_section fas-container layout-container acl-print-hidden\" id=\"sectionkaxiu80e\"> \\n   <div class=\"iw_row iw_stretch fas-row\" id=\"rowkaxiu80f\"> \\n    <div class=\"iw_columns md:offset-2 lg:offset-4 col-16 md:col-12 lg:col-9\" id=\"colkaxiu80g\"> \\n     <div class=\"iw_component\" id=\"iw_comp1591078132237\">\\n       <div class=\"article-category print:hidden\">\\n   <p class=\"md:inline-block p2 italic align-middle only-sm:mb-1x\">This article is listed under</p><a href=\"/insights/investments?subCategory=esgstrategies\" class=\"pill align-middle md:ml-1x mr-1x\">ESG strategies</a><a href=\"/insights/investments?subCategory=equities\" class=\"pill align-middle md:ml-1x mr-1x\"> Equities</a></div> \\n     </div> \\n    </div> \\n   </div> \\n  </div> \\n </article> \\n</main> \\n<!-- global email subscribe --> \\n<div class=\"acl-print-hidden iw_section mt-4x\" id=\"sectionkaxiu80a\"> \\n <div class=\"iw_row iw_stretch\" id=\"rowkaxiu80b\"> \\n  <div class=\"iw_columns\" id=\"colkaxiu80c\"> \\n   <div class=\"iw_component\" id=\"iw_comp1591078132233\">\\n     <div id=\"email-signup\"></div> \\n   </div> \\n  </div> \\n </div> \\n</div> \\n<!-- article feed --> \\n<div class=\"fas-container layout-container acl-print-hidden iw_section\" id=\"sectionkdymaue6\"> \\n <div class=\"fas-row iw_row iw_stretch\" id=\"rowkdymaue7\"> \\n  <div class=\"iw_columns col-16 md:col-14 md:offset-2 lg:offset-1\" id=\"colkdymaue8\"> \\n   <div class=\"iw_component\" id=\"iw_comp1597674759773\">\\n     <section data-fas-cmp=\"article-feed\" data-prop-heading=\"\" data-prop-categories=\"\" class=\"article-feed print:hidden\"></section> \\n   </div> \\n  </div> \\n </div> \\n</div> \\n<!-- global footer --> \\n<div class=\"iw_section acl-print-hidden\" id=\"sectionkaxiu803\"> \\n <div class=\"iw_row iw_stretch\" id=\"rowkaxiu804\"> \\n  <div class=\"iw_columns\" id=\"colkaxiu805\"> \\n   <div class=\"iw_component\" id=\"iw_comp1591078132226\">\\n     <div id=\"fas-global-footer\"></div> \\n   </div> \\n  </div> \\n </div> \\n</div> \\n<!-- article medallia survey --> \\n<div class=\"iw_section acl-print-hidden\" id=\"sectionkpzvhn3v\"> \\n <div class=\"iw_row iw_stretch\" id=\"rowkpzvhn3w\"> \\n  <div class=\"iw_columns\" id=\"colkpzvhn3x\"> \\n   <div class=\"iw_component\" id=\"iw_comp1623872047674\">\\n     <div class=\"medallia-survey\" data-fas-cmp=\"medallia-survey\" data-prop-form-id=\"2220\" data-prop-question=\"Did you find this content useful?\" data-prop-message=\"Thank you for providing feedback!\" data-prop-bg-color=\"#232323\" data-prop-main-selector=\"#main\" data-prop-percent-read=\"25\" data-prop-expiration=\"0\" data-prop-close-delay=\"3.2s\"></div> \\n   </div> \\n  </div> \\n </div> \\n</div> \\n<!-- sign up bar --></div><!--ls:end[body]--><!--ls:begin[page_track]--><!--ls:end[page_track]--></body>\\n</html>\\n'"
      ]
     },
     "execution_count": 102,
     "metadata": {},
     "output_type": "execute_result"
    }
   ],
   "source": [
    "requests.get('https://advisors.vanguard.com/insights/article/vanguardtointroduceenvironmentalopportunitiesfund').text"
   ]
  },
  {
   "cell_type": "code",
   "execution_count": 103,
   "id": "63aa529c",
   "metadata": {},
   "outputs": [],
   "source": [
    "def extract_content(link: str) -> str:\n",
    "        # send requests and get response\n",
    "        response = requests.get(link)\n",
    "\n",
    "        # get content if response is ok\n",
    "        if response.ok is True:\n",
    "            soup = BeautifulSoup(response.text)\n",
    "\n",
    "            content = \" \".join([i.text for i in soup.find_all('p')])\n",
    "            return content\n",
    "        else:\n",
    "            raise Exception(f'Response is: {response}')"
   ]
  },
  {
   "cell_type": "code",
   "execution_count": 156,
   "id": "5d56ebaa",
   "metadata": {},
   "outputs": [
    {
     "data": {
      "text/plain": [
       "\"  I invest on behalf of my clients. I consult or invest on behalf of a financial institution. I want to learn more about BlackRock. To reach a different BlackRock site directly, please update your user type.\\xa0 Macro volatility driving equity markets  Markets have entered a new regime characterized by higher levels of volatility and uncertainty as central banks try to rein in inflation. Will the inflation fight cause a recession?  As recession fears rise, alternative data indicators reveal that markets may not be accurately pricing recession risk despite inflationary pressures. Positioning for a new market regime  Slowing growth and a new macro regime may require rethinking portfolio construction and adopting a more dynamic investment approach. Since the Great Financial Crisis (“GFC”), we’ve been in an environment characterized by strong financial market returns and low volatility against the backdrop of ultra-accommodative monetary and fiscal policy. A continuous stream of upside surprises in inflation data has led to a material shift—with macro risk making a swift comeback. Amid a new era of unprecedented quantitative tightening, markets have entered a phase of persistently higher volatility and growing uncertainty with potentially broad investment implications. Following the pandemic recovery and start of the war in Ukraine, market focus has been dominated by upside surprises in inflationary data. In the US, elevated headline inflation readings have caused the Federal Reserve (“Fed”) to retire the term “transitory” and kick off an aggressive tightening cycle. The Fed raised rates by 0.75% in June, the largest increase since 1994. Several other developed market central banks followed in a rush to normalize policy, joining the Fed and emerging market central banks who had already kicked off tightening cycles. We have entered a new regime with macro factors driving asset prices and contributing to a higher level of volatility than we’ve seen in recent decades. Figure 1 underscores this shift, with macro risk factors explaining more than 80% of asset returns for the model shown below—a level comparable to highs seen during 2008 and 2020. Figure 1: A new regime of macro volatility Macro risk factors contribution to asset returns (%) Source: BlackRock, as of June 30, 2022. Macro factors include growth, inflation, real yield, emerging, credit, and liquidity. Model asset universe includes Global FX, Equities, Fixed Income, Credit, and Commodities. Markets have undergone a hawkish repricing as investors weigh the possibility of lower growth in a new era of quantitative tightening. This is further complicated by the potential consequences of higher interest rates with unprecedented levels of public and private sector debt in the system. Given these dynamics, are markets accurately pricing recession risk, or is the reaction overblown? Looming recession risk relies partly on the path of inflation as we look ahead. The war in Ukraine has led to soaring commodity prices—notably energy—further layering on existing supply constraints. Despite a recent decline in energy prices, markets are pointing to further price pressures in Europe due to supply-demand imbalances throughout the upcoming winter months and the gradual end of lockdowns in China. In our view, energy markets are becoming a bifurcated story with a more stable outlook in the U.S., but a challenging road ahead for Europe. While inflationary pressures are persisting in certain areas, others appear to be improving. Figure 2 shows that supply bottlenecks may be normalizing for used cars along with decreasing container freight transport costs which are an important component of global trade. Figure 2: Supply bottlenecks may be easing  Value of US Used Vehicle Index and Container Freight Rate Source: BlackRock, Bloomberg, as of June 30, 2022. Labor tightness in focus In addition to supply-driven inflation, the post-COVID economic restart unleashed pent up demand for services, compounding those pressures through a tighter labor market. The state of the labor market is crucial to assess the inflation outlook and future growth expectation—raising the issue of how tighter monetary policy can be effective at offsetting inflationary pressures. Figure 3 shows the percentage of US industries experiencing wage increases beyond seasonal norms. While wage inflation remains high, the data shows early signs that the rate of acceleration may be moderating. Despite this dynamic, we expect labor market tightness to persist in the near future as tighter financial conditions haven’t created a meaningful deceleration in the labor market. Figure 3: Wage pressures remain elevated% of US industries with wage gains beyond seasonal norms Source: BlackRock, Bureau of Labor Statistics, June 2022. Figure illustrates the diffusion index of average hourly earnings across US industries. Along the same lines, we monitor the volume of online job searches to gauge changes in labor market supply. Job search intensity is slowly normalizing, but still remains roughly 10% below peak levels despite making a significant recovery from lows seen during the pandemic. Weighing recession riskSo does tightening policy to control inflation require reducing demand to the point of a recession? Analyzing the consumption patterns across different income cohorts shows a universal decrease in the demand for goods at each income level in recent months. In our view, this decrease is a function of the aggregate shift from goods to service spending and isn’t necessarily a recessionary signal. As demand has shifted towards services, examining service consumption reveals divergence in spending patterns across income groups (Figure 4). Spending has remained relatively stable for higher income individuals compared to weakening consumption in the lower and middle income cohorts. In the case of a near-term recession, we’d expect to see a broader retrenchment in service consumption across all income levels—including higher-earners. Figure 4: Divergence in service spendingDiscretionary service consumption by income cohort Source: Earnest Research, as of June 30, 2022. Figure shows consumption for bottom, middle, and top income cohorts. As economic growth concerns rise, we’re monitoring news articles and company releases for language related to job cuts and hiring freezes. Figure 5 shows that we haven’t seen a broad, economy-wide uptick in mentions anywhere near the highs seen during the Great Financial Crisis or COVID-19 pandemic. Taking a closer look at individual sectors reveals a notable increase in language related to hiring slowdowns for technology companies. We view this as an industry-specific theme that hasn’t evolved into a widespread narrative across the economy. We observe a similar pattern in Google searches of the term ‘recession’ that show a high concentration in areas with a significant footprint in the technology industry including Austin, TX and San Francisco, CA rather than a broad-based trend. Figure 5: Job cut language isn’t broad-based Job contraction mentions across global markets Source: BlackRock, Dow Jones News, as of June 30, 2022. Inflationary pressures and slowing growth appear likely to persist in the near future. However, our alternative data insights point to a lower probability of a near-term recession and potentially more robust economic activity than what markets are pricing. We have entered a new regime of higher macro and market volatility. Central banks face a delicate tradeoff between inflation and economic growth, with risk premia also rising as a result. While growth has started to slow down materially, it’s important to note that it’s coming off of record-high post-pandemic levels. In our view, opportunities remain to achieve an orderly macroeconomic adjustment that leads to sound financial outcomes. However, we believe investors should factor in the implications of investing in a new market regime. As a result, we’ve shifted our global models to adopt a more defensive stance in favor of industries with inelastic demand including healthcare, utilities, and consumer staples amid slowing growth. In terms of portfolio construction, high inflation and volatility has put pressure on the traditional 60/40 portfolio, breaking down the diversifying nature of the relationship between stocks and bonds. In our view, this may require considering new sources of return and diversification with greater dynamic adaptability—including liquid alternatives for example. Elevated macro volatility also means that market dynamics are likely to evolve at a faster speed than we’ve witnessed in the last decade—potentially creating a rich landscape for alpha generation both in the cross-section and directional asset price views. However, investors will need to be more nimble to navigate frequent macro and policy shifts. We believe this richer alpha opportunity set is best suited for systematic investment processes transforming vast timely datasets into investment insights faster, at greater scale, and with more granularity than traditional methods. As central bank policy evolves to try to contain inflation, a new era of quantitative tightening and elevated macro risk will likely continue driving financial markets in the coming months. Market repricing has been significant this year across asset classes as investors weigh the inflation-growth tradeoff and growing fears of a recession. Inflationary pressures and tight labor markets are likely to continue in the coming months, although some signs of relief are beginning to appear. While global growth is slowing, it’s coming off of record-high post-pandemic levels and the economy appears to be stronger than asset prices suggest. In our view, this means investors can still take advantage of compelling investment opportunities on the horizon. However, the new macro and market regime may require rethinking portfolio construction and incorporating new sources of diversification and return to the traditional 60/40 portfolio. At the same time, a dynamic data-centric systematic investment approach can help investors capture fast-evolving opportunities as they emerge amid persistently higher volatility. Download commentary As a global investment manager and fiduciary to our clients, our purpose at BlackRock is to help everyone experience financial well-being. Since 1999, we've been a leading provider of financial technology, and our clients turn to us for the solutions they need when planning for their most important goals. This material is prepared by BlackRock and is not intended to be relied upon as a forecast, research or investment advice, and is not a recommendation, offer or solicitation to buy or sell any securities or to adopt any investment strategy. The opinions expressed are as of July 2022 and may change as subsequent conditions vary. The information and opinions contained in this material are derived from proprietary and nonproprietary sources deemed by BlackRock to be reliable, are not necessarily all-inclusive and are not guaranteed as to accuracy. As such, no warranty of accuracy or reliability is given and no responsibility arising in any other way for errors and omissions (including responsibility to any person by reason of negligence) is accepted by BlackRock, its officers, employees or agents.\\xa0 This material may contain “forward-looking” information that is not purely historical in nature. Such information may include, among other things, projections and forecasts. There is no guarantee that any of these views will come to pass. Reliance upon information in this material is at the sole discretion of the reader. This material is intended for information purposes only and does not constitute investment advice or an offer or solicitation to purchase or sell in any securities, BlackRock funds or any investment strategy nor shall any securities be offered or sold to any person in any jurisdiction in which an offer, solicitation, purchase or sale would be unlawful under the securities laws of such jurisdiction. Stock and bond values fluctuate in price so the value of your investment can go down depending upon market conditions. The two main risks related to fixed income investing are interest rate risk and credit risk. Typically, when interest rates rise, there is a corresponding decline in the market value of bonds. Credit risk refers to the possibility that the issuer of the bond will not be able to make principal and interest payments. The principal on mortgage- or asset-backed securities may be prepaid at any time, which will reduce the yield and market value of these securities. Obligations of US Government agencies and authorities are supported by varying degrees of credit but generally are not backed by the full faith and credit of the US Government. Investments in non-investment-grade debt securities (“high-yield bonds” or “junk bonds”) may be subject to greater market fluctuations and risk of default or loss of income and principal than securities in higher rating categories. Income from municipal bonds may be subject to state and local taxes and at times the alternative minimum tax. Index performance is shown for illustrative purposes only. Indexes are unmanaged and one cannot invest directly in an index. Investing involves risk, including possible loss of principal. ©2022 BlackRock. All rights reserved.\\xa0BLACKROCK\\xa0is a trademark of BlackRock, Inc. or its subsidiaries in the United States and elsewhere. All other trademarks are the property of their respective owners. Prepared by BlackRock Investments, LLC, member FINRA. \\xa0 USRRMH0722U/S-2297449\""
      ]
     },
     "execution_count": 156,
     "metadata": {},
     "output_type": "execute_result"
    }
   ],
   "source": [
    "extract_content('https://www.blackrock.com/us/individual/insights/systematic-equity-market-outlook')"
   ]
  },
  {
   "cell_type": "code",
   "execution_count": 105,
   "id": "7d3a2fca",
   "metadata": {},
   "outputs": [
    {
     "data": {
      "text/plain": [
       "'August 4, 2022 | Vanguard Perspective Your clients want to make sure their investments reflect the issues they care about and avoid supporting others. Their desire has made environmental, social, and governance (ESG) investing, also known as socially responsible, faith-based, values-driven, or sustainable investing, a burgeoning trend.1 It\\'s true that you can help align clients\\' investments with their preferences using off-the-shelf ETFs and mutual funds. But for clients with very specific ideas about causes or issues they want their investments to support or exclude, Vanguard Personalized Indexing could be a more precise solution. Like many people, your clients may focus mostly on the \"E\" of ESG—that is, environmental concerns like a company\\'s carbon footprint or involvement with fossil fuels—but ESG investing can cover a much wider range of issues. For example, your clients can: What makes a personalized indexing portfolio so flexible? It\\'s all in the structure—and its easy-to-use technology. With mutual funds or ETFs, investors own a single fund that bundles individual stocks together. With a Vanguard Personalized Indexing portfolio, investors own individual stocks directly in separately managed accounts (SMAs). The stocks in each SMA represent a benchmark that you and your client select. Direct ownership of each stock makes an SMA fully customizable—you can build portfolios that precisely reflect each client\\'s preferences and outlook. You can use negative screens, positive tilts, or a combination of both to tailor your clients\\' portfolios with personalized indexing. Vanguard Personalized Indexing offers a wide range of screens and tilts for your clients to choose from. You can also request custom options, such as faith-based or vegan. Once your clients have made their selections, you can generate impact and performance reports on demand, so clients can have a clear picture of the impact of their customizations. \\xa0 Request a demo today to discover how Vanguard Personalized Indexing can help deliver additional value to you and your clients. Vanguard Personalized Indexing is a flexible, transparent way to customize a client’s portfolio, but sometimes customizations can require special consideration from you. In these cases, you can help your clients understand that positive impact doesn\\'t require perfection. Together, you and your clients can prioritize their goals. That way, you can ensure that each personalized index is customized effectively and that clients are comfortable with the risk level in their portfolios. Vanguard Personalized Indexing gives you the power to offer clients a highly personalized, index-based, tax-efficient solution that incorporates their unique preferences. It can also give you an opportunity to forge deeper emotional connections with your clients as you discuss their varying interests and experiences and how they might want to incorporate them into their investments. Share this piece with clients to help them understand the difference between screens and tilts and how they can use them to align their personalized indexing portfolios with their values. \\xa0 1 Alyssa Stankiewicz, 2022. Sustainable Fund Flows Dip for the Quarter but Peak for the Year, Morningstar.com. (Sustainability Matters.) Accessed July 22, 2022, at https://www.morningstar.com/articles/1076648/sustainable-fund-flows-dip-for-the-quarter-but-peak-for-the-year. 2 \"Good\" and \"bad\" behaviors are based on the data provider\\'s criteria and may vary from an investor\\'s personal beliefs and values. \\xa0 Notes: This article is listed under'"
      ]
     },
     "execution_count": 105,
     "metadata": {},
     "output_type": "execute_result"
    }
   ],
   "source": [
    "extract_content('https://advisors.vanguard.com/insights/article/offerclientscustomesgoptionswithpersonalizedindexing')"
   ]
  },
  {
   "cell_type": "code",
   "execution_count": 138,
   "id": "ca339b75",
   "metadata": {},
   "outputs": [],
   "source": [
    "driver = webdriver.Chrome()\n",
    "driver.get('https://www.capitalgroup.com/advisor/insights.html')\n",
    "sleep(15)\n",
    "buttton = driver.find_element(By.CSS_SELECTOR,'#blue-box > div > div.text.cg-global-body-2.cg-padding-bottom--mobile--20.aem-GridColumn--default--none.aem-GridColumn--phone--none.aem-GridColumn--phone--12.aem-GridColumn.aem-GridColumn--default--10.aem-GridColumn--offset--phone--0.aem-GridColumn--offset--default--1 > div > p > button')\n",
    "buttton.click()\n",
    "link_list = [i.get_attribute('href') for i in driver.find_elements(By.CSS_SELECTOR,'article > a')]\n",
    "\n",
    "\n",
    "\n",
    "\n",
    "\n",
    "\n"
   ]
  },
  {
   "cell_type": "code",
   "execution_count": null,
   "id": "398e27bb",
   "metadata": {},
   "outputs": [],
   "source": [
    "#blue-box > div > div.text.cg-global-body-2.cg-padding-bottom--mobile--20.aem-GridColumn--default--none.aem-GridColumn--phone--none.aem-GridColumn--phone--12.aem-GridColumn.aem-GridColumn--default--10.aem-GridColumn--offset--phone--0.aem-GridColumn--offset--default--1 > div > p > button"
   ]
  },
  {
   "cell_type": "code",
   "execution_count": 127,
   "id": "dd882225",
   "metadata": {},
   "outputs": [
    {
     "data": {
      "text/plain": [
       "30"
      ]
     },
     "execution_count": 127,
     "metadata": {},
     "output_type": "execute_result"
    }
   ],
   "source": [
    "len(articles_a)"
   ]
  },
  {
   "cell_type": "code",
   "execution_count": 139,
   "id": "ba9d0fee",
   "metadata": {},
   "outputs": [
    {
     "data": {
      "text/plain": [
       "30"
      ]
     },
     "execution_count": 139,
     "metadata": {},
     "output_type": "execute_result"
    }
   ],
   "source": [
    "len(link_list)"
   ]
  },
  {
   "cell_type": "code",
   "execution_count": 140,
   "id": "ba5dc61e",
   "metadata": {},
   "outputs": [
    {
     "data": {
      "text/plain": [
       "['https://www.capitalgroup.com/advisor/insights/webinars/replay-all-weather-investing-amid-storm.html',\n",
       " 'https://www.capitalgroup.com/advisor/insights/articles/pandemic-war-and-climate-change-sharpen-focus-on-esg.html',\n",
       " 'https://www.capitalgroup.com/advisor/insights/articles/3-ways-prepare-down-markets.html',\n",
       " 'https://www.capitalgroup.com/advisor/insights/webinars/2022-midyear-outlook.html',\n",
       " 'https://www.capitalgroup.com/advisor/insights/articles/fed-aggressive-path-could-mean-more-market-turmoil.html',\n",
       " 'https://www.capitalgroup.com/advisor/insights/articles/2022-midyear-bond-outlook.html',\n",
       " 'https://www.capitalgroup.com/advisor/insights/articles/2022-midyear-us-outlook.html',\n",
       " 'https://www.capitalgroup.com/advisor/insights/articles/2022-midyear-international-outlook.html',\n",
       " 'https://www.capitalgroup.com/advisor/insights/articles/labor-inflation-charts.html',\n",
       " 'https://www.capitalgroup.com/advisor/insights/articles/investing-in-china-today.html',\n",
       " 'https://www.capitalgroup.com/advisor/insights/articles/air-travel-taking-off.html',\n",
       " 'https://www.capitalgroup.com/advisor/insights/articles/investing-income-rates-rise.html',\n",
       " 'https://www.capitalgroup.com/advisor/insights/webinars/what-next-us-equities.html',\n",
       " 'https://www.capitalgroup.com/advisor/insights/articles/when-market-volatility-rising-boring-beautiful.html',\n",
       " 'https://www.capitalgroup.com/advisor/insights/articles/end-era-easy-money.html',\n",
       " 'https://www.capitalgroup.com/advisor/insights/articles/dividend-rotation-inflation.html',\n",
       " 'https://www.capitalgroup.com/advisor/insights/articles/investment-lessons-40-years-china.html',\n",
       " 'https://www.capitalgroup.com/advisor/insights/articles/is-spike-commodity-prices-sustainable.html',\n",
       " 'https://www.capitalgroup.com/advisor/insights/webinars/international-investing-volatile-markets.html',\n",
       " 'https://www.capitalgroup.com/advisor/insights/articles/why-fed-behind-curve.html',\n",
       " 'https://www.capitalgroup.com/advisor/insights/articles/investment-impacts-war-ukraine.html',\n",
       " 'https://www.capitalgroup.com/advisor/insights/articles/3-views-russia-ukraine-conflict.html',\n",
       " 'https://www.capitalgroup.com/advisor/insights/articles/russia-ukraine-conflict-threatens-global-economy.html',\n",
       " 'https://www.capitalgroup.com/advisor/insights/webinars/10-investment-themes-for-2022.html',\n",
       " 'https://www.capitalgroup.com/advisor/insights/articles/game-on-future-media.html',\n",
       " 'https://www.capitalgroup.com/advisor/insights/articles/handle-market-declines.html',\n",
       " 'https://www.capitalgroup.com/advisor/insights/articles/can-tips-help-portfolio-high-inflation.html',\n",
       " 'https://www.capitalgroup.com/advisor/insights/articles/cloud-software-turbulence.html',\n",
       " 'https://www.capitalgroup.com/advisor/insights/webinars/washington-watch-midterm-election-preview.html',\n",
       " 'https://www.capitalgroup.com/advisor/insights/articles/market-volatility-long-term-opportunity.html']"
      ]
     },
     "execution_count": 140,
     "metadata": {},
     "output_type": "execute_result"
    }
   ],
   "source": [
    "link_list"
   ]
  },
  {
   "cell_type": "code",
   "execution_count": null,
   "id": "8efaad35",
   "metadata": {},
   "outputs": [],
   "source": [
    "body > div.root.responsivegrid.cg-wt-global-styles.cg-full-bleed > div > div.articlelist.list.cmp-articlelist-insights-default.cg-padding-bottom--desktop--80.aem-GridColumn.aem-GridColumn--default--12 > ul > li:nth-child(1) > article > a"
   ]
  }
 ],
 "metadata": {
  "kernelspec": {
   "display_name": "Python 3 (ipykernel)",
   "language": "python",
   "name": "python3"
  },
  "language_info": {
   "codemirror_mode": {
    "name": "ipython",
    "version": 3
   },
   "file_extension": ".py",
   "mimetype": "text/x-python",
   "name": "python",
   "nbconvert_exporter": "python",
   "pygments_lexer": "ipython3",
   "version": "3.9.7"
  }
 },
 "nbformat": 4,
 "nbformat_minor": 5
}

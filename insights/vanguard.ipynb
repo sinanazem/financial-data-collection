{
 "cells": [
  {
   "cell_type": "code",
   "execution_count": 5,
   "metadata": {},
   "outputs": [
    {
     "name": "stderr",
     "output_type": "stream",
     "text": [
      "[WDM] - Downloading: 100%|██████████| 7.26M/7.26M [00:04<00:00, 1.67MB/s]\n",
      "/tmp/ipykernel_14140/717712032.py:16: DeprecationWarning: executable_path has been deprecated, please pass in a Service object\n",
      "  self.driver = webdriver.Chrome(ChromeDriverManager().install())\n"
     ]
    }
   ],
   "source": [
    "import re\n",
    "from time import sleep\n",
    "\n",
    "import pandas as pd\n",
    "import requests\n",
    "from bs4 import BeautifulSoup\n",
    "from selenium import webdriver\n",
    "from selenium.webdriver.common.by import By\n",
    "from webdriver_manager.chrome import ChromeDriverManager\n",
    "\n",
    "\n",
    "class VanguardInsights:\n",
    "\n",
    "    def __init__(self, all_insight_link):\n",
    "        self.all_insight_link = all_insight_link\n",
    "        self.driver = webdriver.Chrome(ChromeDriverManager().install())\n",
    "\n",
    "    @staticmethod\n",
    "    def extract_content_with_id(link):\n",
    "        response = requests.get(link)\n",
    "        soup = BeautifulSoup(response.text, features=\"html.parser\")\n",
    "        content = ' '.join([i.text for i in soup.find_all(\"div\", {\"id\": \"iw_placeholder1585759247342\"})]).strip()\n",
    "        return content\n",
    "\n",
    "    def get_article_insight(self):\n",
    "\n",
    "        self.driver.get(self.all_insight_link)\n",
    "        sleep(10)\n",
    "\n",
    "        all_pages = []\n",
    "\n",
    "        for i in range(18):\n",
    "\n",
    "            title_tags = self.driver.find_elements(By.XPATH, '//*[(@id = \"insights-archive-section\")]//h3')\n",
    "            title_contents = self.driver.find_elements(By.XPATH,\n",
    "                                                       '//*[(@id = \"insights-archive-section\")]//*[contains(concat( \" '\n",
    "                                                       '\", @class, \" \" ), concat( \" \", \"p2\", \" \" ))]')\n",
    "            date_perspectives = self.driver.find_elements(By.XPATH,\n",
    "                                                          '//*[contains(concat( \" \", @class, \" \" ), concat( \" \", '\n",
    "                                                          '\"eyebrow\", \" \" ))]')\n",
    "            perspectives = self.driver.find_elements(By.XPATH,\n",
    "                                                     '//*[contains(concat( \" \", @class, \" \" ), concat( \" \", \"type\", '\n",
    "                                                     '\" \" ))]')\n",
    "            # dates = browser.find_elements(By.CSS_SELECTOR, '.content-eyebrow .eyebrow')\n",
    "            tags = self.driver.find_elements(By.CSS_SELECTOR, \"[id='insights-archive'] [class='tags']\")\n",
    "            tags = [i.find_elements(By.CSS_SELECTOR, \"[id='insights-archive'] [class='tags'] [class='pill tag']\") for i\n",
    "                    in tags]\n",
    "            links = self.driver.find_elements(By.CSS_SELECTOR, '.detail-link')\n",
    "\n",
    "            title_tag = [i.text for i in title_tags]\n",
    "            title_content = [i.text for i in title_contents]\n",
    "            date_perspective = [i.text for i in date_perspectives]\n",
    "            date = [''.join(re.findall(r'[A-Z]+\\s\\d+,\\s\\d+', i)) for i in date_perspective[1:]]\n",
    "            perspective = [i.text for i in perspectives]\n",
    "            # date = [i.text for i in dates]\n",
    "            tag = [[j.text for j in i] for i in tags]\n",
    "            links_list = [link.get_attribute('href') for link in links]\n",
    "\n",
    "            list_of_dict = []\n",
    "            for tg, tc, d, p, t, l in zip(title_tag, title_content, date, perspective, tag, links_list):\n",
    "                economy_market_dict = {\n",
    "                    'company': 'Vanguard',\n",
    "                    'topic': 'Insight',\n",
    "                    'tag': ','.join(t),\n",
    "                    'section': '',\n",
    "                    'title': tg,\n",
    "                    'date': d,\n",
    "                    'link': l,\n",
    "                    'abstract': tc,\n",
    "                    'content': self.extract_content_with_id(l),\n",
    "                }\n",
    "                list_of_dict.append(economy_market_dict)\n",
    "\n",
    "            all_pages.append(list_of_dict)\n",
    "            next_page = self.driver.find_element(By.CSS_SELECTOR,\n",
    "                                                 '#insights-archive-section > div.pagination > div.pagination__arrows '\n",
    "                                                 '> span.icon.icon-right')\n",
    "            next_page.click()\n",
    "\n",
    "        self.driver.quit()\n",
    "        vanguard_insight_list_ = []\n",
    "        for p_8 in all_pages:\n",
    "            for p in p_8:\n",
    "                vanguard_insight_list_.append(p)\n",
    "\n",
    "        return vanguard_insight_list_\n",
    "\n",
    "\n",
    "if __name__ == \"__main__\":\n",
    "\n",
    "    # Vanguard\n",
    "    vanguard_insight_obj = VanguardInsights('https://advisors.vanguard.com/insights/all')\n",
    "    vanguard_insight_list = vanguard_insight_obj.get_article_insight()\n",
    "    vanguard_df = pd.DataFrame(vanguard_insight_list)"
   ]
  },
  {
   "cell_type": "code",
   "execution_count": 10,
   "metadata": {},
   "outputs": [
    {
     "data": {
      "text/plain": [
       "[]"
      ]
     },
     "execution_count": 10,
     "metadata": {},
     "output_type": "execute_result"
    }
   ],
   "source": [
    "vanguard_insight_list"
   ]
  },
  {
   "cell_type": "code",
   "execution_count": 12,
   "metadata": {},
   "outputs": [],
   "source": [
    "import requests\n",
    "from bs4 import BeautifulSoup"
   ]
  },
  {
   "cell_type": "code",
   "execution_count": 14,
   "metadata": {},
   "outputs": [],
   "source": [
    "r = requests.get('https://advisors.vanguard.com/insights/all?page=3')"
   ]
  },
  {
   "cell_type": "code",
   "execution_count": 15,
   "metadata": {},
   "outputs": [],
   "source": [
    "soup = BeautifulSoup(r.text, 'html.parser')"
   ]
  },
  {
   "cell_type": "code",
   "execution_count": 16,
   "metadata": {},
   "outputs": [
    {
     "data": {
      "text/plain": [
       "[]"
      ]
     },
     "execution_count": 16,
     "metadata": {},
     "output_type": "execute_result"
    }
   ],
   "source": [
    "soup.find_all('a', class_=\"detail-link\")"
   ]
  },
  {
   "cell_type": "code",
   "execution_count": 19,
   "metadata": {},
   "outputs": [
    {
     "data": {
      "text/plain": [
       "'<!DOCTYPE html>\\n<html lang=\"en\">\\n\\t<head>\\n\\t\\t<meta charset=\"utf-8\" />\\n\\t\\t<meta http-equiv=\"X-UA-Compatible\" content=\"IE=edge\" />\\n\\t\\t<meta name=\"viewport\" content=\"width=device-width,initial-scale=1.0\" />\\n\\t\\t<base href=\"/web/ecs/fih-fas-insights-hub-vue/\" />\\n\\t\\t<script src=\"https://advisors.web.vanguard.com/adobe_fasmkt.js\"></script>\\n\\t\\t<script src=\"/web/ecs/fih-fas-insights-hub-vue/tealeaf/tealeaf-ui-sdk-3.3.2\"></script>\\n\\t\\t<title>Insights Hub</title>\\n\\t\\t<link\\n\\t\\t\\thref=\"/web/ecs/flk-fas-globalnavigation-webapp/static/main.css\"\\n\\t\\t\\trel=\"stylesheet\"\\n\\t\\t/>\\n\\t\\t<link\\n\\t\\t\\thref=\"/web/ecs/fsg-fas-globalsubscriber/static/main.css\"\\n\\t\\t\\trel=\"stylesheet\"\\n\\t\\t/>\\n\\t<link href=\"./pkg/1.0.0/web/main.css\" rel=\"stylesheet\"></head>\\n\\t<body>\\n\\t\\t<noscript>\\n\\t\\t\\t<strong\\n\\t\\t\\t\\t>We\\'re sorry but the project doesn\\'t work properly without JavaScript\\n\\t\\t\\t\\tenabled. Please enable it to continue.</strong\\n\\t\\t\\t>\\n\\t\\t</noscript>\\n\\t\\t<div id=\"fas-global-nav\"></div>\\n\\t\\t<div id=\"app\"></div>\\n\\t\\t<div id=\"email-signup\"></div>\\n\\t\\t<div id=\"fas-global-footer\"></div>\\n\\t\\t<script\\n\\t\\t\\ttype=\"text/javascript\"\\n\\t\\t\\tsrc=\"/web/ecs/flk-fas-globalnavigation-webapp/static/build.js\"\\n\\t\\t></script>\\n\\t\\t<script\\n\\t\\t\\ttype=\"text/javascript\"\\n\\t\\t\\tsrc=\"/web/ecs/fsg-fas-globalsubscriber/static/build.js\"\\n\\t\\t></script>\\n\\t\\t<!-- Built files will be auto injected -->\\n\\t<script type=\"text/javascript\" src=\"./pkg/1.0.0/web/build.js\"></script></body>\\n</html>\\n'"
      ]
     },
     "execution_count": 19,
     "metadata": {},
     "output_type": "execute_result"
    }
   ],
   "source": [
    "r.text"
   ]
  },
  {
   "cell_type": "code",
   "execution_count": null,
   "metadata": {},
   "outputs": [],
   "source": []
  }
 ],
 "metadata": {
  "kernelspec": {
   "display_name": "py39",
   "language": "python",
   "name": "python3"
  },
  "language_info": {
   "codemirror_mode": {
    "name": "ipython",
    "version": 3
   },
   "file_extension": ".py",
   "mimetype": "text/x-python",
   "name": "python",
   "nbconvert_exporter": "python",
   "pygments_lexer": "ipython3",
   "version": "3.9.16"
  },
  "orig_nbformat": 4
 },
 "nbformat": 4,
 "nbformat_minor": 2
}

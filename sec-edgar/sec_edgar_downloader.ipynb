{
 "cells": [
  {
   "cell_type": "code",
   "execution_count": 1,
   "id": "0a604893",
   "metadata": {},
   "outputs": [],
   "source": [
    "# pip install sec-edgar-downloader"
   ]
  },
  {
   "cell_type": "code",
   "execution_count": 2,
   "id": "346134da",
   "metadata": {},
   "outputs": [],
   "source": [
    "from sec_edgar_downloader import Downloader\n",
    "\n",
    "# Initialize a downloader instance. If no argument is passed\n",
    "# to the constructor, the package will download filings to\n",
    "# the current working directory.\n",
    "dl = Downloader(\"location\")\n",
    "\n",
    "# Get all 8-K filings for Apple (ticker: AAPL)\n",
    "dl.get(\"8-K\", \"AAPL\")"
   ]
  },
  {
   "cell_type": "code",
   "execution_count": 3,
   "id": "ac0b104b",
   "metadata": {},
   "outputs": [],
   "source": [
    "from sec_edgar_downloader import Downloader\n",
    "\n",
    "# Download filings to the current working directory\n",
    "dl = Downloader()\n",
    "\n",
    "# Get all Apple proxy statements that contain the term \"antitrust\"\n",
    "dl.get(\"DEF 14A\", \"AAPL\", query=\"antitrust\")\n",
    "\n",
    "# Get all 10-K filings for Microsoft without the filing details\n",
    "dl.get(\"10-K\", \"MSFT\", download_details=False)\n",
    "\n",
    "# Get the latest supported filings, if available, for Apple\n",
    "for filing_type in dl.supported_filings:\n",
    "    dl.get(filing_type, \"AAPL\", amount=1)\n",
    "\n",
    "# Get the latest supported filings, if available, for a\n",
    "# specified list of tickers and CIKs\n",
    "equity_ids = [\"AAPL\", \"MSFT\", \"0000102909\", \"V\", \"FB\"]\n",
    "for equity_id in equity_ids:\n",
    "    for filing_type in dl.supported_filings:\n",
    "        dl.get(filing_type, equity_)"
   ]
  },
  {
   "cell_type": "code",
   "execution_count": null,
   "id": "d78d66aa",
   "metadata": {},
   "outputs": [],
   "source": []
  }
 ],
 "metadata": {
  "kernelspec": {
   "display_name": "Python 3 (ipykernel)",
   "language": "python",
   "name": "python3"
  },
  "language_info": {
   "codemirror_mode": {
    "name": "ipython",
    "version": 3
   },
   "file_extension": ".py",
   "mimetype": "text/x-python",
   "name": "python",
   "nbconvert_exporter": "python",
   "pygments_lexer": "ipython3",
   "version": "3.9.16"
  }
 },
 "nbformat": 4,
 "nbformat_minor": 5
}
